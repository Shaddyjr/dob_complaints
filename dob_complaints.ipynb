{
 "cells": [
  {
   "cell_type": "markdown",
   "metadata": {},
   "source": [
    "# Predicting number of days until a Department of Buildings Complaint is inspected\n",
    "\n",
    "#### Authors:\n",
    "- __Jeremy Ondov:__ [GitHub](https://github.com/ondovj)\n",
    "- __Mahdi Shadkam-Farrokhi:__ [GitHub](https://github.com/Shaddyjr) \n",
    "---"
   ]
  },
  {
   "cell_type": "markdown",
   "metadata": {},
   "source": [
    "## Problem Statement\n",
    "In New York City, building violations are frequently reported to the Department of Buildings(DOB), which is often initiated by a citizen. However, the length of time between the report and a response by the DOB may vary greatly depending on the location, violation type, and other factors.\n",
    "\n",
    "We'll be using $R^2$ for model selection."
   ]
  },
  {
   "cell_type": "markdown",
   "metadata": {},
   "source": [
    "## Executive Summary\n",
    "- Explaing we tried a bunch of possibilities for clustering and concluded using kmodes was best idea\n",
    "- Tried GLM to no avail\n",
    "- All non-time-series models performed very poorly\n",
    "\n",
    "As part of our meta cleaning process we will drop any null observations.\n",
    "\n",
    "We must account for this in our process as we're assuming these values are missing completely at random, or MCAR."
   ]
  },
  {
   "cell_type": "markdown",
   "metadata": {},
   "source": [
    "---\n",
    "Running K-Modes and K-Prototypes with the same cluster number, but the additional feature of median income, does give different clusters/centroids. Given the significant increase in processing time between KModes and KPrototypes, it may be more efficient to only use KModes on the categorical features to cluster the datapoints, then integrate the income data as a feature in the final predictive model.\n",
    "\n",
    "---"
   ]
  },
  {
   "cell_type": "markdown",
   "metadata": {},
   "source": [
    "## Table of Contents\n",
    "1. \n",
    "2. [Resources](#Resources)\n"
   ]
  },
  {
   "cell_type": "markdown",
   "metadata": {},
   "source": [
    "## Data Dictionary\n",
    "These data were cleaned from the original source using [the assocated cleaning notebook](./dob_data_cleaning.ipynb)"
   ]
  },
  {
   "cell_type": "markdown",
   "metadata": {},
   "source": [
    "Column | Data Type | Description\n",
    "- | - | :-\n",
    "special_district|string|Indicates whether or not the building identified in the complaint is located in a Special District.\n",
    "complaint_category|string|DOB Complaint Category Codes (01-Accident Construction/Plumbing, etc.)\n",
    "unit|string|The most recent unit that was assigned to this complaint. It may have been initially assigned to one unit, and then referred to another unit for disposition.\n",
    "zip_code|string|Zip code for the address of the building identified in the complaint.\n",
    "med_inc_zip|integer|Median income imputed by zip code.\n",
    "date_entered|date|Date complaint was filed\n",
    "inspection_date|date|Date complaint was inspected\n",
    "days_until_inspection|integer|Number of days between when complaint was filed and when it was officially inspected\n"
   ]
  },
  {
   "cell_type": "markdown",
   "metadata": {},
   "source": [
    "## Loading libraries and data\n"
   ]
  },
  {
   "cell_type": "code",
   "execution_count": 78,
   "metadata": {},
   "outputs": [],
   "source": [
    "import warnings\n",
    "warnings.filterwarnings(\"ignore\")\n",
    "\n",
    "import pandas as pd\n",
    "import matplotlib.pyplot as plt\n",
    "import seaborn as sns\n",
    "import numpy as np\n",
    "import statsmodels.api as sm\n",
    "import pmdarima as pm\n",
    "import statsmodels.formula.api as smf\n",
    "\n",
    "from statsmodels.tsa.stattools import adfuller\n",
    "from statsmodels.tsa.statespace.sarimax import SARIMAX\n",
    "from sklearn.metrics import r2_score\n",
    "from statsmodels.tsa.arima_model import ARIMA\n",
    "from statsmodels.tsa.seasonal import seasonal_decompose\n",
    "from statsmodels.tsa.stattools import acf, pacf\n",
    "from statsmodels.graphics.tsaplots import plot_acf, plot_pacf\n",
    "\n",
    "from pmdarima import auto_arima\n",
    "\n",
    "import scipy\n",
    "import numpy as np\n",
    "import pandas as pd\n",
    "import matplotlib.pyplot as plt \n",
    "import seaborn as sns\n",
    "import math\n",
    "import pickle\n",
    "\n",
    "from sklearn.dummy import DummyRegressor\n",
    "from sklearn.pipeline import Pipeline\n",
    "from sklearn.ensemble import RandomForestRegressor, GradientBoostingRegressor\n",
    "from sklearn.model_selection import train_test_split, cross_val_score, GridSearchCV, TimeSeriesSplit\n",
    "from sklearn.preprocessing import StandardScaler\n",
    "from sklearn.cluster import DBSCAN, KMeans, AgglomerativeClustering\n",
    "import scipy.cluster.hierarchy as sch\n",
    "from sklearn.metrics import silhouette_score\n",
    "from kmodes.kmodes import KModes\n",
    "from kmodes.kprototypes import KPrototypes\n",
    "\n",
    "RANDOM_STATE = 12345"
   ]
  },
  {
   "cell_type": "code",
   "execution_count": 2,
   "metadata": {},
   "outputs": [],
   "source": [
    "complaints = pd.read_csv('./datasets/cleaned.csv', index_col = 0, parse_dates = [\"date_entered\",\"inspection_date\"])"
   ]
  },
  {
   "cell_type": "code",
   "execution_count": 3,
   "metadata": {},
   "outputs": [
    {
     "data": {
      "text/html": [
       "<div>\n",
       "<style scoped>\n",
       "    .dataframe tbody tr th:only-of-type {\n",
       "        vertical-align: middle;\n",
       "    }\n",
       "\n",
       "    .dataframe tbody tr th {\n",
       "        vertical-align: top;\n",
       "    }\n",
       "\n",
       "    .dataframe thead th {\n",
       "        text-align: right;\n",
       "    }\n",
       "</style>\n",
       "<table border=\"1\" class=\"dataframe\">\n",
       "  <thead>\n",
       "    <tr style=\"text-align: right;\">\n",
       "      <th></th>\n",
       "      <th>special_district</th>\n",
       "      <th>complaint_category</th>\n",
       "      <th>unit</th>\n",
       "      <th>zip_code</th>\n",
       "      <th>med_inc_zip</th>\n",
       "      <th>date_entered</th>\n",
       "      <th>inspection_date</th>\n",
       "      <th>days_until_inspection</th>\n",
       "    </tr>\n",
       "  </thead>\n",
       "  <tbody>\n",
       "    <tr>\n",
       "      <th>0</th>\n",
       "      <td>NOT SPECIAL</td>\n",
       "      <td>4B</td>\n",
       "      <td>SEP</td>\n",
       "      <td>10458</td>\n",
       "      <td>32129</td>\n",
       "      <td>2013-12-17</td>\n",
       "      <td>2013-12-24</td>\n",
       "      <td>7</td>\n",
       "    </tr>\n",
       "    <tr>\n",
       "      <th>1</th>\n",
       "      <td>NOT SPECIAL</td>\n",
       "      <td>73</td>\n",
       "      <td>MAN.</td>\n",
       "      <td>10075</td>\n",
       "      <td>129594</td>\n",
       "      <td>2009-09-21</td>\n",
       "      <td>2009-10-03</td>\n",
       "      <td>12</td>\n",
       "    </tr>\n",
       "    <tr>\n",
       "      <th>2</th>\n",
       "      <td>NOT SPECIAL</td>\n",
       "      <td>37</td>\n",
       "      <td>ERT</td>\n",
       "      <td>10011</td>\n",
       "      <td>123208</td>\n",
       "      <td>2015-09-02</td>\n",
       "      <td>2015-09-03</td>\n",
       "      <td>1</td>\n",
       "    </tr>\n",
       "    <tr>\n",
       "      <th>3</th>\n",
       "      <td>NOT SPECIAL</td>\n",
       "      <td>23</td>\n",
       "      <td>ERT</td>\n",
       "      <td>10462</td>\n",
       "      <td>49962</td>\n",
       "      <td>2010-08-25</td>\n",
       "      <td>2010-10-09</td>\n",
       "      <td>45</td>\n",
       "    </tr>\n",
       "    <tr>\n",
       "      <th>4</th>\n",
       "      <td>NOT SPECIAL</td>\n",
       "      <td>90</td>\n",
       "      <td>CITY</td>\n",
       "      <td>11220</td>\n",
       "      <td>42559</td>\n",
       "      <td>2009-07-20</td>\n",
       "      <td>2009-09-15</td>\n",
       "      <td>57</td>\n",
       "    </tr>\n",
       "  </tbody>\n",
       "</table>\n",
       "</div>"
      ],
      "text/plain": [
       "  special_district complaint_category   unit  zip_code  med_inc_zip  \\\n",
       "0      NOT SPECIAL                 4B  SEP       10458        32129   \n",
       "1      NOT SPECIAL                 73   MAN.     10075       129594   \n",
       "2      NOT SPECIAL                 37  ERT       10011       123208   \n",
       "3      NOT SPECIAL                 23  ERT       10462        49962   \n",
       "4      NOT SPECIAL                 90  CITY      11220        42559   \n",
       "\n",
       "  date_entered inspection_date  days_until_inspection  \n",
       "0   2013-12-17      2013-12-24                      7  \n",
       "1   2009-09-21      2009-10-03                     12  \n",
       "2   2015-09-02      2015-09-03                      1  \n",
       "3   2010-08-25      2010-10-09                     45  \n",
       "4   2009-07-20      2009-09-15                     57  "
      ]
     },
     "execution_count": 3,
     "metadata": {},
     "output_type": "execute_result"
    }
   ],
   "source": [
    "complaints.head()"
   ]
  },
  {
   "cell_type": "markdown",
   "metadata": {},
   "source": [
    "## Data Cleaning\n",
    "Most of the major cleaning was done during the previous cleaning steps. Some ancillary data cleaning is still needed, however."
   ]
  },
  {
   "cell_type": "markdown",
   "metadata": {},
   "source": [
    "### Removing Outliers\n",
    "\n",
    "The dataset has some significant outliers, which bear consideration; we've decided to remove these extreme observations from our training set."
   ]
  },
  {
   "cell_type": "code",
   "execution_count": 4,
   "metadata": {},
   "outputs": [
    {
     "data": {
      "text/plain": [
       "count    81739.000000\n",
       "mean        87.204419\n",
       "std        204.906661\n",
       "min          1.000000\n",
       "25%          5.000000\n",
       "50%         24.000000\n",
       "75%         84.000000\n",
       "max       3402.000000\n",
       "Name: days_until_inspection, dtype: float64"
      ]
     },
     "execution_count": 4,
     "metadata": {},
     "output_type": "execute_result"
    }
   ],
   "source": [
    "complaints[\"days_until_inspection\"].describe()"
   ]
  },
  {
   "cell_type": "code",
   "execution_count": 5,
   "metadata": {},
   "outputs": [
    {
     "data": {
      "text/plain": [
       "9.32054794520548"
      ]
     },
     "execution_count": 5,
     "metadata": {},
     "output_type": "execute_result"
    }
   ],
   "source": [
    "complaints[\"days_until_inspection\"].max() / 365 # converting days to years"
   ]
  },
  {
   "cell_type": "markdown",
   "metadata": {},
   "source": [
    "We can see some extreme DOB complaints took over 9 years to be inspected!\n",
    "\n",
    "It's hard to tell if these are erroneous or valid, since there are many cases like this. Perhaps there's a pattern or some other commonality between these extreme observations."
   ]
  },
  {
   "cell_type": "markdown",
   "metadata": {},
   "source": [
    "---\n",
    "#### An odd date"
   ]
  },
  {
   "cell_type": "markdown",
   "metadata": {},
   "source": [
    "During model evaluation, we found the date associated with 2009-04-02 to have usual observations with large `days_until_inspection`"
   ]
  },
  {
   "cell_type": "code",
   "execution_count": 6,
   "metadata": {},
   "outputs": [
    {
     "data": {
      "text/html": [
       "<div>\n",
       "<style scoped>\n",
       "    .dataframe tbody tr th:only-of-type {\n",
       "        vertical-align: middle;\n",
       "    }\n",
       "\n",
       "    .dataframe tbody tr th {\n",
       "        vertical-align: top;\n",
       "    }\n",
       "\n",
       "    .dataframe thead th {\n",
       "        text-align: right;\n",
       "    }\n",
       "</style>\n",
       "<table border=\"1\" class=\"dataframe\">\n",
       "  <thead>\n",
       "    <tr style=\"text-align: right;\">\n",
       "      <th></th>\n",
       "      <th>special_district</th>\n",
       "      <th>complaint_category</th>\n",
       "      <th>unit</th>\n",
       "      <th>zip_code</th>\n",
       "      <th>med_inc_zip</th>\n",
       "      <th>date_entered</th>\n",
       "      <th>inspection_date</th>\n",
       "      <th>days_until_inspection</th>\n",
       "    </tr>\n",
       "  </thead>\n",
       "  <tbody>\n",
       "    <tr>\n",
       "      <th>60022</th>\n",
       "      <td>NOT SPECIAL</td>\n",
       "      <td>1G</td>\n",
       "      <td>EXCAV</td>\n",
       "      <td>11224</td>\n",
       "      <td>31630</td>\n",
       "      <td>2009-04-02</td>\n",
       "      <td>2018-06-29</td>\n",
       "      <td>3375</td>\n",
       "    </tr>\n",
       "    <tr>\n",
       "      <th>7046</th>\n",
       "      <td>NOT SPECIAL</td>\n",
       "      <td>1G</td>\n",
       "      <td>EXCAV</td>\n",
       "      <td>11211</td>\n",
       "      <td>66113</td>\n",
       "      <td>2009-04-02</td>\n",
       "      <td>2016-12-30</td>\n",
       "      <td>2829</td>\n",
       "    </tr>\n",
       "    <tr>\n",
       "      <th>50503</th>\n",
       "      <td>NOT SPECIAL</td>\n",
       "      <td>1G</td>\n",
       "      <td>EXCAV</td>\n",
       "      <td>10035</td>\n",
       "      <td>27932</td>\n",
       "      <td>2009-04-02</td>\n",
       "      <td>2014-08-25</td>\n",
       "      <td>1971</td>\n",
       "    </tr>\n",
       "    <tr>\n",
       "      <th>2149</th>\n",
       "      <td>NOT SPECIAL</td>\n",
       "      <td>1G</td>\n",
       "      <td>EXCAV</td>\n",
       "      <td>10035</td>\n",
       "      <td>27932</td>\n",
       "      <td>2009-04-02</td>\n",
       "      <td>2014-08-25</td>\n",
       "      <td>1971</td>\n",
       "    </tr>\n",
       "    <tr>\n",
       "      <th>88329</th>\n",
       "      <td>NOT SPECIAL</td>\n",
       "      <td>1G</td>\n",
       "      <td>EXCAV</td>\n",
       "      <td>10027</td>\n",
       "      <td>45536</td>\n",
       "      <td>2009-04-02</td>\n",
       "      <td>2014-07-28</td>\n",
       "      <td>1943</td>\n",
       "    </tr>\n",
       "  </tbody>\n",
       "</table>\n",
       "</div>"
      ],
      "text/plain": [
       "      special_district complaint_category   unit  zip_code  med_inc_zip  \\\n",
       "60022      NOT SPECIAL                 1G  EXCAV     11224        31630   \n",
       "7046       NOT SPECIAL                 1G  EXCAV     11211        66113   \n",
       "50503      NOT SPECIAL                 1G  EXCAV     10035        27932   \n",
       "2149       NOT SPECIAL                 1G  EXCAV     10035        27932   \n",
       "88329      NOT SPECIAL                 1G  EXCAV     10027        45536   \n",
       "\n",
       "      date_entered inspection_date  days_until_inspection  \n",
       "60022   2009-04-02      2018-06-29                   3375  \n",
       "7046    2009-04-02      2016-12-30                   2829  \n",
       "50503   2009-04-02      2014-08-25                   1971  \n",
       "2149    2009-04-02      2014-08-25                   1971  \n",
       "88329   2009-04-02      2014-07-28                   1943  "
      ]
     },
     "execution_count": 6,
     "metadata": {},
     "output_type": "execute_result"
    }
   ],
   "source": [
    "odd_dates = [\"2009-04-02\"]\n",
    "complaints[complaints[\"date_entered\"].isin(odd_dates)].sort_values(\"inspection_date\", ascending = False).head()"
   ]
  },
  {
   "cell_type": "markdown",
   "metadata": {},
   "source": [
    "There may be some association with these exceptionally long inspection times and the `unit` \"EXCAV\".\n",
    "\n",
    "---\n",
    "\n",
    "To improve model performance, we'll remove all observations with more than 2800 days until inspection, or a little under 8 years."
   ]
  },
  {
   "cell_type": "code",
   "execution_count": 7,
   "metadata": {},
   "outputs": [
    {
     "data": {
      "text/plain": [
       "QNS.     12\n",
       "BRONX     6\n",
       "EXCAV     6\n",
       "ERT       4\n",
       "MAN.      3\n",
       "SCFLD     3\n",
       "BKLYN     3\n",
       "STALL     1\n",
       "CITY      1\n",
       "BEST      1\n",
       "Name: unit, dtype: int64"
      ]
     },
     "execution_count": 7,
     "metadata": {},
     "output_type": "execute_result"
    }
   ],
   "source": [
    "# Setting outlier threshold\n",
    "outlier_threshold = 2800\n",
    "extreme_obs = complaints[complaints[\"days_until_inspection\"] >= outlier_threshold].sort_values(\"days_until_inspection\", ascending = False)\n",
    "extreme_obs[\"unit\"].value_counts()"
   ]
  },
  {
   "cell_type": "markdown",
   "metadata": {},
   "source": [
    "There may be some association with these exceptionally long inspection times and the `unit` \"QNS.\"."
   ]
  },
  {
   "cell_type": "code",
   "execution_count": 8,
   "metadata": {},
   "outputs": [
    {
     "data": {
      "text/plain": [
       "(40, 8)"
      ]
     },
     "execution_count": 8,
     "metadata": {},
     "output_type": "execute_result"
    }
   ],
   "source": [
    "extreme_obs.shape"
   ]
  },
  {
   "cell_type": "code",
   "execution_count": 9,
   "metadata": {},
   "outputs": [
    {
     "data": {
      "text/plain": [
       "0.05"
      ]
     },
     "execution_count": 9,
     "metadata": {},
     "output_type": "execute_result"
    }
   ],
   "source": [
    "# percentage of all data\n",
    "round(extreme_obs.shape[0] / complaints.shape[0], 4) * 100"
   ]
  },
  {
   "cell_type": "markdown",
   "metadata": {},
   "source": [
    "We find 40 outlier observations, which account for about .05% of the data.`"
   ]
  },
  {
   "cell_type": "code",
   "execution_count": 10,
   "metadata": {},
   "outputs": [],
   "source": [
    "# removing outliers\n",
    "complaints.drop(index = extreme_obs.index, inplace = True)"
   ]
  },
  {
   "cell_type": "markdown",
   "metadata": {},
   "source": [
    "## Exploratory Data Analysis"
   ]
  },
  {
   "cell_type": "markdown",
   "metadata": {},
   "source": [
    "### Defining helper functions"
   ]
  },
  {
   "cell_type": "code",
   "execution_count": 11,
   "metadata": {},
   "outputs": [],
   "source": [
    "def capitalize_words(string):\n",
    "    '''Returns string with each work capitalized'''\n",
    "    \n",
    "    return \" \".join([word.capitalize() for word in string.replace(\"_\",\" \").split()])"
   ]
  },
  {
   "cell_type": "code",
   "execution_count": 12,
   "metadata": {},
   "outputs": [],
   "source": [
    "def aggregation_plots(db, x, y):\n",
    "    '''Plots a barplot and boxplot of the given features, limited to top 10 and sorted in descending order'''\n",
    "    height_per_label = .3\n",
    "    total_height = len(db[y].unique()[:10]) * height_per_label\n",
    "    fig, axes = plt.subplots(ncols = 2, figsize = (10, total_height + (2 if total_height< 4 else 0)))\n",
    "    ax1, ax2 = axes\n",
    "    \n",
    "    xlabel = capitalize_words(x.replace(\"_\",\" \"))\n",
    "    ylabel = capitalize_words(y.replace(\"_\",\" \"))\n",
    "    fig.suptitle(\"Average {} by {}\".format(xlabel,ylabel), y = 1.075)\n",
    "    \n",
    "    sorted_label_values = db.groupby(y)[x].agg(\"mean\").sort_values(ascending = False)[:10]\n",
    "\n",
    "    sns.barplot(ax = ax1, x = db[x], y = db[y], order = sorted_label_values.index)\n",
    "\n",
    "    ax1.set_ylabel(ylabel)\n",
    "    ax1.set_xlabel(xlabel)\n",
    "    \n",
    "    sns.boxplot(ax = ax2, x = db[x], y = db[y], order = sorted_label_values.index)    \n",
    "    ax2.set_ylabel(ylabel)\n",
    "    ax2.set_xlabel(xlabel)\n",
    "    \n",
    "    plt.tight_layout()"
   ]
  },
  {
   "cell_type": "code",
   "execution_count": 13,
   "metadata": {},
   "outputs": [],
   "source": [
    "def graph_time_aggregation(dataset, x, y, time_span, title):\n",
    "    '''Plots a basic line plot based on a time_span aggregated by summation'''\n",
    "    plt.title(title)\n",
    "    dataset_by_time_span = dataset.resample(time_span).sum()\n",
    "    sns.lineplot(y = dataset_by_time_span[y], x = dataset_by_time_span.index);\n",
    "    plt.ylabel(capitalize_words(y))\n",
    "    plt.xlabel(capitalize_words(x))"
   ]
  },
  {
   "cell_type": "markdown",
   "metadata": {},
   "source": [
    "### Exploring Days Until Inspection"
   ]
  },
  {
   "cell_type": "code",
   "execution_count": 14,
   "metadata": {},
   "outputs": [
    {
     "data": {
      "image/png": "[encoded data removed]",
      "text/plain": [
       "<Figure size 432x288 with 1 Axes>"
      ]
     },
     "metadata": {
      "needs_background": "light"
     },
     "output_type": "display_data"
    }
   ],
   "source": [
    "# Original `days_until_inspection`\n",
    "plt.title(\"Histogram of Days Until Inspection\")\n",
    "sns.distplot(complaints[\"days_until_inspection\"], kde = False, bins = 50, axlabel = \"Days Until Inspection\");"
   ]
  },
  {
   "cell_type": "markdown",
   "metadata": {},
   "source": [
    "We find a heavily skewed distribution for our target variable, `days_until_inspection`, which is remniscent of an exponential or __gamma distribution.__ This makes even more sense, considering our target is a continuous non-negative value detailing a \"time until an event occurs\". "
   ]
  },
  {
   "cell_type": "markdown",
   "metadata": {},
   "source": [
    "#### Log transformation\n",
    "Skewed distributions can sometimes be coerced to look more normal using the log transformation. If this is the case with our target, then we may be able to work with a linear regression or other simple model."
   ]
  },
  {
   "cell_type": "code",
   "execution_count": 15,
   "metadata": {},
   "outputs": [
    {
     "data": {
      "image/png": "[encoded data removed]",
      "text/plain": [
       "<Figure size 432x288 with 1 Axes>"
      ]
     },
     "metadata": {
      "needs_background": "light"
     },
     "output_type": "display_data"
    }
   ],
   "source": [
    "# Log transformed `days_until_inspection`\n",
    "plt.title(\"Histogram of log of Days Until Inspection\")\n",
    "sns.distplot(np.log(complaints[\"days_until_inspection\"]), axlabel=\"log(Days Until Inspection)\", kde = False);"
   ]
  },
  {
   "cell_type": "markdown",
   "metadata": {},
   "source": [
    "Log transforming our target variable does __not__ result in a normal-looking distribution, so we will keep the target feature as is."
   ]
  },
  {
   "cell_type": "markdown",
   "metadata": {},
   "source": [
    "#### Aggregating data by various time intervals\n",
    "\n",
    "Given the temporal nature of our target, we suspect there are time-related dependencies."
   ]
  },
  {
   "cell_type": "code",
   "execution_count": 16,
   "metadata": {},
   "outputs": [],
   "source": [
    "# preparing data for visualization \n",
    "complaints_with_time_index = complaints.set_index(\"date_entered\")[[\"days_until_inspection\"]]"
   ]
  },
  {
   "cell_type": "code",
   "execution_count": 17,
   "metadata": {},
   "outputs": [
    {
     "data": {
      "image/png": "[encoded data removed]",
      "text/plain": [
       "<Figure size 432x288 with 1 Axes>"
      ]
     },
     "metadata": {
      "needs_background": "light"
     },
     "output_type": "display_data"
    }
   ],
   "source": [
    "# by day\n",
    "graph_time_aggregation(\n",
    "    complaints_with_time_index, \n",
    "    \"date\", \n",
    "    \"days_until_inspection\", \n",
    "    \"D\", \n",
    "    \"Days Until Inspection aggregated by day\"\n",
    ")"
   ]
  },
  {
   "cell_type": "markdown",
   "metadata": {},
   "source": [
    "We find after 2016, there appears to be a downward trend in the number of days until a complaint is inspected.\n",
    "\n",
    "We must consider the recency of the tail end, however, since these complaints are less likely to be \"CLOSED\" and therefore not seen in the data."
   ]
  },
  {
   "cell_type": "markdown",
   "metadata": {},
   "source": [
    "It's difficult to tell if there's any seasonality in these data when aggregating by day."
   ]
  },
  {
   "cell_type": "code",
   "execution_count": 18,
   "metadata": {},
   "outputs": [
    {
     "data": {
      "image/png": "[encoded data removed]",
      "text/plain": [
       "<Figure size 432x288 with 1 Axes>"
      ]
     },
     "metadata": {
      "needs_background": "light"
     },
     "output_type": "display_data"
    }
   ],
   "source": [
    "# by week\n",
    "graph_time_aggregation(\n",
    "    complaints_with_time_index, \n",
    "    \"date\", \n",
    "    \"days_until_inspection\", \n",
    "    \"W\", \n",
    "    \"Days Until Inspection aggregated by week\"\n",
    ")"
   ]
  },
  {
   "cell_type": "markdown",
   "metadata": {},
   "source": [
    "It's difficult to tell if there's any seasonality in these data when aggregating by week."
   ]
  },
  {
   "cell_type": "code",
   "execution_count": 19,
   "metadata": {},
   "outputs": [
    {
     "data": {
      "image/png": "[encoded data removed]",
      "text/plain": [
       "<Figure size 432x288 with 1 Axes>"
      ]
     },
     "metadata": {
      "needs_background": "light"
     },
     "output_type": "display_data"
    }
   ],
   "source": [
    "# by month\n",
    "graph_time_aggregation(\n",
    "    complaints_with_time_index, \n",
    "    \"date\", \n",
    "    \"days_until_inspection\", \n",
    "    \"M\", \n",
    "    \"Days Until Inspection aggregated by month\"\n",
    ")"
   ]
  },
  {
   "cell_type": "markdown",
   "metadata": {},
   "source": [
    "There may be some seasonality by month, though it appears somewhat irregular."
   ]
  },
  {
   "cell_type": "markdown",
   "metadata": {},
   "source": [
    "---\n",
    "__We may want to consider testing for seasonality and using an ARIMA or SARIMAX model.__"
   ]
  },
  {
   "cell_type": "markdown",
   "metadata": {},
   "source": [
    "#### Testing for seasonality\n",
    "For simplicity, we'll test for seasonality using with average days until inspection _by month._"
   ]
  },
  {
   "cell_type": "code",
   "execution_count": 20,
   "metadata": {},
   "outputs": [
    {
     "data": {
      "image/png": "[encoded data removed]",
      "text/plain": [
       "<Figure size 432x288 with 4 Axes>"
      ]
     },
     "metadata": {
      "needs_background": "light"
     },
     "output_type": "display_data"
    }
   ],
   "source": [
    "# aggregating mean days_until_inspection by month\n",
    "avg_days_until_inspection_by_month = complaints_with_time_index.resample(\"M\").mean()\n",
    "seasonal_decompose(avg_days_until_inspection_by_month[\"days_until_inspection\"]).plot()\n",
    "plt.show()"
   ]
  },
  {
   "cell_type": "markdown",
   "metadata": {},
   "source": [
    "After decomposing the data __we find a seasonal component, which suggests a SARIMAX model may be worth exploring.__"
   ]
  },
  {
   "cell_type": "markdown",
   "metadata": {},
   "source": [
    "### Exploring Special District"
   ]
  },
  {
   "cell_type": "code",
   "execution_count": 21,
   "metadata": {},
   "outputs": [
    {
     "data": {
      "image/png": "[encoded data removed]",
      "text/plain": [
       "<Figure size 720x187.2 with 2 Axes>"
      ]
     },
     "metadata": {
      "needs_background": "light"
     },
     "output_type": "display_data"
    }
   ],
   "source": [
    "# Special District\n",
    "aggregation_plots(complaints, \"days_until_inspection\", \"special_district\")"
   ]
  },
  {
   "cell_type": "markdown",
   "metadata": {},
   "source": [
    "__We do not see a significant difference in average `days_until_inspection` between Special Districts,__ however we do see a wide range in individual observations for \"NOT SPECIAL\" districts."
   ]
  },
  {
   "cell_type": "markdown",
   "metadata": {},
   "source": [
    "### Exploring Unit"
   ]
  },
  {
   "cell_type": "code",
   "execution_count": 22,
   "metadata": {},
   "outputs": [
    {
     "data": {
      "image/png": "[encoded data removed]",
      "text/plain": [
       "<Figure size 720x360 with 2 Axes>"
      ]
     },
     "metadata": {
      "needs_background": "light"
     },
     "output_type": "display_data"
    }
   ],
   "source": [
    "# Unit\n",
    "aggregation_plots(complaints, \"days_until_inspection\", \"unit\")"
   ]
  },
  {
   "cell_type": "markdown",
   "metadata": {},
   "source": [
    "__The STALL and PADLK units appear to have the longest average days until inspection__ with little different between the other units. Other Units, however, have much more extreme outliers."
   ]
  },
  {
   "cell_type": "markdown",
   "metadata": {},
   "source": [
    "### Exploring Complaint Category"
   ]
  },
  {
   "cell_type": "code",
   "execution_count": 23,
   "metadata": {},
   "outputs": [
    {
     "data": {
      "image/png": "[encoded data removed]",
      "text/plain": [
       "<Figure size 720x360 with 2 Axes>"
      ]
     },
     "metadata": {
      "needs_background": "light"
     },
     "output_type": "display_data"
    }
   ],
   "source": [
    "# Complaint Category\n",
    "aggregation_plots(complaints, \"days_until_inspection\", \"complaint_category\")"
   ]
  },
  {
   "cell_type": "markdown",
   "metadata": {},
   "source": [
    "__The \"1G\" complaint category appears to take significantly longer to inspect than all other categories,__ even when taking into account the extreme ranges seen in those categories. \n",
    "\n",
    "We may want to consider splitting our dataset to handle \"1G\" and non-\"1G\" complaint categories."
   ]
  },
  {
   "cell_type": "markdown",
   "metadata": {},
   "source": [
    "### Exploring Zip Code"
   ]
  },
  {
   "cell_type": "code",
   "execution_count": 24,
   "metadata": {},
   "outputs": [
    {
     "data": {
      "image/png": "[encoded data removed]",
      "text/plain": [
       "<Figure size 720x360 with 2 Axes>"
      ]
     },
     "metadata": {
      "needs_background": "light"
     },
     "output_type": "display_data"
    }
   ],
   "source": [
    "# Zip Code\n",
    "aggregation_plots(complaints, \"days_until_inspection\", \"zip_code\")"
   ]
  },
  {
   "cell_type": "markdown",
   "metadata": {},
   "source": [
    "Zip Code does not appear to be a significant feature.\n",
    "\n",
    "In addition, we encountered a number of issues with these data zip codes:\n",
    "- Many zip codes were missing and while we were able to infer the zip codes, based in the `house_street` and `house_number` and using the Google Maps API, this proved to be impractical.\n",
    "- A few zip codes also appeared to be outdated. Over time the city of New York has decommissioned some zip codes and created new ones (for example, 11249). Such zip codes were in the dataset, and would require further assumptions to be made.\n",
    "\n",
    "For these reasons __we'll be removing the Zip Code feature from model consideration.__"
   ]
  },
  {
   "cell_type": "markdown",
   "metadata": {},
   "source": [
    "### Exploring Median Income"
   ]
  },
  {
   "cell_type": "code",
   "execution_count": 25,
   "metadata": {},
   "outputs": [
    {
     "data": {
      "image/png": "[encoded data removed]",
      "text/plain": [
       "<Figure size 432x288 with 1 Axes>"
      ]
     },
     "metadata": {
      "needs_background": "light"
     },
     "output_type": "display_data"
    }
   ],
   "source": [
    "# Median Income\n",
    "plt.title(\"Median Income vs. Days Until Inspection\")\n",
    "sns.scatterplot(data = complaints, x = \"med_inc_zip\", y = \"days_until_inspection\");\n",
    "plt.xlabel(\"Median Income\")\n",
    "plt.ylabel(\"Days Until Inspection\");"
   ]
  },
  {
   "cell_type": "markdown",
   "metadata": {},
   "source": [
    "Besides a few extreme income values, __there does not appear to be a clear correlation between median income and the number of days until a complaint is inspected.__"
   ]
  },
  {
   "cell_type": "markdown",
   "metadata": {},
   "source": [
    "### Feature Engineering - K-Modes Clustering\n",
    "\n",
    "In order to find further connections between the complaint entries that may help the modeling phase, we are going to apply clustering as a form of EDA and feature engineering. As most of the data here is categorical, we are going to use the KModes modeling technique, which is an adaptation of KMeans clustering. As categorical data cannot truly have distances between values, KMeans is not an accurate tool for this scenario. Instead of numerical distances, KModes utilizes each row's combined values of each category (column, or feature), and determines for each cluster what the mode of that category  is. For each row, the number of columns where these values differs becomes the \"distance\". In this way, the algorithm can still determine the similarity and difference between the entries and the cluster \"centroids\".\n",
    "\n",
    "For this process, we are only interested in the categorical columns that are going to have an impact on the modeling phase. Complaint status, address, and others are not needed for this analysis so they can be dropped. The included zip code median income will also be dropped as it is a continuous numerical feature and will not be available for the KModes algorithm."
   ]
  },
  {
   "cell_type": "markdown",
   "metadata": {},
   "source": [
    "#### Preprocessing\n",
    "\n",
    "We'll select the key features we plan to put into the model and use K-prototypes to create a column of possible clusters as a way of improving model performance."
   ]
  },
  {
   "cell_type": "code",
   "execution_count": 26,
   "metadata": {},
   "outputs": [
    {
     "data": {
      "text/html": [
       "<div>\n",
       "<style scoped>\n",
       "    .dataframe tbody tr th:only-of-type {\n",
       "        vertical-align: middle;\n",
       "    }\n",
       "\n",
       "    .dataframe tbody tr th {\n",
       "        vertical-align: top;\n",
       "    }\n",
       "\n",
       "    .dataframe thead th {\n",
       "        text-align: right;\n",
       "    }\n",
       "</style>\n",
       "<table border=\"1\" class=\"dataframe\">\n",
       "  <thead>\n",
       "    <tr style=\"text-align: right;\">\n",
       "      <th></th>\n",
       "      <th>special_district</th>\n",
       "      <th>complaint_category</th>\n",
       "      <th>unit</th>\n",
       "    </tr>\n",
       "  </thead>\n",
       "  <tbody>\n",
       "    <tr>\n",
       "      <th>0</th>\n",
       "      <td>NOT SPECIAL</td>\n",
       "      <td>4B</td>\n",
       "      <td>SEP</td>\n",
       "    </tr>\n",
       "    <tr>\n",
       "      <th>1</th>\n",
       "      <td>NOT SPECIAL</td>\n",
       "      <td>73</td>\n",
       "      <td>MAN.</td>\n",
       "    </tr>\n",
       "    <tr>\n",
       "      <th>2</th>\n",
       "      <td>NOT SPECIAL</td>\n",
       "      <td>37</td>\n",
       "      <td>ERT</td>\n",
       "    </tr>\n",
       "    <tr>\n",
       "      <th>3</th>\n",
       "      <td>NOT SPECIAL</td>\n",
       "      <td>23</td>\n",
       "      <td>ERT</td>\n",
       "    </tr>\n",
       "    <tr>\n",
       "      <th>4</th>\n",
       "      <td>NOT SPECIAL</td>\n",
       "      <td>90</td>\n",
       "      <td>CITY</td>\n",
       "    </tr>\n",
       "  </tbody>\n",
       "</table>\n",
       "</div>"
      ],
      "text/plain": [
       "  special_district complaint_category   unit\n",
       "0      NOT SPECIAL                 4B  SEP  \n",
       "1      NOT SPECIAL                 73   MAN.\n",
       "2      NOT SPECIAL                 37  ERT  \n",
       "3      NOT SPECIAL                 23  ERT  \n",
       "4      NOT SPECIAL                 90  CITY "
      ]
     },
     "execution_count": 26,
     "metadata": {},
     "output_type": "execute_result"
    }
   ],
   "source": [
    "# selected features\n",
    "kmode_features = [\"special_district\", \"complaint_category\", \"unit\"]\n",
    "\n",
    "kmode_df = complaints[kmode_features]\n",
    "kmode_df.head()"
   ]
  },
  {
   "cell_type": "markdown",
   "metadata": {},
   "source": [
    "One of the difficult parts of clustering analysis is to determine the optimal number of clusters to choose (when using algorithms that cannot determine this on their own). To aid in this determination, we will loop through a range of cluster numbers, and analyze each model's cost, defined in the library documentation as the sum distance of all points to their respective cluster centroids, to determine the optimal number of clusters.\n",
    "\n",
    "We will create a dictionary to store each of the model instances, with the number of clusters being used at the key for each model. We will also separately store the costs for each model to easily access these values. The targeted range of cluster numbers will be all numbers from 3 to 20."
   ]
  },
  {
   "cell_type": "markdown",
   "metadata": {},
   "source": [
    "#### Searching for best `n_clusters`"
   ]
  },
  {
   "cell_type": "code",
   "execution_count": 27,
   "metadata": {},
   "outputs": [
    {
     "name": "stdout",
     "output_type": "stream",
     "text": [
      "running KModes with  3 clusters\n",
      "Initialization method and algorithm are deterministic. Setting n_init to 1.\n",
      "running KModes with  4 clusters\n",
      "Initialization method and algorithm are deterministic. Setting n_init to 1.\n",
      "running KModes with  5 clusters\n",
      "Initialization method and algorithm are deterministic. Setting n_init to 1.\n",
      "running KModes with  6 clusters\n",
      "Initialization method and algorithm are deterministic. Setting n_init to 1.\n",
      "running KModes with  7 clusters\n",
      "Initialization method and algorithm are deterministic. Setting n_init to 1.\n",
      "running KModes with  8 clusters\n",
      "Initialization method and algorithm are deterministic. Setting n_init to 1.\n",
      "running KModes with  9 clusters\n",
      "Initialization method and algorithm are deterministic. Setting n_init to 1.\n",
      "running KModes with  10 clusters\n",
      "Initialization method and algorithm are deterministic. Setting n_init to 1.\n",
      "running KModes with  11 clusters\n",
      "Initialization method and algorithm are deterministic. Setting n_init to 1.\n",
      "running KModes with  12 clusters\n",
      "Initialization method and algorithm are deterministic. Setting n_init to 1.\n",
      "running KModes with  13 clusters\n",
      "Initialization method and algorithm are deterministic. Setting n_init to 1.\n",
      "running KModes with  14 clusters\n",
      "Initialization method and algorithm are deterministic. Setting n_init to 1.\n",
      "running KModes with  15 clusters\n",
      "Initialization method and algorithm are deterministic. Setting n_init to 1.\n",
      "running KModes with  16 clusters\n",
      "Initialization method and algorithm are deterministic. Setting n_init to 1.\n",
      "running KModes with  17 clusters\n",
      "Initialization method and algorithm are deterministic. Setting n_init to 1.\n",
      "running KModes with  18 clusters\n",
      "Initialization method and algorithm are deterministic. Setting n_init to 1.\n",
      "running KModes with  19 clusters\n",
      "Initialization method and algorithm are deterministic. Setting n_init to 1.\n",
      "running KModes with  20 clusters\n",
      "Initialization method and algorithm are deterministic. Setting n_init to 1.\n"
     ]
    }
   ],
   "source": [
    "# setting dictionary and lists to store models/results\n",
    "km_objs = []\n",
    "# looping through cluster range\n",
    "for i in range(3, 10, 1):\n",
    "    print(\"running KModes with \", i, \"clusters\")\n",
    "    km = KModes(n_clusters = i, n_init = 10, random_state = RANDOM_STATE, n_jobs = -1, verbose = 2)\n",
    "    km_objs.append(km.fit(kmode_df))"
   ]
  },
  {
   "cell_type": "code",
   "execution_count": 28,
   "metadata": {},
   "outputs": [
    {
     "data": {
      "image/png": "[encoded data removed]",
      "text/plain": [
       "<Figure size 648x432 with 1 Axes>"
      ]
     },
     "metadata": {
      "needs_background": "light"
     },
     "output_type": "display_data"
    }
   ],
   "source": [
    "plt.figure(figsize=(9, 6))\n",
    "plt.plot(range(3, len(km_objs) + 3), [km_obj.cost_ for km_obj in km_objs])\n",
    "plt.title(\"K-Mode Cost with Number of Clusters\", size=20)\n",
    "plt.xticks(range(3, len(km_objs) + 3))\n",
    "plt.xlabel(\"Number of Clusters\", size=15)\n",
    "plt.ylabel(\"K-Mode Cost\", size=15);"
   ]
  },
  {
   "cell_type": "code",
   "execution_count": 29,
   "metadata": {},
   "outputs": [
    {
     "data": {
      "image/png": "[encoded data removed]",
      "text/plain": [
       "<Figure size 648x432 with 1 Axes>"
      ]
     },
     "metadata": {
      "needs_background": "light"
     },
     "output_type": "display_data"
    }
   ],
   "source": [
    "plt.figure(figsize=(9, 6))\n",
    "plt.plot(range(4, len(km_objs) + 3), [obj.cost_ - km_objs[i].cost_ for i, obj in enumerate(km_objs[1:])])\n",
    "plt.title(\"Relative Change in K-Mode Costs Between Cluster Counts\", size=20)\n",
    "plt.xticks(range(4, len(km_objs) + 3))\n",
    "plt.xlabel(\"Number of Clusters\", size=15)\n",
    "plt.ylabel(\"Change in Cost from Previous K-Mode\", size=15);"
   ]
  },
  {
   "cell_type": "markdown",
   "metadata": {},
   "source": [
    "#### Exploring best `n_clusters`"
   ]
  },
  {
   "cell_type": "code",
   "execution_count": 30,
   "metadata": {},
   "outputs": [
    {
     "data": {
      "text/plain": [
       "array([['NOT SPECIAL', '45', 'QNS.'],\n",
       "       ['NOT SPECIAL', '05', 'BKLYN'],\n",
       "       ['NOT SPECIAL', '63', 'ERT  '],\n",
       "       ['NOT SPECIAL', '83', 'ELEVR'],\n",
       "       ['NOT SPECIAL', '73', 'MAN.'],\n",
       "       ['NOT SPECIAL', '4B', 'SEP  ']], dtype='<U11')"
      ]
     },
     "execution_count": 30,
     "metadata": {},
     "output_type": "execute_result"
    }
   ],
   "source": [
    "# exploring n_clusters = 6\n",
    "km_objs[3].cluster_centroids_"
   ]
  },
  {
   "cell_type": "code",
   "execution_count": 31,
   "metadata": {},
   "outputs": [
    {
     "data": {
      "text/plain": [
       "0    0.520863\n",
       "1    0.186918\n",
       "2    0.179292\n",
       "5    0.047797\n",
       "4    0.037981\n",
       "3    0.027148\n",
       "dtype: float64"
      ]
     },
     "execution_count": 31,
     "metadata": {},
     "output_type": "execute_result"
    }
   ],
   "source": [
    "pd.Series(km_objs[3].labels_).value_counts(normalize = True)"
   ]
  },
  {
   "cell_type": "markdown",
   "metadata": {},
   "source": [
    "I appears over half of the observations belong to the first cluster, which tend to belong to the complaint category \"45\" and are handled by the \"QNS.\" unit."
   ]
  },
  {
   "cell_type": "markdown",
   "metadata": {},
   "source": [
    "#### Adding cluster column"
   ]
  },
  {
   "cell_type": "code",
   "execution_count": 32,
   "metadata": {},
   "outputs": [],
   "source": [
    "# adding clusters to dataset\n",
    "complaints[\"cluster\"] = (km_objs[3].labels_ + 1).astype(str) # must be categorical"
   ]
  },
  {
   "cell_type": "markdown",
   "metadata": {},
   "source": [
    "### Exploring clusters"
   ]
  },
  {
   "cell_type": "markdown",
   "metadata": {},
   "source": [
    "#### Average Median Income by Cluster"
   ]
  },
  {
   "cell_type": "code",
   "execution_count": 33,
   "metadata": {},
   "outputs": [
    {
     "data": {
      "text/plain": [
       "cluster\n",
       "3    60486.188900\n",
       "1    63541.510880\n",
       "2    64142.703490\n",
       "4    65544.562218\n",
       "6    66493.746735\n",
       "5    85021.932001\n",
       "Name: med_inc_zip, dtype: float64"
      ]
     },
     "execution_count": 33,
     "metadata": {},
     "output_type": "execute_result"
    }
   ],
   "source": [
    "med_by_cluster = complaints.groupby(\"cluster\")[\"med_inc_zip\"].mean().sort_values()\n",
    "med_by_cluster"
   ]
  },
  {
   "cell_type": "code",
   "execution_count": 34,
   "metadata": {},
   "outputs": [
    {
     "data": {
      "image/png": "[encoded data removed]",
      "text/plain": [
       "<Figure size 576x360 with 1 Axes>"
      ]
     },
     "metadata": {
      "needs_background": "light"
     },
     "output_type": "display_data"
    }
   ],
   "source": [
    "plt.figure(figsize=(8,5))\n",
    "plt.title(\"Average Median Income by Cluster\")\n",
    "sns.barplot(data = complaints, x = \"cluster\", y = \"med_inc_zip\", capsize = .1, errwidth = 1.4, order = med_by_cluster.index)\n",
    "plt.ylabel(\"Average Median Income ($)\")\n",
    "plt.xlabel(\"Cluster\");"
   ]
  },
  {
   "cell_type": "markdown",
   "metadata": {},
   "source": [
    "Many clusters do not seem to show a large distinction between each other, however, the 5th cluster appears to have a significantly higher average median income. This may show a connection between the other features and median income."
   ]
  },
  {
   "cell_type": "markdown",
   "metadata": {},
   "source": [
    "#### Days until inspection by cluster"
   ]
  },
  {
   "cell_type": "code",
   "execution_count": 35,
   "metadata": {},
   "outputs": [
    {
     "data": {
      "text/plain": [
       "cluster\n",
       "6    44.754417\n",
       "4    45.641118\n",
       "3    72.862234\n",
       "2    91.008840\n",
       "1    93.459581\n",
       "5    95.059297\n",
       "Name: days_until_inspection, dtype: float64"
      ]
     },
     "execution_count": 35,
     "metadata": {},
     "output_type": "execute_result"
    }
   ],
   "source": [
    "days_by_cluster = complaints.groupby(\"cluster\")[\"days_until_inspection\"].mean().sort_values()\n",
    "days_by_cluster"
   ]
  },
  {
   "cell_type": "code",
   "execution_count": 36,
   "metadata": {},
   "outputs": [
    {
     "data": {
      "image/png": "[encoded data removed]",
      "text/plain": [
       "<Figure size 576x360 with 1 Axes>"
      ]
     },
     "metadata": {
      "needs_background": "light"
     },
     "output_type": "display_data"
    }
   ],
   "source": [
    "plt.figure(figsize=(8,5))\n",
    "plt.title(\"Average Days Until Inspection by Cluster\")\n",
    "sns.barplot(data = complaints, x = \"cluster\", y = \"days_until_inspection\", capsize = .1, errwidth = 1.4, order = days_by_cluster.index)\n",
    "plt.ylabel(\"Average Days Until Inspection\")\n",
    "plt.xlabel(\"Cluster\");"
   ]
  },
  {
   "cell_type": "markdown",
   "metadata": {},
   "source": [
    "Again, we some some clusters have a very similar average days until being inspected, but do some roughly 3 unique groups of clusters that may serve as a useful feature for modeling."
   ]
  },
  {
   "cell_type": "markdown",
   "metadata": {},
   "source": [
    "## Model Preperation"
   ]
  },
  {
   "cell_type": "code",
   "execution_count": 37,
   "metadata": {},
   "outputs": [],
   "source": [
    "target = \"days_until_inspection\"\n",
    "features = [\"special_district\", \"complaint_category\", \"unit\", \"med_inc_zip\", \"cluster\"]\n",
    "\n",
    "# establish features\n",
    "X = pd.get_dummies(complaints[features], drop_first = True)\n",
    "# establish target\n",
    "y = complaints[target]\n",
    "\n",
    "# train/test split\n",
    "X_train, X_test, y_train, y_test = train_test_split(X, y, random_state = RANDOM_STATE)"
   ]
  },
  {
   "cell_type": "markdown",
   "metadata": {},
   "source": [
    "## Modeling\n",
    "\n",
    "First, we'll explore some traditional models, such as Random Forest and Gradient Boost.\n",
    "\n",
    "Then, we'll see if an ARIMA or SARIMAX model perform better with our time-sensative target variable."
   ]
  },
  {
   "cell_type": "markdown",
   "metadata": {},
   "source": [
    "### Baseline Model"
   ]
  },
  {
   "cell_type": "code",
   "execution_count": 50,
   "metadata": {},
   "outputs": [
    {
     "data": {
      "text/plain": [
       "DummyRegressor(constant=None, quantile=None, strategy='mean')"
      ]
     },
     "execution_count": 50,
     "metadata": {},
     "output_type": "execute_result"
    }
   ],
   "source": [
    "dummy = DummyRegressor(\"mean\")\n",
    "\n",
    "dummy.fit(X_train, y_train)"
   ]
  },
  {
   "cell_type": "code",
   "execution_count": 51,
   "metadata": {},
   "outputs": [
    {
     "data": {
      "text/plain": [
       "0.0"
      ]
     },
     "execution_count": 51,
     "metadata": {},
     "output_type": "execute_result"
    }
   ],
   "source": [
    "# train score\n",
    "dummy.score(X_train, y_train)"
   ]
  },
  {
   "cell_type": "code",
   "execution_count": 52,
   "metadata": {},
   "outputs": [
    {
     "data": {
      "text/plain": [
       "-6.908867839650057e-05"
      ]
     },
     "execution_count": 52,
     "metadata": {},
     "output_type": "execute_result"
    }
   ],
   "source": [
    "# test score\n",
    "dummy.score(X_test, y_test)"
   ]
  },
  {
   "cell_type": "code",
   "execution_count": 53,
   "metadata": {},
   "outputs": [
    {
     "data": {
      "text/plain": [
       "-2.6506864257846984e-05"
      ]
     },
     "execution_count": 53,
     "metadata": {},
     "output_type": "execute_result"
    }
   ],
   "source": [
    "# train score\n",
    "cross_val_score(dummy, X, y).mean()"
   ]
  },
  {
   "cell_type": "markdown",
   "metadata": {},
   "source": [
    "As expected, the baseline model performs close to 0 $R^2$. Any model that can perform better will be better than blindly guessing the average number of days until a complaint is inspected."
   ]
  },
  {
   "cell_type": "markdown",
   "metadata": {},
   "source": [
    "### Random Forest"
   ]
  },
  {
   "cell_type": "code",
   "execution_count": 38,
   "metadata": {},
   "outputs": [
    {
     "data": {
      "text/plain": [
       "GridSearchCV(cv=5, error_score=nan,\n",
       "             estimator=RandomForestRegressor(bootstrap=True, ccp_alpha=0.0,\n",
       "                                             criterion='mse', max_depth=None,\n",
       "                                             max_features='auto',\n",
       "                                             max_leaf_nodes=None,\n",
       "                                             max_samples=None,\n",
       "                                             min_impurity_decrease=0.0,\n",
       "                                             min_impurity_split=None,\n",
       "                                             min_samples_leaf=1,\n",
       "                                             min_samples_split=2,\n",
       "                                             min_weight_fraction_leaf=0.0,\n",
       "                                             n_estimators=100, n_jobs=None,\n",
       "                                             oob_score=False, random_state=None,\n",
       "                                             verbose=0, warm_start=False),\n",
       "             iid='deprecated', n_jobs=-1,\n",
       "             param_grid={'max_depth': [None], 'max_features': [50],\n",
       "                         'n_estimators': [50]},\n",
       "             pre_dispatch='2*n_jobs', refit=True, return_train_score=False,\n",
       "             scoring=None, verbose=0)"
      ]
     },
     "execution_count": 38,
     "metadata": {},
     "output_type": "execute_result"
    }
   ],
   "source": [
    "rf = RandomForestRegressor()\n",
    "\n",
    "rf_params = {\n",
    "    \"n_estimators\": [50],\n",
    "    \"max_depth\": [None],\n",
    "    \"max_features\": [50]\n",
    "}\n",
    "\n",
    "rf_gs = GridSearchCV(rf, rf_params, cv = 5, n_jobs = -1)\n",
    "\n",
    "rf_gs.fit(X_train, y_train)"
   ]
  },
  {
   "cell_type": "code",
   "execution_count": 39,
   "metadata": {},
   "outputs": [
    {
     "data": {
      "text/plain": [
       "{'max_depth': None, 'max_features': 50, 'n_estimators': 50}"
      ]
     },
     "execution_count": 39,
     "metadata": {},
     "output_type": "execute_result"
    }
   ],
   "source": [
    "rf_gs.best_params_"
   ]
  },
  {
   "cell_type": "code",
   "execution_count": 40,
   "metadata": {},
   "outputs": [
    {
     "data": {
      "text/plain": [
       "0.3558951095336669"
      ]
     },
     "execution_count": 40,
     "metadata": {},
     "output_type": "execute_result"
    }
   ],
   "source": [
    "# train score\n",
    "rf_gs.score(X_train, y_train)"
   ]
  },
  {
   "cell_type": "code",
   "execution_count": 41,
   "metadata": {},
   "outputs": [
    {
     "data": {
      "text/plain": [
       "0.07684546815100224"
      ]
     },
     "execution_count": 41,
     "metadata": {},
     "output_type": "execute_result"
    }
   ],
   "source": [
    "# test score\n",
    "rf_gs.score(X_test, y_test)"
   ]
  },
  {
   "cell_type": "code",
   "execution_count": 42,
   "metadata": {},
   "outputs": [
    {
     "data": {
      "text/plain": [
       "0.06794911854705883"
      ]
     },
     "execution_count": 42,
     "metadata": {},
     "output_type": "execute_result"
    }
   ],
   "source": [
    "# train score\n",
    "cross_val_score(rf_gs.best_estimator_, X, y).mean()"
   ]
  },
  {
   "cell_type": "markdown",
   "metadata": {},
   "source": [
    "Given how underfit our model is with a training $R^2$ of 35% and a testing $R^2$ of 8%, a natural next step would be to try a boosting model."
   ]
  },
  {
   "cell_type": "markdown",
   "metadata": {},
   "source": [
    "### Gradient Boost"
   ]
  },
  {
   "cell_type": "code",
   "execution_count": 43,
   "metadata": {},
   "outputs": [
    {
     "data": {
      "text/plain": [
       "GridSearchCV(cv=5, error_score=nan,\n",
       "             estimator=GradientBoostingRegressor(alpha=0.9, ccp_alpha=0.0,\n",
       "                                                 criterion='friedman_mse',\n",
       "                                                 init=None, learning_rate=0.1,\n",
       "                                                 loss='ls', max_depth=3,\n",
       "                                                 max_features=None,\n",
       "                                                 max_leaf_nodes=None,\n",
       "                                                 min_impurity_decrease=0.0,\n",
       "                                                 min_impurity_split=None,\n",
       "                                                 min_samples_leaf=1,\n",
       "                                                 min_samples_split=2,\n",
       "                                                 min_weight_fraction_leaf=0.0,\n",
       "                                                 n_estimators=100,\n",
       "                                                 n_iter_no_change=None,\n",
       "                                                 presort='deprecated',\n",
       "                                                 random_state=None,\n",
       "                                                 subsample=1.0, tol=0.0001,\n",
       "                                                 validation_fraction=0.1,\n",
       "                                                 verbose=0, warm_start=False),\n",
       "             iid='deprecated', n_jobs=-1,\n",
       "             param_grid={'max_depth': [None], 'max_features': [50],\n",
       "                         'n_estimators': [50]},\n",
       "             pre_dispatch='2*n_jobs', refit=True, return_train_score=False,\n",
       "             scoring=None, verbose=0)"
      ]
     },
     "execution_count": 43,
     "metadata": {},
     "output_type": "execute_result"
    }
   ],
   "source": [
    "gb = GradientBoostingRegressor()\n",
    "\n",
    "gb_params = {\n",
    "    \"n_estimators\": [50],\n",
    "    \"max_depth\": [None],\n",
    "    \"max_features\": [50]\n",
    "}\n",
    "\n",
    "gb_gs = GridSearchCV(gb, gb_params, cv = 5, n_jobs = -1)\n",
    "\n",
    "gb_gs.fit(X_train, y_train)"
   ]
  },
  {
   "cell_type": "code",
   "execution_count": 45,
   "metadata": {},
   "outputs": [
    {
     "data": {
      "text/plain": [
       "{'max_depth': None, 'max_features': 50, 'n_estimators': 50}"
      ]
     },
     "execution_count": 45,
     "metadata": {},
     "output_type": "execute_result"
    }
   ],
   "source": [
    "gb_gs.best_params_"
   ]
  },
  {
   "cell_type": "code",
   "execution_count": 46,
   "metadata": {},
   "outputs": [
    {
     "data": {
      "text/plain": [
       "0.3818546286259279"
      ]
     },
     "execution_count": 46,
     "metadata": {},
     "output_type": "execute_result"
    }
   ],
   "source": [
    "# train score\n",
    "gb_gs.score(X_train, y_train)"
   ]
  },
  {
   "cell_type": "code",
   "execution_count": 47,
   "metadata": {},
   "outputs": [
    {
     "data": {
      "text/plain": [
       "-0.0015151720420079064"
      ]
     },
     "execution_count": 47,
     "metadata": {},
     "output_type": "execute_result"
    }
   ],
   "source": [
    "# test score\n",
    "gb_gs.score(X_test, y_test)"
   ]
  },
  {
   "cell_type": "code",
   "execution_count": 48,
   "metadata": {},
   "outputs": [
    {
     "data": {
      "text/plain": [
       "0.009306655058501612"
      ]
     },
     "execution_count": 48,
     "metadata": {},
     "output_type": "execute_result"
    }
   ],
   "source": [
    "# train score\n",
    "cross_val_score(gb_gs.best_estimator_, X, y).mean()"
   ]
  },
  {
   "cell_type": "markdown",
   "metadata": {},
   "source": [
    "Yet again, our model is underfit. With a training $R^2$ of 38% and a testing $R^2$ close to 0%, the Gradient Boost model does no better than our baseline model.\n",
    "\n",
    "---\n",
    "Given the temporal nature of our target and the clear lack of correlation between our features and our target, we'll explor an ARIMA model using only the target."
   ]
  },
  {
   "cell_type": "markdown",
   "metadata": {},
   "source": [
    "## ARIMA\n",
    "We've already seen some seasonality components in our data, which is a motivating reason for exploring a ARIMA model."
   ]
  },
  {
   "cell_type": "code",
   "execution_count": 63,
   "metadata": {},
   "outputs": [],
   "source": [
    "# ARIMA SETUP\n",
    "arima_df = complaints.set_index(\"date_entered\")[[\"days_until_inspection\"]].resample(\"M\").mean().dropna().sort_index()"
   ]
  },
  {
   "cell_type": "markdown",
   "metadata": {},
   "source": [
    "#### Determining `d` using ADF (Augmented Dickey Fuller) Test\n",
    "\n",
    "We can use the Augmented Dickey Fuller hypothesis test to check for stationarity - a requirement for ARIMA."
   ]
  },
  {
   "cell_type": "code",
   "execution_count": 64,
   "metadata": {},
   "outputs": [
    {
     "name": "stdout",
     "output_type": "stream",
     "text": [
      "ADF Statistic: 0.171795\n",
      "p-value: 0.970635\n",
      "Critical Values:\n",
      "\t1%: -3.488\n",
      "\t5%: -2.887\n",
      "\t10%: -2.580\n"
     ]
    }
   ],
   "source": [
    "# no differencing\n",
    "result = adfuller(arima_df[target])\n",
    "print('ADF Statistic: %f' % result[0])\n",
    "print('p-value: %f' % result[1])\n",
    "print('Critical Values:')\n",
    "for key, value in result[4].items():\n",
    "    print('\\t%s: %.3f' % (key, value))"
   ]
  },
  {
   "cell_type": "code",
   "execution_count": 65,
   "metadata": {},
   "outputs": [
    {
     "name": "stdout",
     "output_type": "stream",
     "text": [
      "ADF Statistic: -11.073405\n",
      "p-value: 0.000000\n",
      "Critical Values:\n",
      "\t1%: -3.488\n",
      "\t5%: -2.887\n",
      "\t10%: -2.580\n"
     ]
    }
   ],
   "source": [
    "# diff of 1\n",
    "arima_df_diff_1 = arima_df[target].diff(1).dropna()\n",
    "result = adfuller(arima_df_diff_1)\n",
    "print('ADF Statistic: %f' % result[0])\n",
    "print('p-value: %f' % result[1])\n",
    "print('Critical Values:')\n",
    "for key, value in result[4].items():\n",
    "    print('\\t%s: %.3f' % (key, value))"
   ]
  },
  {
   "cell_type": "markdown",
   "metadata": {},
   "source": [
    "By __differencing once,__ with a 95% confidence, we reject the null hypothesis accept our data has stationarity (`d = 1`)."
   ]
  },
  {
   "cell_type": "markdown",
   "metadata": {},
   "source": [
    "#### Determining `p` using autocorrelation function"
   ]
  },
  {
   "cell_type": "code",
   "execution_count": 66,
   "metadata": {},
   "outputs": [
    {
     "data": {
      "image/png": "[encoded data removed]",
      "text/plain": [
       "<Figure size 432x288 with 1 Axes>"
      ]
     },
     "metadata": {
      "needs_background": "light"
     },
     "output_type": "display_data"
    }
   ],
   "source": [
    "plot_acf(arima_df_diff_1, lags=31)\n",
    "plt.show()"
   ]
  },
  {
   "cell_type": "markdown",
   "metadata": {},
   "source": [
    "Using the once differenced data, we find a strong negative correlation between months within 1 lag and no other significant lags. This suggests we have to consider a moving average and assume no auto-regression (`p = 0`)."
   ]
  },
  {
   "cell_type": "markdown",
   "metadata": {},
   "source": [
    "#### Determining `q` using partial-autocorrelation function"
   ]
  },
  {
   "cell_type": "code",
   "execution_count": 58,
   "metadata": {},
   "outputs": [
    {
     "data": {
      "image/png": "[encoded data removed]",
      "text/plain": [
       "<Figure size 432x288 with 1 Axes>"
      ]
     },
     "metadata": {
      "needs_background": "light"
     },
     "output_type": "display_data"
    }
   ],
   "source": [
    "plot_pacf(arima_df_diff_1, lags=31)\n",
    "plt.show()"
   ]
  },
  {
   "cell_type": "markdown",
   "metadata": {},
   "source": [
    "We see an immediate significant lag that trails off to insignificance. We will use the first lag from the autocorrelation to determine the moving average term (`q = 1`)."
   ]
  },
  {
   "cell_type": "markdown",
   "metadata": {},
   "source": [
    "### Hyperparameter searching using `auto_arima`\n",
    "\n",
    "To verify our findings for the order as $(p,q,d) = (0,1,1)$, we can use `auto_arima` to gridsearch the best order for our ARIMA model."
   ]
  },
  {
   "cell_type": "code",
   "execution_count": 67,
   "metadata": {},
   "outputs": [],
   "source": [
    "fitted_arima = auto_arima(\n",
    "    arima_df,\n",
    "    d = 1,\n",
    "    start_p = 0, start_q = 0,\n",
    "    seasonal = False\n",
    ")"
   ]
  },
  {
   "cell_type": "code",
   "execution_count": 68,
   "metadata": {},
   "outputs": [
    {
     "data": {
      "text/plain": [
       "(0, 1, 1)"
      ]
     },
     "execution_count": 68,
     "metadata": {},
     "output_type": "execute_result"
    }
   ],
   "source": [
    "fitted_arima.order"
   ]
  },
  {
   "cell_type": "markdown",
   "metadata": {},
   "source": [
    "We're confident an order of (0,1,1) is best to use in our model."
   ]
  },
  {
   "cell_type": "markdown",
   "metadata": {},
   "source": [
    "### Model Preparation for ARIMA"
   ]
  },
  {
   "cell_type": "code",
   "execution_count": 80,
   "metadata": {},
   "outputs": [],
   "source": [
    "order = (0, 1, 1)\n",
    "X, y = train_test_split(arima_df, test_size = .1, shuffle = False)"
   ]
  },
  {
   "cell_type": "markdown",
   "metadata": {},
   "source": [
    "#### Time Series Baseline Model"
   ]
  },
  {
   "cell_type": "code",
   "execution_count": 98,
   "metadata": {},
   "outputs": [
    {
     "data": {
      "text/plain": [
       "DummyRegressor(constant=None, quantile=None, strategy='mean')"
      ]
     },
     "execution_count": 98,
     "metadata": {},
     "output_type": "execute_result"
    }
   ],
   "source": [
    "dummy_arima = DummyRegressor(\"mean\")\n",
    "\n",
    "dummy_arima.fit(X, X)"
   ]
  },
  {
   "cell_type": "code",
   "execution_count": 99,
   "metadata": {},
   "outputs": [
    {
     "data": {
      "text/plain": [
       "0.0"
      ]
     },
     "execution_count": 99,
     "metadata": {},
     "output_type": "execute_result"
    }
   ],
   "source": [
    "# train score\n",
    "dummy_arima.score(X, X)"
   ]
  },
  {
   "cell_type": "code",
   "execution_count": 100,
   "metadata": {},
   "outputs": [
    {
     "data": {
      "text/plain": [
       "-63.186773880815835"
      ]
     },
     "execution_count": 100,
     "metadata": {},
     "output_type": "execute_result"
    }
   ],
   "source": [
    "# test score\n",
    "dummy_arima.score(y, y)"
   ]
  },
  {
   "cell_type": "markdown",
   "metadata": {},
   "source": [
    "### Fitting and Scoring ARIMA"
   ]
  },
  {
   "cell_type": "code",
   "execution_count": 84,
   "metadata": {},
   "outputs": [],
   "source": [
    "arima = ARIMA(X, order = order)\n",
    "\n",
    "fitted_arima = arima.fit()"
   ]
  },
  {
   "cell_type": "code",
   "execution_count": 91,
   "metadata": {},
   "outputs": [
    {
     "data": {
      "text/plain": [
       "2017-12-31    4.453162\n",
       "2018-01-31   -0.253411\n",
       "2018-02-28   -0.253411\n",
       "2018-03-31   -0.253411\n",
       "2018-04-30   -0.253411\n",
       "2018-05-31   -0.253411\n",
       "2018-06-30   -0.253411\n",
       "2018-07-31   -0.253411\n",
       "2018-08-31   -0.253411\n",
       "2018-09-30   -0.253411\n",
       "2018-10-31   -0.253411\n",
       "2018-11-30   -0.253411\n",
       "Freq: M, dtype: float64"
      ]
     },
     "execution_count": 91,
     "metadata": {},
     "output_type": "execute_result"
    }
   ],
   "source": [
    "fitted_arima.predict(start=len(X),end= len(X) + len(y) - 1, dynamic = True)"
   ]
  },
  {
   "cell_type": "markdown",
   "metadata": {},
   "source": [
    "## SARIMAX\n"
   ]
  },
  {
   "cell_type": "markdown",
   "metadata": {},
   "source": [
    "#### Determining `S`, seasonal component"
   ]
  },
  {
   "cell_type": "code",
   "execution_count": null,
   "metadata": {},
   "outputs": [],
   "source": [
    "seasonal_decompose(arima_df_diff_1).plot()\n",
    "plt.show()"
   ]
  },
  {
   "cell_type": "markdown",
   "metadata": {},
   "source": [
    "We find a strong weekly seasonal component, however the "
   ]
  },
  {
   "cell_type": "markdown",
   "metadata": {},
   "source": [
    "### Modeling SARIMA"
   ]
  },
  {
   "cell_type": "code",
   "execution_count": null,
   "metadata": {},
   "outputs": [],
   "source": [
    "sarima = SARIMAX(endog = arima_db.values,\n",
    "                 order = (p, d, q),\n",
    "                 seasonal_order = (P, D, Q, S),\n",
    "                 exog = exog.values\n",
    "                )\n",
    "\n",
    "fitted_sarima = sarima.fit()"
   ]
  },
  {
   "cell_type": "code",
   "execution_count": null,
   "metadata": {},
   "outputs": [],
   "source": [
    "vizResids(\"SARIMA Results\", \"Days Until Inspection\", arima_db[target], fitted_sarima.predict(start=0,end=-1))"
   ]
  },
  {
   "cell_type": "markdown",
   "metadata": {},
   "source": [
    "### Modeling SARIMAX"
   ]
  },
  {
   "cell_type": "code",
   "execution_count": null,
   "metadata": {},
   "outputs": [],
   "source": [
    "sarimax = SARIMAX(endog = arima_db.values,\n",
    "                 order = (p, d, q),\n",
    "                 seasonal_order = (P, D, Q, S),\n",
    "                 exog = exog.values\n",
    "                )\n",
    "\n",
    "fitted_sarimax = sarimax.fit()"
   ]
  },
  {
   "cell_type": "code",
   "execution_count": null,
   "metadata": {},
   "outputs": [],
   "source": [
    "vizResids(\"SARIMAX Results\", \"Days Until Inspection\", arima_db[target], fitted_sarimax.predict(start=0,end=-1))"
   ]
  },
  {
   "cell_type": "markdown",
   "metadata": {},
   "source": [
    "## Classification Model\n",
    "By converting target into classes, can simplify model and increase performance"
   ]
  },
  {
   "cell_type": "code",
   "execution_count": null,
   "metadata": {},
   "outputs": [],
   "source": []
  },
  {
   "cell_type": "markdown",
   "metadata": {},
   "source": [
    "## Model Selection"
   ]
  },
  {
   "cell_type": "code",
   "execution_count": null,
   "metadata": {},
   "outputs": [],
   "source": []
  },
  {
   "cell_type": "markdown",
   "metadata": {},
   "source": [
    "## Model Evaluation"
   ]
  },
  {
   "cell_type": "markdown",
   "metadata": {},
   "source": [
    "#### Creating `vizResids` function\n",
    "\n",
    "`vizResids` is a convenience function to abstract the relevant regression-like model evaluation graphs:\n",
    "1. True Values ($y$) vs. Predictions ($\\hat{y}$)\n",
    "2. Residuals Plot\n",
    "3. Residuals Histogram"
   ]
  },
  {
   "cell_type": "code",
   "execution_count": null,
   "metadata": {},
   "outputs": [],
   "source": [
    "def vizResids(model_title, target_name,y_true, y_preds):\n",
    "    resids = y_true - y_preds\n",
    "    score = r2_score(y_true, y_preds)\n",
    "    # HANDLING SUBPLOTS\n",
    "    fig, axes = plt.subplots(2, 2, figsize=(12,10)) # 2 row x 2 columns\n",
    "    fig.suptitle(f\"{model_title}: $R^2$ ={score:2.2%}\", fontsize = 24, y = 1.05)\n",
    "\n",
    "    ax_1 = axes[0][0]\n",
    "    ax_2 = axes[0][1]\n",
    "    ax_3 = axes[1][0]\n",
    "\n",
    "    subplot_title_size = 18\n",
    "    subplot_label_size = 14\n",
    "    \n",
    "    # 1ST PLOT - y_true vs. y_pred\n",
    "    ax_1.set_title(\"True Values ($y$) vs. Predictions ($\\hat{y}$)\", fontsize = subplot_title_size, pad = 10)\n",
    "    maxDist = max(max(y_preds),max(y_true)) # maxiumum value used to determin x_lim and y_lim\n",
    "    minDist = min(min(y_preds),min(y_true)) # maxiumum value used to determin x_lim and y_lim\n",
    "    # 45deg line, signifying prediction == true value\n",
    "    ax_1.plot((minDist,maxDist),(minDist,maxDist), c = \"r\", alpha = .7);\n",
    "    \n",
    "    sns.scatterplot(ax = ax_1, x = y_true, y = y_preds, alpha = .5)\n",
    "    ax_1.set_xlabel(\"True Values ($y$)\", fontsize = subplot_label_size, labelpad = 10)\n",
    "    ax_1.set_ylabel(\"Predictions ($\\hat{y}$)\", fontsize = subplot_label_size, labelpad = 10)\n",
    "\n",
    "    # 2ND PLOT - residuals\n",
    "    ax_2.set_title(\"Residuals\", fontsize = subplot_title_size)\n",
    "    sns.scatterplot(ax = ax_2, x = y_preds, y = resids, alpha = .5)\n",
    "    ax_2.set_ylabel(target_name, fontsize = subplot_label_size)\n",
    "    ax_2.axhline(0, c = \"r\", alpha = .7);\n",
    "\n",
    "    # 3RD PLOT - residuals histogram\n",
    "    ax_3.set_title(\"Histogram of residuals\", fontsize = subplot_title_size)\n",
    "    sns.distplot(resids, ax = ax_3, kde = False);\n",
    "    ax_3.set_xlabel(target_name, fontsize = subplot_label_size)\n",
    "    ax_3.set_ylabel(\"Frequency\", fontsize = subplot_label_size)\n",
    "\n",
    "    plt.tight_layout() # handles most overlaping and spacing issues"
   ]
  },
  {
   "cell_type": "code",
   "execution_count": null,
   "metadata": {},
   "outputs": [],
   "source": []
  },
  {
   "cell_type": "markdown",
   "metadata": {},
   "source": [
    "## Conclusion"
   ]
  },
  {
   "cell_type": "code",
   "execution_count": null,
   "metadata": {},
   "outputs": [],
   "source": []
  },
  {
   "cell_type": "markdown",
   "metadata": {},
   "source": [
    "## Recommendations"
   ]
  },
  {
   "cell_type": "code",
   "execution_count": null,
   "metadata": {},
   "outputs": [],
   "source": []
  },
  {
   "cell_type": "markdown",
   "metadata": {},
   "source": [
    "## Resources\n",
    "- [Data Source](https://data.cityofnewyork.us/Housing-Development/DOB-Complaints-Received/eabe-havv)\n",
    "- [Complaint Codes](https://www1.nyc.gov/assets/buildings/pdf/complaint_category.pdf)\n",
    "- [Disposition Codes](https://www1.nyc.gov/assets/buildings/pdf/bis_complaint_disposition_codes.pdf)\n",
    "- [Data Explains](https://docs.google.com/spreadsheets/d/10p0HLqinKbUrSjKaZC2E0ZTHDXgULT0K/edit#gid=1015257717)"
   ]
  }
 ],
 "metadata": {
  "kernelspec": {
   "display_name": "Python 3",
   "language": "python",
   "name": "python3"
  },
  "language_info": {
   "codemirror_mode": {
    "name": "ipython",
    "version": 3
   },
   "file_extension": ".py",
   "mimetype": "text/x-python",
   "name": "python",
   "nbconvert_exporter": "python",
   "pygments_lexer": "ipython3",
   "version": "3.7.3"
  }
 },
 "nbformat": 4,
 "nbformat_minor": 2
}
