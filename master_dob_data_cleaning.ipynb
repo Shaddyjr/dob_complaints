{
 "cells": [
  {
   "cell_type": "markdown",
   "metadata": {},
   "source": [
    "# Cleaning Department of Buildings Complaints dataset\n",
    "\n",
    "#### By: Mahdi Shadkam-Farrokhi & Jeremy Ondov"
   ]
  },
  {
   "cell_type": "markdown",
   "metadata": {},
   "source": [
    "### Resources\n",
    "- [Data Source](https://data.cityofnewyork.us/Housing-Development/DOB-Complaints-Received/eabe-havv)\n",
    "- [Complaint Codes](https://www1.nyc.gov/assets/buildings/pdf/complaint_category.pdf)\n",
    "- [Disposition Codes](https://www1.nyc.gov/assets/buildings/pdf/bis_complaint_disposition_codes.pdf)\n",
    "- [Data Explains](https://docs.google.com/spreadsheets/d/10p0HLqinKbUrSjKaZC2E0ZTHDXgULT0K/edit#gid=1015257717)"
   ]
  },
  {
   "cell_type": "markdown",
   "metadata": {},
   "source": [
    "## Loading libraries and data"
   ]
  },
  {
   "cell_type": "code",
   "execution_count": 1,
   "metadata": {},
   "outputs": [],
   "source": [
    "import pandas as pd\n",
    "import math"
   ]
  },
  {
   "cell_type": "markdown",
   "metadata": {},
   "source": [
    "Given the massive size of the dataset, we'll only pull a sample from the relevant observations.\n",
    "\n",
    "After some outside research, we discovered the DOB website went live in 2009, which drastically altered the shape of the data after that point. Therefore, we will only select observations from 2009 onward, as these are much more applicable to current events."
   ]
  },
  {
   "cell_type": "code",
   "execution_count": null,
   "metadata": {},
   "outputs": [],
   "source": [
    "target_size = 100_000 # desired sample size"
   ]
  },
  {
   "cell_type": "code",
   "execution_count": 2,
   "metadata": {},
   "outputs": [
    {
     "name": "stdout",
     "output_type": "stream",
     "text": [
      "Working up to row # 100000 | Current sample length = 0\n",
      "Working up to row # 200000 | Current sample length = 0\n",
      "Working up to row # 300000 | Current sample length = 5044\n",
      "Working up to row # 400000 | Current sample length = 12737\n",
      "Working up to row # 500000 | Current sample length = 20430\n",
      "Working up to row # 600000 | Current sample length = 21631\n",
      "Working up to row # 700000 | Current sample length = 26478\n",
      "Working up to row # 800000 | Current sample length = 34171\n",
      "Working up to row # 900000 | Current sample length = 34714\n",
      "Working up to row # 1000000 | Current sample length = 34714\n",
      "Working up to row # 1100000 | Current sample length = 36543\n",
      "Working up to row # 1200000 | Current sample length = 44236\n",
      "Working up to row # 1300000 | Current sample length = 51929\n",
      "Working up to row # 1400000 | Current sample length = 59622\n",
      "Working up to row # 1500000 | Current sample length = 67315\n",
      "Working up to row # 1600000 | Current sample length = 68248\n",
      "Working up to row # 1700000 | Current sample length = 68248\n",
      "Working up to row # 1800000 | Current sample length = 68248\n",
      "Working up to row # 1900000 | Current sample length = 69981\n",
      "Working up to row # 2000000 | Current sample length = 77674\n",
      "Working up to row # 2100000 | Current sample length = 85367\n",
      "Working up to row # 2200000 | Current sample length = 93060\n",
      "Working up to row # 2300000 | Current sample length = 99481\n",
      "Working up to row # 2400000 | Current sample length = 102991\n"
     ]
    }
   ],
   "source": [
    "data_file = \"./data/DOB_Complaints_Received.csv\"\n",
    "chunk_size = 100_000 # number of lines used for each iterated read through file\n",
    "skip = math.ceil(1_300_000 / target_size) # the sample rate. Every \"skip\"th observation is selected\n",
    "\n",
    "dtypes = {\n",
    "    'Complaint Number':\"int64\",\n",
    "    'ZIP Code':\"object\",\n",
    "    'Special District':\"object\",\n",
    "    'Complaint Category':\"object\",\n",
    "    'Unit':\"object\",\n",
    "    'Date Entered':\"object\",\n",
    "    'Status':\"object\",\n",
    "    'House Street':\"object\",\n",
    "    'House Number':\"object\"\n",
    "}\n",
    "\n",
    "keepers = [\n",
    "    'Complaint Number',\n",
    "    'ZIP Code',\n",
    "    'Special District',\n",
    "    'Complaint Category',\n",
    "    'Unit',\n",
    "    'Date Entered',\n",
    "    'Inspection Date',\n",
    "    'Status',\n",
    "    'House Street',\n",
    "    'House Number'\n",
    "]\n",
    "\n",
    "iteration_obj = pd.read_csv(\n",
    "                    data_file, \n",
    "                    usecols = keepers, \n",
    "                    parse_dates=['Date Entered'], \n",
    "                    iterator = True,\n",
    "                    chunksize = chunk_size,\n",
    "                    dtype = dtypes\n",
    "                );\n",
    "\n",
    "db = None\n",
    "current_n = 0\n",
    "while db is None or (db.shape[0] < target_size and iteration_obj._currow <= 2_300_000):\n",
    "    raw_dataframe = iteration_obj.get_chunk()\n",
    "    # removing anything before 2009\n",
    "    filtered_dataframe = raw_dataframe[\"2009\" < raw_dataframe[\"Date Entered\"]]\n",
    "    if db is None:\n",
    "        db = filtered_dataframe\n",
    "    # adding to sample\n",
    "    db = pd.concat([db, filtered_dataframe.iloc[::skip,:]], axis = 0)\n",
    "    current_n += chunk_size\n",
    "    print(\"Working up to row # {} | Current sample length = {}\".format(current_n,db.shape[0]))\n",
    "\n",
    "iteration_obj.close() # not sure if needed, but good practice to close connections"
   ]
  },
  {
   "cell_type": "code",
   "execution_count": 3,
   "metadata": {},
   "outputs": [
    {
     "data": {
      "text/plain": [
       "(102991, 8)"
      ]
     },
     "execution_count": 3,
     "metadata": {},
     "output_type": "execute_result"
    }
   ],
   "source": [
    "db.shape"
   ]
  },
  {
   "cell_type": "code",
   "execution_count": 4,
   "metadata": {},
   "outputs": [
    {
     "data": {
      "text/html": [
       "<div>\n",
       "<style scoped>\n",
       "    .dataframe tbody tr th:only-of-type {\n",
       "        vertical-align: middle;\n",
       "    }\n",
       "\n",
       "    .dataframe tbody tr th {\n",
       "        vertical-align: top;\n",
       "    }\n",
       "\n",
       "    .dataframe thead th {\n",
       "        text-align: right;\n",
       "    }\n",
       "</style>\n",
       "<table border=\"1\" class=\"dataframe\">\n",
       "  <thead>\n",
       "    <tr style=\"text-align: right;\">\n",
       "      <th></th>\n",
       "      <th>Complaint Number</th>\n",
       "      <th>Status</th>\n",
       "      <th>Date Entered</th>\n",
       "      <th>ZIP Code</th>\n",
       "      <th>Special District</th>\n",
       "      <th>Complaint Category</th>\n",
       "      <th>Unit</th>\n",
       "      <th>Inspection Date</th>\n",
       "    </tr>\n",
       "  </thead>\n",
       "  <tbody>\n",
       "    <tr>\n",
       "      <th>234435</th>\n",
       "      <td>1245555</td>\n",
       "      <td>CLOSED</td>\n",
       "      <td>2009-01-02</td>\n",
       "      <td>10025</td>\n",
       "      <td></td>\n",
       "      <td>58</td>\n",
       "      <td>BOILR</td>\n",
       "      <td>06/02/2009</td>\n",
       "    </tr>\n",
       "    <tr>\n",
       "      <th>234448</th>\n",
       "      <td>1245568</td>\n",
       "      <td>CLOSED</td>\n",
       "      <td>2009-01-02</td>\n",
       "      <td>10036</td>\n",
       "      <td></td>\n",
       "      <td>04</td>\n",
       "      <td>ERT</td>\n",
       "      <td>01/02/2009</td>\n",
       "    </tr>\n",
       "    <tr>\n",
       "      <th>234461</th>\n",
       "      <td>1245582</td>\n",
       "      <td>CLOSED</td>\n",
       "      <td>2009-01-02</td>\n",
       "      <td>10001</td>\n",
       "      <td></td>\n",
       "      <td>23</td>\n",
       "      <td>SCFLD</td>\n",
       "      <td>01/02/2009</td>\n",
       "    </tr>\n",
       "    <tr>\n",
       "      <th>234474</th>\n",
       "      <td>1245595</td>\n",
       "      <td>CLOSED</td>\n",
       "      <td>2009-01-02</td>\n",
       "      <td>10031</td>\n",
       "      <td></td>\n",
       "      <td>54</td>\n",
       "      <td>MAN.</td>\n",
       "      <td>01/02/2009</td>\n",
       "    </tr>\n",
       "    <tr>\n",
       "      <th>234487</th>\n",
       "      <td>1245608</td>\n",
       "      <td>CLOSED</td>\n",
       "      <td>2009-01-02</td>\n",
       "      <td>10013</td>\n",
       "      <td></td>\n",
       "      <td>23</td>\n",
       "      <td>SCFLD</td>\n",
       "      <td>10/09/2009</td>\n",
       "    </tr>\n",
       "  </tbody>\n",
       "</table>\n",
       "</div>"
      ],
      "text/plain": [
       "        Complaint Number  Status Date Entered   ZIP Code Special District  \\\n",
       "234435           1245555  CLOSED   2009-01-02  10025                        \n",
       "234448           1245568  CLOSED   2009-01-02  10036                        \n",
       "234461           1245582  CLOSED   2009-01-02  10001                        \n",
       "234474           1245595  CLOSED   2009-01-02  10031                        \n",
       "234487           1245608  CLOSED   2009-01-02  10013                        \n",
       "\n",
       "       Complaint Category   Unit Inspection Date  \n",
       "234435                 58  BOILR      06/02/2009  \n",
       "234448                 04  ERT        01/02/2009  \n",
       "234461                 23  SCFLD      01/02/2009  \n",
       "234474                 54   MAN.      01/02/2009  \n",
       "234487                 23  SCFLD      10/09/2009  "
      ]
     },
     "execution_count": 4,
     "metadata": {},
     "output_type": "execute_result"
    }
   ],
   "source": [
    "db.head()"
   ]
  },
  {
   "cell_type": "markdown",
   "metadata": {},
   "source": [
    "We'll be working with roughly 100,000 obsevations"
   ]
  },
  {
   "cell_type": "markdown",
   "metadata": {},
   "source": [
    "## Data Cleaning"
   ]
  },
  {
   "cell_type": "markdown",
   "metadata": {},
   "source": [
    "### Filter only closed complaints"
   ]
  },
  {
   "cell_type": "code",
   "execution_count": 5,
   "metadata": {},
   "outputs": [],
   "source": [
    "db = db[db[\"Status\"] == \"CLOSED\"]"
   ]
  },
  {
   "cell_type": "markdown",
   "metadata": {},
   "source": [
    "### Converting Inspection date to datetime"
   ]
  },
  {
   "cell_type": "code",
   "execution_count": 6,
   "metadata": {},
   "outputs": [
    {
     "data": {
      "text/plain": [
       "234435    06/02/2009\n",
       "234448    01/02/2009\n",
       "234461    01/02/2009\n",
       "234474    01/02/2009\n",
       "234487    10/09/2009\n",
       "Name: Inspection Date, dtype: object"
      ]
     },
     "execution_count": 6,
     "metadata": {},
     "output_type": "execute_result"
    }
   ],
   "source": [
    "db[\"Inspection Date\"].head()"
   ]
  },
  {
   "cell_type": "markdown",
   "metadata": {},
   "source": [
    "Some dates are erroneous and out of bounds for conversion to date time. Although a few observations can me inferentially imputed manually, it is impractical to include such a tactic in the main workflow for many hundreds of thousands of observations. \n",
    "\n",
    "According to the [documentation](http://pandas.pydata.org/pandas-docs/stable/timeseries.html#timeseries-timestamp-limits), the earliest valid time stamp for proper formating is `pd.Timestamp.min`. Also, we'll remove any dates prior to 2009, which serves as our hard cutoff for consideration."
   ]
  },
  {
   "cell_type": "code",
   "execution_count": 7,
   "metadata": {},
   "outputs": [],
   "source": [
    "years = db[\"Inspection Date\"].apply(lambda a:a.split(\"/\")[2])"
   ]
  },
  {
   "cell_type": "code",
   "execution_count": 8,
   "metadata": {},
   "outputs": [],
   "source": [
    "invalid_year_indeces = years[years.astype(int) < 2009].index"
   ]
  },
  {
   "cell_type": "code",
   "execution_count": 9,
   "metadata": {},
   "outputs": [
    {
     "data": {
      "text/plain": [
       "(45,)"
      ]
     },
     "execution_count": 9,
     "metadata": {},
     "output_type": "execute_result"
    }
   ],
   "source": [
    "invalid_year_indeces.shape"
   ]
  },
  {
   "cell_type": "code",
   "execution_count": 10,
   "metadata": {},
   "outputs": [
    {
     "data": {
      "text/html": [
       "<div>\n",
       "<style scoped>\n",
       "    .dataframe tbody tr th:only-of-type {\n",
       "        vertical-align: middle;\n",
       "    }\n",
       "\n",
       "    .dataframe tbody tr th {\n",
       "        vertical-align: top;\n",
       "    }\n",
       "\n",
       "    .dataframe thead th {\n",
       "        text-align: right;\n",
       "    }\n",
       "</style>\n",
       "<table border=\"1\" class=\"dataframe\">\n",
       "  <thead>\n",
       "    <tr style=\"text-align: right;\">\n",
       "      <th></th>\n",
       "      <th>Complaint Number</th>\n",
       "      <th>Status</th>\n",
       "      <th>Date Entered</th>\n",
       "      <th>ZIP Code</th>\n",
       "      <th>Special District</th>\n",
       "      <th>Complaint Category</th>\n",
       "      <th>Unit</th>\n",
       "      <th>Inspection Date</th>\n",
       "    </tr>\n",
       "  </thead>\n",
       "  <tbody>\n",
       "    <tr>\n",
       "      <th>234617</th>\n",
       "      <td>1245742</td>\n",
       "      <td>CLOSED</td>\n",
       "      <td>2009-01-05</td>\n",
       "      <td>10002</td>\n",
       "      <td></td>\n",
       "      <td>23</td>\n",
       "      <td>SCFLD</td>\n",
       "      <td>12/20/2008</td>\n",
       "    </tr>\n",
       "    <tr>\n",
       "      <th>234630</th>\n",
       "      <td>1245755</td>\n",
       "      <td>CLOSED</td>\n",
       "      <td>2009-01-05</td>\n",
       "      <td>10009</td>\n",
       "      <td></td>\n",
       "      <td>23</td>\n",
       "      <td>SCFLD</td>\n",
       "      <td>12/20/2008</td>\n",
       "    </tr>\n",
       "    <tr>\n",
       "      <th>234656</th>\n",
       "      <td>1245781</td>\n",
       "      <td>CLOSED</td>\n",
       "      <td>2009-01-05</td>\n",
       "      <td>10036</td>\n",
       "      <td></td>\n",
       "      <td>23</td>\n",
       "      <td>SCFLD</td>\n",
       "      <td>12/17/2008</td>\n",
       "    </tr>\n",
       "    <tr>\n",
       "      <th>234799</th>\n",
       "      <td>1245929</td>\n",
       "      <td>CLOSED</td>\n",
       "      <td>2009-01-07</td>\n",
       "      <td>10024</td>\n",
       "      <td></td>\n",
       "      <td>23</td>\n",
       "      <td>SCFLD</td>\n",
       "      <td>12/24/2008</td>\n",
       "    </tr>\n",
       "    <tr>\n",
       "      <th>234812</th>\n",
       "      <td>1245945</td>\n",
       "      <td>CLOSED</td>\n",
       "      <td>2009-01-07</td>\n",
       "      <td>10023</td>\n",
       "      <td></td>\n",
       "      <td>23</td>\n",
       "      <td>SCFLD</td>\n",
       "      <td>12/19/2008</td>\n",
       "    </tr>\n",
       "  </tbody>\n",
       "</table>\n",
       "</div>"
      ],
      "text/plain": [
       "        Complaint Number  Status Date Entered   ZIP Code Special District  \\\n",
       "234617           1245742  CLOSED   2009-01-05  10002                        \n",
       "234630           1245755  CLOSED   2009-01-05  10009                        \n",
       "234656           1245781  CLOSED   2009-01-05  10036                        \n",
       "234799           1245929  CLOSED   2009-01-07  10024                        \n",
       "234812           1245945  CLOSED   2009-01-07  10023                        \n",
       "\n",
       "       Complaint Category   Unit Inspection Date  \n",
       "234617                 23  SCFLD      12/20/2008  \n",
       "234630                 23  SCFLD      12/20/2008  \n",
       "234656                 23  SCFLD      12/17/2008  \n",
       "234799                 23  SCFLD      12/24/2008  \n",
       "234812                 23  SCFLD      12/19/2008  "
      ]
     },
     "execution_count": 10,
     "metadata": {},
     "output_type": "execute_result"
    }
   ],
   "source": [
    "db.loc[invalid_year_indeces,:].head()"
   ]
  },
  {
   "cell_type": "code",
   "execution_count": 11,
   "metadata": {},
   "outputs": [],
   "source": [
    "db.drop(index = invalid_year_indeces, inplace = True)"
   ]
  },
  {
   "cell_type": "code",
   "execution_count": 12,
   "metadata": {},
   "outputs": [],
   "source": [
    "db[\"Inspection Date\"] = db[\"Inspection Date\"].astype('datetime64[ns]')"
   ]
  },
  {
   "cell_type": "code",
   "execution_count": 13,
   "metadata": {},
   "outputs": [
    {
     "data": {
      "text/plain": [
       "Complaint Number               int64\n",
       "Status                        object\n",
       "Date Entered          datetime64[ns]\n",
       "ZIP Code                      object\n",
       "Special District              object\n",
       "Complaint Category            object\n",
       "Unit                          object\n",
       "Inspection Date       datetime64[ns]\n",
       "dtype: object"
      ]
     },
     "execution_count": 13,
     "metadata": {},
     "output_type": "execute_result"
    }
   ],
   "source": [
    "db.dtypes"
   ]
  },
  {
   "cell_type": "code",
   "execution_count": 14,
   "metadata": {},
   "outputs": [
    {
     "data": {
      "text/html": [
       "<div>\n",
       "<style scoped>\n",
       "    .dataframe tbody tr th:only-of-type {\n",
       "        vertical-align: middle;\n",
       "    }\n",
       "\n",
       "    .dataframe tbody tr th {\n",
       "        vertical-align: top;\n",
       "    }\n",
       "\n",
       "    .dataframe thead th {\n",
       "        text-align: right;\n",
       "    }\n",
       "</style>\n",
       "<table border=\"1\" class=\"dataframe\">\n",
       "  <thead>\n",
       "    <tr style=\"text-align: right;\">\n",
       "      <th></th>\n",
       "      <th>Complaint Number</th>\n",
       "      <th>Status</th>\n",
       "      <th>Date Entered</th>\n",
       "      <th>ZIP Code</th>\n",
       "      <th>Special District</th>\n",
       "      <th>Complaint Category</th>\n",
       "      <th>Unit</th>\n",
       "      <th>Inspection Date</th>\n",
       "    </tr>\n",
       "  </thead>\n",
       "  <tbody>\n",
       "    <tr>\n",
       "      <th>count</th>\n",
       "      <td>9.165500e+04</td>\n",
       "      <td>91655</td>\n",
       "      <td>91655</td>\n",
       "      <td>91655</td>\n",
       "      <td>91655</td>\n",
       "      <td>91655</td>\n",
       "      <td>91655</td>\n",
       "      <td>91655</td>\n",
       "    </tr>\n",
       "    <tr>\n",
       "      <th>unique</th>\n",
       "      <td>NaN</td>\n",
       "      <td>1</td>\n",
       "      <td>3914</td>\n",
       "      <td>209</td>\n",
       "      <td>2</td>\n",
       "      <td>119</td>\n",
       "      <td>31</td>\n",
       "      <td>3881</td>\n",
       "    </tr>\n",
       "    <tr>\n",
       "      <th>top</th>\n",
       "      <td>NaN</td>\n",
       "      <td>CLOSED</td>\n",
       "      <td>2016-10-18 00:00:00</td>\n",
       "      <td>11419</td>\n",
       "      <td></td>\n",
       "      <td>45</td>\n",
       "      <td>QNS.</td>\n",
       "      <td>2019-02-22 00:00:00</td>\n",
       "    </tr>\n",
       "    <tr>\n",
       "      <th>freq</th>\n",
       "      <td>NaN</td>\n",
       "      <td>91655</td>\n",
       "      <td>67</td>\n",
       "      <td>1592</td>\n",
       "      <td>91019</td>\n",
       "      <td>12924</td>\n",
       "      <td>17404</td>\n",
       "      <td>71</td>\n",
       "    </tr>\n",
       "    <tr>\n",
       "      <th>first</th>\n",
       "      <td>NaN</td>\n",
       "      <td>NaN</td>\n",
       "      <td>2009-01-02 00:00:00</td>\n",
       "      <td>NaN</td>\n",
       "      <td>NaN</td>\n",
       "      <td>NaN</td>\n",
       "      <td>NaN</td>\n",
       "      <td>2009-01-02 00:00:00</td>\n",
       "    </tr>\n",
       "    <tr>\n",
       "      <th>last</th>\n",
       "      <td>NaN</td>\n",
       "      <td>NaN</td>\n",
       "      <td>2019-09-21 00:00:00</td>\n",
       "      <td>NaN</td>\n",
       "      <td>NaN</td>\n",
       "      <td>NaN</td>\n",
       "      <td>NaN</td>\n",
       "      <td>2019-09-22 00:00:00</td>\n",
       "    </tr>\n",
       "    <tr>\n",
       "      <th>mean</th>\n",
       "      <td>3.268666e+06</td>\n",
       "      <td>NaN</td>\n",
       "      <td>NaN</td>\n",
       "      <td>NaN</td>\n",
       "      <td>NaN</td>\n",
       "      <td>NaN</td>\n",
       "      <td>NaN</td>\n",
       "      <td>NaN</td>\n",
       "    </tr>\n",
       "    <tr>\n",
       "      <th>std</th>\n",
       "      <td>1.255743e+06</td>\n",
       "      <td>NaN</td>\n",
       "      <td>NaN</td>\n",
       "      <td>NaN</td>\n",
       "      <td>NaN</td>\n",
       "      <td>NaN</td>\n",
       "      <td>NaN</td>\n",
       "      <td>NaN</td>\n",
       "    </tr>\n",
       "    <tr>\n",
       "      <th>min</th>\n",
       "      <td>1.245555e+06</td>\n",
       "      <td>NaN</td>\n",
       "      <td>NaN</td>\n",
       "      <td>NaN</td>\n",
       "      <td>NaN</td>\n",
       "      <td>NaN</td>\n",
       "      <td>NaN</td>\n",
       "      <td>NaN</td>\n",
       "    </tr>\n",
       "    <tr>\n",
       "      <th>25%</th>\n",
       "      <td>2.168755e+06</td>\n",
       "      <td>NaN</td>\n",
       "      <td>NaN</td>\n",
       "      <td>NaN</td>\n",
       "      <td>NaN</td>\n",
       "      <td>NaN</td>\n",
       "      <td>NaN</td>\n",
       "      <td>NaN</td>\n",
       "    </tr>\n",
       "    <tr>\n",
       "      <th>50%</th>\n",
       "      <td>3.498041e+06</td>\n",
       "      <td>NaN</td>\n",
       "      <td>NaN</td>\n",
       "      <td>NaN</td>\n",
       "      <td>NaN</td>\n",
       "      <td>NaN</td>\n",
       "      <td>NaN</td>\n",
       "      <td>NaN</td>\n",
       "    </tr>\n",
       "    <tr>\n",
       "      <th>75%</th>\n",
       "      <td>4.493822e+06</td>\n",
       "      <td>NaN</td>\n",
       "      <td>NaN</td>\n",
       "      <td>NaN</td>\n",
       "      <td>NaN</td>\n",
       "      <td>NaN</td>\n",
       "      <td>NaN</td>\n",
       "      <td>NaN</td>\n",
       "    </tr>\n",
       "    <tr>\n",
       "      <th>max</th>\n",
       "      <td>5.124824e+06</td>\n",
       "      <td>NaN</td>\n",
       "      <td>NaN</td>\n",
       "      <td>NaN</td>\n",
       "      <td>NaN</td>\n",
       "      <td>NaN</td>\n",
       "      <td>NaN</td>\n",
       "      <td>NaN</td>\n",
       "    </tr>\n",
       "  </tbody>\n",
       "</table>\n",
       "</div>"
      ],
      "text/plain": [
       "        Complaint Number  Status         Date Entered   ZIP Code  \\\n",
       "count       9.165500e+04   91655                91655      91655   \n",
       "unique               NaN       1                 3914        209   \n",
       "top                  NaN  CLOSED  2016-10-18 00:00:00  11419       \n",
       "freq                 NaN   91655                   67       1592   \n",
       "first                NaN     NaN  2009-01-02 00:00:00        NaN   \n",
       "last                 NaN     NaN  2019-09-21 00:00:00        NaN   \n",
       "mean        3.268666e+06     NaN                  NaN        NaN   \n",
       "std         1.255743e+06     NaN                  NaN        NaN   \n",
       "min         1.245555e+06     NaN                  NaN        NaN   \n",
       "25%         2.168755e+06     NaN                  NaN        NaN   \n",
       "50%         3.498041e+06     NaN                  NaN        NaN   \n",
       "75%         4.493822e+06     NaN                  NaN        NaN   \n",
       "max         5.124824e+06     NaN                  NaN        NaN   \n",
       "\n",
       "       Special District Complaint Category   Unit      Inspection Date  \n",
       "count             91655              91655  91655                91655  \n",
       "unique                2                119     31                 3881  \n",
       "top                                     45   QNS.  2019-02-22 00:00:00  \n",
       "freq              91019              12924  17404                   71  \n",
       "first               NaN                NaN    NaN  2009-01-02 00:00:00  \n",
       "last                NaN                NaN    NaN  2019-09-22 00:00:00  \n",
       "mean                NaN                NaN    NaN                  NaN  \n",
       "std                 NaN                NaN    NaN                  NaN  \n",
       "min                 NaN                NaN    NaN                  NaN  \n",
       "25%                 NaN                NaN    NaN                  NaN  \n",
       "50%                 NaN                NaN    NaN                  NaN  \n",
       "75%                 NaN                NaN    NaN                  NaN  \n",
       "max                 NaN                NaN    NaN                  NaN  "
      ]
     },
     "execution_count": 14,
     "metadata": {},
     "output_type": "execute_result"
    }
   ],
   "source": [
    "db.describe(include = \"all\")"
   ]
  },
  {
   "cell_type": "code",
   "execution_count": 15,
   "metadata": {},
   "outputs": [
    {
     "data": {
      "text/plain": [
       "(91655, 8)"
      ]
     },
     "execution_count": 15,
     "metadata": {},
     "output_type": "execute_result"
    }
   ],
   "source": [
    "db.shape"
   ]
  },
  {
   "cell_type": "markdown",
   "metadata": {},
   "source": [
    "We now have over 90,000 cleaned observations."
   ]
  },
  {
   "cell_type": "markdown",
   "metadata": {},
   "source": [
    "FIX IZIP CODE\n",
    "db[\"zip_code\"].map(lambda x:x.rstrip()).iloc[0]"
   ]
  },
  {
   "cell_type": "markdown",
   "metadata": {},
   "source": [
    "# Feature Engineering"
   ]
  },
  {
   "cell_type": "markdown",
   "metadata": {},
   "source": [
    "### Creating target variable\n",
    "Our target is the number of days until a complaint's inspection date: \n",
    "\n",
    "$$\\text{Inspection Date} - \\text{Data Entered} = \\text{Days until Inspection}$$"
   ]
  },
  {
   "cell_type": "code",
   "execution_count": 16,
   "metadata": {},
   "outputs": [],
   "source": [
    "db[\"days_until_inspection\"] = db[\"Inspection Date\"] - db[\"Date Entered\"]"
   ]
  },
  {
   "cell_type": "code",
   "execution_count": 17,
   "metadata": {},
   "outputs": [
    {
     "data": {
      "text/html": [
       "<div>\n",
       "<style scoped>\n",
       "    .dataframe tbody tr th:only-of-type {\n",
       "        vertical-align: middle;\n",
       "    }\n",
       "\n",
       "    .dataframe tbody tr th {\n",
       "        vertical-align: top;\n",
       "    }\n",
       "\n",
       "    .dataframe thead th {\n",
       "        text-align: right;\n",
       "    }\n",
       "</style>\n",
       "<table border=\"1\" class=\"dataframe\">\n",
       "  <thead>\n",
       "    <tr style=\"text-align: right;\">\n",
       "      <th></th>\n",
       "      <th>Complaint Number</th>\n",
       "      <th>days_until_inspection</th>\n",
       "    </tr>\n",
       "  </thead>\n",
       "  <tbody>\n",
       "    <tr>\n",
       "      <th>count</th>\n",
       "      <td>9.165500e+04</td>\n",
       "      <td>91655</td>\n",
       "    </tr>\n",
       "    <tr>\n",
       "      <th>mean</th>\n",
       "      <td>3.268666e+06</td>\n",
       "      <td>69 days 04:53:24.276907</td>\n",
       "    </tr>\n",
       "    <tr>\n",
       "      <th>std</th>\n",
       "      <td>1.255743e+06</td>\n",
       "      <td>195 days 16:18:54.739841</td>\n",
       "    </tr>\n",
       "    <tr>\n",
       "      <th>min</th>\n",
       "      <td>1.245555e+06</td>\n",
       "      <td>-1449 days +00:00:00</td>\n",
       "    </tr>\n",
       "    <tr>\n",
       "      <th>25%</th>\n",
       "      <td>2.168755e+06</td>\n",
       "      <td>1 days 00:00:00</td>\n",
       "    </tr>\n",
       "    <tr>\n",
       "      <th>50%</th>\n",
       "      <td>3.498041e+06</td>\n",
       "      <td>12 days 00:00:00</td>\n",
       "    </tr>\n",
       "    <tr>\n",
       "      <th>75%</th>\n",
       "      <td>4.493822e+06</td>\n",
       "      <td>63 days 00:00:00</td>\n",
       "    </tr>\n",
       "    <tr>\n",
       "      <th>max</th>\n",
       "      <td>5.124824e+06</td>\n",
       "      <td>3767 days 00:00:00</td>\n",
       "    </tr>\n",
       "  </tbody>\n",
       "</table>\n",
       "</div>"
      ],
      "text/plain": [
       "       Complaint Number     days_until_inspection\n",
       "count      9.165500e+04                     91655\n",
       "mean       3.268666e+06   69 days 04:53:24.276907\n",
       "std        1.255743e+06  195 days 16:18:54.739841\n",
       "min        1.245555e+06      -1449 days +00:00:00\n",
       "25%        2.168755e+06           1 days 00:00:00\n",
       "50%        3.498041e+06          12 days 00:00:00\n",
       "75%        4.493822e+06          63 days 00:00:00\n",
       "max        5.124824e+06        3767 days 00:00:00"
      ]
     },
     "execution_count": 17,
     "metadata": {},
     "output_type": "execute_result"
    }
   ],
   "source": [
    "db.describe()"
   ]
  },
  {
   "cell_type": "markdown",
   "metadata": {},
   "source": [
    "Some complaints took a negative number of days, which is impossible, so these observations will be removed."
   ]
  },
  {
   "cell_type": "code",
   "execution_count": 18,
   "metadata": {},
   "outputs": [],
   "source": [
    "# extracting raw number of days\n",
    "db[\"days_until_inspection\"] = db[\"days_until_inspection\"].map(lambda x:x.days)"
   ]
  },
  {
   "cell_type": "code",
   "execution_count": 19,
   "metadata": {},
   "outputs": [
    {
     "data": {
      "text/plain": [
       "(17008, 9)"
      ]
     },
     "execution_count": 19,
     "metadata": {},
     "output_type": "execute_result"
    }
   ],
   "source": [
    "db[db[\"days_until_inspection\"] <= 0].shape"
   ]
  },
  {
   "cell_type": "markdown",
   "metadata": {},
   "source": [
    "We'll be dropping about 17,000 observations."
   ]
  },
  {
   "cell_type": "code",
   "execution_count": 20,
   "metadata": {},
   "outputs": [],
   "source": [
    "db = db[db[\"days_until_inspection\"] > 0]"
   ]
  },
  {
   "cell_type": "markdown",
   "metadata": {},
   "source": [
    "### Fixing Special District\n",
    "\n",
    "The \"Special District\" column has an emptry string category, which we'll change to \"NOT SPECIAL\"."
   ]
  },
  {
   "cell_type": "code",
   "execution_count": 21,
   "metadata": {},
   "outputs": [
    {
     "data": {
      "text/plain": [
       "array(['   ', 'IBZ'], dtype=object)"
      ]
     },
     "execution_count": 21,
     "metadata": {},
     "output_type": "execute_result"
    }
   ],
   "source": [
    "db[\"Special District\"].unique()"
   ]
  },
  {
   "cell_type": "code",
   "execution_count": 22,
   "metadata": {},
   "outputs": [],
   "source": [
    "db[\"Special District\"] = db[\"Special District\"].map(lambda x: x if x != '   ' else \"NOT SPECIAL\")"
   ]
  },
  {
   "cell_type": "code",
   "execution_count": 23,
   "metadata": {},
   "outputs": [
    {
     "data": {
      "text/plain": [
       "array(['NOT SPECIAL', 'IBZ'], dtype=object)"
      ]
     },
     "execution_count": 23,
     "metadata": {},
     "output_type": "execute_result"
    }
   ],
   "source": [
    "db[\"Special District\"].unique()"
   ]
  },
  {
   "cell_type": "markdown",
   "metadata": {},
   "source": [
    "## Renaming columns"
   ]
  },
  {
   "cell_type": "code",
   "execution_count": 24,
   "metadata": {},
   "outputs": [],
   "source": [
    "# removing spaces & forcing all to lowercase\n",
    "db.columns = [col.lower().replace(\" \", \"_\") for col in db.columns]"
   ]
  },
  {
   "cell_type": "markdown",
   "metadata": {},
   "source": [
    "## Handling Nulls"
   ]
  },
  {
   "cell_type": "markdown",
   "metadata": {},
   "source": [
    "We're not finding nulls in our dataset, however, as part of our meta cleaning process, we will drop any null observations.\n",
    "\n",
    "We must account for this in our process as we're assuming these values are missing completely at random, or MCAR."
   ]
  },
  {
   "cell_type": "code",
   "execution_count": 25,
   "metadata": {},
   "outputs": [
    {
     "data": {
      "text/plain": [
       "complaint_number         0\n",
       "status                   0\n",
       "date_entered             0\n",
       "zip_code                 0\n",
       "special_district         0\n",
       "complaint_category       0\n",
       "unit                     0\n",
       "inspection_date          0\n",
       "days_until_inspection    0\n",
       "dtype: int64"
      ]
     },
     "execution_count": 25,
     "metadata": {},
     "output_type": "execute_result"
    }
   ],
   "source": [
    "db.isnull().sum()"
   ]
  },
  {
   "cell_type": "code",
   "execution_count": 26,
   "metadata": {},
   "outputs": [],
   "source": [
    "db = db.dropna()"
   ]
  },
  {
   "cell_type": "code",
   "execution_count": 27,
   "metadata": {},
   "outputs": [
    {
     "data": {
      "text/plain": [
       "(74647, 9)"
      ]
     },
     "execution_count": 27,
     "metadata": {},
     "output_type": "execute_result"
    }
   ],
   "source": [
    "db.shape"
   ]
  },
  {
   "cell_type": "code",
   "execution_count": 28,
   "metadata": {},
   "outputs": [
    {
     "data": {
      "text/html": [
       "<div>\n",
       "<style scoped>\n",
       "    .dataframe tbody tr th:only-of-type {\n",
       "        vertical-align: middle;\n",
       "    }\n",
       "\n",
       "    .dataframe tbody tr th {\n",
       "        vertical-align: top;\n",
       "    }\n",
       "\n",
       "    .dataframe thead th {\n",
       "        text-align: right;\n",
       "    }\n",
       "</style>\n",
       "<table border=\"1\" class=\"dataframe\">\n",
       "  <thead>\n",
       "    <tr style=\"text-align: right;\">\n",
       "      <th></th>\n",
       "      <th>complaint_number</th>\n",
       "      <th>status</th>\n",
       "      <th>date_entered</th>\n",
       "      <th>zip_code</th>\n",
       "      <th>special_district</th>\n",
       "      <th>complaint_category</th>\n",
       "      <th>unit</th>\n",
       "      <th>inspection_date</th>\n",
       "      <th>days_until_inspection</th>\n",
       "    </tr>\n",
       "  </thead>\n",
       "  <tbody>\n",
       "    <tr>\n",
       "      <th>234435</th>\n",
       "      <td>1245555</td>\n",
       "      <td>CLOSED</td>\n",
       "      <td>2009-01-02</td>\n",
       "      <td>10025</td>\n",
       "      <td>NOT SPECIAL</td>\n",
       "      <td>58</td>\n",
       "      <td>BOILR</td>\n",
       "      <td>2009-06-02</td>\n",
       "      <td>151</td>\n",
       "    </tr>\n",
       "    <tr>\n",
       "      <th>234487</th>\n",
       "      <td>1245608</td>\n",
       "      <td>CLOSED</td>\n",
       "      <td>2009-01-02</td>\n",
       "      <td>10013</td>\n",
       "      <td>NOT SPECIAL</td>\n",
       "      <td>23</td>\n",
       "      <td>SCFLD</td>\n",
       "      <td>2009-10-09</td>\n",
       "      <td>280</td>\n",
       "    </tr>\n",
       "    <tr>\n",
       "      <th>234500</th>\n",
       "      <td>1245621</td>\n",
       "      <td>CLOSED</td>\n",
       "      <td>2009-01-02</td>\n",
       "      <td>10001</td>\n",
       "      <td>NOT SPECIAL</td>\n",
       "      <td>63</td>\n",
       "      <td>ELEVR</td>\n",
       "      <td>2009-01-22</td>\n",
       "      <td>20</td>\n",
       "    </tr>\n",
       "    <tr>\n",
       "      <th>234513</th>\n",
       "      <td>1245634</td>\n",
       "      <td>CLOSED</td>\n",
       "      <td>2009-01-03</td>\n",
       "      <td>10013</td>\n",
       "      <td>NOT SPECIAL</td>\n",
       "      <td>56</td>\n",
       "      <td>BOILR</td>\n",
       "      <td>2009-01-07</td>\n",
       "      <td>4</td>\n",
       "    </tr>\n",
       "    <tr>\n",
       "      <th>234526</th>\n",
       "      <td>1245648</td>\n",
       "      <td>CLOSED</td>\n",
       "      <td>2009-01-03</td>\n",
       "      <td>10016</td>\n",
       "      <td>NOT SPECIAL</td>\n",
       "      <td>59</td>\n",
       "      <td>ELCTR</td>\n",
       "      <td>2009-01-08</td>\n",
       "      <td>5</td>\n",
       "    </tr>\n",
       "  </tbody>\n",
       "</table>\n",
       "</div>"
      ],
      "text/plain": [
       "        complaint_number  status date_entered   zip_code special_district  \\\n",
       "234435           1245555  CLOSED   2009-01-02  10025          NOT SPECIAL   \n",
       "234487           1245608  CLOSED   2009-01-02  10013          NOT SPECIAL   \n",
       "234500           1245621  CLOSED   2009-01-02  10001          NOT SPECIAL   \n",
       "234513           1245634  CLOSED   2009-01-03  10013          NOT SPECIAL   \n",
       "234526           1245648  CLOSED   2009-01-03  10016          NOT SPECIAL   \n",
       "\n",
       "       complaint_category   unit inspection_date  days_until_inspection  \n",
       "234435                 58  BOILR      2009-06-02                    151  \n",
       "234487                 23  SCFLD      2009-10-09                    280  \n",
       "234500                 63  ELEVR      2009-01-22                     20  \n",
       "234513                 56  BOILR      2009-01-07                      4  \n",
       "234526                 59  ELCTR      2009-01-08                      5  "
      ]
     },
     "execution_count": 28,
     "metadata": {},
     "output_type": "execute_result"
    }
   ],
   "source": [
    "db.head()"
   ]
  },
  {
   "cell_type": "markdown",
   "metadata": {},
   "source": [
    "# Save cleaned data"
   ]
  },
  {
   "cell_type": "code",
   "execution_count": 29,
   "metadata": {},
   "outputs": [],
   "source": [
    "# saving db\n",
    "db.to_csv(\"./data/cleaned.csv\")"
   ]
  }
 ],
 "metadata": {
  "kernelspec": {
   "display_name": "Python 3",
   "language": "python",
   "name": "python3"
  },
  "language_info": {
   "codemirror_mode": {
    "name": "ipython",
    "version": 3
   },
   "file_extension": ".py",
   "mimetype": "text/x-python",
   "name": "python",
   "nbconvert_exporter": "python",
   "pygments_lexer": "ipython3",
   "version": "3.7.3"
  },
  "varInspector": {
   "cols": {
    "lenName": 16,
    "lenType": 16,
    "lenVar": 40
   },
   "kernels_config": {
    "python": {
     "delete_cmd_postfix": "",
     "delete_cmd_prefix": "del ",
     "library": "var_list.py",
     "varRefreshCmd": "print(var_dic_list())"
    },
    "r": {
     "delete_cmd_postfix": ") ",
     "delete_cmd_prefix": "rm(",
     "library": "var_list.r",
     "varRefreshCmd": "cat(var_dic_list()) "
    }
   },
   "types_to_exclude": [
    "module",
    "function",
    "builtin_function_or_method",
    "instance",
    "_Feature"
   ],
   "window_display": true
  }
 },
 "nbformat": 4,
 "nbformat_minor": 2
}
