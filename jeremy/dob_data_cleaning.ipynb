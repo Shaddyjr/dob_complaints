{
 "cells": [
  {
   "cell_type": "markdown",
   "metadata": {},
   "source": [
    "# Cleaning Department of Buildings Complaints dataset\n",
    "\n",
    "#### By: Mahdi Shadkam-Farrokhi & Jeremy Ondov"
   ]
  },
  {
   "cell_type": "markdown",
   "metadata": {},
   "source": [
    "### Resources\n",
    "- [Data Source](https://data.cityofnewyork.us/Housing-Development/DOB-Complaints-Received/eabe-havv)\n",
    "- [Complaint Codes](https://www1.nyc.gov/assets/buildings/pdf/complaint_category.pdf)\n",
    "- [Disposition Codes](https://www1.nyc.gov/assets/buildings/pdf/bis_complaint_disposition_codes.pdf)\n",
    "- [Data Explains](https://docs.google.com/spreadsheets/d/10p0HLqinKbUrSjKaZC2E0ZTHDXgULT0K/edit#gid=1015257717)"
   ]
  },
  {
   "cell_type": "markdown",
   "metadata": {},
   "source": [
    "## Loading libraries and data"
   ]
  },
  {
   "cell_type": "code",
   "execution_count": 1,
   "metadata": {},
   "outputs": [],
   "source": [
    "import pandas as pd\n",
    "import googlemaps\n",
    "import time\n",
    "import math"
   ]
  },
  {
   "cell_type": "markdown",
   "metadata": {},
   "source": [
    "Given the massive size of the dataset, we'll only pull a sample from the relevant observations.\n",
    "\n",
    "After some outside research, we discovered the DOB website went live in 2009, which drastically altered the shape of the data after that point. Therefore, we will only select observations from 2009 onward, as these are much more applicable to current events."
   ]
  },
  {
   "cell_type": "code",
   "execution_count": 67,
   "metadata": {},
   "outputs": [],
   "source": [
    "target_size = 100_000 # desired sample size"
   ]
  },
  {
   "cell_type": "code",
   "execution_count": 68,
   "metadata": {},
   "outputs": [
    {
     "name": "stdout",
     "output_type": "stream",
     "text": [
      "Working up to row # 100000 | Current sample length = 0\n",
      "Working up to row # 200000 | Current sample length = 0\n",
      "Working up to row # 300000 | Current sample length = 5044\n",
      "Working up to row # 400000 | Current sample length = 12737\n",
      "Working up to row # 500000 | Current sample length = 20430\n",
      "Working up to row # 600000 | Current sample length = 21628\n",
      "Working up to row # 700000 | Current sample length = 26477\n",
      "Working up to row # 800000 | Current sample length = 34170\n",
      "Working up to row # 900000 | Current sample length = 34709\n",
      "Working up to row # 1000000 | Current sample length = 34709\n",
      "Working up to row # 1100000 | Current sample length = 36542\n",
      "Working up to row # 1200000 | Current sample length = 44235\n",
      "Working up to row # 1300000 | Current sample length = 51928\n",
      "Working up to row # 1400000 | Current sample length = 59621\n",
      "Working up to row # 1500000 | Current sample length = 67314\n",
      "Working up to row # 1600000 | Current sample length = 68238\n",
      "Working up to row # 1700000 | Current sample length = 68238\n",
      "Working up to row # 1800000 | Current sample length = 68238\n",
      "Working up to row # 1900000 | Current sample length = 69980\n",
      "Working up to row # 2000000 | Current sample length = 77673\n",
      "Working up to row # 2100000 | Current sample length = 85366\n",
      "Working up to row # 2200000 | Current sample length = 93059\n",
      "Working up to row # 2300000 | Current sample length = 99467\n",
      "Working up to row # 2400000 | Current sample length = 102989\n"
     ]
    }
   ],
   "source": [
    "data_file = \"./datasets/DOB_Complaints_Received.csv\"\n",
    "chunk_size = 100_000 # number of lines used for each iterated read through file\n",
    "skip = math.ceil(1_300_000 / target_size) # the sample rate. Every \"skip\"th observation is selected\n",
    "\n",
    "dtypes = {\n",
    "    'Complaint Number':\"int64\",\n",
    "    'ZIP Code':\"object\",\n",
    "    'Special District':\"object\",\n",
    "    'Complaint Category':\"object\",\n",
    "    'Unit':\"object\",\n",
    "    'Date Entered':\"object\",\n",
    "    'Status':\"object\",\n",
    "    'House Street':\"object\",\n",
    "    'House Number':\"object\"\n",
    "}\n",
    "\n",
    "keepers = [\n",
    "    'Complaint Number',\n",
    "    'ZIP Code',\n",
    "    'Special District',\n",
    "    'Complaint Category',\n",
    "    'Unit',\n",
    "    'Date Entered',\n",
    "    'Inspection Date',\n",
    "    'Status',\n",
    "    'House Street',\n",
    "    'House Number'\n",
    "]\n",
    "\n",
    "iteration_obj = pd.read_csv(\n",
    "                    data_file, \n",
    "                    usecols = keepers, \n",
    "                    parse_dates=['Date Entered'], \n",
    "                    iterator = True,\n",
    "                    chunksize = chunk_size,\n",
    "                    dtype = dtypes\n",
    "                );\n",
    "\n",
    "db = None\n",
    "current_n = 0\n",
    "while db is None or (db.shape[0] < target_size and iteration_obj._currow <= 2_300_000):\n",
    "    raw_dataframe = iteration_obj.get_chunk()\n",
    "    # removing anything before 2009\n",
    "    filtered_dataframe = raw_dataframe[\"2009\" < raw_dataframe[\"Date Entered\"]]\n",
    "    if db is None:\n",
    "        db = filtered_dataframe\n",
    "    # adding to sample\n",
    "    db = pd.concat([db, filtered_dataframe.iloc[::skip,:]], axis = 0)\n",
    "    current_n += chunk_size\n",
    "    print(\"Working up to row # {} | Current sample length = {}\".format(current_n,db.shape[0]))\n",
    "\n",
    "iteration_obj.close() # not sure if needed, but good practice to close connections"
   ]
  },
  {
   "cell_type": "code",
   "execution_count": 69,
   "metadata": {},
   "outputs": [
    {
     "data": {
      "text/plain": [
       "(102989, 10)"
      ]
     },
     "execution_count": 69,
     "metadata": {},
     "output_type": "execute_result"
    }
   ],
   "source": [
    "db.shape"
   ]
  },
  {
   "cell_type": "code",
   "execution_count": 70,
   "metadata": {},
   "outputs": [
    {
     "data": {
      "text/html": [
       "<div>\n",
       "<style scoped>\n",
       "    .dataframe tbody tr th:only-of-type {\n",
       "        vertical-align: middle;\n",
       "    }\n",
       "\n",
       "    .dataframe tbody tr th {\n",
       "        vertical-align: top;\n",
       "    }\n",
       "\n",
       "    .dataframe thead th {\n",
       "        text-align: right;\n",
       "    }\n",
       "</style>\n",
       "<table border=\"1\" class=\"dataframe\">\n",
       "  <thead>\n",
       "    <tr style=\"text-align: right;\">\n",
       "      <th></th>\n",
       "      <th>Complaint Number</th>\n",
       "      <th>Status</th>\n",
       "      <th>Date Entered</th>\n",
       "      <th>House Number</th>\n",
       "      <th>ZIP Code</th>\n",
       "      <th>House Street</th>\n",
       "      <th>Special District</th>\n",
       "      <th>Complaint Category</th>\n",
       "      <th>Unit</th>\n",
       "      <th>Inspection Date</th>\n",
       "    </tr>\n",
       "  </thead>\n",
       "  <tbody>\n",
       "    <tr>\n",
       "      <th>234435</th>\n",
       "      <td>1245555</td>\n",
       "      <td>CLOSED</td>\n",
       "      <td>2009-01-02</td>\n",
       "      <td>930</td>\n",
       "      <td>10025</td>\n",
       "      <td>WEST END AVENUE</td>\n",
       "      <td></td>\n",
       "      <td>58</td>\n",
       "      <td>BOILR</td>\n",
       "      <td>06/02/2009</td>\n",
       "    </tr>\n",
       "    <tr>\n",
       "      <th>234448</th>\n",
       "      <td>1245568</td>\n",
       "      <td>CLOSED</td>\n",
       "      <td>2009-01-02</td>\n",
       "      <td>639</td>\n",
       "      <td>10036</td>\n",
       "      <td>WEST   46 STREET</td>\n",
       "      <td></td>\n",
       "      <td>04</td>\n",
       "      <td>ERT</td>\n",
       "      <td>01/02/2009</td>\n",
       "    </tr>\n",
       "    <tr>\n",
       "      <th>234461</th>\n",
       "      <td>1245582</td>\n",
       "      <td>CLOSED</td>\n",
       "      <td>2009-01-02</td>\n",
       "      <td>34</td>\n",
       "      <td>10001</td>\n",
       "      <td>WEST   32 STREET</td>\n",
       "      <td></td>\n",
       "      <td>23</td>\n",
       "      <td>SCFLD</td>\n",
       "      <td>01/02/2009</td>\n",
       "    </tr>\n",
       "    <tr>\n",
       "      <th>234474</th>\n",
       "      <td>1245595</td>\n",
       "      <td>CLOSED</td>\n",
       "      <td>2009-01-02</td>\n",
       "      <td>515</td>\n",
       "      <td>10031</td>\n",
       "      <td>WEST  139 STREET</td>\n",
       "      <td></td>\n",
       "      <td>54</td>\n",
       "      <td>MAN.</td>\n",
       "      <td>01/02/2009</td>\n",
       "    </tr>\n",
       "    <tr>\n",
       "      <th>234487</th>\n",
       "      <td>1245608</td>\n",
       "      <td>CLOSED</td>\n",
       "      <td>2009-01-02</td>\n",
       "      <td>428</td>\n",
       "      <td>10013</td>\n",
       "      <td>BROADWAY</td>\n",
       "      <td></td>\n",
       "      <td>23</td>\n",
       "      <td>SCFLD</td>\n",
       "      <td>10/09/2009</td>\n",
       "    </tr>\n",
       "  </tbody>\n",
       "</table>\n",
       "</div>"
      ],
      "text/plain": [
       "        Complaint Number  Status Date Entered  House Number   ZIP Code  \\\n",
       "234435           1245555  CLOSED   2009-01-02  930           10025       \n",
       "234448           1245568  CLOSED   2009-01-02  639           10036       \n",
       "234461           1245582  CLOSED   2009-01-02  34            10001       \n",
       "234474           1245595  CLOSED   2009-01-02  515           10031       \n",
       "234487           1245608  CLOSED   2009-01-02  428           10013       \n",
       "\n",
       "                            House Street Special District Complaint Category  \\\n",
       "234435  WEST END AVENUE                                                   58   \n",
       "234448  WEST   46 STREET                                                  04   \n",
       "234461  WEST   32 STREET                                                  23   \n",
       "234474  WEST  139 STREET                                                  54   \n",
       "234487  BROADWAY                                                          23   \n",
       "\n",
       "         Unit Inspection Date  \n",
       "234435  BOILR      06/02/2009  \n",
       "234448  ERT        01/02/2009  \n",
       "234461  SCFLD      01/02/2009  \n",
       "234474   MAN.      01/02/2009  \n",
       "234487  SCFLD      10/09/2009  "
      ]
     },
     "execution_count": 70,
     "metadata": {},
     "output_type": "execute_result"
    }
   ],
   "source": [
    "db.head()"
   ]
  },
  {
   "cell_type": "markdown",
   "metadata": {},
   "source": [
    "We'll be working with roughly 100,000 observations.\n",
    "\n",
    "We are also bringing in a dataset of median household income for each zip code in New York. This data was sourced from the American Community Survey, using their 5-year estimates from 2017, and adjusted to 2017 inflation levels."
   ]
  },
  {
   "cell_type": "code",
   "execution_count": 71,
   "metadata": {},
   "outputs": [
    {
     "data": {
      "text/html": [
       "<div>\n",
       "<style scoped>\n",
       "    .dataframe tbody tr th:only-of-type {\n",
       "        vertical-align: middle;\n",
       "    }\n",
       "\n",
       "    .dataframe tbody tr th {\n",
       "        vertical-align: top;\n",
       "    }\n",
       "\n",
       "    .dataframe thead th {\n",
       "        text-align: right;\n",
       "    }\n",
       "</style>\n",
       "<table border=\"1\" class=\"dataframe\">\n",
       "  <thead>\n",
       "    <tr style=\"text-align: right;\">\n",
       "      <th></th>\n",
       "      <th>Id</th>\n",
       "      <th>Id2</th>\n",
       "      <th>Geography</th>\n",
       "      <th>Households; Estimate; Median income (dollars)</th>\n",
       "      <th>Households; Margin of Error; Median income (dollars)</th>\n",
       "      <th>Families; Estimate; Median income (dollars)</th>\n",
       "      <th>Families; Margin of Error; Median income (dollars)</th>\n",
       "      <th>Married-couple families; Estimate; Median income (dollars)</th>\n",
       "      <th>Married-couple families; Margin of Error; Median income (dollars)</th>\n",
       "      <th>Nonfamily households; Estimate; Median income (dollars)</th>\n",
       "      <th>Nonfamily households; Margin of Error; Median income (dollars)</th>\n",
       "    </tr>\n",
       "  </thead>\n",
       "  <tbody>\n",
       "    <tr>\n",
       "      <th>0</th>\n",
       "      <td>8600000US06390</td>\n",
       "      <td>6390</td>\n",
       "      <td>ZCTA5 06390</td>\n",
       "      <td>150703</td>\n",
       "      <td>86256</td>\n",
       "      <td>151172</td>\n",
       "      <td>67633</td>\n",
       "      <td>131875</td>\n",
       "      <td>104286</td>\n",
       "      <td>-</td>\n",
       "      <td>**</td>\n",
       "    </tr>\n",
       "    <tr>\n",
       "      <th>1</th>\n",
       "      <td>8600000US07421</td>\n",
       "      <td>7421</td>\n",
       "      <td>ZCTA5 07421</td>\n",
       "      <td>90412</td>\n",
       "      <td>4718</td>\n",
       "      <td>99948</td>\n",
       "      <td>7733</td>\n",
       "      <td>112639</td>\n",
       "      <td>19572</td>\n",
       "      <td>69906</td>\n",
       "      <td>16080</td>\n",
       "    </tr>\n",
       "    <tr>\n",
       "      <th>2</th>\n",
       "      <td>8600000US10001</td>\n",
       "      <td>10001</td>\n",
       "      <td>ZCTA5 10001</td>\n",
       "      <td>85221</td>\n",
       "      <td>9970</td>\n",
       "      <td>103304</td>\n",
       "      <td>29429</td>\n",
       "      <td>149007</td>\n",
       "      <td>18758</td>\n",
       "      <td>75794</td>\n",
       "      <td>8870</td>\n",
       "    </tr>\n",
       "    <tr>\n",
       "      <th>3</th>\n",
       "      <td>8600000US10002</td>\n",
       "      <td>10002</td>\n",
       "      <td>ZCTA5 10002</td>\n",
       "      <td>35449</td>\n",
       "      <td>2696</td>\n",
       "      <td>39145</td>\n",
       "      <td>3234</td>\n",
       "      <td>42485</td>\n",
       "      <td>6118</td>\n",
       "      <td>28319</td>\n",
       "      <td>3989</td>\n",
       "    </tr>\n",
       "    <tr>\n",
       "      <th>4</th>\n",
       "      <td>8600000US10003</td>\n",
       "      <td>10003</td>\n",
       "      <td>ZCTA5 10003</td>\n",
       "      <td>104441</td>\n",
       "      <td>6666</td>\n",
       "      <td>183657</td>\n",
       "      <td>17463</td>\n",
       "      <td>198650</td>\n",
       "      <td>9364</td>\n",
       "      <td>86768</td>\n",
       "      <td>7078</td>\n",
       "    </tr>\n",
       "  </tbody>\n",
       "</table>\n",
       "</div>"
      ],
      "text/plain": [
       "               Id    Id2    Geography  \\\n",
       "0  8600000US06390   6390  ZCTA5 06390   \n",
       "1  8600000US07421   7421  ZCTA5 07421   \n",
       "2  8600000US10001  10001  ZCTA5 10001   \n",
       "3  8600000US10002  10002  ZCTA5 10002   \n",
       "4  8600000US10003  10003  ZCTA5 10003   \n",
       "\n",
       "  Households; Estimate; Median income (dollars)  \\\n",
       "0                                        150703   \n",
       "1                                         90412   \n",
       "2                                         85221   \n",
       "3                                         35449   \n",
       "4                                        104441   \n",
       "\n",
       "  Households; Margin of Error; Median income (dollars)  \\\n",
       "0                                              86256     \n",
       "1                                               4718     \n",
       "2                                               9970     \n",
       "3                                               2696     \n",
       "4                                               6666     \n",
       "\n",
       "  Families; Estimate; Median income (dollars)  \\\n",
       "0                                      151172   \n",
       "1                                       99948   \n",
       "2                                      103304   \n",
       "3                                       39145   \n",
       "4                                      183657   \n",
       "\n",
       "  Families; Margin of Error; Median income (dollars)  \\\n",
       "0                                              67633   \n",
       "1                                               7733   \n",
       "2                                              29429   \n",
       "3                                               3234   \n",
       "4                                              17463   \n",
       "\n",
       "  Married-couple families; Estimate; Median income (dollars)  \\\n",
       "0                                             131875           \n",
       "1                                             112639           \n",
       "2                                             149007           \n",
       "3                                              42485           \n",
       "4                                             198650           \n",
       "\n",
       "  Married-couple families; Margin of Error; Median income (dollars)  \\\n",
       "0                                             104286                  \n",
       "1                                              19572                  \n",
       "2                                              18758                  \n",
       "3                                               6118                  \n",
       "4                                               9364                  \n",
       "\n",
       "  Nonfamily households; Estimate; Median income (dollars)  \\\n",
       "0                                                  -        \n",
       "1                                              69906        \n",
       "2                                              75794        \n",
       "3                                              28319        \n",
       "4                                              86768        \n",
       "\n",
       "  Nonfamily households; Margin of Error; Median income (dollars)  \n",
       "0                                                 **              \n",
       "1                                              16080              \n",
       "2                                               8870              \n",
       "3                                               3989              \n",
       "4                                               7078              "
      ]
     },
     "execution_count": 71,
     "metadata": {},
     "output_type": "execute_result"
    }
   ],
   "source": [
    "income_db = pd.read_csv(\"./datasets/ACS_17_5YR_S1901_with_ann.csv\", header=1)\n",
    "income_db.head()"
   ]
  },
  {
   "cell_type": "markdown",
   "metadata": {},
   "source": [
    "## Data Cleaning"
   ]
  },
  {
   "cell_type": "markdown",
   "metadata": {},
   "source": [
    "### Filter only closed complaints"
   ]
  },
  {
   "cell_type": "markdown",
   "metadata": {},
   "source": [
    "As this project is centering on estimates of department responses, we only want to work with entries that have actually been responded to. Therefore, we will filter out all of the still open cases."
   ]
  },
  {
   "cell_type": "code",
   "execution_count": 72,
   "metadata": {},
   "outputs": [],
   "source": [
    "db = db[db[\"Status\"] == \"CLOSED\"]"
   ]
  },
  {
   "cell_type": "markdown",
   "metadata": {},
   "source": [
    "### Converting Inspection date to datetime"
   ]
  },
  {
   "cell_type": "code",
   "execution_count": 73,
   "metadata": {},
   "outputs": [
    {
     "data": {
      "text/plain": [
       "234435    06/02/2009\n",
       "234448    01/02/2009\n",
       "234461    01/02/2009\n",
       "234474    01/02/2009\n",
       "234487    10/09/2009\n",
       "Name: Inspection Date, dtype: object"
      ]
     },
     "execution_count": 73,
     "metadata": {},
     "output_type": "execute_result"
    }
   ],
   "source": [
    "db[\"Inspection Date\"].head()"
   ]
  },
  {
   "cell_type": "markdown",
   "metadata": {},
   "source": [
    "Some dates are erroneous and out of bounds for conversion to date time. Although a few observations can me inferentially imputed manually, it is impractical to include such a tactic in the main workflow for many hundreds of thousands of observations. \n",
    "\n",
    "According to the [documentation](http://pandas.pydata.org/pandas-docs/stable/timeseries.html#timeseries-timestamp-limits), the earliest valid time stamp for proper formating is `pd.Timestamp.min`. Also, we'll remove any dates prior to 2009, which serves as our hard cutoff for consideration."
   ]
  },
  {
   "cell_type": "code",
   "execution_count": 74,
   "metadata": {},
   "outputs": [],
   "source": [
    "years = db[\"Inspection Date\"].apply(lambda a:a.split(\"/\")[2])"
   ]
  },
  {
   "cell_type": "code",
   "execution_count": 75,
   "metadata": {},
   "outputs": [],
   "source": [
    "invalid_year_indeces = years[years.astype(int) < 2009].index"
   ]
  },
  {
   "cell_type": "code",
   "execution_count": 76,
   "metadata": {},
   "outputs": [
    {
     "data": {
      "text/plain": [
       "(37,)"
      ]
     },
     "execution_count": 76,
     "metadata": {},
     "output_type": "execute_result"
    }
   ],
   "source": [
    "invalid_year_indeces.shape"
   ]
  },
  {
   "cell_type": "code",
   "execution_count": 77,
   "metadata": {},
   "outputs": [
    {
     "data": {
      "text/html": [
       "<div>\n",
       "<style scoped>\n",
       "    .dataframe tbody tr th:only-of-type {\n",
       "        vertical-align: middle;\n",
       "    }\n",
       "\n",
       "    .dataframe tbody tr th {\n",
       "        vertical-align: top;\n",
       "    }\n",
       "\n",
       "    .dataframe thead th {\n",
       "        text-align: right;\n",
       "    }\n",
       "</style>\n",
       "<table border=\"1\" class=\"dataframe\">\n",
       "  <thead>\n",
       "    <tr style=\"text-align: right;\">\n",
       "      <th></th>\n",
       "      <th>Complaint Number</th>\n",
       "      <th>Status</th>\n",
       "      <th>Date Entered</th>\n",
       "      <th>House Number</th>\n",
       "      <th>ZIP Code</th>\n",
       "      <th>House Street</th>\n",
       "      <th>Special District</th>\n",
       "      <th>Complaint Category</th>\n",
       "      <th>Unit</th>\n",
       "      <th>Inspection Date</th>\n",
       "    </tr>\n",
       "  </thead>\n",
       "  <tbody>\n",
       "    <tr>\n",
       "      <th>234617</th>\n",
       "      <td>1245742</td>\n",
       "      <td>CLOSED</td>\n",
       "      <td>2009-01-05</td>\n",
       "      <td>48</td>\n",
       "      <td>10002</td>\n",
       "      <td>CANAL STREET</td>\n",
       "      <td></td>\n",
       "      <td>23</td>\n",
       "      <td>SCFLD</td>\n",
       "      <td>12/20/2008</td>\n",
       "    </tr>\n",
       "    <tr>\n",
       "      <th>234630</th>\n",
       "      <td>1245755</td>\n",
       "      <td>CLOSED</td>\n",
       "      <td>2009-01-05</td>\n",
       "      <td>252</td>\n",
       "      <td>10009</td>\n",
       "      <td>EAST    4 STREET</td>\n",
       "      <td></td>\n",
       "      <td>23</td>\n",
       "      <td>SCFLD</td>\n",
       "      <td>12/20/2008</td>\n",
       "    </tr>\n",
       "    <tr>\n",
       "      <th>234656</th>\n",
       "      <td>1245781</td>\n",
       "      <td>CLOSED</td>\n",
       "      <td>2009-01-05</td>\n",
       "      <td>15</td>\n",
       "      <td>10036</td>\n",
       "      <td>WEST   47 STREET</td>\n",
       "      <td></td>\n",
       "      <td>23</td>\n",
       "      <td>SCFLD</td>\n",
       "      <td>12/17/2008</td>\n",
       "    </tr>\n",
       "    <tr>\n",
       "      <th>234799</th>\n",
       "      <td>1245929</td>\n",
       "      <td>CLOSED</td>\n",
       "      <td>2009-01-07</td>\n",
       "      <td>76</td>\n",
       "      <td>10024</td>\n",
       "      <td>WEST   82 STREET</td>\n",
       "      <td></td>\n",
       "      <td>23</td>\n",
       "      <td>SCFLD</td>\n",
       "      <td>12/24/2008</td>\n",
       "    </tr>\n",
       "    <tr>\n",
       "      <th>234812</th>\n",
       "      <td>1245945</td>\n",
       "      <td>CLOSED</td>\n",
       "      <td>2009-01-07</td>\n",
       "      <td>122</td>\n",
       "      <td>10023</td>\n",
       "      <td>WEST   71 STREET</td>\n",
       "      <td></td>\n",
       "      <td>23</td>\n",
       "      <td>SCFLD</td>\n",
       "      <td>12/19/2008</td>\n",
       "    </tr>\n",
       "  </tbody>\n",
       "</table>\n",
       "</div>"
      ],
      "text/plain": [
       "        Complaint Number  Status Date Entered  House Number   ZIP Code  \\\n",
       "234617           1245742  CLOSED   2009-01-05  48            10002       \n",
       "234630           1245755  CLOSED   2009-01-05  252           10009       \n",
       "234656           1245781  CLOSED   2009-01-05  15            10036       \n",
       "234799           1245929  CLOSED   2009-01-07  76            10024       \n",
       "234812           1245945  CLOSED   2009-01-07  122           10023       \n",
       "\n",
       "                            House Street Special District Complaint Category  \\\n",
       "234617  CANAL STREET                                                      23   \n",
       "234630  EAST    4 STREET                                                  23   \n",
       "234656  WEST   47 STREET                                                  23   \n",
       "234799  WEST   82 STREET                                                  23   \n",
       "234812  WEST   71 STREET                                                  23   \n",
       "\n",
       "         Unit Inspection Date  \n",
       "234617  SCFLD      12/20/2008  \n",
       "234630  SCFLD      12/20/2008  \n",
       "234656  SCFLD      12/17/2008  \n",
       "234799  SCFLD      12/24/2008  \n",
       "234812  SCFLD      12/19/2008  "
      ]
     },
     "execution_count": 77,
     "metadata": {},
     "output_type": "execute_result"
    }
   ],
   "source": [
    "db.loc[invalid_year_indeces,:].head()"
   ]
  },
  {
   "cell_type": "code",
   "execution_count": 78,
   "metadata": {},
   "outputs": [],
   "source": [
    "db.drop(index = invalid_year_indeces, inplace = True)"
   ]
  },
  {
   "cell_type": "code",
   "execution_count": 79,
   "metadata": {},
   "outputs": [],
   "source": [
    "db[\"Inspection Date\"] = db[\"Inspection Date\"].astype('datetime64[ns]')"
   ]
  },
  {
   "cell_type": "code",
   "execution_count": 80,
   "metadata": {},
   "outputs": [
    {
     "data": {
      "text/plain": [
       "Complaint Number               int64\n",
       "Status                        object\n",
       "Date Entered          datetime64[ns]\n",
       "House Number                  object\n",
       "ZIP Code                      object\n",
       "House Street                  object\n",
       "Special District              object\n",
       "Complaint Category            object\n",
       "Unit                          object\n",
       "Inspection Date       datetime64[ns]\n",
       "dtype: object"
      ]
     },
     "execution_count": 80,
     "metadata": {},
     "output_type": "execute_result"
    }
   ],
   "source": [
    "db.dtypes"
   ]
  },
  {
   "cell_type": "markdown",
   "metadata": {},
   "source": [
    "Now that we have removed the entries entered before the relevant time frame, we want to look back at the descriptive statistics for the dataset."
   ]
  },
  {
   "cell_type": "code",
   "execution_count": 81,
   "metadata": {},
   "outputs": [
    {
     "data": {
      "text/html": [
       "<div>\n",
       "<style scoped>\n",
       "    .dataframe tbody tr th:only-of-type {\n",
       "        vertical-align: middle;\n",
       "    }\n",
       "\n",
       "    .dataframe tbody tr th {\n",
       "        vertical-align: top;\n",
       "    }\n",
       "\n",
       "    .dataframe thead th {\n",
       "        text-align: right;\n",
       "    }\n",
       "</style>\n",
       "<table border=\"1\" class=\"dataframe\">\n",
       "  <thead>\n",
       "    <tr style=\"text-align: right;\">\n",
       "      <th></th>\n",
       "      <th>Complaint Number</th>\n",
       "      <th>Status</th>\n",
       "      <th>Date Entered</th>\n",
       "      <th>House Number</th>\n",
       "      <th>ZIP Code</th>\n",
       "      <th>House Street</th>\n",
       "      <th>Special District</th>\n",
       "      <th>Complaint Category</th>\n",
       "      <th>Unit</th>\n",
       "      <th>Inspection Date</th>\n",
       "    </tr>\n",
       "  </thead>\n",
       "  <tbody>\n",
       "    <tr>\n",
       "      <th>count</th>\n",
       "      <td>9.181000e+04</td>\n",
       "      <td>91810</td>\n",
       "      <td>91810</td>\n",
       "      <td>91810</td>\n",
       "      <td>91810</td>\n",
       "      <td>91810</td>\n",
       "      <td>91810</td>\n",
       "      <td>91810</td>\n",
       "      <td>91810</td>\n",
       "      <td>91810</td>\n",
       "    </tr>\n",
       "    <tr>\n",
       "      <th>unique</th>\n",
       "      <td>NaN</td>\n",
       "      <td>1</td>\n",
       "      <td>3912</td>\n",
       "      <td>15087</td>\n",
       "      <td>209</td>\n",
       "      <td>6977</td>\n",
       "      <td>2</td>\n",
       "      <td>116</td>\n",
       "      <td>32</td>\n",
       "      <td>3877</td>\n",
       "    </tr>\n",
       "    <tr>\n",
       "      <th>top</th>\n",
       "      <td>NaN</td>\n",
       "      <td>CLOSED</td>\n",
       "      <td>2016-10-18 00:00:00</td>\n",
       "      <td>1</td>\n",
       "      <td>11419</td>\n",
       "      <td>BROADWAY</td>\n",
       "      <td></td>\n",
       "      <td>45</td>\n",
       "      <td>QNS.</td>\n",
       "      <td>2018-10-24 00:00:00</td>\n",
       "    </tr>\n",
       "    <tr>\n",
       "      <th>freq</th>\n",
       "      <td>NaN</td>\n",
       "      <td>91810</td>\n",
       "      <td>65</td>\n",
       "      <td>228</td>\n",
       "      <td>1544</td>\n",
       "      <td>993</td>\n",
       "      <td>91170</td>\n",
       "      <td>12757</td>\n",
       "      <td>17236</td>\n",
       "      <td>67</td>\n",
       "    </tr>\n",
       "    <tr>\n",
       "      <th>first</th>\n",
       "      <td>NaN</td>\n",
       "      <td>NaN</td>\n",
       "      <td>2009-01-02 00:00:00</td>\n",
       "      <td>NaN</td>\n",
       "      <td>NaN</td>\n",
       "      <td>NaN</td>\n",
       "      <td>NaN</td>\n",
       "      <td>NaN</td>\n",
       "      <td>NaN</td>\n",
       "      <td>2009-01-02 00:00:00</td>\n",
       "    </tr>\n",
       "    <tr>\n",
       "      <th>last</th>\n",
       "      <td>NaN</td>\n",
       "      <td>NaN</td>\n",
       "      <td>2019-09-21 00:00:00</td>\n",
       "      <td>NaN</td>\n",
       "      <td>NaN</td>\n",
       "      <td>NaN</td>\n",
       "      <td>NaN</td>\n",
       "      <td>NaN</td>\n",
       "      <td>NaN</td>\n",
       "      <td>2019-09-21 00:00:00</td>\n",
       "    </tr>\n",
       "    <tr>\n",
       "      <th>mean</th>\n",
       "      <td>3.269364e+06</td>\n",
       "      <td>NaN</td>\n",
       "      <td>NaN</td>\n",
       "      <td>NaN</td>\n",
       "      <td>NaN</td>\n",
       "      <td>NaN</td>\n",
       "      <td>NaN</td>\n",
       "      <td>NaN</td>\n",
       "      <td>NaN</td>\n",
       "      <td>NaN</td>\n",
       "    </tr>\n",
       "    <tr>\n",
       "      <th>std</th>\n",
       "      <td>1.255153e+06</td>\n",
       "      <td>NaN</td>\n",
       "      <td>NaN</td>\n",
       "      <td>NaN</td>\n",
       "      <td>NaN</td>\n",
       "      <td>NaN</td>\n",
       "      <td>NaN</td>\n",
       "      <td>NaN</td>\n",
       "      <td>NaN</td>\n",
       "      <td>NaN</td>\n",
       "    </tr>\n",
       "    <tr>\n",
       "      <th>min</th>\n",
       "      <td>1.245555e+06</td>\n",
       "      <td>NaN</td>\n",
       "      <td>NaN</td>\n",
       "      <td>NaN</td>\n",
       "      <td>NaN</td>\n",
       "      <td>NaN</td>\n",
       "      <td>NaN</td>\n",
       "      <td>NaN</td>\n",
       "      <td>NaN</td>\n",
       "      <td>NaN</td>\n",
       "    </tr>\n",
       "    <tr>\n",
       "      <th>25%</th>\n",
       "      <td>2.169322e+06</td>\n",
       "      <td>NaN</td>\n",
       "      <td>NaN</td>\n",
       "      <td>NaN</td>\n",
       "      <td>NaN</td>\n",
       "      <td>NaN</td>\n",
       "      <td>NaN</td>\n",
       "      <td>NaN</td>\n",
       "      <td>NaN</td>\n",
       "      <td>NaN</td>\n",
       "    </tr>\n",
       "    <tr>\n",
       "      <th>50%</th>\n",
       "      <td>3.498805e+06</td>\n",
       "      <td>NaN</td>\n",
       "      <td>NaN</td>\n",
       "      <td>NaN</td>\n",
       "      <td>NaN</td>\n",
       "      <td>NaN</td>\n",
       "      <td>NaN</td>\n",
       "      <td>NaN</td>\n",
       "      <td>NaN</td>\n",
       "      <td>NaN</td>\n",
       "    </tr>\n",
       "    <tr>\n",
       "      <th>75%</th>\n",
       "      <td>4.493673e+06</td>\n",
       "      <td>NaN</td>\n",
       "      <td>NaN</td>\n",
       "      <td>NaN</td>\n",
       "      <td>NaN</td>\n",
       "      <td>NaN</td>\n",
       "      <td>NaN</td>\n",
       "      <td>NaN</td>\n",
       "      <td>NaN</td>\n",
       "      <td>NaN</td>\n",
       "    </tr>\n",
       "    <tr>\n",
       "      <th>max</th>\n",
       "      <td>5.124998e+06</td>\n",
       "      <td>NaN</td>\n",
       "      <td>NaN</td>\n",
       "      <td>NaN</td>\n",
       "      <td>NaN</td>\n",
       "      <td>NaN</td>\n",
       "      <td>NaN</td>\n",
       "      <td>NaN</td>\n",
       "      <td>NaN</td>\n",
       "      <td>NaN</td>\n",
       "    </tr>\n",
       "  </tbody>\n",
       "</table>\n",
       "</div>"
      ],
      "text/plain": [
       "        Complaint Number  Status         Date Entered  House Number  \\\n",
       "count       9.181000e+04   91810                91810         91810   \n",
       "unique               NaN       1                 3912         15087   \n",
       "top                  NaN  CLOSED  2016-10-18 00:00:00  1              \n",
       "freq                 NaN   91810                   65           228   \n",
       "first                NaN     NaN  2009-01-02 00:00:00           NaN   \n",
       "last                 NaN     NaN  2019-09-21 00:00:00           NaN   \n",
       "mean        3.269364e+06     NaN                  NaN           NaN   \n",
       "std         1.255153e+06     NaN                  NaN           NaN   \n",
       "min         1.245555e+06     NaN                  NaN           NaN   \n",
       "25%         2.169322e+06     NaN                  NaN           NaN   \n",
       "50%         3.498805e+06     NaN                  NaN           NaN   \n",
       "75%         4.493673e+06     NaN                  NaN           NaN   \n",
       "max         5.124998e+06     NaN                  NaN           NaN   \n",
       "\n",
       "         ZIP Code                      House Street Special District  \\\n",
       "count       91810                             91810            91810   \n",
       "unique        209                              6977                2   \n",
       "top     11419      BROADWAY                                            \n",
       "freq         1544                               993            91170   \n",
       "first         NaN                               NaN              NaN   \n",
       "last          NaN                               NaN              NaN   \n",
       "mean          NaN                               NaN              NaN   \n",
       "std           NaN                               NaN              NaN   \n",
       "min           NaN                               NaN              NaN   \n",
       "25%           NaN                               NaN              NaN   \n",
       "50%           NaN                               NaN              NaN   \n",
       "75%           NaN                               NaN              NaN   \n",
       "max           NaN                               NaN              NaN   \n",
       "\n",
       "       Complaint Category   Unit      Inspection Date  \n",
       "count               91810  91810                91810  \n",
       "unique                116     32                 3877  \n",
       "top                    45   QNS.  2018-10-24 00:00:00  \n",
       "freq                12757  17236                   67  \n",
       "first                 NaN    NaN  2009-01-02 00:00:00  \n",
       "last                  NaN    NaN  2019-09-21 00:00:00  \n",
       "mean                  NaN    NaN                  NaN  \n",
       "std                   NaN    NaN                  NaN  \n",
       "min                   NaN    NaN                  NaN  \n",
       "25%                   NaN    NaN                  NaN  \n",
       "50%                   NaN    NaN                  NaN  \n",
       "75%                   NaN    NaN                  NaN  \n",
       "max                   NaN    NaN                  NaN  "
      ]
     },
     "execution_count": 81,
     "metadata": {},
     "output_type": "execute_result"
    }
   ],
   "source": [
    "db.describe(include = \"all\")"
   ]
  },
  {
   "cell_type": "code",
   "execution_count": 82,
   "metadata": {},
   "outputs": [
    {
     "data": {
      "text/plain": [
       "(91810, 10)"
      ]
     },
     "execution_count": 82,
     "metadata": {},
     "output_type": "execute_result"
    }
   ],
   "source": [
    "db.shape"
   ]
  },
  {
   "cell_type": "markdown",
   "metadata": {},
   "source": [
    "We now have over 90,000 cleaned observations."
   ]
  },
  {
   "cell_type": "markdown",
   "metadata": {},
   "source": [
    "For the income dataset, we are only interested in two of the columns, the 'Id2' column which describes the zip code, and the first income column, labeled 'Households; Estimate; Median income (dollars)'. These will be formatted so they can easily be added to the main dataframe."
   ]
  },
  {
   "cell_type": "code",
   "execution_count": 83,
   "metadata": {},
   "outputs": [
    {
     "name": "stdout",
     "output_type": "stream",
     "text": [
      "<class 'pandas.core.frame.DataFrame'>\n",
      "RangeIndex: 1795 entries, 0 to 1794\n",
      "Data columns (total 11 columns):\n",
      "Id                                                                   1795 non-null object\n",
      "Id2                                                                  1795 non-null int64\n",
      "Geography                                                            1795 non-null object\n",
      "Households; Estimate; Median income (dollars)                        1795 non-null object\n",
      "Households; Margin of Error; Median income (dollars)                 1795 non-null object\n",
      "Families; Estimate; Median income (dollars)                          1795 non-null object\n",
      "Families; Margin of Error; Median income (dollars)                   1795 non-null object\n",
      "Married-couple families; Estimate; Median income (dollars)           1795 non-null object\n",
      "Married-couple families; Margin of Error; Median income (dollars)    1795 non-null object\n",
      "Nonfamily households; Estimate; Median income (dollars)              1795 non-null object\n",
      "Nonfamily households; Margin of Error; Median income (dollars)       1795 non-null object\n",
      "dtypes: int64(1), object(10)\n",
      "memory usage: 154.4+ KB\n"
     ]
    }
   ],
   "source": [
    "income_db.info()"
   ]
  },
  {
   "cell_type": "markdown",
   "metadata": {},
   "source": [
    "Looking at the datatypes, the zip code is currently an integer, though we would prefer it be a string, so that will be converted. For the income column, it is currently being interpreted as an object, so we need to determine what possible non-numeric characters are present and deal with them."
   ]
  },
  {
   "cell_type": "code",
   "execution_count": 84,
   "metadata": {},
   "outputs": [
    {
     "data": {
      "text/html": [
       "<div>\n",
       "<style scoped>\n",
       "    .dataframe tbody tr th:only-of-type {\n",
       "        vertical-align: middle;\n",
       "    }\n",
       "\n",
       "    .dataframe tbody tr th {\n",
       "        vertical-align: top;\n",
       "    }\n",
       "\n",
       "    .dataframe thead th {\n",
       "        text-align: right;\n",
       "    }\n",
       "</style>\n",
       "<table border=\"1\" class=\"dataframe\">\n",
       "  <thead>\n",
       "    <tr style=\"text-align: right;\">\n",
       "      <th></th>\n",
       "      <th>Id</th>\n",
       "      <th>zip_code</th>\n",
       "      <th>Geography</th>\n",
       "      <th>med_inc_zip</th>\n",
       "      <th>Households; Margin of Error; Median income (dollars)</th>\n",
       "      <th>Families; Estimate; Median income (dollars)</th>\n",
       "      <th>Families; Margin of Error; Median income (dollars)</th>\n",
       "      <th>Married-couple families; Estimate; Median income (dollars)</th>\n",
       "      <th>Married-couple families; Margin of Error; Median income (dollars)</th>\n",
       "      <th>Nonfamily households; Estimate; Median income (dollars)</th>\n",
       "      <th>Nonfamily households; Margin of Error; Median income (dollars)</th>\n",
       "    </tr>\n",
       "  </thead>\n",
       "  <tbody>\n",
       "    <tr>\n",
       "      <th>0</th>\n",
       "      <td>8600000US06390</td>\n",
       "      <td>6390</td>\n",
       "      <td>ZCTA5 06390</td>\n",
       "      <td>150703</td>\n",
       "      <td>86256</td>\n",
       "      <td>151172</td>\n",
       "      <td>67633</td>\n",
       "      <td>131875</td>\n",
       "      <td>104286</td>\n",
       "      <td>-</td>\n",
       "      <td>**</td>\n",
       "    </tr>\n",
       "    <tr>\n",
       "      <th>1</th>\n",
       "      <td>8600000US07421</td>\n",
       "      <td>7421</td>\n",
       "      <td>ZCTA5 07421</td>\n",
       "      <td>90412</td>\n",
       "      <td>4718</td>\n",
       "      <td>99948</td>\n",
       "      <td>7733</td>\n",
       "      <td>112639</td>\n",
       "      <td>19572</td>\n",
       "      <td>69906</td>\n",
       "      <td>16080</td>\n",
       "    </tr>\n",
       "    <tr>\n",
       "      <th>2</th>\n",
       "      <td>8600000US10001</td>\n",
       "      <td>10001</td>\n",
       "      <td>ZCTA5 10001</td>\n",
       "      <td>85221</td>\n",
       "      <td>9970</td>\n",
       "      <td>103304</td>\n",
       "      <td>29429</td>\n",
       "      <td>149007</td>\n",
       "      <td>18758</td>\n",
       "      <td>75794</td>\n",
       "      <td>8870</td>\n",
       "    </tr>\n",
       "    <tr>\n",
       "      <th>3</th>\n",
       "      <td>8600000US10002</td>\n",
       "      <td>10002</td>\n",
       "      <td>ZCTA5 10002</td>\n",
       "      <td>35449</td>\n",
       "      <td>2696</td>\n",
       "      <td>39145</td>\n",
       "      <td>3234</td>\n",
       "      <td>42485</td>\n",
       "      <td>6118</td>\n",
       "      <td>28319</td>\n",
       "      <td>3989</td>\n",
       "    </tr>\n",
       "    <tr>\n",
       "      <th>4</th>\n",
       "      <td>8600000US10003</td>\n",
       "      <td>10003</td>\n",
       "      <td>ZCTA5 10003</td>\n",
       "      <td>104441</td>\n",
       "      <td>6666</td>\n",
       "      <td>183657</td>\n",
       "      <td>17463</td>\n",
       "      <td>198650</td>\n",
       "      <td>9364</td>\n",
       "      <td>86768</td>\n",
       "      <td>7078</td>\n",
       "    </tr>\n",
       "  </tbody>\n",
       "</table>\n",
       "</div>"
      ],
      "text/plain": [
       "               Id  zip_code    Geography med_inc_zip  \\\n",
       "0  8600000US06390      6390  ZCTA5 06390      150703   \n",
       "1  8600000US07421      7421  ZCTA5 07421       90412   \n",
       "2  8600000US10001     10001  ZCTA5 10001       85221   \n",
       "3  8600000US10002     10002  ZCTA5 10002       35449   \n",
       "4  8600000US10003     10003  ZCTA5 10003      104441   \n",
       "\n",
       "  Households; Margin of Error; Median income (dollars)  \\\n",
       "0                                              86256     \n",
       "1                                               4718     \n",
       "2                                               9970     \n",
       "3                                               2696     \n",
       "4                                               6666     \n",
       "\n",
       "  Families; Estimate; Median income (dollars)  \\\n",
       "0                                      151172   \n",
       "1                                       99948   \n",
       "2                                      103304   \n",
       "3                                       39145   \n",
       "4                                      183657   \n",
       "\n",
       "  Families; Margin of Error; Median income (dollars)  \\\n",
       "0                                              67633   \n",
       "1                                               7733   \n",
       "2                                              29429   \n",
       "3                                               3234   \n",
       "4                                              17463   \n",
       "\n",
       "  Married-couple families; Estimate; Median income (dollars)  \\\n",
       "0                                             131875           \n",
       "1                                             112639           \n",
       "2                                             149007           \n",
       "3                                              42485           \n",
       "4                                             198650           \n",
       "\n",
       "  Married-couple families; Margin of Error; Median income (dollars)  \\\n",
       "0                                             104286                  \n",
       "1                                              19572                  \n",
       "2                                              18758                  \n",
       "3                                               6118                  \n",
       "4                                               9364                  \n",
       "\n",
       "  Nonfamily households; Estimate; Median income (dollars)  \\\n",
       "0                                                  -        \n",
       "1                                              69906        \n",
       "2                                              75794        \n",
       "3                                              28319        \n",
       "4                                              86768        \n",
       "\n",
       "  Nonfamily households; Margin of Error; Median income (dollars)  \n",
       "0                                                 **              \n",
       "1                                              16080              \n",
       "2                                               8870              \n",
       "3                                               3989              \n",
       "4                                               7078              "
      ]
     },
     "execution_count": 84,
     "metadata": {},
     "output_type": "execute_result"
    }
   ],
   "source": [
    "inc_cols = {\"Households; Estimate; Median income (dollars)\": \"med_inc_zip\",\n",
    "           \"Id2\": \"zip_code\"}\n",
    "income_db = income_db.rename(mapper=inc_cols,\n",
    "                             axis=1)\n",
    "income_db.head()"
   ]
  },
  {
   "cell_type": "code",
   "execution_count": 85,
   "metadata": {},
   "outputs": [],
   "source": [
    "income_db[\"zip_code\"] = income_db[\"zip_code\"].astype(\"str\")"
   ]
  },
  {
   "cell_type": "code",
   "execution_count": 86,
   "metadata": {},
   "outputs": [],
   "source": [
    "income_db[\"med_inc_zip\"] = income_db[\"med_inc_zip\"].str.replace(\"\\D+\", \"\")"
   ]
  },
  {
   "cell_type": "code",
   "execution_count": 87,
   "metadata": {},
   "outputs": [
    {
     "data": {
      "text/html": [
       "<div>\n",
       "<style scoped>\n",
       "    .dataframe tbody tr th:only-of-type {\n",
       "        vertical-align: middle;\n",
       "    }\n",
       "\n",
       "    .dataframe tbody tr th {\n",
       "        vertical-align: top;\n",
       "    }\n",
       "\n",
       "    .dataframe thead th {\n",
       "        text-align: right;\n",
       "    }\n",
       "</style>\n",
       "<table border=\"1\" class=\"dataframe\">\n",
       "  <thead>\n",
       "    <tr style=\"text-align: right;\">\n",
       "      <th></th>\n",
       "      <th>Id</th>\n",
       "      <th>zip_code</th>\n",
       "      <th>Geography</th>\n",
       "      <th>med_inc_zip</th>\n",
       "      <th>Households; Margin of Error; Median income (dollars)</th>\n",
       "      <th>Families; Estimate; Median income (dollars)</th>\n",
       "      <th>Families; Margin of Error; Median income (dollars)</th>\n",
       "      <th>Married-couple families; Estimate; Median income (dollars)</th>\n",
       "      <th>Married-couple families; Margin of Error; Median income (dollars)</th>\n",
       "      <th>Nonfamily households; Estimate; Median income (dollars)</th>\n",
       "      <th>Nonfamily households; Margin of Error; Median income (dollars)</th>\n",
       "    </tr>\n",
       "  </thead>\n",
       "  <tbody>\n",
       "    <tr>\n",
       "      <th>0</th>\n",
       "      <td>8600000US06390</td>\n",
       "      <td>6390</td>\n",
       "      <td>ZCTA5 06390</td>\n",
       "      <td>150703</td>\n",
       "      <td>86256</td>\n",
       "      <td>151172</td>\n",
       "      <td>67633</td>\n",
       "      <td>131875</td>\n",
       "      <td>104286</td>\n",
       "      <td>-</td>\n",
       "      <td>**</td>\n",
       "    </tr>\n",
       "    <tr>\n",
       "      <th>1</th>\n",
       "      <td>8600000US07421</td>\n",
       "      <td>7421</td>\n",
       "      <td>ZCTA5 07421</td>\n",
       "      <td>90412</td>\n",
       "      <td>4718</td>\n",
       "      <td>99948</td>\n",
       "      <td>7733</td>\n",
       "      <td>112639</td>\n",
       "      <td>19572</td>\n",
       "      <td>69906</td>\n",
       "      <td>16080</td>\n",
       "    </tr>\n",
       "    <tr>\n",
       "      <th>2</th>\n",
       "      <td>8600000US10001</td>\n",
       "      <td>10001</td>\n",
       "      <td>ZCTA5 10001</td>\n",
       "      <td>85221</td>\n",
       "      <td>9970</td>\n",
       "      <td>103304</td>\n",
       "      <td>29429</td>\n",
       "      <td>149007</td>\n",
       "      <td>18758</td>\n",
       "      <td>75794</td>\n",
       "      <td>8870</td>\n",
       "    </tr>\n",
       "    <tr>\n",
       "      <th>3</th>\n",
       "      <td>8600000US10002</td>\n",
       "      <td>10002</td>\n",
       "      <td>ZCTA5 10002</td>\n",
       "      <td>35449</td>\n",
       "      <td>2696</td>\n",
       "      <td>39145</td>\n",
       "      <td>3234</td>\n",
       "      <td>42485</td>\n",
       "      <td>6118</td>\n",
       "      <td>28319</td>\n",
       "      <td>3989</td>\n",
       "    </tr>\n",
       "    <tr>\n",
       "      <th>4</th>\n",
       "      <td>8600000US10003</td>\n",
       "      <td>10003</td>\n",
       "      <td>ZCTA5 10003</td>\n",
       "      <td>104441</td>\n",
       "      <td>6666</td>\n",
       "      <td>183657</td>\n",
       "      <td>17463</td>\n",
       "      <td>198650</td>\n",
       "      <td>9364</td>\n",
       "      <td>86768</td>\n",
       "      <td>7078</td>\n",
       "    </tr>\n",
       "  </tbody>\n",
       "</table>\n",
       "</div>"
      ],
      "text/plain": [
       "               Id zip_code    Geography med_inc_zip  \\\n",
       "0  8600000US06390     6390  ZCTA5 06390      150703   \n",
       "1  8600000US07421     7421  ZCTA5 07421       90412   \n",
       "2  8600000US10001    10001  ZCTA5 10001       85221   \n",
       "3  8600000US10002    10002  ZCTA5 10002       35449   \n",
       "4  8600000US10003    10003  ZCTA5 10003      104441   \n",
       "\n",
       "  Households; Margin of Error; Median income (dollars)  \\\n",
       "0                                              86256     \n",
       "1                                               4718     \n",
       "2                                               9970     \n",
       "3                                               2696     \n",
       "4                                               6666     \n",
       "\n",
       "  Families; Estimate; Median income (dollars)  \\\n",
       "0                                      151172   \n",
       "1                                       99948   \n",
       "2                                      103304   \n",
       "3                                       39145   \n",
       "4                                      183657   \n",
       "\n",
       "  Families; Margin of Error; Median income (dollars)  \\\n",
       "0                                              67633   \n",
       "1                                               7733   \n",
       "2                                              29429   \n",
       "3                                               3234   \n",
       "4                                              17463   \n",
       "\n",
       "  Married-couple families; Estimate; Median income (dollars)  \\\n",
       "0                                             131875           \n",
       "1                                             112639           \n",
       "2                                             149007           \n",
       "3                                              42485           \n",
       "4                                             198650           \n",
       "\n",
       "  Married-couple families; Margin of Error; Median income (dollars)  \\\n",
       "0                                             104286                  \n",
       "1                                              19572                  \n",
       "2                                              18758                  \n",
       "3                                               6118                  \n",
       "4                                               9364                  \n",
       "\n",
       "  Nonfamily households; Estimate; Median income (dollars)  \\\n",
       "0                                                  -        \n",
       "1                                              69906        \n",
       "2                                              75794        \n",
       "3                                              28319        \n",
       "4                                              86768        \n",
       "\n",
       "  Nonfamily households; Margin of Error; Median income (dollars)  \n",
       "0                                                 **              \n",
       "1                                              16080              \n",
       "2                                               8870              \n",
       "3                                               3989              \n",
       "4                                               7078              "
      ]
     },
     "execution_count": 87,
     "metadata": {},
     "output_type": "execute_result"
    }
   ],
   "source": [
    "income_db.head()"
   ]
  },
  {
   "cell_type": "markdown",
   "metadata": {},
   "source": [
    "# Feature Engineering"
   ]
  },
  {
   "cell_type": "markdown",
   "metadata": {},
   "source": [
    "### Creating target variable\n",
    "Our target is the number of days until a complaint's inspection date: \n",
    "\n",
    "$$\\text{Inspection Date} - \\text{Data Entered} = \\text{Days until Inspection}$$"
   ]
  },
  {
   "cell_type": "code",
   "execution_count": 88,
   "metadata": {},
   "outputs": [],
   "source": [
    "db[\"days_until_inspection\"] = db[\"Inspection Date\"] - db[\"Date Entered\"]"
   ]
  },
  {
   "cell_type": "code",
   "execution_count": 89,
   "metadata": {},
   "outputs": [
    {
     "data": {
      "text/html": [
       "<div>\n",
       "<style scoped>\n",
       "    .dataframe tbody tr th:only-of-type {\n",
       "        vertical-align: middle;\n",
       "    }\n",
       "\n",
       "    .dataframe tbody tr th {\n",
       "        vertical-align: top;\n",
       "    }\n",
       "\n",
       "    .dataframe thead th {\n",
       "        text-align: right;\n",
       "    }\n",
       "</style>\n",
       "<table border=\"1\" class=\"dataframe\">\n",
       "  <thead>\n",
       "    <tr style=\"text-align: right;\">\n",
       "      <th></th>\n",
       "      <th>Complaint Number</th>\n",
       "      <th>days_until_inspection</th>\n",
       "    </tr>\n",
       "  </thead>\n",
       "  <tbody>\n",
       "    <tr>\n",
       "      <th>count</th>\n",
       "      <td>9.181000e+04</td>\n",
       "      <td>91810</td>\n",
       "    </tr>\n",
       "    <tr>\n",
       "      <th>mean</th>\n",
       "      <td>3.269364e+06</td>\n",
       "      <td>69 days 04:28:52.830846</td>\n",
       "    </tr>\n",
       "    <tr>\n",
       "      <th>std</th>\n",
       "      <td>1.255153e+06</td>\n",
       "      <td>193 days 00:47:32.565052</td>\n",
       "    </tr>\n",
       "    <tr>\n",
       "      <th>min</th>\n",
       "      <td>1.245555e+06</td>\n",
       "      <td>-1095 days +00:00:00</td>\n",
       "    </tr>\n",
       "    <tr>\n",
       "      <th>25%</th>\n",
       "      <td>2.169322e+06</td>\n",
       "      <td>1 days 00:00:00</td>\n",
       "    </tr>\n",
       "    <tr>\n",
       "      <th>50%</th>\n",
       "      <td>3.498805e+06</td>\n",
       "      <td>12 days 00:00:00</td>\n",
       "    </tr>\n",
       "    <tr>\n",
       "      <th>75%</th>\n",
       "      <td>4.493673e+06</td>\n",
       "      <td>63 days 00:00:00</td>\n",
       "    </tr>\n",
       "    <tr>\n",
       "      <th>max</th>\n",
       "      <td>5.124998e+06</td>\n",
       "      <td>3767 days 00:00:00</td>\n",
       "    </tr>\n",
       "  </tbody>\n",
       "</table>\n",
       "</div>"
      ],
      "text/plain": [
       "       Complaint Number     days_until_inspection\n",
       "count      9.181000e+04                     91810\n",
       "mean       3.269364e+06   69 days 04:28:52.830846\n",
       "std        1.255153e+06  193 days 00:47:32.565052\n",
       "min        1.245555e+06      -1095 days +00:00:00\n",
       "25%        2.169322e+06           1 days 00:00:00\n",
       "50%        3.498805e+06          12 days 00:00:00\n",
       "75%        4.493673e+06          63 days 00:00:00\n",
       "max        5.124998e+06        3767 days 00:00:00"
      ]
     },
     "execution_count": 89,
     "metadata": {},
     "output_type": "execute_result"
    }
   ],
   "source": [
    "db.describe()"
   ]
  },
  {
   "cell_type": "markdown",
   "metadata": {},
   "source": [
    "Some complaints took a negative number of days, which have been explained by the maintainers as instances of the issue being inspected or resolved without a resident opening a ticket, and so a ticket was later input by a DOB employee. Since these instances will not correctly correlate to giving a resident a time lapse estimation for inspection, these observations will be removed."
   ]
  },
  {
   "cell_type": "code",
   "execution_count": 90,
   "metadata": {},
   "outputs": [],
   "source": [
    "# extracting raw number of days\n",
    "db[\"days_until_inspection\"] = db[\"days_until_inspection\"].map(lambda x:x.days)"
   ]
  },
  {
   "cell_type": "code",
   "execution_count": 91,
   "metadata": {},
   "outputs": [
    {
     "data": {
      "text/plain": [
       "(17082, 11)"
      ]
     },
     "execution_count": 91,
     "metadata": {},
     "output_type": "execute_result"
    }
   ],
   "source": [
    "db[db[\"days_until_inspection\"] <= 0].shape"
   ]
  },
  {
   "cell_type": "markdown",
   "metadata": {},
   "source": [
    "We'll be dropping about 17,000 observations."
   ]
  },
  {
   "cell_type": "code",
   "execution_count": 92,
   "metadata": {},
   "outputs": [],
   "source": [
    "db = db[db[\"days_until_inspection\"] > 0]"
   ]
  },
  {
   "cell_type": "markdown",
   "metadata": {},
   "source": [
    "### Fixing Special District\n",
    "\n",
    "The \"Special District\" column has an emptry string category, which we'll change to \"NOT SPECIAL\"."
   ]
  },
  {
   "cell_type": "code",
   "execution_count": 93,
   "metadata": {},
   "outputs": [
    {
     "data": {
      "text/plain": [
       "array(['   ', 'IBZ'], dtype=object)"
      ]
     },
     "execution_count": 93,
     "metadata": {},
     "output_type": "execute_result"
    }
   ],
   "source": [
    "db[\"Special District\"].unique()"
   ]
  },
  {
   "cell_type": "code",
   "execution_count": 94,
   "metadata": {},
   "outputs": [],
   "source": [
    "db[\"Special District\"] = db[\"Special District\"].map(lambda x: x if x != '   ' else \"NOT SPECIAL\")"
   ]
  },
  {
   "cell_type": "code",
   "execution_count": 95,
   "metadata": {},
   "outputs": [
    {
     "data": {
      "text/plain": [
       "array(['NOT SPECIAL', 'IBZ'], dtype=object)"
      ]
     },
     "execution_count": 95,
     "metadata": {},
     "output_type": "execute_result"
    }
   ],
   "source": [
    "db[\"Special District\"].unique()"
   ]
  },
  {
   "cell_type": "markdown",
   "metadata": {},
   "source": [
    "## Renaming columns"
   ]
  },
  {
   "cell_type": "code",
   "execution_count": 96,
   "metadata": {},
   "outputs": [],
   "source": [
    "# removing spaces & forcing all to lowercase\n",
    "db.columns = [col.lower().replace(\" \", \"_\") for col in db.columns]"
   ]
  },
  {
   "cell_type": "code",
   "execution_count": 97,
   "metadata": {},
   "outputs": [
    {
     "data": {
      "text/html": [
       "<div>\n",
       "<style scoped>\n",
       "    .dataframe tbody tr th:only-of-type {\n",
       "        vertical-align: middle;\n",
       "    }\n",
       "\n",
       "    .dataframe tbody tr th {\n",
       "        vertical-align: top;\n",
       "    }\n",
       "\n",
       "    .dataframe thead th {\n",
       "        text-align: right;\n",
       "    }\n",
       "</style>\n",
       "<table border=\"1\" class=\"dataframe\">\n",
       "  <thead>\n",
       "    <tr style=\"text-align: right;\">\n",
       "      <th></th>\n",
       "      <th>complaint_number</th>\n",
       "      <th>status</th>\n",
       "      <th>date_entered</th>\n",
       "      <th>house_number</th>\n",
       "      <th>zip_code</th>\n",
       "      <th>house_street</th>\n",
       "      <th>special_district</th>\n",
       "      <th>complaint_category</th>\n",
       "      <th>unit</th>\n",
       "      <th>inspection_date</th>\n",
       "      <th>days_until_inspection</th>\n",
       "    </tr>\n",
       "  </thead>\n",
       "  <tbody>\n",
       "    <tr>\n",
       "      <th>234435</th>\n",
       "      <td>1245555</td>\n",
       "      <td>CLOSED</td>\n",
       "      <td>2009-01-02</td>\n",
       "      <td>930</td>\n",
       "      <td>10025</td>\n",
       "      <td>WEST END AVENUE</td>\n",
       "      <td>NOT SPECIAL</td>\n",
       "      <td>58</td>\n",
       "      <td>BOILR</td>\n",
       "      <td>2009-06-02</td>\n",
       "      <td>151</td>\n",
       "    </tr>\n",
       "    <tr>\n",
       "      <th>234487</th>\n",
       "      <td>1245608</td>\n",
       "      <td>CLOSED</td>\n",
       "      <td>2009-01-02</td>\n",
       "      <td>428</td>\n",
       "      <td>10013</td>\n",
       "      <td>BROADWAY</td>\n",
       "      <td>NOT SPECIAL</td>\n",
       "      <td>23</td>\n",
       "      <td>SCFLD</td>\n",
       "      <td>2009-10-09</td>\n",
       "      <td>280</td>\n",
       "    </tr>\n",
       "    <tr>\n",
       "      <th>234500</th>\n",
       "      <td>1245621</td>\n",
       "      <td>CLOSED</td>\n",
       "      <td>2009-01-02</td>\n",
       "      <td>146</td>\n",
       "      <td>10001</td>\n",
       "      <td>WEST   28 STREET</td>\n",
       "      <td>NOT SPECIAL</td>\n",
       "      <td>63</td>\n",
       "      <td>ELEVR</td>\n",
       "      <td>2009-01-22</td>\n",
       "      <td>20</td>\n",
       "    </tr>\n",
       "    <tr>\n",
       "      <th>234513</th>\n",
       "      <td>1245634</td>\n",
       "      <td>CLOSED</td>\n",
       "      <td>2009-01-03</td>\n",
       "      <td>388</td>\n",
       "      <td>10013</td>\n",
       "      <td>BROADWAY</td>\n",
       "      <td>NOT SPECIAL</td>\n",
       "      <td>56</td>\n",
       "      <td>BOILR</td>\n",
       "      <td>2009-01-07</td>\n",
       "      <td>4</td>\n",
       "    </tr>\n",
       "    <tr>\n",
       "      <th>234526</th>\n",
       "      <td>1245648</td>\n",
       "      <td>CLOSED</td>\n",
       "      <td>2009-01-03</td>\n",
       "      <td>375</td>\n",
       "      <td>10016</td>\n",
       "      <td>3 AVENUE</td>\n",
       "      <td>NOT SPECIAL</td>\n",
       "      <td>59</td>\n",
       "      <td>ELCTR</td>\n",
       "      <td>2009-01-08</td>\n",
       "      <td>5</td>\n",
       "    </tr>\n",
       "  </tbody>\n",
       "</table>\n",
       "</div>"
      ],
      "text/plain": [
       "        complaint_number  status date_entered  house_number   zip_code  \\\n",
       "234435           1245555  CLOSED   2009-01-02  930           10025       \n",
       "234487           1245608  CLOSED   2009-01-02  428           10013       \n",
       "234500           1245621  CLOSED   2009-01-02  146           10001       \n",
       "234513           1245634  CLOSED   2009-01-03  388           10013       \n",
       "234526           1245648  CLOSED   2009-01-03  375           10016       \n",
       "\n",
       "                            house_street special_district complaint_category  \\\n",
       "234435  WEST END AVENUE                       NOT SPECIAL                 58   \n",
       "234487  BROADWAY                              NOT SPECIAL                 23   \n",
       "234500  WEST   28 STREET                      NOT SPECIAL                 63   \n",
       "234513  BROADWAY                              NOT SPECIAL                 56   \n",
       "234526     3 AVENUE                           NOT SPECIAL                 59   \n",
       "\n",
       "         unit inspection_date  days_until_inspection  \n",
       "234435  BOILR      2009-06-02                    151  \n",
       "234487  SCFLD      2009-10-09                    280  \n",
       "234500  ELEVR      2009-01-22                     20  \n",
       "234513  BOILR      2009-01-07                      4  \n",
       "234526  ELCTR      2009-01-08                      5  "
      ]
     },
     "execution_count": 97,
     "metadata": {},
     "output_type": "execute_result"
    }
   ],
   "source": [
    "db.head()"
   ]
  },
  {
   "cell_type": "markdown",
   "metadata": {},
   "source": [
    "## Formatting Zip Codes and Addresses"
   ]
  },
  {
   "cell_type": "markdown",
   "metadata": {},
   "source": [
    "Since there are some entries with missing or corrupted zip codes, we are going to use the contextual address information to impute the correct zip codes. First, we will concatenate the house number and street names. Then, we will add in the correct borough of the address, utilizing the isolated first number from the \"bin\" column. Then, the partial address can be sent to Google's Geocode API, which will return the full address including the zip code."
   ]
  },
  {
   "cell_type": "code",
   "execution_count": 98,
   "metadata": {},
   "outputs": [],
   "source": [
    "# removing whitespace around address info\n",
    "db[\"zip_code\"] = db[\"zip_code\"].str.rstrip()\n",
    "db[\"house_street\"] = db[\"house_street\"].str.rstrip()\n",
    "db[\"house_number\"] = db[\"house_number\"].str.rstrip()"
   ]
  },
  {
   "cell_type": "code",
   "execution_count": 99,
   "metadata": {},
   "outputs": [],
   "source": [
    "# isolating entries with missing zips\n",
    "zip_db = db[db[\"zip_code\"].str.len() < 5].copy()"
   ]
  },
  {
   "cell_type": "code",
   "execution_count": 100,
   "metadata": {},
   "outputs": [],
   "source": [
    "# creating borough mapper\n",
    "borough_codes = {\n",
    "    \"1\": \"Manhattan\",\n",
    "    \"2\": \"Bronx\",\n",
    "    \"3\": \"Brooklyn\",\n",
    "    \"4\": \"Queens\",\n",
    "    \"5\": \"Staten Island\"\n",
    "}"
   ]
  },
  {
   "cell_type": "code",
   "execution_count": 101,
   "metadata": {},
   "outputs": [
    {
     "data": {
      "text/html": [
       "<div>\n",
       "<style scoped>\n",
       "    .dataframe tbody tr th:only-of-type {\n",
       "        vertical-align: middle;\n",
       "    }\n",
       "\n",
       "    .dataframe tbody tr th {\n",
       "        vertical-align: top;\n",
       "    }\n",
       "\n",
       "    .dataframe thead th {\n",
       "        text-align: right;\n",
       "    }\n",
       "</style>\n",
       "<table border=\"1\" class=\"dataframe\">\n",
       "  <thead>\n",
       "    <tr style=\"text-align: right;\">\n",
       "      <th></th>\n",
       "      <th>complaint_number</th>\n",
       "      <th>status</th>\n",
       "      <th>date_entered</th>\n",
       "      <th>house_number</th>\n",
       "      <th>zip_code</th>\n",
       "      <th>house_street</th>\n",
       "      <th>special_district</th>\n",
       "      <th>complaint_category</th>\n",
       "      <th>unit</th>\n",
       "      <th>inspection_date</th>\n",
       "      <th>days_until_inspection</th>\n",
       "      <th>address</th>\n",
       "    </tr>\n",
       "  </thead>\n",
       "  <tbody>\n",
       "    <tr>\n",
       "      <th>335867</th>\n",
       "      <td>1351812</td>\n",
       "      <td>CLOSED</td>\n",
       "      <td>2013-07-02</td>\n",
       "      <td>60</td>\n",
       "      <td></td>\n",
       "      <td>COLLISTER STREET</td>\n",
       "      <td>NOT SPECIAL</td>\n",
       "      <td>59</td>\n",
       "      <td>ELCTR</td>\n",
       "      <td>2013-07-08</td>\n",
       "      <td>6</td>\n",
       "      <td>60 COLLISTER STREET, Manhattan, NY</td>\n",
       "    </tr>\n",
       "    <tr>\n",
       "      <th>658794</th>\n",
       "      <td>2146737</td>\n",
       "      <td>CLOSED</td>\n",
       "      <td>2010-06-21</td>\n",
       "      <td>450</td>\n",
       "      <td></td>\n",
       "      <td>HUTCHINSON RIVER PARKWAY</td>\n",
       "      <td>NOT SPECIAL</td>\n",
       "      <td>67</td>\n",
       "      <td>C &amp; D</td>\n",
       "      <td>2010-07-06</td>\n",
       "      <td>15</td>\n",
       "      <td>450 HUTCHINSON RIVER PARKWAY, Bronx, NY</td>\n",
       "    </tr>\n",
       "    <tr>\n",
       "      <th>1150492</th>\n",
       "      <td>3369005</td>\n",
       "      <td>CLOSED</td>\n",
       "      <td>2011-02-18</td>\n",
       "      <td>639</td>\n",
       "      <td></td>\n",
       "      <td>VANDALIA AVENUE</td>\n",
       "      <td>NOT SPECIAL</td>\n",
       "      <td>4B</td>\n",
       "      <td>SEP</td>\n",
       "      <td>2011-02-22</td>\n",
       "      <td>4</td>\n",
       "      <td>639 VANDALIA AVENUE, Brooklyn, NY</td>\n",
       "    </tr>\n",
       "    <tr>\n",
       "      <th>1201547</th>\n",
       "      <td>3424340</td>\n",
       "      <td>CLOSED</td>\n",
       "      <td>2012-09-15</td>\n",
       "      <td>30</td>\n",
       "      <td></td>\n",
       "      <td>WASHINGTON AVENUE</td>\n",
       "      <td>NOT SPECIAL</td>\n",
       "      <td>04</td>\n",
       "      <td>ERT</td>\n",
       "      <td>2012-09-18</td>\n",
       "      <td>3</td>\n",
       "      <td>30 WASHINGTON AVENUE, Brooklyn, NY</td>\n",
       "    </tr>\n",
       "    <tr>\n",
       "      <th>1977766</th>\n",
       "      <td>4489830</td>\n",
       "      <td>CLOSED</td>\n",
       "      <td>2011-08-02</td>\n",
       "      <td>57-15</td>\n",
       "      <td></td>\n",
       "      <td>72 PLACE</td>\n",
       "      <td>NOT SPECIAL</td>\n",
       "      <td>05</td>\n",
       "      <td>QNS.</td>\n",
       "      <td>2011-10-05</td>\n",
       "      <td>64</td>\n",
       "      <td>57-15   72 PLACE, Queens, NY</td>\n",
       "    </tr>\n",
       "  </tbody>\n",
       "</table>\n",
       "</div>"
      ],
      "text/plain": [
       "         complaint_number  status date_entered house_number zip_code  \\\n",
       "335867            1351812  CLOSED   2013-07-02           60            \n",
       "658794            2146737  CLOSED   2010-06-21          450            \n",
       "1150492           3369005  CLOSED   2011-02-18          639            \n",
       "1201547           3424340  CLOSED   2012-09-15           30            \n",
       "1977766           4489830  CLOSED   2011-08-02        57-15            \n",
       "\n",
       "                     house_street special_district complaint_category   unit  \\\n",
       "335867           COLLISTER STREET      NOT SPECIAL                 59  ELCTR   \n",
       "658794   HUTCHINSON RIVER PARKWAY      NOT SPECIAL                 67  C & D   \n",
       "1150492           VANDALIA AVENUE      NOT SPECIAL                 4B  SEP     \n",
       "1201547         WASHINGTON AVENUE      NOT SPECIAL                 04  ERT     \n",
       "1977766                  72 PLACE      NOT SPECIAL                 05   QNS.   \n",
       "\n",
       "        inspection_date  days_until_inspection  \\\n",
       "335867       2013-07-08                      6   \n",
       "658794       2010-07-06                     15   \n",
       "1150492      2011-02-22                      4   \n",
       "1201547      2012-09-18                      3   \n",
       "1977766      2011-10-05                     64   \n",
       "\n",
       "                                         address  \n",
       "335867        60 COLLISTER STREET, Manhattan, NY  \n",
       "658794   450 HUTCHINSON RIVER PARKWAY, Bronx, NY  \n",
       "1150492        639 VANDALIA AVENUE, Brooklyn, NY  \n",
       "1201547       30 WASHINGTON AVENUE, Brooklyn, NY  \n",
       "1977766             57-15   72 PLACE, Queens, NY  "
      ]
     },
     "execution_count": 101,
     "metadata": {},
     "output_type": "execute_result"
    }
   ],
   "source": [
    "# adding boroughs (first digit of complaint) to addresses with missing zips\n",
    "zip_db[\"address\"] = (zip_db[\"house_number\"] + \" \" +\n",
    "                     zip_db[\"house_street\"] + \", \" + \n",
    "                     zip_db[\"complaint_number\"].apply(lambda x: str(x)[0]).map(borough_codes) + \n",
    "                     \", NY\")\n",
    "zip_db.head()"
   ]
  },
  {
   "cell_type": "markdown",
   "metadata": {},
   "source": [
    "## Scraping Zip Codes - Google Geocoding"
   ]
  },
  {
   "cell_type": "markdown",
   "metadata": {},
   "source": [
    "For the purposes of automation and future scaling, a function will be built that can take in a dataframe containing addresses and request the zip codes from Google. We will begin by securely importing our API key."
   ]
  },
  {
   "cell_type": "code",
   "execution_count": 102,
   "metadata": {},
   "outputs": [],
   "source": [
    "# making var for api key\n",
    "ENV = pd.read_json(\"../env.json\", typ=\"series\")\n",
    "API_KEY = ENV[\"API KEY\"]\n",
    "\n",
    "# setting client with api key\n",
    "gmap_client = googlemaps.client.Client(key=API_KEY)"
   ]
  },
  {
   "cell_type": "markdown",
   "metadata": {},
   "source": [
    "The function we are going to build will simply take in a dataframe with the correct address column. The Google Maps service will take the partial address from the dataframe, and the response will be a JSON object that is converted to a dictionary with each part of the full address as a key:pair entry. This zip code will then be mapped back onto the dataframe's zip code column."
   ]
  },
  {
   "cell_type": "code",
   "execution_count": 103,
   "metadata": {},
   "outputs": [],
   "source": [
    "# building func to fetch zips\n",
    "\n",
    "def zip_finder(df):\n",
    "    \n",
    "    # easy part - loop thru addresses\n",
    "    # run geocode request for each\n",
    "    for address in df[\"address\"]:\n",
    "        print(\"fetching address: \", address)\n",
    "        \n",
    "        # gets full address\n",
    "        full_addr = googlemaps.geocoding.geocode(client=gmap_client,\n",
    "                             address=address)\n",
    "\n",
    "        # isolates just the zip from the full address\n",
    "        for addr_dict in full_addr[0][\"address_components\"]:\n",
    "            if addr_dict[\"types\"] == [\"postal_code\"]:\n",
    "                zip_code = addr_dict[\"short_name\"]\n",
    "        print(\"found zip: \", zip_code)\n",
    "\n",
    "        # connecting found zip back to entry with this address\n",
    "        df.loc[df.index[df[\"address\"] == address], \"zip_code\"] = zip_code\n",
    "        \n",
    "        # spacing requests to not exceed rate limit\n",
    "        time.sleep(0.5)\n",
    "    \n",
    "    return None"
   ]
  },
  {
   "cell_type": "code",
   "execution_count": 104,
   "metadata": {},
   "outputs": [
    {
     "name": "stdout",
     "output_type": "stream",
     "text": [
      "fetching address:  60 COLLISTER STREET, Manhattan, NY\n",
      "found zip:  10013\n",
      "fetching address:  450 HUTCHINSON RIVER PARKWAY, Bronx, NY\n",
      "found zip:  10465\n",
      "fetching address:  639 VANDALIA AVENUE, Brooklyn, NY\n",
      "found zip:  11239\n",
      "fetching address:  30 WASHINGTON AVENUE, Brooklyn, NY\n",
      "found zip:  11205\n",
      "fetching address:  57-15   72 PLACE, Queens, NY\n",
      "found zip:  11385\n",
      "fetching address:  153 HAWTREE BASIN, Queens, NY\n",
      "found zip:  11434\n",
      "fetching address:  3010 VETERANS ROAD WEST, Staten Island, NY\n",
      "found zip:  10309\n"
     ]
    }
   ],
   "source": [
    "zip_finder(zip_db)"
   ]
  },
  {
   "cell_type": "code",
   "execution_count": 105,
   "metadata": {},
   "outputs": [
    {
     "data": {
      "text/html": [
       "<div>\n",
       "<style scoped>\n",
       "    .dataframe tbody tr th:only-of-type {\n",
       "        vertical-align: middle;\n",
       "    }\n",
       "\n",
       "    .dataframe tbody tr th {\n",
       "        vertical-align: top;\n",
       "    }\n",
       "\n",
       "    .dataframe thead th {\n",
       "        text-align: right;\n",
       "    }\n",
       "</style>\n",
       "<table border=\"1\" class=\"dataframe\">\n",
       "  <thead>\n",
       "    <tr style=\"text-align: right;\">\n",
       "      <th></th>\n",
       "      <th>complaint_number</th>\n",
       "      <th>status</th>\n",
       "      <th>date_entered</th>\n",
       "      <th>house_number</th>\n",
       "      <th>zip_code</th>\n",
       "      <th>house_street</th>\n",
       "      <th>special_district</th>\n",
       "      <th>complaint_category</th>\n",
       "      <th>unit</th>\n",
       "      <th>inspection_date</th>\n",
       "      <th>days_until_inspection</th>\n",
       "      <th>address</th>\n",
       "    </tr>\n",
       "  </thead>\n",
       "  <tbody>\n",
       "    <tr>\n",
       "      <th>335867</th>\n",
       "      <td>1351812</td>\n",
       "      <td>CLOSED</td>\n",
       "      <td>2013-07-02</td>\n",
       "      <td>60</td>\n",
       "      <td>10013</td>\n",
       "      <td>COLLISTER STREET</td>\n",
       "      <td>NOT SPECIAL</td>\n",
       "      <td>59</td>\n",
       "      <td>ELCTR</td>\n",
       "      <td>2013-07-08</td>\n",
       "      <td>6</td>\n",
       "      <td>60 COLLISTER STREET, Manhattan, NY</td>\n",
       "    </tr>\n",
       "    <tr>\n",
       "      <th>658794</th>\n",
       "      <td>2146737</td>\n",
       "      <td>CLOSED</td>\n",
       "      <td>2010-06-21</td>\n",
       "      <td>450</td>\n",
       "      <td>10465</td>\n",
       "      <td>HUTCHINSON RIVER PARKWAY</td>\n",
       "      <td>NOT SPECIAL</td>\n",
       "      <td>67</td>\n",
       "      <td>C &amp; D</td>\n",
       "      <td>2010-07-06</td>\n",
       "      <td>15</td>\n",
       "      <td>450 HUTCHINSON RIVER PARKWAY, Bronx, NY</td>\n",
       "    </tr>\n",
       "    <tr>\n",
       "      <th>1150492</th>\n",
       "      <td>3369005</td>\n",
       "      <td>CLOSED</td>\n",
       "      <td>2011-02-18</td>\n",
       "      <td>639</td>\n",
       "      <td>11239</td>\n",
       "      <td>VANDALIA AVENUE</td>\n",
       "      <td>NOT SPECIAL</td>\n",
       "      <td>4B</td>\n",
       "      <td>SEP</td>\n",
       "      <td>2011-02-22</td>\n",
       "      <td>4</td>\n",
       "      <td>639 VANDALIA AVENUE, Brooklyn, NY</td>\n",
       "    </tr>\n",
       "    <tr>\n",
       "      <th>1201547</th>\n",
       "      <td>3424340</td>\n",
       "      <td>CLOSED</td>\n",
       "      <td>2012-09-15</td>\n",
       "      <td>30</td>\n",
       "      <td>11205</td>\n",
       "      <td>WASHINGTON AVENUE</td>\n",
       "      <td>NOT SPECIAL</td>\n",
       "      <td>04</td>\n",
       "      <td>ERT</td>\n",
       "      <td>2012-09-18</td>\n",
       "      <td>3</td>\n",
       "      <td>30 WASHINGTON AVENUE, Brooklyn, NY</td>\n",
       "    </tr>\n",
       "    <tr>\n",
       "      <th>1977766</th>\n",
       "      <td>4489830</td>\n",
       "      <td>CLOSED</td>\n",
       "      <td>2011-08-02</td>\n",
       "      <td>57-15</td>\n",
       "      <td>11385</td>\n",
       "      <td>72 PLACE</td>\n",
       "      <td>NOT SPECIAL</td>\n",
       "      <td>05</td>\n",
       "      <td>QNS.</td>\n",
       "      <td>2011-10-05</td>\n",
       "      <td>64</td>\n",
       "      <td>57-15   72 PLACE, Queens, NY</td>\n",
       "    </tr>\n",
       "  </tbody>\n",
       "</table>\n",
       "</div>"
      ],
      "text/plain": [
       "         complaint_number  status date_entered house_number zip_code  \\\n",
       "335867            1351812  CLOSED   2013-07-02           60    10013   \n",
       "658794            2146737  CLOSED   2010-06-21          450    10465   \n",
       "1150492           3369005  CLOSED   2011-02-18          639    11239   \n",
       "1201547           3424340  CLOSED   2012-09-15           30    11205   \n",
       "1977766           4489830  CLOSED   2011-08-02        57-15    11385   \n",
       "\n",
       "                     house_street special_district complaint_category   unit  \\\n",
       "335867           COLLISTER STREET      NOT SPECIAL                 59  ELCTR   \n",
       "658794   HUTCHINSON RIVER PARKWAY      NOT SPECIAL                 67  C & D   \n",
       "1150492           VANDALIA AVENUE      NOT SPECIAL                 4B  SEP     \n",
       "1201547         WASHINGTON AVENUE      NOT SPECIAL                 04  ERT     \n",
       "1977766                  72 PLACE      NOT SPECIAL                 05   QNS.   \n",
       "\n",
       "        inspection_date  days_until_inspection  \\\n",
       "335867       2013-07-08                      6   \n",
       "658794       2010-07-06                     15   \n",
       "1150492      2011-02-22                      4   \n",
       "1201547      2012-09-18                      3   \n",
       "1977766      2011-10-05                     64   \n",
       "\n",
       "                                         address  \n",
       "335867        60 COLLISTER STREET, Manhattan, NY  \n",
       "658794   450 HUTCHINSON RIVER PARKWAY, Bronx, NY  \n",
       "1150492        639 VANDALIA AVENUE, Brooklyn, NY  \n",
       "1201547       30 WASHINGTON AVENUE, Brooklyn, NY  \n",
       "1977766             57-15   72 PLACE, Queens, NY  "
      ]
     },
     "execution_count": 105,
     "metadata": {},
     "output_type": "execute_result"
    }
   ],
   "source": [
    "zip_db.head()"
   ]
  },
  {
   "cell_type": "markdown",
   "metadata": {},
   "source": [
    "Now that our isolated zip code dataframe has been filled, we can assign those zip codes back onto the original entries in the main dataframe."
   ]
  },
  {
   "cell_type": "code",
   "execution_count": 106,
   "metadata": {},
   "outputs": [],
   "source": [
    "# assigning the located zips back to the original entries\n",
    "db.loc[zip_db.index, \"zip_code\"] = zip_db[\"zip_code\"]"
   ]
  },
  {
   "cell_type": "markdown",
   "metadata": {},
   "source": [
    "## Joining Income Information"
   ]
  },
  {
   "cell_type": "markdown",
   "metadata": {},
   "source": [
    "Now that all of our entries have zip codes, we can merge the income database using the zip codes as the common column."
   ]
  },
  {
   "cell_type": "code",
   "execution_count": 107,
   "metadata": {},
   "outputs": [
    {
     "data": {
      "text/html": [
       "<div>\n",
       "<style scoped>\n",
       "    .dataframe tbody tr th:only-of-type {\n",
       "        vertical-align: middle;\n",
       "    }\n",
       "\n",
       "    .dataframe tbody tr th {\n",
       "        vertical-align: top;\n",
       "    }\n",
       "\n",
       "    .dataframe thead th {\n",
       "        text-align: right;\n",
       "    }\n",
       "</style>\n",
       "<table border=\"1\" class=\"dataframe\">\n",
       "  <thead>\n",
       "    <tr style=\"text-align: right;\">\n",
       "      <th></th>\n",
       "      <th>complaint_number</th>\n",
       "      <th>status</th>\n",
       "      <th>date_entered</th>\n",
       "      <th>house_number</th>\n",
       "      <th>zip_code</th>\n",
       "      <th>house_street</th>\n",
       "      <th>special_district</th>\n",
       "      <th>complaint_category</th>\n",
       "      <th>unit</th>\n",
       "      <th>inspection_date</th>\n",
       "      <th>days_until_inspection</th>\n",
       "      <th>med_inc_zip</th>\n",
       "    </tr>\n",
       "  </thead>\n",
       "  <tbody>\n",
       "    <tr>\n",
       "      <th>0</th>\n",
       "      <td>1245555</td>\n",
       "      <td>CLOSED</td>\n",
       "      <td>2009-01-02</td>\n",
       "      <td>930</td>\n",
       "      <td>10025</td>\n",
       "      <td>WEST END AVENUE</td>\n",
       "      <td>NOT SPECIAL</td>\n",
       "      <td>58</td>\n",
       "      <td>BOILR</td>\n",
       "      <td>2009-06-02</td>\n",
       "      <td>151</td>\n",
       "      <td>82352</td>\n",
       "    </tr>\n",
       "    <tr>\n",
       "      <th>1</th>\n",
       "      <td>1245608</td>\n",
       "      <td>CLOSED</td>\n",
       "      <td>2009-01-02</td>\n",
       "      <td>428</td>\n",
       "      <td>10013</td>\n",
       "      <td>BROADWAY</td>\n",
       "      <td>NOT SPECIAL</td>\n",
       "      <td>23</td>\n",
       "      <td>SCFLD</td>\n",
       "      <td>2009-10-09</td>\n",
       "      <td>280</td>\n",
       "      <td>106056</td>\n",
       "    </tr>\n",
       "    <tr>\n",
       "      <th>2</th>\n",
       "      <td>1245621</td>\n",
       "      <td>CLOSED</td>\n",
       "      <td>2009-01-02</td>\n",
       "      <td>146</td>\n",
       "      <td>10001</td>\n",
       "      <td>WEST   28 STREET</td>\n",
       "      <td>NOT SPECIAL</td>\n",
       "      <td>63</td>\n",
       "      <td>ELEVR</td>\n",
       "      <td>2009-01-22</td>\n",
       "      <td>20</td>\n",
       "      <td>85221</td>\n",
       "    </tr>\n",
       "    <tr>\n",
       "      <th>3</th>\n",
       "      <td>1245634</td>\n",
       "      <td>CLOSED</td>\n",
       "      <td>2009-01-03</td>\n",
       "      <td>388</td>\n",
       "      <td>10013</td>\n",
       "      <td>BROADWAY</td>\n",
       "      <td>NOT SPECIAL</td>\n",
       "      <td>56</td>\n",
       "      <td>BOILR</td>\n",
       "      <td>2009-01-07</td>\n",
       "      <td>4</td>\n",
       "      <td>106056</td>\n",
       "    </tr>\n",
       "    <tr>\n",
       "      <th>4</th>\n",
       "      <td>1245648</td>\n",
       "      <td>CLOSED</td>\n",
       "      <td>2009-01-03</td>\n",
       "      <td>375</td>\n",
       "      <td>10016</td>\n",
       "      <td>3 AVENUE</td>\n",
       "      <td>NOT SPECIAL</td>\n",
       "      <td>59</td>\n",
       "      <td>ELCTR</td>\n",
       "      <td>2009-01-08</td>\n",
       "      <td>5</td>\n",
       "      <td>109250</td>\n",
       "    </tr>\n",
       "  </tbody>\n",
       "</table>\n",
       "</div>"
      ],
      "text/plain": [
       "   complaint_number  status date_entered house_number zip_code  \\\n",
       "0           1245555  CLOSED   2009-01-02          930    10025   \n",
       "1           1245608  CLOSED   2009-01-02          428    10013   \n",
       "2           1245621  CLOSED   2009-01-02          146    10001   \n",
       "3           1245634  CLOSED   2009-01-03          388    10013   \n",
       "4           1245648  CLOSED   2009-01-03          375    10016   \n",
       "\n",
       "       house_street special_district complaint_category   unit  \\\n",
       "0   WEST END AVENUE      NOT SPECIAL                 58  BOILR   \n",
       "1          BROADWAY      NOT SPECIAL                 23  SCFLD   \n",
       "2  WEST   28 STREET      NOT SPECIAL                 63  ELEVR   \n",
       "3          BROADWAY      NOT SPECIAL                 56  BOILR   \n",
       "4          3 AVENUE      NOT SPECIAL                 59  ELCTR   \n",
       "\n",
       "  inspection_date  days_until_inspection med_inc_zip  \n",
       "0      2009-06-02                    151       82352  \n",
       "1      2009-10-09                    280      106056  \n",
       "2      2009-01-22                     20       85221  \n",
       "3      2009-01-07                      4      106056  \n",
       "4      2009-01-08                      5      109250  "
      ]
     },
     "execution_count": 107,
     "metadata": {},
     "output_type": "execute_result"
    }
   ],
   "source": [
    "db = pd.merge(db,\n",
    "         income_db[[\"zip_code\", \"med_inc_zip\"]],\n",
    "         how=\"left\",\n",
    "         on=\"zip_code\")\n",
    "db.head()"
   ]
  },
  {
   "cell_type": "code",
   "execution_count": 108,
   "metadata": {},
   "outputs": [
    {
     "name": "stdout",
     "output_type": "stream",
     "text": [
      "<class 'pandas.core.frame.DataFrame'>\n",
      "Int64Index: 74728 entries, 0 to 74727\n",
      "Data columns (total 12 columns):\n",
      "complaint_number         74728 non-null int64\n",
      "status                   74728 non-null object\n",
      "date_entered             74728 non-null datetime64[ns]\n",
      "house_number             74728 non-null object\n",
      "zip_code                 74728 non-null object\n",
      "house_street             74728 non-null object\n",
      "special_district         74728 non-null object\n",
      "complaint_category       74728 non-null object\n",
      "unit                     74728 non-null object\n",
      "inspection_date          74728 non-null datetime64[ns]\n",
      "days_until_inspection    74728 non-null int64\n",
      "med_inc_zip              74365 non-null object\n",
      "dtypes: datetime64[ns](2), int64(2), object(8)\n",
      "memory usage: 7.4+ MB\n"
     ]
    }
   ],
   "source": [
    "db.info()"
   ]
  },
  {
   "cell_type": "code",
   "execution_count": 111,
   "metadata": {},
   "outputs": [
    {
     "data": {
      "text/plain": [
       "(25, 12)"
      ]
     },
     "execution_count": 111,
     "metadata": {},
     "output_type": "execute_result"
    }
   ],
   "source": [
    "db[db[\"med_inc_zip\"].str.len() < 1].shape"
   ]
  },
  {
   "cell_type": "code",
   "execution_count": 112,
   "metadata": {},
   "outputs": [
    {
     "data": {
      "text/plain": [
       "12"
      ]
     },
     "execution_count": 112,
     "metadata": {},
     "output_type": "execute_result"
    }
   ],
   "source": [
    "db[db[\"med_inc_zip\"].str.len() < 5][\"zip_code\"].nunique()"
   ]
  },
  {
   "cell_type": "markdown",
   "metadata": {},
   "source": [
    "### Blank Income Entries"
   ]
  },
  {
   "cell_type": "markdown",
   "metadata": {},
   "source": [
    "There are some zip codes in the income dataset that did not have entries, creating blank strings in the median income column. For now, we are going to drop the complaints that use these zip codes in order to effectively test out the modeling steps."
   ]
  },
  {
   "cell_type": "code",
   "execution_count": 113,
   "metadata": {},
   "outputs": [],
   "source": [
    "db = db[db[\"med_inc_zip\"].str.len() >= 1]"
   ]
  },
  {
   "cell_type": "markdown",
   "metadata": {},
   "source": [
    "## Handling Nulls"
   ]
  },
  {
   "cell_type": "markdown",
   "metadata": {},
   "source": [
    "We're not finding nulls in our dataset, however, as part of our meta cleaning process, we will drop any null observations.\n",
    "\n",
    "We must account for this in our process as we're assuming these values are missing completely at random, or MCAR."
   ]
  },
  {
   "cell_type": "code",
   "execution_count": 114,
   "metadata": {},
   "outputs": [
    {
     "data": {
      "text/plain": [
       "complaint_number         0\n",
       "status                   0\n",
       "date_entered             0\n",
       "house_number             0\n",
       "zip_code                 0\n",
       "house_street             0\n",
       "special_district         0\n",
       "complaint_category       0\n",
       "unit                     0\n",
       "inspection_date          0\n",
       "days_until_inspection    0\n",
       "med_inc_zip              0\n",
       "dtype: int64"
      ]
     },
     "execution_count": 114,
     "metadata": {},
     "output_type": "execute_result"
    }
   ],
   "source": [
    "db.isnull().sum()"
   ]
  },
  {
   "cell_type": "code",
   "execution_count": 115,
   "metadata": {},
   "outputs": [],
   "source": [
    "db = db.dropna()"
   ]
  },
  {
   "cell_type": "code",
   "execution_count": 116,
   "metadata": {},
   "outputs": [
    {
     "data": {
      "text/plain": [
       "(74340, 12)"
      ]
     },
     "execution_count": 116,
     "metadata": {},
     "output_type": "execute_result"
    }
   ],
   "source": [
    "db.shape"
   ]
  },
  {
   "cell_type": "code",
   "execution_count": 117,
   "metadata": {},
   "outputs": [
    {
     "data": {
      "text/html": [
       "<div>\n",
       "<style scoped>\n",
       "    .dataframe tbody tr th:only-of-type {\n",
       "        vertical-align: middle;\n",
       "    }\n",
       "\n",
       "    .dataframe tbody tr th {\n",
       "        vertical-align: top;\n",
       "    }\n",
       "\n",
       "    .dataframe thead th {\n",
       "        text-align: right;\n",
       "    }\n",
       "</style>\n",
       "<table border=\"1\" class=\"dataframe\">\n",
       "  <thead>\n",
       "    <tr style=\"text-align: right;\">\n",
       "      <th></th>\n",
       "      <th>complaint_number</th>\n",
       "      <th>status</th>\n",
       "      <th>date_entered</th>\n",
       "      <th>house_number</th>\n",
       "      <th>zip_code</th>\n",
       "      <th>house_street</th>\n",
       "      <th>special_district</th>\n",
       "      <th>complaint_category</th>\n",
       "      <th>unit</th>\n",
       "      <th>inspection_date</th>\n",
       "      <th>days_until_inspection</th>\n",
       "      <th>med_inc_zip</th>\n",
       "    </tr>\n",
       "  </thead>\n",
       "  <tbody>\n",
       "    <tr>\n",
       "      <th>0</th>\n",
       "      <td>1245555</td>\n",
       "      <td>CLOSED</td>\n",
       "      <td>2009-01-02</td>\n",
       "      <td>930</td>\n",
       "      <td>10025</td>\n",
       "      <td>WEST END AVENUE</td>\n",
       "      <td>NOT SPECIAL</td>\n",
       "      <td>58</td>\n",
       "      <td>BOILR</td>\n",
       "      <td>2009-06-02</td>\n",
       "      <td>151</td>\n",
       "      <td>82352</td>\n",
       "    </tr>\n",
       "    <tr>\n",
       "      <th>1</th>\n",
       "      <td>1245608</td>\n",
       "      <td>CLOSED</td>\n",
       "      <td>2009-01-02</td>\n",
       "      <td>428</td>\n",
       "      <td>10013</td>\n",
       "      <td>BROADWAY</td>\n",
       "      <td>NOT SPECIAL</td>\n",
       "      <td>23</td>\n",
       "      <td>SCFLD</td>\n",
       "      <td>2009-10-09</td>\n",
       "      <td>280</td>\n",
       "      <td>106056</td>\n",
       "    </tr>\n",
       "    <tr>\n",
       "      <th>2</th>\n",
       "      <td>1245621</td>\n",
       "      <td>CLOSED</td>\n",
       "      <td>2009-01-02</td>\n",
       "      <td>146</td>\n",
       "      <td>10001</td>\n",
       "      <td>WEST   28 STREET</td>\n",
       "      <td>NOT SPECIAL</td>\n",
       "      <td>63</td>\n",
       "      <td>ELEVR</td>\n",
       "      <td>2009-01-22</td>\n",
       "      <td>20</td>\n",
       "      <td>85221</td>\n",
       "    </tr>\n",
       "    <tr>\n",
       "      <th>3</th>\n",
       "      <td>1245634</td>\n",
       "      <td>CLOSED</td>\n",
       "      <td>2009-01-03</td>\n",
       "      <td>388</td>\n",
       "      <td>10013</td>\n",
       "      <td>BROADWAY</td>\n",
       "      <td>NOT SPECIAL</td>\n",
       "      <td>56</td>\n",
       "      <td>BOILR</td>\n",
       "      <td>2009-01-07</td>\n",
       "      <td>4</td>\n",
       "      <td>106056</td>\n",
       "    </tr>\n",
       "    <tr>\n",
       "      <th>4</th>\n",
       "      <td>1245648</td>\n",
       "      <td>CLOSED</td>\n",
       "      <td>2009-01-03</td>\n",
       "      <td>375</td>\n",
       "      <td>10016</td>\n",
       "      <td>3 AVENUE</td>\n",
       "      <td>NOT SPECIAL</td>\n",
       "      <td>59</td>\n",
       "      <td>ELCTR</td>\n",
       "      <td>2009-01-08</td>\n",
       "      <td>5</td>\n",
       "      <td>109250</td>\n",
       "    </tr>\n",
       "  </tbody>\n",
       "</table>\n",
       "</div>"
      ],
      "text/plain": [
       "   complaint_number  status date_entered house_number zip_code  \\\n",
       "0           1245555  CLOSED   2009-01-02          930    10025   \n",
       "1           1245608  CLOSED   2009-01-02          428    10013   \n",
       "2           1245621  CLOSED   2009-01-02          146    10001   \n",
       "3           1245634  CLOSED   2009-01-03          388    10013   \n",
       "4           1245648  CLOSED   2009-01-03          375    10016   \n",
       "\n",
       "       house_street special_district complaint_category   unit  \\\n",
       "0   WEST END AVENUE      NOT SPECIAL                 58  BOILR   \n",
       "1          BROADWAY      NOT SPECIAL                 23  SCFLD   \n",
       "2  WEST   28 STREET      NOT SPECIAL                 63  ELEVR   \n",
       "3          BROADWAY      NOT SPECIAL                 56  BOILR   \n",
       "4          3 AVENUE      NOT SPECIAL                 59  ELCTR   \n",
       "\n",
       "  inspection_date  days_until_inspection med_inc_zip  \n",
       "0      2009-06-02                    151       82352  \n",
       "1      2009-10-09                    280      106056  \n",
       "2      2009-01-22                     20       85221  \n",
       "3      2009-01-07                      4      106056  \n",
       "4      2009-01-08                      5      109250  "
      ]
     },
     "execution_count": 117,
     "metadata": {},
     "output_type": "execute_result"
    }
   ],
   "source": [
    "db.head()"
   ]
  },
  {
   "cell_type": "markdown",
   "metadata": {},
   "source": [
    "# Save cleaned data"
   ]
  },
  {
   "cell_type": "code",
   "execution_count": 120,
   "metadata": {},
   "outputs": [],
   "source": [
    "# saving db\n",
    "db.to_csv(\"./datasets/cleaned.csv\", index=False)"
   ]
  }
 ],
 "metadata": {
  "kernelspec": {
   "display_name": "Python 3",
   "language": "python",
   "name": "python3"
  },
  "language_info": {
   "codemirror_mode": {
    "name": "ipython",
    "version": 3
   },
   "file_extension": ".py",
   "mimetype": "text/x-python",
   "name": "python",
   "nbconvert_exporter": "python",
   "pygments_lexer": "ipython3",
   "version": "3.7.4"
  },
  "toc": {
   "base_numbering": 1,
   "nav_menu": {},
   "number_sections": true,
   "sideBar": true,
   "skip_h1_title": false,
   "title_cell": "Table of Contents",
   "title_sidebar": "Contents",
   "toc_cell": false,
   "toc_position": {},
   "toc_section_display": true,
   "toc_window_display": false
  },
  "varInspector": {
   "cols": {
    "lenName": 16,
    "lenType": 16,
    "lenVar": 40
   },
   "kernels_config": {
    "python": {
     "delete_cmd_postfix": "",
     "delete_cmd_prefix": "del ",
     "library": "var_list.py",
     "varRefreshCmd": "print(var_dic_list())"
    },
    "r": {
     "delete_cmd_postfix": ") ",
     "delete_cmd_prefix": "rm(",
     "library": "var_list.r",
     "varRefreshCmd": "cat(var_dic_list()) "
    }
   },
   "types_to_exclude": [
    "module",
    "function",
    "builtin_function_or_method",
    "instance",
    "_Feature"
   ],
   "window_display": true
  }
 },
 "nbformat": 4,
 "nbformat_minor": 4
}
