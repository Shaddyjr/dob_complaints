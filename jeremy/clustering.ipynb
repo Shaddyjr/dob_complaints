{
 "cells": [
  {
   "cell_type": "markdown",
   "metadata": {},
   "source": [
    "## Imports"
   ]
  },
  {
   "cell_type": "code",
   "execution_count": 1,
   "metadata": {},
   "outputs": [],
   "source": [
    "import scipy\n",
    "import numpy as np\n",
    "import pandas as pd\n",
    "import matplotlib.pyplot as plt \n",
    "import seaborn as sns\n",
    "import math\n",
    "\n",
    "from sklearn.preprocessing import StandardScaler\n",
    "from sklearn.cluster import DBSCAN, KMeans\n",
    "from sklearn.metrics import silhouette_score\n",
    "from kmodes.kmodes import KModes\n",
    "from kmodes.kprototypes import KPrototypes"
   ]
  },
  {
   "cell_type": "markdown",
   "metadata": {},
   "source": [
    "## Reading in Data"
   ]
  },
  {
   "cell_type": "code",
   "execution_count": 6,
   "metadata": {},
   "outputs": [
    {
     "data": {
      "text/html": [
       "<div>\n",
       "<style scoped>\n",
       "    .dataframe tbody tr th:only-of-type {\n",
       "        vertical-align: middle;\n",
       "    }\n",
       "\n",
       "    .dataframe tbody tr th {\n",
       "        vertical-align: top;\n",
       "    }\n",
       "\n",
       "    .dataframe thead th {\n",
       "        text-align: right;\n",
       "    }\n",
       "</style>\n",
       "<table border=\"1\" class=\"dataframe\">\n",
       "  <thead>\n",
       "    <tr style=\"text-align: right;\">\n",
       "      <th></th>\n",
       "      <th>complaint_number</th>\n",
       "      <th>status</th>\n",
       "      <th>date_entered</th>\n",
       "      <th>house_number</th>\n",
       "      <th>zip_code</th>\n",
       "      <th>house_street</th>\n",
       "      <th>special_district</th>\n",
       "      <th>complaint_category</th>\n",
       "      <th>unit</th>\n",
       "      <th>inspection_date</th>\n",
       "      <th>days_until_inspection</th>\n",
       "      <th>med_inc_zip</th>\n",
       "    </tr>\n",
       "  </thead>\n",
       "  <tbody>\n",
       "    <tr>\n",
       "      <th>0</th>\n",
       "      <td>1245555</td>\n",
       "      <td>CLOSED</td>\n",
       "      <td>2009-01-02</td>\n",
       "      <td>930</td>\n",
       "      <td>10025</td>\n",
       "      <td>WEST END AVENUE</td>\n",
       "      <td>NOT SPECIAL</td>\n",
       "      <td>58</td>\n",
       "      <td>BOILR</td>\n",
       "      <td>2009-06-02</td>\n",
       "      <td>151</td>\n",
       "      <td>82352</td>\n",
       "    </tr>\n",
       "    <tr>\n",
       "      <th>1</th>\n",
       "      <td>1245608</td>\n",
       "      <td>CLOSED</td>\n",
       "      <td>2009-01-02</td>\n",
       "      <td>428</td>\n",
       "      <td>10013</td>\n",
       "      <td>BROADWAY</td>\n",
       "      <td>NOT SPECIAL</td>\n",
       "      <td>23</td>\n",
       "      <td>SCFLD</td>\n",
       "      <td>2009-10-09</td>\n",
       "      <td>280</td>\n",
       "      <td>106056</td>\n",
       "    </tr>\n",
       "    <tr>\n",
       "      <th>2</th>\n",
       "      <td>1245621</td>\n",
       "      <td>CLOSED</td>\n",
       "      <td>2009-01-02</td>\n",
       "      <td>146</td>\n",
       "      <td>10001</td>\n",
       "      <td>WEST   28 STREET</td>\n",
       "      <td>NOT SPECIAL</td>\n",
       "      <td>63</td>\n",
       "      <td>ELEVR</td>\n",
       "      <td>2009-01-22</td>\n",
       "      <td>20</td>\n",
       "      <td>85221</td>\n",
       "    </tr>\n",
       "    <tr>\n",
       "      <th>3</th>\n",
       "      <td>1245634</td>\n",
       "      <td>CLOSED</td>\n",
       "      <td>2009-01-03</td>\n",
       "      <td>388</td>\n",
       "      <td>10013</td>\n",
       "      <td>BROADWAY</td>\n",
       "      <td>NOT SPECIAL</td>\n",
       "      <td>56</td>\n",
       "      <td>BOILR</td>\n",
       "      <td>2009-01-07</td>\n",
       "      <td>4</td>\n",
       "      <td>106056</td>\n",
       "    </tr>\n",
       "    <tr>\n",
       "      <th>4</th>\n",
       "      <td>1245648</td>\n",
       "      <td>CLOSED</td>\n",
       "      <td>2009-01-03</td>\n",
       "      <td>375</td>\n",
       "      <td>10016</td>\n",
       "      <td>3 AVENUE</td>\n",
       "      <td>NOT SPECIAL</td>\n",
       "      <td>59</td>\n",
       "      <td>ELCTR</td>\n",
       "      <td>2009-01-08</td>\n",
       "      <td>5</td>\n",
       "      <td>109250</td>\n",
       "    </tr>\n",
       "  </tbody>\n",
       "</table>\n",
       "</div>"
      ],
      "text/plain": [
       "   complaint_number  status date_entered house_number  zip_code  \\\n",
       "0           1245555  CLOSED   2009-01-02          930     10025   \n",
       "1           1245608  CLOSED   2009-01-02          428     10013   \n",
       "2           1245621  CLOSED   2009-01-02          146     10001   \n",
       "3           1245634  CLOSED   2009-01-03          388     10013   \n",
       "4           1245648  CLOSED   2009-01-03          375     10016   \n",
       "\n",
       "       house_street special_district complaint_category   unit  \\\n",
       "0   WEST END AVENUE      NOT SPECIAL                 58  BOILR   \n",
       "1          BROADWAY      NOT SPECIAL                 23  SCFLD   \n",
       "2  WEST   28 STREET      NOT SPECIAL                 63  ELEVR   \n",
       "3          BROADWAY      NOT SPECIAL                 56  BOILR   \n",
       "4          3 AVENUE      NOT SPECIAL                 59  ELCTR   \n",
       "\n",
       "  inspection_date  days_until_inspection  med_inc_zip  \n",
       "0      2009-06-02                    151        82352  \n",
       "1      2009-10-09                    280       106056  \n",
       "2      2009-01-22                     20        85221  \n",
       "3      2009-01-07                      4       106056  \n",
       "4      2009-01-08                      5       109250  "
      ]
     },
     "execution_count": 6,
     "metadata": {},
     "output_type": "execute_result"
    }
   ],
   "source": [
    "db = pd.read_csv(\"./datasets/cleaned.csv\", )\n",
    "db.head()"
   ]
  },
  {
   "cell_type": "markdown",
   "metadata": {},
   "source": [
    "## Preprocessing"
   ]
  },
  {
   "cell_type": "code",
   "execution_count": 18,
   "metadata": {},
   "outputs": [],
   "source": [
    "drop_cols = [\n",
    "    \"complaint_number\",\n",
    "    \"days_until_inspection\",\n",
    "    \"status\",\n",
    "    \"house_number\",\n",
    "    \"house_street\",\n",
    "]\n",
    "X = db.drop(columns=drop_cols)"
   ]
  },
  {
   "cell_type": "markdown",
   "metadata": {},
   "source": [
    "## Clustering"
   ]
  },
  {
   "cell_type": "markdown",
   "metadata": {},
   "source": [
    "Since the dataset contains mostly categorical data and some numerical data as well, using a typical clustering algorithm like KMeans will not work. While we can one-hot encode the categorical columns, this does not give an effective range of numbers to base distances off of, so a more advanced method will be used, KPrototypes. This alogrithm splits the categorical and numerical data apart, and then applies KModes and KMeans, respectively, to the features to create the most appropriate clusters."
   ]
  },
  {
   "cell_type": "code",
   "execution_count": 20,
   "metadata": {},
   "outputs": [
    {
     "data": {
      "text/html": [
       "<div>\n",
       "<style scoped>\n",
       "    .dataframe tbody tr th:only-of-type {\n",
       "        vertical-align: middle;\n",
       "    }\n",
       "\n",
       "    .dataframe tbody tr th {\n",
       "        vertical-align: top;\n",
       "    }\n",
       "\n",
       "    .dataframe thead th {\n",
       "        text-align: right;\n",
       "    }\n",
       "</style>\n",
       "<table border=\"1\" class=\"dataframe\">\n",
       "  <thead>\n",
       "    <tr style=\"text-align: right;\">\n",
       "      <th></th>\n",
       "      <th>date_entered</th>\n",
       "      <th>zip_code</th>\n",
       "      <th>special_district</th>\n",
       "      <th>complaint_category</th>\n",
       "      <th>unit</th>\n",
       "      <th>inspection_date</th>\n",
       "      <th>med_inc_zip</th>\n",
       "    </tr>\n",
       "  </thead>\n",
       "  <tbody>\n",
       "    <tr>\n",
       "      <th>0</th>\n",
       "      <td>2009-01-02</td>\n",
       "      <td>10025</td>\n",
       "      <td>NOT SPECIAL</td>\n",
       "      <td>58</td>\n",
       "      <td>BOILR</td>\n",
       "      <td>2009-06-02</td>\n",
       "      <td>82352</td>\n",
       "    </tr>\n",
       "    <tr>\n",
       "      <th>1</th>\n",
       "      <td>2009-01-02</td>\n",
       "      <td>10013</td>\n",
       "      <td>NOT SPECIAL</td>\n",
       "      <td>23</td>\n",
       "      <td>SCFLD</td>\n",
       "      <td>2009-10-09</td>\n",
       "      <td>106056</td>\n",
       "    </tr>\n",
       "    <tr>\n",
       "      <th>2</th>\n",
       "      <td>2009-01-02</td>\n",
       "      <td>10001</td>\n",
       "      <td>NOT SPECIAL</td>\n",
       "      <td>63</td>\n",
       "      <td>ELEVR</td>\n",
       "      <td>2009-01-22</td>\n",
       "      <td>85221</td>\n",
       "    </tr>\n",
       "    <tr>\n",
       "      <th>3</th>\n",
       "      <td>2009-01-03</td>\n",
       "      <td>10013</td>\n",
       "      <td>NOT SPECIAL</td>\n",
       "      <td>56</td>\n",
       "      <td>BOILR</td>\n",
       "      <td>2009-01-07</td>\n",
       "      <td>106056</td>\n",
       "    </tr>\n",
       "    <tr>\n",
       "      <th>4</th>\n",
       "      <td>2009-01-03</td>\n",
       "      <td>10016</td>\n",
       "      <td>NOT SPECIAL</td>\n",
       "      <td>59</td>\n",
       "      <td>ELCTR</td>\n",
       "      <td>2009-01-08</td>\n",
       "      <td>109250</td>\n",
       "    </tr>\n",
       "  </tbody>\n",
       "</table>\n",
       "</div>"
      ],
      "text/plain": [
       "  date_entered  zip_code special_district complaint_category   unit  \\\n",
       "0   2009-01-02     10025      NOT SPECIAL                 58  BOILR   \n",
       "1   2009-01-02     10013      NOT SPECIAL                 23  SCFLD   \n",
       "2   2009-01-02     10001      NOT SPECIAL                 63  ELEVR   \n",
       "3   2009-01-03     10013      NOT SPECIAL                 56  BOILR   \n",
       "4   2009-01-03     10016      NOT SPECIAL                 59  ELCTR   \n",
       "\n",
       "  inspection_date  med_inc_zip  \n",
       "0      2009-06-02        82352  \n",
       "1      2009-10-09       106056  \n",
       "2      2009-01-22        85221  \n",
       "3      2009-01-07       106056  \n",
       "4      2009-01-08       109250  "
      ]
     },
     "execution_count": 20,
     "metadata": {},
     "output_type": "execute_result"
    }
   ],
   "source": [
    "# refreshing on which columns are categorical\n",
    "X.head()"
   ]
  },
  {
   "cell_type": "code",
   "execution_count": 22,
   "metadata": {},
   "outputs": [],
   "source": [
    "# trying kprotypes\n",
    "kp = KPrototypes(n_clusters=5, random_state=42)"
   ]
  },
  {
   "cell_type": "code",
   "execution_count": 23,
   "metadata": {},
   "outputs": [],
   "source": [
    "kp_model = kp.fit(X, categorical=[0,1,2,3,4,5])"
   ]
  },
  {
   "cell_type": "code",
   "execution_count": null,
   "metadata": {},
   "outputs": [],
   "source": [
    "kp_model."
   ]
  }
 ],
 "metadata": {
  "kernelspec": {
   "display_name": "Python 3",
   "language": "python",
   "name": "python3"
  },
  "language_info": {
   "codemirror_mode": {
    "name": "ipython",
    "version": 3
   },
   "file_extension": ".py",
   "mimetype": "text/x-python",
   "name": "python",
   "nbconvert_exporter": "python",
   "pygments_lexer": "ipython3",
   "version": "3.7.4"
  }
 },
 "nbformat": 4,
 "nbformat_minor": 2
}
