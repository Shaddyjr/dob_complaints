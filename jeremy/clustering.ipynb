{
 "cells": [
  {
   "cell_type": "markdown",
   "metadata": {},
   "source": [
    "## Imports"
   ]
  },
  {
   "cell_type": "code",
   "execution_count": 1,
   "metadata": {},
   "outputs": [],
   "source": [
    "import scipy\n",
    "import numpy as np\n",
    "import pandas as pd\n",
    "import matplotlib.pyplot as plt \n",
    "import seaborn as sns\n",
    "import math\n",
    "import pickle\n",
    "\n",
    "from sklearn.preprocessing import StandardScaler\n",
    "from sklearn.cluster import DBSCAN, KMeans, AgglomerativeClustering\n",
    "import scipy.cluster.hierarchy as sch\n",
    "from sklearn.metrics import silhouette_score\n",
    "from kmodes.kmodes import KModes\n",
    "from kmodes.kprototypes import KPrototypes"
   ]
  },
  {
   "cell_type": "markdown",
   "metadata": {},
   "source": [
    "## Reading in Data"
   ]
  },
  {
   "cell_type": "code",
   "execution_count": 2,
   "metadata": {},
   "outputs": [
    {
     "data": {
      "text/html": [
       "<div>\n",
       "<style scoped>\n",
       "    .dataframe tbody tr th:only-of-type {\n",
       "        vertical-align: middle;\n",
       "    }\n",
       "\n",
       "    .dataframe tbody tr th {\n",
       "        vertical-align: top;\n",
       "    }\n",
       "\n",
       "    .dataframe thead th {\n",
       "        text-align: right;\n",
       "    }\n",
       "</style>\n",
       "<table border=\"1\" class=\"dataframe\">\n",
       "  <thead>\n",
       "    <tr style=\"text-align: right;\">\n",
       "      <th></th>\n",
       "      <th>complaint_number</th>\n",
       "      <th>status</th>\n",
       "      <th>date_entered</th>\n",
       "      <th>house_number</th>\n",
       "      <th>zip_code</th>\n",
       "      <th>house_street</th>\n",
       "      <th>special_district</th>\n",
       "      <th>complaint_category</th>\n",
       "      <th>unit</th>\n",
       "      <th>inspection_date</th>\n",
       "      <th>days_until_inspection</th>\n",
       "      <th>med_inc_zip</th>\n",
       "    </tr>\n",
       "  </thead>\n",
       "  <tbody>\n",
       "    <tr>\n",
       "      <th>0</th>\n",
       "      <td>1245555</td>\n",
       "      <td>CLOSED</td>\n",
       "      <td>2009-01-02</td>\n",
       "      <td>930</td>\n",
       "      <td>10025</td>\n",
       "      <td>WEST END AVENUE</td>\n",
       "      <td>NOT SPECIAL</td>\n",
       "      <td>58</td>\n",
       "      <td>BOILR</td>\n",
       "      <td>2009-06-02</td>\n",
       "      <td>151</td>\n",
       "      <td>82352</td>\n",
       "    </tr>\n",
       "    <tr>\n",
       "      <th>1</th>\n",
       "      <td>1245608</td>\n",
       "      <td>CLOSED</td>\n",
       "      <td>2009-01-02</td>\n",
       "      <td>428</td>\n",
       "      <td>10013</td>\n",
       "      <td>BROADWAY</td>\n",
       "      <td>NOT SPECIAL</td>\n",
       "      <td>23</td>\n",
       "      <td>SCFLD</td>\n",
       "      <td>2009-10-09</td>\n",
       "      <td>280</td>\n",
       "      <td>106056</td>\n",
       "    </tr>\n",
       "    <tr>\n",
       "      <th>2</th>\n",
       "      <td>1245621</td>\n",
       "      <td>CLOSED</td>\n",
       "      <td>2009-01-02</td>\n",
       "      <td>146</td>\n",
       "      <td>10001</td>\n",
       "      <td>WEST   28 STREET</td>\n",
       "      <td>NOT SPECIAL</td>\n",
       "      <td>63</td>\n",
       "      <td>ELEVR</td>\n",
       "      <td>2009-01-22</td>\n",
       "      <td>20</td>\n",
       "      <td>85221</td>\n",
       "    </tr>\n",
       "    <tr>\n",
       "      <th>3</th>\n",
       "      <td>1245634</td>\n",
       "      <td>CLOSED</td>\n",
       "      <td>2009-01-03</td>\n",
       "      <td>388</td>\n",
       "      <td>10013</td>\n",
       "      <td>BROADWAY</td>\n",
       "      <td>NOT SPECIAL</td>\n",
       "      <td>56</td>\n",
       "      <td>BOILR</td>\n",
       "      <td>2009-01-07</td>\n",
       "      <td>4</td>\n",
       "      <td>106056</td>\n",
       "    </tr>\n",
       "    <tr>\n",
       "      <th>4</th>\n",
       "      <td>1245648</td>\n",
       "      <td>CLOSED</td>\n",
       "      <td>2009-01-03</td>\n",
       "      <td>375</td>\n",
       "      <td>10016</td>\n",
       "      <td>3 AVENUE</td>\n",
       "      <td>NOT SPECIAL</td>\n",
       "      <td>59</td>\n",
       "      <td>ELCTR</td>\n",
       "      <td>2009-01-08</td>\n",
       "      <td>5</td>\n",
       "      <td>109250</td>\n",
       "    </tr>\n",
       "  </tbody>\n",
       "</table>\n",
       "</div>"
      ],
      "text/plain": [
       "   complaint_number  status date_entered house_number  zip_code  \\\n",
       "0           1245555  CLOSED   2009-01-02          930     10025   \n",
       "1           1245608  CLOSED   2009-01-02          428     10013   \n",
       "2           1245621  CLOSED   2009-01-02          146     10001   \n",
       "3           1245634  CLOSED   2009-01-03          388     10013   \n",
       "4           1245648  CLOSED   2009-01-03          375     10016   \n",
       "\n",
       "       house_street special_district complaint_category   unit  \\\n",
       "0   WEST END AVENUE      NOT SPECIAL                 58  BOILR   \n",
       "1          BROADWAY      NOT SPECIAL                 23  SCFLD   \n",
       "2  WEST   28 STREET      NOT SPECIAL                 63  ELEVR   \n",
       "3          BROADWAY      NOT SPECIAL                 56  BOILR   \n",
       "4          3 AVENUE      NOT SPECIAL                 59  ELCTR   \n",
       "\n",
       "  inspection_date  days_until_inspection  med_inc_zip  \n",
       "0      2009-06-02                    151        82352  \n",
       "1      2009-10-09                    280       106056  \n",
       "2      2009-01-22                     20        85221  \n",
       "3      2009-01-07                      4       106056  \n",
       "4      2009-01-08                      5       109250  "
      ]
     },
     "execution_count": 2,
     "metadata": {},
     "output_type": "execute_result"
    }
   ],
   "source": [
    "db = pd.read_csv(\"../datasets/cleaned.csv\", )\n",
    "db.head()"
   ]
  },
  {
   "cell_type": "markdown",
   "metadata": {},
   "source": [
    "## Preprocessing"
   ]
  },
  {
   "cell_type": "markdown",
   "metadata": {},
   "source": []
  },
  {
   "cell_type": "code",
   "execution_count": 3,
   "metadata": {},
   "outputs": [],
   "source": [
    "drop_cols = [\n",
    "    \"complaint_number\",\n",
    "    \"days_until_inspection\",\n",
    "    \"status\",\n",
    "    \"house_number\",\n",
    "    \"house_street\",\n",
    "]\n",
    "clustering_db = db.drop(columns=drop_cols)"
   ]
  },
  {
   "cell_type": "markdown",
   "metadata": {},
   "source": [
    "## Clustering"
   ]
  },
  {
   "cell_type": "markdown",
   "metadata": {},
   "source": [
    "Since the dataset contains mostly categorical data and some numerical data as well, using a typical clustering algorithm like KMeans will not work. While we can one-hot encode the categorical columns, this does not give an effective range of numbers to base distances off of, so a more advanced method will be used, KPrototypes. This alogrithm splits the categorical and numerical data apart, and then applies KModes and KMeans, respectively, to the features to create the most appropriate clusters."
   ]
  },
  {
   "cell_type": "code",
   "execution_count": 4,
   "metadata": {},
   "outputs": [
    {
     "data": {
      "text/html": [
       "<div>\n",
       "<style scoped>\n",
       "    .dataframe tbody tr th:only-of-type {\n",
       "        vertical-align: middle;\n",
       "    }\n",
       "\n",
       "    .dataframe tbody tr th {\n",
       "        vertical-align: top;\n",
       "    }\n",
       "\n",
       "    .dataframe thead th {\n",
       "        text-align: right;\n",
       "    }\n",
       "</style>\n",
       "<table border=\"1\" class=\"dataframe\">\n",
       "  <thead>\n",
       "    <tr style=\"text-align: right;\">\n",
       "      <th></th>\n",
       "      <th>date_entered</th>\n",
       "      <th>zip_code</th>\n",
       "      <th>special_district</th>\n",
       "      <th>complaint_category</th>\n",
       "      <th>unit</th>\n",
       "      <th>inspection_date</th>\n",
       "      <th>med_inc_zip</th>\n",
       "    </tr>\n",
       "  </thead>\n",
       "  <tbody>\n",
       "    <tr>\n",
       "      <th>0</th>\n",
       "      <td>2009-01-02</td>\n",
       "      <td>10025</td>\n",
       "      <td>NOT SPECIAL</td>\n",
       "      <td>58</td>\n",
       "      <td>BOILR</td>\n",
       "      <td>2009-06-02</td>\n",
       "      <td>82352</td>\n",
       "    </tr>\n",
       "    <tr>\n",
       "      <th>1</th>\n",
       "      <td>2009-01-02</td>\n",
       "      <td>10013</td>\n",
       "      <td>NOT SPECIAL</td>\n",
       "      <td>23</td>\n",
       "      <td>SCFLD</td>\n",
       "      <td>2009-10-09</td>\n",
       "      <td>106056</td>\n",
       "    </tr>\n",
       "    <tr>\n",
       "      <th>2</th>\n",
       "      <td>2009-01-02</td>\n",
       "      <td>10001</td>\n",
       "      <td>NOT SPECIAL</td>\n",
       "      <td>63</td>\n",
       "      <td>ELEVR</td>\n",
       "      <td>2009-01-22</td>\n",
       "      <td>85221</td>\n",
       "    </tr>\n",
       "    <tr>\n",
       "      <th>3</th>\n",
       "      <td>2009-01-03</td>\n",
       "      <td>10013</td>\n",
       "      <td>NOT SPECIAL</td>\n",
       "      <td>56</td>\n",
       "      <td>BOILR</td>\n",
       "      <td>2009-01-07</td>\n",
       "      <td>106056</td>\n",
       "    </tr>\n",
       "    <tr>\n",
       "      <th>4</th>\n",
       "      <td>2009-01-03</td>\n",
       "      <td>10016</td>\n",
       "      <td>NOT SPECIAL</td>\n",
       "      <td>59</td>\n",
       "      <td>ELCTR</td>\n",
       "      <td>2009-01-08</td>\n",
       "      <td>109250</td>\n",
       "    </tr>\n",
       "  </tbody>\n",
       "</table>\n",
       "</div>"
      ],
      "text/plain": [
       "  date_entered  zip_code special_district complaint_category   unit  \\\n",
       "0   2009-01-02     10025      NOT SPECIAL                 58  BOILR   \n",
       "1   2009-01-02     10013      NOT SPECIAL                 23  SCFLD   \n",
       "2   2009-01-02     10001      NOT SPECIAL                 63  ELEVR   \n",
       "3   2009-01-03     10013      NOT SPECIAL                 56  BOILR   \n",
       "4   2009-01-03     10016      NOT SPECIAL                 59  ELCTR   \n",
       "\n",
       "  inspection_date  med_inc_zip  \n",
       "0      2009-06-02        82352  \n",
       "1      2009-10-09       106056  \n",
       "2      2009-01-22        85221  \n",
       "3      2009-01-07       106056  \n",
       "4      2009-01-08       109250  "
      ]
     },
     "execution_count": 4,
     "metadata": {},
     "output_type": "execute_result"
    }
   ],
   "source": [
    "# refreshing on which columns are categorical\n",
    "X.head()"
   ]
  },
  {
   "cell_type": "markdown",
   "metadata": {},
   "source": [
    "## K-Modes Clustering"
   ]
  },
  {
   "cell_type": "markdown",
   "metadata": {},
   "source": [
    "In order to find further connections between the complaint entries that may help the modeling phase, we are going to apply clustering as a form of EDA and feature engineering. As most of the data here is categorical, we are going to use the KModes modeling technique, which is an adaptation of KMeans clustering. As categorical data cannot truly have distances between values, KMeans is not an accurate tool for this scenario. Instead of numerical distances, KModes utilizes each row's combined values of each category (column, or feature), and determines for each cluster what the mode of that category  is. For each row, the number of columns where these values differs becomes the \"distance\". In this way, the algorithm can still determine the similarity and difference between the entries and the cluster \"centroids\"."
   ]
  },
  {
   "cell_type": "markdown",
   "metadata": {},
   "source": [
    "For this process, we are only interested in the categorical columns that are going to have an impact on the modeling phase. Complaint status, address, and others are not needed for this analysis so they can be dropped. The included zip code median income will also be dropped as it is a continuous numerical feature and will not be available for the KModes algorithm."
   ]
  },
  {
   "cell_type": "code",
   "execution_count": 5,
   "metadata": {},
   "outputs": [],
   "source": [
    "drop_cols = [\n",
    "    \"complaint_number\",\n",
    "    \"status\",\n",
    "    \"date_entered\",\n",
    "    \"house_number\",\n",
    "    \"house_street\",\n",
    "    \"inspection_date\",\n",
    "    \"days_until_inspection\",\n",
    "    \"med_inc_zip\"\n",
    "]"
   ]
  },
  {
   "cell_type": "markdown",
   "metadata": {},
   "source": [
    "One of the difficult parts of clustering analysis is to determine the optimal number of clusters to choose (when using algorithms that cannot determine this on their own). To aid in this determination, we will loop through a range of cluster numbers, and analyze each model's cost, defined in the library documentation as the sum distance of all points to their respective cluster centroids, to determine the optimal number of clusters.\n",
    "\n",
    "We will create a dictionary to store each of the model instances, with the number of clusters being used at the key for each model. We will also separately store the costs for each model to easily access these values. The targeted range of cluster numbers will be all numbers from 3 to 20."
   ]
  },
  {
   "cell_type": "code",
   "execution_count": 30,
   "metadata": {},
   "outputs": [
    {
     "name": "stdout",
     "output_type": "stream",
     "text": [
      "Initialization method and algorithm are deterministic. Setting n_init to 1.\n",
      "Initialization method and algorithm are deterministic. Setting n_init to 1.\n",
      "Initialization method and algorithm are deterministic. Setting n_init to 1.\n",
      "Initialization method and algorithm are deterministic. Setting n_init to 1.\n",
      "Initialization method and algorithm are deterministic. Setting n_init to 1.\n",
      "Initialization method and algorithm are deterministic. Setting n_init to 1.\n",
      "Initialization method and algorithm are deterministic. Setting n_init to 1.\n",
      "Initialization method and algorithm are deterministic. Setting n_init to 1.\n",
      "Initialization method and algorithm are deterministic. Setting n_init to 1.\n",
      "Initialization method and algorithm are deterministic. Setting n_init to 1.\n",
      "Initialization method and algorithm are deterministic. Setting n_init to 1.\n",
      "Initialization method and algorithm are deterministic. Setting n_init to 1.\n",
      "Initialization method and algorithm are deterministic. Setting n_init to 1.\n",
      "Initialization method and algorithm are deterministic. Setting n_init to 1.\n",
      "Initialization method and algorithm are deterministic. Setting n_init to 1.\n",
      "Initialization method and algorithm are deterministic. Setting n_init to 1.\n",
      "Initialization method and algorithm are deterministic. Setting n_init to 1.\n",
      "Initialization method and algorithm are deterministic. Setting n_init to 1.\n"
     ]
    }
   ],
   "source": [
    "# setting dictionary and lists to store models/results\n",
    "km_models = {}\n",
    "n_clusters = []\n",
    "km_costs = []\n",
    "\n",
    "# looping through cluster range\n",
    "for i in range(3, 21, 1):\n",
    "    print(\"running KModes with \", i, \"clusters\")\n",
    "    \n",
    "    # \n",
    "    n_clusters.append(i)\n",
    "    km = KModes(n_clusters=i, n_init=10, random_state=42, n_jobs=-1, verbose=2)\n",
    "    km_model = km.fit(X.drop(columns=drop_cols))\n",
    "    km_models[i] = km_model\n",
    "    km_costs.append(km_model.cost_)\n",
    "    "
   ]
  },
  {
   "cell_type": "code",
   "execution_count": 33,
   "metadata": {},
   "outputs": [],
   "source": [
    "km_diffs = [0]\n",
    "for i, cost in enumerate(km_costs[1:]):\n",
    "    i_diff = cost - km_costs[i]\n",
    "    km_diffs.append(i_diff)"
   ]
  },
  {
   "cell_type": "code",
   "execution_count": 42,
   "metadata": {},
   "outputs": [
    {
     "data": {
      "image/png": "[encoded data removed]",
      "text/plain": [
       "<Figure size 648x432 with 1 Axes>"
      ]
     },
     "metadata": {
      "needs_background": "light"
     },
     "output_type": "display_data"
    }
   ],
   "source": [
    "plt.figure(figsize=(9, 6))\n",
    "plt.plot(n_clusters, km_costs)\n",
    "plt.title(\"Improvement of Model Cost with Increasing Clusters\", size=20)\n",
    "plt.xticks(range(3, 21, 1))\n",
    "plt.xlabel(\"Number of Clusters\", size=15)\n",
    "plt.ylabel(\"Model Cost\", size=15);"
   ]
  },
  {
   "cell_type": "markdown",
   "metadata": {},
   "source": [
    "When trying to identify the optimal number of clusters for use for modeling, it can be useful to identify an inflection point in the imetric curve, such as the \"costs\" displayed here. However, this curve does not have a single clear point to choose from. We will take a deeper look at the difference between these costs."
   ]
  },
  {
   "cell_type": "code",
   "execution_count": 46,
   "metadata": {},
   "outputs": [
    {
     "data": {
      "text/plain": [
       "Text(0, 0.5, 'Change in Cost from Previous Model')"
      ]
     },
     "execution_count": 46,
     "metadata": {},
     "output_type": "execute_result"
    },
    {
     "data": {
      "image/png": "[encoded data removed]",
      "text/plain": [
       "<Figure size 648x432 with 1 Axes>"
      ]
     },
     "metadata": {
      "needs_background": "light"
     },
     "output_type": "display_data"
    }
   ],
   "source": [
    "plt.figure(figsize=(9, 6))\n",
    "plt.plot(n_clusters, km_diffs)\n",
    "plt.title(\"Relative Change in Model Costs Between Cluster Counts\", size=20)\n",
    "plt.xticks(range(3, 21, 1))\n",
    "plt.xlabel(\"Number of Clusters\", size=15)\n",
    "plt.ylabel(\"Change in Cost from Previous Model\", size=15)"
   ]
  },
  {
   "cell_type": "code",
   "execution_count": 15,
   "metadata": {},
   "outputs": [
    {
     "name": "stdout",
     "output_type": "stream",
     "text": [
      "Initialization method and algorithm are deterministic. Setting n_init to 1.\n"
     ]
    }
   ],
   "source": [
    "# kmodes = KModes(n_clusters=4, n_init=10, random_state=42, n_jobs=-1, verbose=1)"
   ]
  },
  {
   "cell_type": "code",
   "execution_count": 7,
   "metadata": {},
   "outputs": [],
   "source": [
    "# kmodes_model = kmodes.fit(X.drop(columns=drop_cols))"
   ]
  },
  {
   "cell_type": "code",
   "execution_count": 28,
   "metadata": {},
   "outputs": [],
   "source": [
    "# # making new file\n",
    "# outfile = open(\"kmodes_n4_pickle\", \"wb\")\n",
    "\n",
    "# # dumping model to pickle\n",
    "# pickle.dump(kmodes_model, outfile)\n",
    "\n",
    "# # closing new file\n",
    "# outfile.close()"
   ]
  },
  {
   "cell_type": "code",
   "execution_count": 8,
   "metadata": {},
   "outputs": [],
   "source": [
    "# opening pickle file\n",
    "infile = open(\"kmodes_n4_pickle\", \"rb\")\n",
    "\n",
    "# unpickling back into model object\n",
    "kmodes_model = pickle.load(infile)\n",
    "\n",
    "infile.close()"
   ]
  },
  {
   "cell_type": "code",
   "execution_count": 9,
   "metadata": {},
   "outputs": [
    {
     "data": {
      "text/plain": [
       "array([['11419', 'NOT SPECIAL', '45', 'QNS.'],\n",
       "       ['11221', 'NOT SPECIAL', '05', 'BKLYN'],\n",
       "       ['11355', 'NOT SPECIAL', '63', 'ELEVR'],\n",
       "       ['11211', 'NOT SPECIAL', '04', 'ERT  ']], dtype='<U21')"
      ]
     },
     "execution_count": 9,
     "metadata": {},
     "output_type": "execute_result"
    }
   ],
   "source": [
    "kmodes_model.cluster_centroids_"
   ]
  },
  {
   "cell_type": "code",
   "execution_count": 10,
   "metadata": {},
   "outputs": [
    {
     "data": {
      "text/plain": [
       "153435.0"
      ]
     },
     "execution_count": 10,
     "metadata": {},
     "output_type": "execute_result"
    }
   ],
   "source": [
    "kmodes_model.cost_"
   ]
  },
  {
   "cell_type": "code",
   "execution_count": 11,
   "metadata": {},
   "outputs": [],
   "source": [
    "db[\"cluster\"] = kmodes_model.labels_"
   ]
  },
  {
   "cell_type": "code",
   "execution_count": 12,
   "metadata": {},
   "outputs": [
    {
     "data": {
      "text/plain": [
       "0    0.605569\n",
       "1    0.194700\n",
       "2    0.103726\n",
       "3    0.096005\n",
       "Name: cluster, dtype: float64"
      ]
     },
     "execution_count": 12,
     "metadata": {},
     "output_type": "execute_result"
    }
   ],
   "source": [
    "db[\"cluster\"].value_counts(normalize=True)"
   ]
  },
  {
   "cell_type": "code",
   "execution_count": 25,
   "metadata": {},
   "outputs": [
    {
     "data": {
      "text/plain": [
       "Index(['complaint_number', 'status', 'date_entered', 'house_number',\n",
       "       'zip_code', 'house_street', 'special_district', 'complaint_category',\n",
       "       'unit', 'inspection_date', 'days_until_inspection', 'med_inc_zip',\n",
       "       'cluster'],\n",
       "      dtype='object')"
      ]
     },
     "execution_count": 25,
     "metadata": {},
     "output_type": "execute_result"
    }
   ],
   "source": [
    "db.columns"
   ]
  },
  {
   "cell_type": "code",
   "execution_count": 23,
   "metadata": {},
   "outputs": [
    {
     "data": {
      "text/html": [
       "<div>\n",
       "<style scoped>\n",
       "    .dataframe tbody tr th:only-of-type {\n",
       "        vertical-align: middle;\n",
       "    }\n",
       "\n",
       "    .dataframe tbody tr th {\n",
       "        vertical-align: top;\n",
       "    }\n",
       "\n",
       "    .dataframe thead th {\n",
       "        text-align: right;\n",
       "    }\n",
       "</style>\n",
       "<table border=\"1\" class=\"dataframe\">\n",
       "  <thead>\n",
       "    <tr style=\"text-align: right;\">\n",
       "      <th></th>\n",
       "      <th>count</th>\n",
       "      <th>mean</th>\n",
       "      <th>std</th>\n",
       "      <th>min</th>\n",
       "      <th>25%</th>\n",
       "      <th>50%</th>\n",
       "      <th>75%</th>\n",
       "      <th>max</th>\n",
       "    </tr>\n",
       "    <tr>\n",
       "      <th>cluster</th>\n",
       "      <th></th>\n",
       "      <th></th>\n",
       "      <th></th>\n",
       "      <th></th>\n",
       "      <th></th>\n",
       "      <th></th>\n",
       "      <th></th>\n",
       "      <th></th>\n",
       "    </tr>\n",
       "  </thead>\n",
       "  <tbody>\n",
       "    <tr>\n",
       "      <th>0</th>\n",
       "      <td>45018.0</td>\n",
       "      <td>91.282465</td>\n",
       "      <td>211.480531</td>\n",
       "      <td>1.0</td>\n",
       "      <td>6.0</td>\n",
       "      <td>27.0</td>\n",
       "      <td>88.0</td>\n",
       "      <td>3756.0</td>\n",
       "    </tr>\n",
       "    <tr>\n",
       "      <th>1</th>\n",
       "      <td>14474.0</td>\n",
       "      <td>94.829004</td>\n",
       "      <td>205.692277</td>\n",
       "      <td>1.0</td>\n",
       "      <td>6.0</td>\n",
       "      <td>32.0</td>\n",
       "      <td>94.0</td>\n",
       "      <td>3767.0</td>\n",
       "    </tr>\n",
       "    <tr>\n",
       "      <th>2</th>\n",
       "      <td>7711.0</td>\n",
       "      <td>55.944236</td>\n",
       "      <td>84.096290</td>\n",
       "      <td>1.0</td>\n",
       "      <td>9.0</td>\n",
       "      <td>27.0</td>\n",
       "      <td>64.0</td>\n",
       "      <td>1426.0</td>\n",
       "    </tr>\n",
       "    <tr>\n",
       "      <th>3</th>\n",
       "      <td>7137.0</td>\n",
       "      <td>79.153566</td>\n",
       "      <td>282.582512</td>\n",
       "      <td>1.0</td>\n",
       "      <td>1.0</td>\n",
       "      <td>3.0</td>\n",
       "      <td>17.0</td>\n",
       "      <td>3251.0</td>\n",
       "    </tr>\n",
       "  </tbody>\n",
       "</table>\n",
       "</div>"
      ],
      "text/plain": [
       "           count       mean         std  min  25%   50%   75%     max\n",
       "cluster                                                              \n",
       "0        45018.0  91.282465  211.480531  1.0  6.0  27.0  88.0  3756.0\n",
       "1        14474.0  94.829004  205.692277  1.0  6.0  32.0  94.0  3767.0\n",
       "2         7711.0  55.944236   84.096290  1.0  9.0  27.0  64.0  1426.0\n",
       "3         7137.0  79.153566  282.582512  1.0  1.0   3.0  17.0  3251.0"
      ]
     },
     "execution_count": 23,
     "metadata": {},
     "output_type": "execute_result"
    }
   ],
   "source": [
    "db.groupby(\"cluster\")[\"days_until_inspection\"].describe()"
   ]
  },
  {
   "cell_type": "markdown",
   "metadata": {},
   "source": [
    "The clusters do not seem to have created any large distinction between the wait times for inspection, but perhaps they have made better groups in one of the other features."
   ]
  },
  {
   "cell_type": "code",
   "execution_count": 24,
   "metadata": {},
   "outputs": [
    {
     "data": {
      "text/plain": [
       "cluster\n",
       "0    61090\n",
       "1    53151\n",
       "2    46013\n",
       "3    64152\n",
       "Name: med_inc_zip, dtype: int64"
      ]
     },
     "execution_count": 24,
     "metadata": {},
     "output_type": "execute_result"
    }
   ],
   "source": [
    "db.groupby(\"cluster\")[\"med_inc_zip\"].median()"
   ]
  },
  {
   "cell_type": "code",
   "execution_count": 28,
   "metadata": {},
   "outputs": [
    {
     "data": {
      "text/html": [
       "<div>\n",
       "<style scoped>\n",
       "    .dataframe tbody tr th:only-of-type {\n",
       "        vertical-align: middle;\n",
       "    }\n",
       "\n",
       "    .dataframe tbody tr th {\n",
       "        vertical-align: top;\n",
       "    }\n",
       "\n",
       "    .dataframe thead th {\n",
       "        text-align: right;\n",
       "    }\n",
       "</style>\n",
       "<table border=\"1\" class=\"dataframe\">\n",
       "  <thead>\n",
       "    <tr style=\"text-align: right;\">\n",
       "      <th></th>\n",
       "      <th>count</th>\n",
       "      <th>unique</th>\n",
       "      <th>top</th>\n",
       "      <th>freq</th>\n",
       "    </tr>\n",
       "    <tr>\n",
       "      <th>cluster</th>\n",
       "      <th></th>\n",
       "      <th></th>\n",
       "      <th></th>\n",
       "      <th></th>\n",
       "    </tr>\n",
       "  </thead>\n",
       "  <tbody>\n",
       "    <tr>\n",
       "      <th>0</th>\n",
       "      <td>45018</td>\n",
       "      <td>108</td>\n",
       "      <td>45</td>\n",
       "      <td>12299</td>\n",
       "    </tr>\n",
       "    <tr>\n",
       "      <th>1</th>\n",
       "      <td>14474</td>\n",
       "      <td>82</td>\n",
       "      <td>05</td>\n",
       "      <td>7639</td>\n",
       "    </tr>\n",
       "    <tr>\n",
       "      <th>2</th>\n",
       "      <td>7711</td>\n",
       "      <td>55</td>\n",
       "      <td>63</td>\n",
       "      <td>5497</td>\n",
       "    </tr>\n",
       "    <tr>\n",
       "      <th>3</th>\n",
       "      <td>7137</td>\n",
       "      <td>80</td>\n",
       "      <td>04</td>\n",
       "      <td>2279</td>\n",
       "    </tr>\n",
       "  </tbody>\n",
       "</table>\n",
       "</div>"
      ],
      "text/plain": [
       "         count unique top   freq\n",
       "cluster                         \n",
       "0        45018    108  45  12299\n",
       "1        14474     82  05   7639\n",
       "2         7711     55  63   5497\n",
       "3         7137     80  04   2279"
      ]
     },
     "execution_count": 28,
     "metadata": {},
     "output_type": "execute_result"
    }
   ],
   "source": [
    "db.groupby(\"cluster\")[\"complaint_category\"].describe()"
   ]
  },
  {
   "cell_type": "markdown",
   "metadata": {},
   "source": [
    "When looking at the median income for each of the clusters, there again does not appear to be a large separation between them. Shifting to the complaint categories, we can clearly see why these points were chosen as the centroids, as each cluster's most common (mode) complaint entry is the same as that feature's centroid value"
   ]
  },
  {
   "cell_type": "markdown",
   "metadata": {},
   "source": [
    "## K-Prototypes Clustering"
   ]
  },
  {
   "cell_type": "code",
   "execution_count": 4,
   "metadata": {},
   "outputs": [
    {
     "data": {
      "text/html": [
       "<div>\n",
       "<style scoped>\n",
       "    .dataframe tbody tr th:only-of-type {\n",
       "        vertical-align: middle;\n",
       "    }\n",
       "\n",
       "    .dataframe tbody tr th {\n",
       "        vertical-align: top;\n",
       "    }\n",
       "\n",
       "    .dataframe thead th {\n",
       "        text-align: right;\n",
       "    }\n",
       "</style>\n",
       "<table border=\"1\" class=\"dataframe\">\n",
       "  <thead>\n",
       "    <tr style=\"text-align: right;\">\n",
       "      <th></th>\n",
       "      <th>date_entered</th>\n",
       "      <th>zip_code</th>\n",
       "      <th>special_district</th>\n",
       "      <th>complaint_category</th>\n",
       "      <th>unit</th>\n",
       "      <th>inspection_date</th>\n",
       "      <th>med_inc_zip</th>\n",
       "    </tr>\n",
       "  </thead>\n",
       "  <tbody>\n",
       "    <tr>\n",
       "      <th>0</th>\n",
       "      <td>2009-01-02</td>\n",
       "      <td>10025</td>\n",
       "      <td>NOT SPECIAL</td>\n",
       "      <td>58</td>\n",
       "      <td>BOILR</td>\n",
       "      <td>2009-06-02</td>\n",
       "      <td>82352</td>\n",
       "    </tr>\n",
       "    <tr>\n",
       "      <th>1</th>\n",
       "      <td>2009-01-02</td>\n",
       "      <td>10013</td>\n",
       "      <td>NOT SPECIAL</td>\n",
       "      <td>23</td>\n",
       "      <td>SCFLD</td>\n",
       "      <td>2009-10-09</td>\n",
       "      <td>106056</td>\n",
       "    </tr>\n",
       "    <tr>\n",
       "      <th>2</th>\n",
       "      <td>2009-01-02</td>\n",
       "      <td>10001</td>\n",
       "      <td>NOT SPECIAL</td>\n",
       "      <td>63</td>\n",
       "      <td>ELEVR</td>\n",
       "      <td>2009-01-22</td>\n",
       "      <td>85221</td>\n",
       "    </tr>\n",
       "    <tr>\n",
       "      <th>3</th>\n",
       "      <td>2009-01-03</td>\n",
       "      <td>10013</td>\n",
       "      <td>NOT SPECIAL</td>\n",
       "      <td>56</td>\n",
       "      <td>BOILR</td>\n",
       "      <td>2009-01-07</td>\n",
       "      <td>106056</td>\n",
       "    </tr>\n",
       "    <tr>\n",
       "      <th>4</th>\n",
       "      <td>2009-01-03</td>\n",
       "      <td>10016</td>\n",
       "      <td>NOT SPECIAL</td>\n",
       "      <td>59</td>\n",
       "      <td>ELCTR</td>\n",
       "      <td>2009-01-08</td>\n",
       "      <td>109250</td>\n",
       "    </tr>\n",
       "  </tbody>\n",
       "</table>\n",
       "</div>"
      ],
      "text/plain": [
       "  date_entered  zip_code special_district complaint_category   unit  \\\n",
       "0   2009-01-02     10025      NOT SPECIAL                 58  BOILR   \n",
       "1   2009-01-02     10013      NOT SPECIAL                 23  SCFLD   \n",
       "2   2009-01-02     10001      NOT SPECIAL                 63  ELEVR   \n",
       "3   2009-01-03     10013      NOT SPECIAL                 56  BOILR   \n",
       "4   2009-01-03     10016      NOT SPECIAL                 59  ELCTR   \n",
       "\n",
       "  inspection_date  med_inc_zip  \n",
       "0      2009-06-02        82352  \n",
       "1      2009-10-09       106056  \n",
       "2      2009-01-22        85221  \n",
       "3      2009-01-07       106056  \n",
       "4      2009-01-08       109250  "
      ]
     },
     "execution_count": 4,
     "metadata": {},
     "output_type": "execute_result"
    }
   ],
   "source": [
    "X.head()"
   ]
  },
  {
   "cell_type": "code",
   "execution_count": 9,
   "metadata": {},
   "outputs": [],
   "source": [
    "X_kp = X.drop(columns=[\"date_entered\", \"inspection_date\"])"
   ]
  },
  {
   "cell_type": "code",
   "execution_count": 10,
   "metadata": {},
   "outputs": [
    {
     "data": {
      "text/html": [
       "<div>\n",
       "<style scoped>\n",
       "    .dataframe tbody tr th:only-of-type {\n",
       "        vertical-align: middle;\n",
       "    }\n",
       "\n",
       "    .dataframe tbody tr th {\n",
       "        vertical-align: top;\n",
       "    }\n",
       "\n",
       "    .dataframe thead th {\n",
       "        text-align: right;\n",
       "    }\n",
       "</style>\n",
       "<table border=\"1\" class=\"dataframe\">\n",
       "  <thead>\n",
       "    <tr style=\"text-align: right;\">\n",
       "      <th></th>\n",
       "      <th>zip_code</th>\n",
       "      <th>special_district</th>\n",
       "      <th>complaint_category</th>\n",
       "      <th>unit</th>\n",
       "      <th>med_inc_zip</th>\n",
       "    </tr>\n",
       "  </thead>\n",
       "  <tbody>\n",
       "    <tr>\n",
       "      <th>0</th>\n",
       "      <td>10025</td>\n",
       "      <td>NOT SPECIAL</td>\n",
       "      <td>58</td>\n",
       "      <td>BOILR</td>\n",
       "      <td>82352</td>\n",
       "    </tr>\n",
       "    <tr>\n",
       "      <th>1</th>\n",
       "      <td>10013</td>\n",
       "      <td>NOT SPECIAL</td>\n",
       "      <td>23</td>\n",
       "      <td>SCFLD</td>\n",
       "      <td>106056</td>\n",
       "    </tr>\n",
       "    <tr>\n",
       "      <th>2</th>\n",
       "      <td>10001</td>\n",
       "      <td>NOT SPECIAL</td>\n",
       "      <td>63</td>\n",
       "      <td>ELEVR</td>\n",
       "      <td>85221</td>\n",
       "    </tr>\n",
       "    <tr>\n",
       "      <th>3</th>\n",
       "      <td>10013</td>\n",
       "      <td>NOT SPECIAL</td>\n",
       "      <td>56</td>\n",
       "      <td>BOILR</td>\n",
       "      <td>106056</td>\n",
       "    </tr>\n",
       "    <tr>\n",
       "      <th>4</th>\n",
       "      <td>10016</td>\n",
       "      <td>NOT SPECIAL</td>\n",
       "      <td>59</td>\n",
       "      <td>ELCTR</td>\n",
       "      <td>109250</td>\n",
       "    </tr>\n",
       "  </tbody>\n",
       "</table>\n",
       "</div>"
      ],
      "text/plain": [
       "   zip_code special_district complaint_category   unit  med_inc_zip\n",
       "0     10025      NOT SPECIAL                 58  BOILR        82352\n",
       "1     10013      NOT SPECIAL                 23  SCFLD       106056\n",
       "2     10001      NOT SPECIAL                 63  ELEVR        85221\n",
       "3     10013      NOT SPECIAL                 56  BOILR       106056\n",
       "4     10016      NOT SPECIAL                 59  ELCTR       109250"
      ]
     },
     "execution_count": 10,
     "metadata": {},
     "output_type": "execute_result"
    }
   ],
   "source": [
    "X_kp.head()"
   ]
  },
  {
   "cell_type": "code",
   "execution_count": 11,
   "metadata": {},
   "outputs": [],
   "source": [
    "# kp = KPrototypes(n_clusters=4, n_jobs=-1, verbose=1, random_state=42)    \n",
    "# kp_model = kprot.fit(X_kp, categorical=[0, 1, 2, 3])"
   ]
  },
  {
   "cell_type": "code",
   "execution_count": 14,
   "metadata": {},
   "outputs": [
    {
     "name": "stdout",
     "output_type": "stream",
     "text": [
      "Fitting model with n_clusters = 3\n",
      "Best run was number 1\n",
      "Fitting model with n_clusters = 4\n",
      "Best run was number 7\n",
      "Fitting model with n_clusters = 5\n",
      "Best run was number 1\n",
      "Fitting model with n_clusters = 6\n",
      "Best run was number 4\n",
      "Fitting model with n_clusters = 7\n",
      "Best run was number 1\n",
      "Fitting model with n_clusters = 8\n",
      "Best run was number 2\n",
      "Fitting model with n_clusters = 9\n",
      "Best run was number 10\n",
      "Fitting model with n_clusters = 10\n",
      "Best run was number 9\n",
      "Fitting model with n_clusters = 11\n"
     ]
    },
    {
     "ename": "KeyboardInterrupt",
     "evalue": "",
     "output_type": "error",
     "traceback": [
      "\u001b[0;31m---------------------------------------------------------------------------\u001b[0m",
      "\u001b[0;31mKeyboardInterrupt\u001b[0m                         Traceback (most recent call last)",
      "\u001b[0;32m<ipython-input-14-314b6e0ae291>\u001b[0m in \u001b[0;36m<module>\u001b[0;34m\u001b[0m\n\u001b[1;32m      7\u001b[0m     \u001b[0mn_clusters\u001b[0m\u001b[0;34m.\u001b[0m\u001b[0mappend\u001b[0m\u001b[0;34m(\u001b[0m\u001b[0mi\u001b[0m\u001b[0;34m)\u001b[0m\u001b[0;34m\u001b[0m\u001b[0;34m\u001b[0m\u001b[0m\n\u001b[1;32m      8\u001b[0m     \u001b[0mkp\u001b[0m \u001b[0;34m=\u001b[0m \u001b[0mKPrototypes\u001b[0m\u001b[0;34m(\u001b[0m\u001b[0mn_clusters\u001b[0m\u001b[0;34m=\u001b[0m\u001b[0mi\u001b[0m\u001b[0;34m,\u001b[0m \u001b[0mn_init\u001b[0m\u001b[0;34m=\u001b[0m\u001b[0;36m10\u001b[0m\u001b[0;34m,\u001b[0m \u001b[0mrandom_state\u001b[0m\u001b[0;34m=\u001b[0m\u001b[0;36m42\u001b[0m\u001b[0;34m,\u001b[0m \u001b[0mn_jobs\u001b[0m\u001b[0;34m=\u001b[0m\u001b[0;34m-\u001b[0m\u001b[0;36m1\u001b[0m\u001b[0;34m,\u001b[0m \u001b[0mverbose\u001b[0m\u001b[0;34m=\u001b[0m\u001b[0;36m2\u001b[0m\u001b[0;34m)\u001b[0m\u001b[0;34m\u001b[0m\u001b[0;34m\u001b[0m\u001b[0m\n\u001b[0;32m----> 9\u001b[0;31m     \u001b[0mkp_model\u001b[0m \u001b[0;34m=\u001b[0m \u001b[0mkp\u001b[0m\u001b[0;34m.\u001b[0m\u001b[0mfit\u001b[0m\u001b[0;34m(\u001b[0m\u001b[0mX_kp\u001b[0m\u001b[0;34m,\u001b[0m \u001b[0mcategorical\u001b[0m\u001b[0;34m=\u001b[0m\u001b[0;34m[\u001b[0m\u001b[0;36m0\u001b[0m\u001b[0;34m,\u001b[0m \u001b[0;36m1\u001b[0m\u001b[0;34m,\u001b[0m \u001b[0;36m2\u001b[0m\u001b[0;34m,\u001b[0m \u001b[0;36m3\u001b[0m\u001b[0;34m]\u001b[0m\u001b[0;34m)\u001b[0m\u001b[0;34m\u001b[0m\u001b[0;34m\u001b[0m\u001b[0m\n\u001b[0m\u001b[1;32m     10\u001b[0m     \u001b[0mkp_models\u001b[0m\u001b[0;34m[\u001b[0m\u001b[0mi\u001b[0m\u001b[0;34m]\u001b[0m \u001b[0;34m=\u001b[0m \u001b[0;34m(\u001b[0m\u001b[0mkp_model\u001b[0m\u001b[0;34m)\u001b[0m\u001b[0;34m\u001b[0m\u001b[0;34m\u001b[0m\u001b[0m\n\u001b[1;32m     11\u001b[0m     \u001b[0mkp_model_costs\u001b[0m\u001b[0;34m.\u001b[0m\u001b[0mappend\u001b[0m\u001b[0;34m(\u001b[0m\u001b[0mkp_model\u001b[0m\u001b[0;34m.\u001b[0m\u001b[0mcost_\u001b[0m\u001b[0;34m)\u001b[0m\u001b[0;34m\u001b[0m\u001b[0;34m\u001b[0m\u001b[0m\n",
      "\u001b[0;32m~/anaconda3/lib/python3.7/site-packages/kmodes/kprototypes.py\u001b[0m in \u001b[0;36mfit\u001b[0;34m(self, X, y, categorical)\u001b[0m\n\u001b[1;32m    460\u001b[0m                                                     \u001b[0mself\u001b[0m\u001b[0;34m.\u001b[0m\u001b[0mverbose\u001b[0m\u001b[0;34m,\u001b[0m\u001b[0;34m\u001b[0m\u001b[0;34m\u001b[0m\u001b[0m\n\u001b[1;32m    461\u001b[0m                                                     \u001b[0mrandom_state\u001b[0m\u001b[0;34m,\u001b[0m\u001b[0;34m\u001b[0m\u001b[0;34m\u001b[0m\u001b[0m\n\u001b[0;32m--> 462\u001b[0;31m                                                     self.n_jobs)\n\u001b[0m\u001b[1;32m    463\u001b[0m         \u001b[0;32mreturn\u001b[0m \u001b[0mself\u001b[0m\u001b[0;34m\u001b[0m\u001b[0;34m\u001b[0m\u001b[0m\n\u001b[1;32m    464\u001b[0m \u001b[0;34m\u001b[0m\u001b[0m\n",
      "\u001b[0;32m~/anaconda3/lib/python3.7/site-packages/kmodes/kprototypes.py\u001b[0m in \u001b[0;36mk_prototypes\u001b[0;34m(X, categorical, n_clusters, max_iter, num_dissim, cat_dissim, gamma, init, n_init, verbose, random_state, n_jobs)\u001b[0m\n\u001b[1;32m    316\u001b[0m                                          \u001b[0mnum_dissim\u001b[0m\u001b[0;34m,\u001b[0m \u001b[0mcat_dissim\u001b[0m\u001b[0;34m,\u001b[0m \u001b[0mgamma\u001b[0m\u001b[0;34m,\u001b[0m\u001b[0;34m\u001b[0m\u001b[0;34m\u001b[0m\u001b[0m\n\u001b[1;32m    317\u001b[0m                                          init, init_no, verbose, seed)\n\u001b[0;32m--> 318\u001b[0;31m             for init_no, seed in enumerate(seeds))\n\u001b[0m\u001b[1;32m    319\u001b[0m     \u001b[0mall_centroids\u001b[0m\u001b[0;34m,\u001b[0m \u001b[0mall_labels\u001b[0m\u001b[0;34m,\u001b[0m \u001b[0mall_costs\u001b[0m\u001b[0;34m,\u001b[0m \u001b[0mall_n_iters\u001b[0m \u001b[0;34m=\u001b[0m \u001b[0mzip\u001b[0m\u001b[0;34m(\u001b[0m\u001b[0;34m*\u001b[0m\u001b[0mresults\u001b[0m\u001b[0;34m)\u001b[0m\u001b[0;34m\u001b[0m\u001b[0;34m\u001b[0m\u001b[0m\n\u001b[1;32m    320\u001b[0m \u001b[0;34m\u001b[0m\u001b[0m\n",
      "\u001b[0;32m~/anaconda3/lib/python3.7/site-packages/joblib/parallel.py\u001b[0m in \u001b[0;36m__call__\u001b[0;34m(self, iterable)\u001b[0m\n\u001b[1;32m    994\u001b[0m \u001b[0;34m\u001b[0m\u001b[0m\n\u001b[1;32m    995\u001b[0m             \u001b[0;32mwith\u001b[0m \u001b[0mself\u001b[0m\u001b[0;34m.\u001b[0m\u001b[0m_backend\u001b[0m\u001b[0;34m.\u001b[0m\u001b[0mretrieval_context\u001b[0m\u001b[0;34m(\u001b[0m\u001b[0;34m)\u001b[0m\u001b[0;34m:\u001b[0m\u001b[0;34m\u001b[0m\u001b[0;34m\u001b[0m\u001b[0m\n\u001b[0;32m--> 996\u001b[0;31m                 \u001b[0mself\u001b[0m\u001b[0;34m.\u001b[0m\u001b[0mretrieve\u001b[0m\u001b[0;34m(\u001b[0m\u001b[0;34m)\u001b[0m\u001b[0;34m\u001b[0m\u001b[0;34m\u001b[0m\u001b[0m\n\u001b[0m\u001b[1;32m    997\u001b[0m             \u001b[0;31m# Make sure that we get a last message telling us we are done\u001b[0m\u001b[0;34m\u001b[0m\u001b[0;34m\u001b[0m\u001b[0;34m\u001b[0m\u001b[0m\n\u001b[1;32m    998\u001b[0m             \u001b[0melapsed_time\u001b[0m \u001b[0;34m=\u001b[0m \u001b[0mtime\u001b[0m\u001b[0;34m.\u001b[0m\u001b[0mtime\u001b[0m\u001b[0;34m(\u001b[0m\u001b[0;34m)\u001b[0m \u001b[0;34m-\u001b[0m \u001b[0mself\u001b[0m\u001b[0;34m.\u001b[0m\u001b[0m_start_time\u001b[0m\u001b[0;34m\u001b[0m\u001b[0;34m\u001b[0m\u001b[0m\n",
      "\u001b[0;32m~/anaconda3/lib/python3.7/site-packages/joblib/parallel.py\u001b[0m in \u001b[0;36mretrieve\u001b[0;34m(self)\u001b[0m\n\u001b[1;32m    897\u001b[0m             \u001b[0;32mtry\u001b[0m\u001b[0;34m:\u001b[0m\u001b[0;34m\u001b[0m\u001b[0;34m\u001b[0m\u001b[0m\n\u001b[1;32m    898\u001b[0m                 \u001b[0;32mif\u001b[0m \u001b[0mgetattr\u001b[0m\u001b[0;34m(\u001b[0m\u001b[0mself\u001b[0m\u001b[0;34m.\u001b[0m\u001b[0m_backend\u001b[0m\u001b[0;34m,\u001b[0m \u001b[0;34m'supports_timeout'\u001b[0m\u001b[0;34m,\u001b[0m \u001b[0;32mFalse\u001b[0m\u001b[0;34m)\u001b[0m\u001b[0;34m:\u001b[0m\u001b[0;34m\u001b[0m\u001b[0;34m\u001b[0m\u001b[0m\n\u001b[0;32m--> 899\u001b[0;31m                     \u001b[0mself\u001b[0m\u001b[0;34m.\u001b[0m\u001b[0m_output\u001b[0m\u001b[0;34m.\u001b[0m\u001b[0mextend\u001b[0m\u001b[0;34m(\u001b[0m\u001b[0mjob\u001b[0m\u001b[0;34m.\u001b[0m\u001b[0mget\u001b[0m\u001b[0;34m(\u001b[0m\u001b[0mtimeout\u001b[0m\u001b[0;34m=\u001b[0m\u001b[0mself\u001b[0m\u001b[0;34m.\u001b[0m\u001b[0mtimeout\u001b[0m\u001b[0;34m)\u001b[0m\u001b[0;34m)\u001b[0m\u001b[0;34m\u001b[0m\u001b[0;34m\u001b[0m\u001b[0m\n\u001b[0m\u001b[1;32m    900\u001b[0m                 \u001b[0;32melse\u001b[0m\u001b[0;34m:\u001b[0m\u001b[0;34m\u001b[0m\u001b[0;34m\u001b[0m\u001b[0m\n\u001b[1;32m    901\u001b[0m                     \u001b[0mself\u001b[0m\u001b[0;34m.\u001b[0m\u001b[0m_output\u001b[0m\u001b[0;34m.\u001b[0m\u001b[0mextend\u001b[0m\u001b[0;34m(\u001b[0m\u001b[0mjob\u001b[0m\u001b[0;34m.\u001b[0m\u001b[0mget\u001b[0m\u001b[0;34m(\u001b[0m\u001b[0;34m)\u001b[0m\u001b[0;34m)\u001b[0m\u001b[0;34m\u001b[0m\u001b[0;34m\u001b[0m\u001b[0m\n",
      "\u001b[0;32m~/anaconda3/lib/python3.7/site-packages/joblib/_parallel_backends.py\u001b[0m in \u001b[0;36mwrap_future_result\u001b[0;34m(future, timeout)\u001b[0m\n\u001b[1;32m    515\u001b[0m         AsyncResults.get from multiprocessing.\"\"\"\n\u001b[1;32m    516\u001b[0m         \u001b[0;32mtry\u001b[0m\u001b[0;34m:\u001b[0m\u001b[0;34m\u001b[0m\u001b[0;34m\u001b[0m\u001b[0m\n\u001b[0;32m--> 517\u001b[0;31m             \u001b[0;32mreturn\u001b[0m \u001b[0mfuture\u001b[0m\u001b[0;34m.\u001b[0m\u001b[0mresult\u001b[0m\u001b[0;34m(\u001b[0m\u001b[0mtimeout\u001b[0m\u001b[0;34m=\u001b[0m\u001b[0mtimeout\u001b[0m\u001b[0;34m)\u001b[0m\u001b[0;34m\u001b[0m\u001b[0;34m\u001b[0m\u001b[0m\n\u001b[0m\u001b[1;32m    518\u001b[0m         \u001b[0;32mexcept\u001b[0m \u001b[0mLokyTimeoutError\u001b[0m\u001b[0;34m:\u001b[0m\u001b[0;34m\u001b[0m\u001b[0;34m\u001b[0m\u001b[0m\n\u001b[1;32m    519\u001b[0m             \u001b[0;32mraise\u001b[0m \u001b[0mTimeoutError\u001b[0m\u001b[0;34m(\u001b[0m\u001b[0;34m)\u001b[0m\u001b[0;34m\u001b[0m\u001b[0;34m\u001b[0m\u001b[0m\n",
      "\u001b[0;32m~/anaconda3/lib/python3.7/concurrent/futures/_base.py\u001b[0m in \u001b[0;36mresult\u001b[0;34m(self, timeout)\u001b[0m\n\u001b[1;32m    428\u001b[0m                 \u001b[0;32mreturn\u001b[0m \u001b[0mself\u001b[0m\u001b[0;34m.\u001b[0m\u001b[0m__get_result\u001b[0m\u001b[0;34m(\u001b[0m\u001b[0;34m)\u001b[0m\u001b[0;34m\u001b[0m\u001b[0;34m\u001b[0m\u001b[0m\n\u001b[1;32m    429\u001b[0m \u001b[0;34m\u001b[0m\u001b[0m\n\u001b[0;32m--> 430\u001b[0;31m             \u001b[0mself\u001b[0m\u001b[0;34m.\u001b[0m\u001b[0m_condition\u001b[0m\u001b[0;34m.\u001b[0m\u001b[0mwait\u001b[0m\u001b[0;34m(\u001b[0m\u001b[0mtimeout\u001b[0m\u001b[0;34m)\u001b[0m\u001b[0;34m\u001b[0m\u001b[0;34m\u001b[0m\u001b[0m\n\u001b[0m\u001b[1;32m    431\u001b[0m \u001b[0;34m\u001b[0m\u001b[0m\n\u001b[1;32m    432\u001b[0m             \u001b[0;32mif\u001b[0m \u001b[0mself\u001b[0m\u001b[0;34m.\u001b[0m\u001b[0m_state\u001b[0m \u001b[0;32min\u001b[0m \u001b[0;34m[\u001b[0m\u001b[0mCANCELLED\u001b[0m\u001b[0;34m,\u001b[0m \u001b[0mCANCELLED_AND_NOTIFIED\u001b[0m\u001b[0;34m]\u001b[0m\u001b[0;34m:\u001b[0m\u001b[0;34m\u001b[0m\u001b[0;34m\u001b[0m\u001b[0m\n",
      "\u001b[0;32m~/anaconda3/lib/python3.7/threading.py\u001b[0m in \u001b[0;36mwait\u001b[0;34m(self, timeout)\u001b[0m\n\u001b[1;32m    294\u001b[0m         \u001b[0;32mtry\u001b[0m\u001b[0;34m:\u001b[0m    \u001b[0;31m# restore state no matter what (e.g., KeyboardInterrupt)\u001b[0m\u001b[0;34m\u001b[0m\u001b[0;34m\u001b[0m\u001b[0m\n\u001b[1;32m    295\u001b[0m             \u001b[0;32mif\u001b[0m \u001b[0mtimeout\u001b[0m \u001b[0;32mis\u001b[0m \u001b[0;32mNone\u001b[0m\u001b[0;34m:\u001b[0m\u001b[0;34m\u001b[0m\u001b[0;34m\u001b[0m\u001b[0m\n\u001b[0;32m--> 296\u001b[0;31m                 \u001b[0mwaiter\u001b[0m\u001b[0;34m.\u001b[0m\u001b[0macquire\u001b[0m\u001b[0;34m(\u001b[0m\u001b[0;34m)\u001b[0m\u001b[0;34m\u001b[0m\u001b[0;34m\u001b[0m\u001b[0m\n\u001b[0m\u001b[1;32m    297\u001b[0m                 \u001b[0mgotit\u001b[0m \u001b[0;34m=\u001b[0m \u001b[0;32mTrue\u001b[0m\u001b[0;34m\u001b[0m\u001b[0;34m\u001b[0m\u001b[0m\n\u001b[1;32m    298\u001b[0m             \u001b[0;32melse\u001b[0m\u001b[0;34m:\u001b[0m\u001b[0;34m\u001b[0m\u001b[0;34m\u001b[0m\u001b[0m\n",
      "\u001b[0;31mKeyboardInterrupt\u001b[0m: "
     ]
    }
   ],
   "source": [
    "kp_models = {}\n",
    "n_clusters = []\n",
    "kp_model_costs = []\n",
    "\n",
    "for i in range(3, 21, 1):\n",
    "    print(\"Fitting model with n_clusters =\", i)\n",
    "    n_clusters.append(i)\n",
    "    kp = KPrototypes(n_clusters=i, n_init=10, random_state=42, n_jobs=-1, verbose=2)\n",
    "    kp_model = kp.fit(X_kp, categorical=[0, 1, 2, 3])\n",
    "    kp_models[i] = (kp_model)\n",
    "    kp_model_costs.append(kp_model.cost_)"
   ]
  },
  {
   "cell_type": "code",
   "execution_count": 26,
   "metadata": {},
   "outputs": [
    {
     "data": {
      "image/png": "[encoded data removed]",
      "text/plain": [
       "<Figure size 648x432 with 1 Axes>"
      ]
     },
     "metadata": {
      "needs_background": "light"
     },
     "output_type": "display_data"
    }
   ],
   "source": [
    "plt.figure(figsize=(9, 6))\n",
    "plt.plot(n_clusters[:8], kp_model_costs)\n",
    "plt.title(\"Improvement of Model Cost with Increasing Clusters\", size=20)\n",
    "plt.xticks(n_clusters[:8])\n",
    "plt.xlabel(\"Number of Clusters\", size=15)\n",
    "plt.ylabel(\"Model Cost\", size=15);"
   ]
  },
  {
   "cell_type": "code",
   "execution_count": 29,
   "metadata": {},
   "outputs": [],
   "source": [
    "kp_diffs = [0]\n",
    "for i, cost in enumerate(kp_model_costs[1:]):\n",
    "    i_diff = cost - kp_model_costs[i]\n",
    "    kp_diffs.append(i_diff)"
   ]
  },
  {
   "cell_type": "code",
   "execution_count": 32,
   "metadata": {},
   "outputs": [
    {
     "data": {
      "text/plain": [
       "Text(0, 0.5, 'Change in Cost from Previous Model')"
      ]
     },
     "execution_count": 32,
     "metadata": {},
     "output_type": "execute_result"
    },
    {
     "data": {
      "image/png": "[encoded data removed]",
      "text/plain": [
       "<Figure size 648x432 with 1 Axes>"
      ]
     },
     "metadata": {
      "needs_background": "light"
     },
     "output_type": "display_data"
    }
   ],
   "source": [
    "plt.figure(figsize=(9, 6))\n",
    "plt.plot(n_clusters[:8], kp_diffs)\n",
    "plt.title(\"Relative Change in Model Costs Between Cluster Counts\", size=20)\n",
    "plt.xticks(n_clusters[:8])\n",
    "plt.xlabel(\"Number of Clusters\", size=15)\n",
    "plt.ylabel(\"Change in Cost from Previous Model\", size=15)"
   ]
  },
  {
   "cell_type": "code",
   "execution_count": 38,
   "metadata": {},
   "outputs": [
    {
     "data": {
      "text/plain": [
       "[array([[ 83750.00243427],\n",
       "        [ 60152.13747653],\n",
       "        [ 38428.95000603],\n",
       "        [120111.74915825]]), array([['10025', 'NOT SPECIAL', '45', 'QNS.'],\n",
       "        ['11419', 'NOT SPECIAL', '45', 'QNS.'],\n",
       "        ['11355', 'NOT SPECIAL', '45', 'BKLYN'],\n",
       "        ['11215', 'NOT SPECIAL', '05', 'MAN.']], dtype='<U21')]"
      ]
     },
     "execution_count": 38,
     "metadata": {},
     "output_type": "execute_result"
    }
   ],
   "source": [
    "kp_models[4].cluster_centroids_"
   ]
  },
  {
   "cell_type": "code",
   "execution_count": 40,
   "metadata": {},
   "outputs": [
    {
     "data": {
      "text/plain": [
       "[array([[117942.37745546],\n",
       "        [243456.02597403],\n",
       "        [ 32473.05569235],\n",
       "        [ 47062.06948008],\n",
       "        [ 57145.36692136],\n",
       "        [ 67016.08465568],\n",
       "        [ 84861.95955584]]), array([['11215', 'NOT SPECIAL', '05', 'MAN.'],\n",
       "        ['10007', 'NOT SPECIAL', '05', 'MAN.'],\n",
       "        ['11355', 'NOT SPECIAL', '63', 'ELEVR'],\n",
       "        ['11221', 'NOT SPECIAL', '45', 'BKLYN'],\n",
       "        ['11216', 'NOT SPECIAL', '45', 'QNS.'],\n",
       "        ['11419', 'NOT SPECIAL', '45', 'QNS.'],\n",
       "        ['10025', 'NOT SPECIAL', '05', 'QNS.']], dtype='<U21')]"
      ]
     },
     "execution_count": 40,
     "metadata": {},
     "output_type": "execute_result"
    }
   ],
   "source": [
    "kp_models[7].cluster_centroids_"
   ]
  },
  {
   "cell_type": "markdown",
   "metadata": {},
   "source": [
    "Running K-Modes and K-Prototypes with the same cluster number, but the additional feature of median income, does give different clusters/centroids. Given the significant increase in processing time between KModes and KPrototypes, it may be more efficient to only use KModes on the categorical features to cluster the datapoints, then integrate the income data as a feature in the final predictive model."
   ]
  },
  {
   "cell_type": "code",
   "execution_count": 43,
   "metadata": {},
   "outputs": [],
   "source": [
    "# saving n=4, n=7 kp models\n",
    "\n",
    "# making new file\n",
    "outfile = open(\"kp_n4_pickle\", \"wb\")\n",
    "\n",
    "# dumping model to pickle\n",
    "pickle.dump(kp_models[4], outfile)\n",
    "\n",
    "# closing new file\n",
    "outfile.close()\n",
    "\n",
    "outfile = open(\"kp_n7_pickle\", \"wb\")\n",
    "pickle.dump(kp_models[7], outfile)\n",
    "outfile.close()"
   ]
  },
  {
   "cell_type": "markdown",
   "metadata": {},
   "source": [
    "## Saving Dataset"
   ]
  },
  {
   "cell_type": "markdown",
   "metadata": {},
   "source": [
    "The cluster labels from the optimized K-Modes model were applied to the cleaned dataset, which will now be saved for use in the main modeling notebook."
   ]
  },
  {
   "cell_type": "code",
   "execution_count": 41,
   "metadata": {},
   "outputs": [],
   "source": [
    "db.to_csv(\"../datasets/cleaned_clustered.csv\", index=False)"
   ]
  }
 ],
 "metadata": {
  "kernelspec": {
   "display_name": "Python 3",
   "language": "python",
   "name": "python3"
  },
  "language_info": {
   "codemirror_mode": {
    "name": "ipython",
    "version": 3
   },
   "file_extension": ".py",
   "mimetype": "text/x-python",
   "name": "python",
   "nbconvert_exporter": "python",
   "pygments_lexer": "ipython3",
   "version": "3.7.3"
  },
  "toc": {
   "base_numbering": 1,
   "nav_menu": {},
   "number_sections": true,
   "sideBar": true,
   "skip_h1_title": false,
   "title_cell": "Table of Contents",
   "title_sidebar": "Contents",
   "toc_cell": false,
   "toc_position": {},
   "toc_section_display": true,
   "toc_window_display": false
  }
 },
 "nbformat": 4,
 "nbformat_minor": 4
}
