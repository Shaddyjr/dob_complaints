{
 "cells": [
  {
   "cell_type": "markdown",
   "metadata": {},
   "source": [
    "## Imports"
   ]
  },
  {
   "cell_type": "code",
   "execution_count": 1,
   "metadata": {},
   "outputs": [],
   "source": [
    "import scipy\n",
    "import numpy as np\n",
    "import pandas as pd\n",
    "import matplotlib.pyplot as plt \n",
    "import seaborn as sns\n",
    "import math\n",
    "import pickle\n",
    "\n",
    "from sklearn.preprocessing import StandardScaler\n",
    "from sklearn.cluster import DBSCAN, KMeans, AgglomerativeClustering\n",
    "import scipy.cluster.hierarchy as sch\n",
    "from sklearn.metrics import silhouette_score\n",
    "from kmodes.kmodes import KModes\n",
    "from kmodes.kprototypes import KPrototypes"
   ]
  },
  {
   "cell_type": "markdown",
   "metadata": {},
   "source": [
    "## Reading in Data"
   ]
  },
  {
   "cell_type": "code",
   "execution_count": 2,
   "metadata": {},
   "outputs": [
    {
     "data": {
      "text/html": [
       "<div>\n",
       "<style scoped>\n",
       "    .dataframe tbody tr th:only-of-type {\n",
       "        vertical-align: middle;\n",
       "    }\n",
       "\n",
       "    .dataframe tbody tr th {\n",
       "        vertical-align: top;\n",
       "    }\n",
       "\n",
       "    .dataframe thead th {\n",
       "        text-align: right;\n",
       "    }\n",
       "</style>\n",
       "<table border=\"1\" class=\"dataframe\">\n",
       "  <thead>\n",
       "    <tr style=\"text-align: right;\">\n",
       "      <th></th>\n",
       "      <th>complaint_number</th>\n",
       "      <th>status</th>\n",
       "      <th>date_entered</th>\n",
       "      <th>house_number</th>\n",
       "      <th>zip_code</th>\n",
       "      <th>house_street</th>\n",
       "      <th>special_district</th>\n",
       "      <th>complaint_category</th>\n",
       "      <th>unit</th>\n",
       "      <th>inspection_date</th>\n",
       "      <th>days_until_inspection</th>\n",
       "      <th>med_inc_zip</th>\n",
       "    </tr>\n",
       "  </thead>\n",
       "  <tbody>\n",
       "    <tr>\n",
       "      <th>0</th>\n",
       "      <td>1245555</td>\n",
       "      <td>CLOSED</td>\n",
       "      <td>2009-01-02</td>\n",
       "      <td>930</td>\n",
       "      <td>10025</td>\n",
       "      <td>WEST END AVENUE</td>\n",
       "      <td>NOT SPECIAL</td>\n",
       "      <td>58</td>\n",
       "      <td>BOILR</td>\n",
       "      <td>2009-06-02</td>\n",
       "      <td>151</td>\n",
       "      <td>82352</td>\n",
       "    </tr>\n",
       "    <tr>\n",
       "      <th>1</th>\n",
       "      <td>1245608</td>\n",
       "      <td>CLOSED</td>\n",
       "      <td>2009-01-02</td>\n",
       "      <td>428</td>\n",
       "      <td>10013</td>\n",
       "      <td>BROADWAY</td>\n",
       "      <td>NOT SPECIAL</td>\n",
       "      <td>23</td>\n",
       "      <td>SCFLD</td>\n",
       "      <td>2009-10-09</td>\n",
       "      <td>280</td>\n",
       "      <td>106056</td>\n",
       "    </tr>\n",
       "    <tr>\n",
       "      <th>2</th>\n",
       "      <td>1245621</td>\n",
       "      <td>CLOSED</td>\n",
       "      <td>2009-01-02</td>\n",
       "      <td>146</td>\n",
       "      <td>10001</td>\n",
       "      <td>WEST   28 STREET</td>\n",
       "      <td>NOT SPECIAL</td>\n",
       "      <td>63</td>\n",
       "      <td>ELEVR</td>\n",
       "      <td>2009-01-22</td>\n",
       "      <td>20</td>\n",
       "      <td>85221</td>\n",
       "    </tr>\n",
       "    <tr>\n",
       "      <th>3</th>\n",
       "      <td>1245634</td>\n",
       "      <td>CLOSED</td>\n",
       "      <td>2009-01-03</td>\n",
       "      <td>388</td>\n",
       "      <td>10013</td>\n",
       "      <td>BROADWAY</td>\n",
       "      <td>NOT SPECIAL</td>\n",
       "      <td>56</td>\n",
       "      <td>BOILR</td>\n",
       "      <td>2009-01-07</td>\n",
       "      <td>4</td>\n",
       "      <td>106056</td>\n",
       "    </tr>\n",
       "    <tr>\n",
       "      <th>4</th>\n",
       "      <td>1245648</td>\n",
       "      <td>CLOSED</td>\n",
       "      <td>2009-01-03</td>\n",
       "      <td>375</td>\n",
       "      <td>10016</td>\n",
       "      <td>3 AVENUE</td>\n",
       "      <td>NOT SPECIAL</td>\n",
       "      <td>59</td>\n",
       "      <td>ELCTR</td>\n",
       "      <td>2009-01-08</td>\n",
       "      <td>5</td>\n",
       "      <td>109250</td>\n",
       "    </tr>\n",
       "  </tbody>\n",
       "</table>\n",
       "</div>"
      ],
      "text/plain": [
       "   complaint_number  status date_entered house_number  zip_code  \\\n",
       "0           1245555  CLOSED   2009-01-02          930     10025   \n",
       "1           1245608  CLOSED   2009-01-02          428     10013   \n",
       "2           1245621  CLOSED   2009-01-02          146     10001   \n",
       "3           1245634  CLOSED   2009-01-03          388     10013   \n",
       "4           1245648  CLOSED   2009-01-03          375     10016   \n",
       "\n",
       "       house_street special_district complaint_category   unit  \\\n",
       "0   WEST END AVENUE      NOT SPECIAL                 58  BOILR   \n",
       "1          BROADWAY      NOT SPECIAL                 23  SCFLD   \n",
       "2  WEST   28 STREET      NOT SPECIAL                 63  ELEVR   \n",
       "3          BROADWAY      NOT SPECIAL                 56  BOILR   \n",
       "4          3 AVENUE      NOT SPECIAL                 59  ELCTR   \n",
       "\n",
       "  inspection_date  days_until_inspection  med_inc_zip  \n",
       "0      2009-06-02                    151        82352  \n",
       "1      2009-10-09                    280       106056  \n",
       "2      2009-01-22                     20        85221  \n",
       "3      2009-01-07                      4       106056  \n",
       "4      2009-01-08                      5       109250  "
      ]
     },
     "execution_count": 2,
     "metadata": {},
     "output_type": "execute_result"
    }
   ],
   "source": [
    "db = pd.read_csv(\"../datasets/cleaned.csv\", )\n",
    "db.head()"
   ]
  },
  {
   "cell_type": "markdown",
   "metadata": {},
   "source": [
    "## Preprocessing"
   ]
  },
  {
   "cell_type": "code",
   "execution_count": 3,
   "metadata": {},
   "outputs": [],
   "source": [
    "drop_cols = [\n",
    "    \"complaint_number\",\n",
    "    \"days_until_inspection\",\n",
    "    \"status\",\n",
    "    \"house_number\",\n",
    "    \"house_street\",\n",
    "]\n",
    "X = db.drop(columns=drop_cols)"
   ]
  },
  {
   "cell_type": "markdown",
   "metadata": {},
   "source": [
    "## Clustering"
   ]
  },
  {
   "cell_type": "markdown",
   "metadata": {},
   "source": [
    "Since the dataset contains mostly categorical data and some numerical data as well, using a typical clustering algorithm like KMeans will not work. While we can one-hot encode the categorical columns, this does not give an effective range of numbers to base distances off of, so a more advanced method will be used, KPrototypes. This alogrithm splits the categorical and numerical data apart, and then applies KModes and KMeans, respectively, to the features to create the most appropriate clusters."
   ]
  },
  {
   "cell_type": "code",
   "execution_count": 4,
   "metadata": {},
   "outputs": [
    {
     "data": {
      "text/html": [
       "<div>\n",
       "<style scoped>\n",
       "    .dataframe tbody tr th:only-of-type {\n",
       "        vertical-align: middle;\n",
       "    }\n",
       "\n",
       "    .dataframe tbody tr th {\n",
       "        vertical-align: top;\n",
       "    }\n",
       "\n",
       "    .dataframe thead th {\n",
       "        text-align: right;\n",
       "    }\n",
       "</style>\n",
       "<table border=\"1\" class=\"dataframe\">\n",
       "  <thead>\n",
       "    <tr style=\"text-align: right;\">\n",
       "      <th></th>\n",
       "      <th>date_entered</th>\n",
       "      <th>zip_code</th>\n",
       "      <th>special_district</th>\n",
       "      <th>complaint_category</th>\n",
       "      <th>unit</th>\n",
       "      <th>inspection_date</th>\n",
       "      <th>med_inc_zip</th>\n",
       "    </tr>\n",
       "  </thead>\n",
       "  <tbody>\n",
       "    <tr>\n",
       "      <th>0</th>\n",
       "      <td>2009-01-02</td>\n",
       "      <td>10025</td>\n",
       "      <td>NOT SPECIAL</td>\n",
       "      <td>58</td>\n",
       "      <td>BOILR</td>\n",
       "      <td>2009-06-02</td>\n",
       "      <td>82352</td>\n",
       "    </tr>\n",
       "    <tr>\n",
       "      <th>1</th>\n",
       "      <td>2009-01-02</td>\n",
       "      <td>10013</td>\n",
       "      <td>NOT SPECIAL</td>\n",
       "      <td>23</td>\n",
       "      <td>SCFLD</td>\n",
       "      <td>2009-10-09</td>\n",
       "      <td>106056</td>\n",
       "    </tr>\n",
       "    <tr>\n",
       "      <th>2</th>\n",
       "      <td>2009-01-02</td>\n",
       "      <td>10001</td>\n",
       "      <td>NOT SPECIAL</td>\n",
       "      <td>63</td>\n",
       "      <td>ELEVR</td>\n",
       "      <td>2009-01-22</td>\n",
       "      <td>85221</td>\n",
       "    </tr>\n",
       "    <tr>\n",
       "      <th>3</th>\n",
       "      <td>2009-01-03</td>\n",
       "      <td>10013</td>\n",
       "      <td>NOT SPECIAL</td>\n",
       "      <td>56</td>\n",
       "      <td>BOILR</td>\n",
       "      <td>2009-01-07</td>\n",
       "      <td>106056</td>\n",
       "    </tr>\n",
       "    <tr>\n",
       "      <th>4</th>\n",
       "      <td>2009-01-03</td>\n",
       "      <td>10016</td>\n",
       "      <td>NOT SPECIAL</td>\n",
       "      <td>59</td>\n",
       "      <td>ELCTR</td>\n",
       "      <td>2009-01-08</td>\n",
       "      <td>109250</td>\n",
       "    </tr>\n",
       "  </tbody>\n",
       "</table>\n",
       "</div>"
      ],
      "text/plain": [
       "  date_entered  zip_code special_district complaint_category   unit  \\\n",
       "0   2009-01-02     10025      NOT SPECIAL                 58  BOILR   \n",
       "1   2009-01-02     10013      NOT SPECIAL                 23  SCFLD   \n",
       "2   2009-01-02     10001      NOT SPECIAL                 63  ELEVR   \n",
       "3   2009-01-03     10013      NOT SPECIAL                 56  BOILR   \n",
       "4   2009-01-03     10016      NOT SPECIAL                 59  ELCTR   \n",
       "\n",
       "  inspection_date  med_inc_zip  \n",
       "0      2009-06-02        82352  \n",
       "1      2009-10-09       106056  \n",
       "2      2009-01-22        85221  \n",
       "3      2009-01-07       106056  \n",
       "4      2009-01-08       109250  "
      ]
     },
     "execution_count": 4,
     "metadata": {},
     "output_type": "execute_result"
    }
   ],
   "source": [
    "# refreshing on which columns are categorical\n",
    "X.head()"
   ]
  },
  {
   "cell_type": "markdown",
   "metadata": {},
   "source": [
    "## K-Modes Clustering"
   ]
  },
  {
   "cell_type": "code",
   "execution_count": 29,
   "metadata": {},
   "outputs": [],
   "source": [
    "drop_cols = [\n",
    "    \"date_entered\",\n",
    "    \"inspection_date\",\n",
    "    \"med_inc_zip\"\n",
    "]"
   ]
  },
  {
   "cell_type": "code",
   "execution_count": 30,
   "metadata": {},
   "outputs": [
    {
     "name": "stdout",
     "output_type": "stream",
     "text": [
      "Initialization method and algorithm are deterministic. Setting n_init to 1.\n",
      "Initialization method and algorithm are deterministic. Setting n_init to 1.\n",
      "Initialization method and algorithm are deterministic. Setting n_init to 1.\n",
      "Initialization method and algorithm are deterministic. Setting n_init to 1.\n",
      "Initialization method and algorithm are deterministic. Setting n_init to 1.\n",
      "Initialization method and algorithm are deterministic. Setting n_init to 1.\n",
      "Initialization method and algorithm are deterministic. Setting n_init to 1.\n",
      "Initialization method and algorithm are deterministic. Setting n_init to 1.\n",
      "Initialization method and algorithm are deterministic. Setting n_init to 1.\n",
      "Initialization method and algorithm are deterministic. Setting n_init to 1.\n",
      "Initialization method and algorithm are deterministic. Setting n_init to 1.\n",
      "Initialization method and algorithm are deterministic. Setting n_init to 1.\n",
      "Initialization method and algorithm are deterministic. Setting n_init to 1.\n",
      "Initialization method and algorithm are deterministic. Setting n_init to 1.\n",
      "Initialization method and algorithm are deterministic. Setting n_init to 1.\n",
      "Initialization method and algorithm are deterministic. Setting n_init to 1.\n",
      "Initialization method and algorithm are deterministic. Setting n_init to 1.\n",
      "Initialization method and algorithm are deterministic. Setting n_init to 1.\n"
     ]
    }
   ],
   "source": [
    "km_models = {}\n",
    "n_clusters = []\n",
    "km_costs = []\n",
    "\n",
    "for i in range(3, 21, 1):\n",
    "    print(\"running KModes with \", i, \"clusters\")\n",
    "    n_clusters.append(i)\n",
    "    km = KModes(n_clusters=i, n_init=10, random_state=42, n_jobs=-1, verbose=2)\n",
    "    km_model = km.fit(X.drop(columns=drop_cols))\n",
    "    km_models[i] = km_model\n",
    "    km_costs.append(km_model.cost_)\n",
    "    "
   ]
  },
  {
   "cell_type": "code",
   "execution_count": 32,
   "metadata": {},
   "outputs": [
    {
     "data": {
      "text/plain": [
       "[162922.0,\n",
       " 153435.0,\n",
       " 149255.0,\n",
       " 142380.0,\n",
       " 139884.0,\n",
       " 135429.0,\n",
       " 132455.0,\n",
       " 130382.0,\n",
       " 127277.0,\n",
       " 124929.0,\n",
       " 123458.0,\n",
       " 122076.0,\n",
       " 121418.0,\n",
       " 121365.0,\n",
       " 120550.0,\n",
       " 119861.0,\n",
       " 119742.0,\n",
       " 119402.0]"
      ]
     },
     "execution_count": 32,
     "metadata": {},
     "output_type": "execute_result"
    }
   ],
   "source": [
    "km_costs"
   ]
  },
  {
   "cell_type": "code",
   "execution_count": 33,
   "metadata": {},
   "outputs": [],
   "source": [
    "km_diffs = [0]\n",
    "for i, cost in enumerate(km_costs[1:]):\n",
    "    i_diff = cost - km_costs[i]\n",
    "    km_diffs.append(i_diff)"
   ]
  },
  {
   "cell_type": "code",
   "execution_count": 42,
   "metadata": {},
   "outputs": [
    {
     "data": {
      "image/png": "[encoded data removed]",
      "text/plain": [
       "<Figure size 648x432 with 1 Axes>"
      ]
     },
     "metadata": {
      "needs_background": "light"
     },
     "output_type": "display_data"
    }
   ],
   "source": [
    "plt.figure(figsize=(9, 6))\n",
    "plt.plot(n_clusters, km_costs)\n",
    "plt.title(\"Improvement of Model Cost with Increasing Clusters\", size=20)\n",
    "plt.xticks(range(3, 21, 1))\n",
    "plt.xlabel(\"Number of Clusters\", size=15)\n",
    "plt.ylabel(\"Model Cost\", size=15);"
   ]
  },
  {
   "cell_type": "markdown",
   "metadata": {},
   "source": [
    "When trying to identify the optimal number of clusters for use for modeling, it can be useful to identify an inflection point in the imetric curve, such as the \"costs\" displayed here. However, this curve does not have a single clear point to choose from. We will take a deeper look at the difference between these costs."
   ]
  },
  {
   "cell_type": "code",
   "execution_count": 46,
   "metadata": {},
   "outputs": [
    {
     "data": {
      "text/plain": [
       "Text(0, 0.5, 'Change in Cost from Previous Model')"
      ]
     },
     "execution_count": 46,
     "metadata": {},
     "output_type": "execute_result"
    },
    {
     "data": {
      "image/png": "[encoded data removed]",
      "text/plain": [
       "<Figure size 648x432 with 1 Axes>"
      ]
     },
     "metadata": {
      "needs_background": "light"
     },
     "output_type": "display_data"
    }
   ],
   "source": [
    "plt.figure(figsize=(9, 6))\n",
    "plt.plot(n_clusters, km_diffs)\n",
    "plt.title(\"Relative Change in Model Costs Between Cluster Counts\", size=20)\n",
    "plt.xticks(range(3, 21, 1))\n",
    "plt.xlabel(\"Number of Clusters\", size=15)\n",
    "plt.ylabel(\"Change in Cost from Previous Model\", size=15)"
   ]
  },
  {
   "cell_type": "code",
   "execution_count": 15,
   "metadata": {},
   "outputs": [
    {
     "name": "stdout",
     "output_type": "stream",
     "text": [
      "Initialization method and algorithm are deterministic. Setting n_init to 1.\n"
     ]
    }
   ],
   "source": [
    "# kmodes = KModes(n_clusters=4, n_init=10, random_state=42, n_jobs=-1, verbose=1)"
   ]
  },
  {
   "cell_type": "code",
   "execution_count": 7,
   "metadata": {},
   "outputs": [],
   "source": [
    "# kmodes_model = kmodes.fit(X.drop(columns=drop_cols))"
   ]
  },
  {
   "cell_type": "code",
   "execution_count": 28,
   "metadata": {},
   "outputs": [],
   "source": [
    "# # making new file\n",
    "# outfile = open(\"kmodes_n4_pickle\", \"wb\")\n",
    "\n",
    "# # dumping model to pickle\n",
    "# pickle.dump(kmodes_model, outfile)\n",
    "\n",
    "# # closing new file\n",
    "# outfile.close()"
   ]
  },
  {
   "cell_type": "code",
   "execution_count": 8,
   "metadata": {},
   "outputs": [],
   "source": [
    "# opening pickle file\n",
    "infile = open(\"kmodes_n4_pickle\", \"rb\")\n",
    "\n",
    "# unpickling back into model object\n",
    "kmodes_model = pickle.load(infile)\n",
    "\n",
    "infile.close()"
   ]
  },
  {
   "cell_type": "code",
   "execution_count": 9,
   "metadata": {},
   "outputs": [
    {
     "data": {
      "text/plain": [
       "array([['11419', 'NOT SPECIAL', '45', 'QNS.'],\n",
       "       ['11221', 'NOT SPECIAL', '05', 'BKLYN'],\n",
       "       ['11355', 'NOT SPECIAL', '63', 'ELEVR'],\n",
       "       ['11211', 'NOT SPECIAL', '04', 'ERT  ']], dtype='<U21')"
      ]
     },
     "execution_count": 9,
     "metadata": {},
     "output_type": "execute_result"
    }
   ],
   "source": [
    "kmodes_model.cluster_centroids_"
   ]
  },
  {
   "cell_type": "code",
   "execution_count": 10,
   "metadata": {},
   "outputs": [
    {
     "data": {
      "text/plain": [
       "153435.0"
      ]
     },
     "execution_count": 10,
     "metadata": {},
     "output_type": "execute_result"
    }
   ],
   "source": [
    "kmodes_model.cost_"
   ]
  },
  {
   "cell_type": "code",
   "execution_count": 11,
   "metadata": {},
   "outputs": [],
   "source": [
    "db[\"cluster\"] = kmodes_model.labels_"
   ]
  },
  {
   "cell_type": "code",
   "execution_count": 12,
   "metadata": {},
   "outputs": [
    {
     "data": {
      "text/plain": [
       "0    0.605569\n",
       "1    0.194700\n",
       "2    0.103726\n",
       "3    0.096005\n",
       "Name: cluster, dtype: float64"
      ]
     },
     "execution_count": 12,
     "metadata": {},
     "output_type": "execute_result"
    }
   ],
   "source": [
    "db[\"cluster\"].value_counts(normalize=True)"
   ]
  },
  {
   "cell_type": "code",
   "execution_count": 25,
   "metadata": {},
   "outputs": [
    {
     "data": {
      "text/plain": [
       "Index(['complaint_number', 'status', 'date_entered', 'house_number',\n",
       "       'zip_code', 'house_street', 'special_district', 'complaint_category',\n",
       "       'unit', 'inspection_date', 'days_until_inspection', 'med_inc_zip',\n",
       "       'cluster'],\n",
       "      dtype='object')"
      ]
     },
     "execution_count": 25,
     "metadata": {},
     "output_type": "execute_result"
    }
   ],
   "source": [
    "db.columns"
   ]
  },
  {
   "cell_type": "code",
   "execution_count": 23,
   "metadata": {},
   "outputs": [
    {
     "data": {
      "text/html": [
       "<div>\n",
       "<style scoped>\n",
       "    .dataframe tbody tr th:only-of-type {\n",
       "        vertical-align: middle;\n",
       "    }\n",
       "\n",
       "    .dataframe tbody tr th {\n",
       "        vertical-align: top;\n",
       "    }\n",
       "\n",
       "    .dataframe thead th {\n",
       "        text-align: right;\n",
       "    }\n",
       "</style>\n",
       "<table border=\"1\" class=\"dataframe\">\n",
       "  <thead>\n",
       "    <tr style=\"text-align: right;\">\n",
       "      <th></th>\n",
       "      <th>count</th>\n",
       "      <th>mean</th>\n",
       "      <th>std</th>\n",
       "      <th>min</th>\n",
       "      <th>25%</th>\n",
       "      <th>50%</th>\n",
       "      <th>75%</th>\n",
       "      <th>max</th>\n",
       "    </tr>\n",
       "    <tr>\n",
       "      <th>cluster</th>\n",
       "      <th></th>\n",
       "      <th></th>\n",
       "      <th></th>\n",
       "      <th></th>\n",
       "      <th></th>\n",
       "      <th></th>\n",
       "      <th></th>\n",
       "      <th></th>\n",
       "    </tr>\n",
       "  </thead>\n",
       "  <tbody>\n",
       "    <tr>\n",
       "      <th>0</th>\n",
       "      <td>45018.0</td>\n",
       "      <td>91.282465</td>\n",
       "      <td>211.480531</td>\n",
       "      <td>1.0</td>\n",
       "      <td>6.0</td>\n",
       "      <td>27.0</td>\n",
       "      <td>88.0</td>\n",
       "      <td>3756.0</td>\n",
       "    </tr>\n",
       "    <tr>\n",
       "      <th>1</th>\n",
       "      <td>14474.0</td>\n",
       "      <td>94.829004</td>\n",
       "      <td>205.692277</td>\n",
       "      <td>1.0</td>\n",
       "      <td>6.0</td>\n",
       "      <td>32.0</td>\n",
       "      <td>94.0</td>\n",
       "      <td>3767.0</td>\n",
       "    </tr>\n",
       "    <tr>\n",
       "      <th>2</th>\n",
       "      <td>7711.0</td>\n",
       "      <td>55.944236</td>\n",
       "      <td>84.096290</td>\n",
       "      <td>1.0</td>\n",
       "      <td>9.0</td>\n",
       "      <td>27.0</td>\n",
       "      <td>64.0</td>\n",
       "      <td>1426.0</td>\n",
       "    </tr>\n",
       "    <tr>\n",
       "      <th>3</th>\n",
       "      <td>7137.0</td>\n",
       "      <td>79.153566</td>\n",
       "      <td>282.582512</td>\n",
       "      <td>1.0</td>\n",
       "      <td>1.0</td>\n",
       "      <td>3.0</td>\n",
       "      <td>17.0</td>\n",
       "      <td>3251.0</td>\n",
       "    </tr>\n",
       "  </tbody>\n",
       "</table>\n",
       "</div>"
      ],
      "text/plain": [
       "           count       mean         std  min  25%   50%   75%     max\n",
       "cluster                                                              \n",
       "0        45018.0  91.282465  211.480531  1.0  6.0  27.0  88.0  3756.0\n",
       "1        14474.0  94.829004  205.692277  1.0  6.0  32.0  94.0  3767.0\n",
       "2         7711.0  55.944236   84.096290  1.0  9.0  27.0  64.0  1426.0\n",
       "3         7137.0  79.153566  282.582512  1.0  1.0   3.0  17.0  3251.0"
      ]
     },
     "execution_count": 23,
     "metadata": {},
     "output_type": "execute_result"
    }
   ],
   "source": [
    "db.groupby(\"cluster\")[\"days_until_inspection\"].describe()"
   ]
  },
  {
   "cell_type": "markdown",
   "metadata": {},
   "source": [
    "The clusters do not seem to have created any large distinction between the wait times for inspection, but perhaps they have made better groups in one of the other features."
   ]
  },
  {
   "cell_type": "code",
   "execution_count": 24,
   "metadata": {},
   "outputs": [
    {
     "data": {
      "text/plain": [
       "cluster\n",
       "0    61090\n",
       "1    53151\n",
       "2    46013\n",
       "3    64152\n",
       "Name: med_inc_zip, dtype: int64"
      ]
     },
     "execution_count": 24,
     "metadata": {},
     "output_type": "execute_result"
    }
   ],
   "source": [
    "db.groupby(\"cluster\")[\"med_inc_zip\"].median()"
   ]
  },
  {
   "cell_type": "code",
   "execution_count": 28,
   "metadata": {},
   "outputs": [
    {
     "data": {
      "text/html": [
       "<div>\n",
       "<style scoped>\n",
       "    .dataframe tbody tr th:only-of-type {\n",
       "        vertical-align: middle;\n",
       "    }\n",
       "\n",
       "    .dataframe tbody tr th {\n",
       "        vertical-align: top;\n",
       "    }\n",
       "\n",
       "    .dataframe thead th {\n",
       "        text-align: right;\n",
       "    }\n",
       "</style>\n",
       "<table border=\"1\" class=\"dataframe\">\n",
       "  <thead>\n",
       "    <tr style=\"text-align: right;\">\n",
       "      <th></th>\n",
       "      <th>count</th>\n",
       "      <th>unique</th>\n",
       "      <th>top</th>\n",
       "      <th>freq</th>\n",
       "    </tr>\n",
       "    <tr>\n",
       "      <th>cluster</th>\n",
       "      <th></th>\n",
       "      <th></th>\n",
       "      <th></th>\n",
       "      <th></th>\n",
       "    </tr>\n",
       "  </thead>\n",
       "  <tbody>\n",
       "    <tr>\n",
       "      <th>0</th>\n",
       "      <td>45018</td>\n",
       "      <td>108</td>\n",
       "      <td>45</td>\n",
       "      <td>12299</td>\n",
       "    </tr>\n",
       "    <tr>\n",
       "      <th>1</th>\n",
       "      <td>14474</td>\n",
       "      <td>82</td>\n",
       "      <td>05</td>\n",
       "      <td>7639</td>\n",
       "    </tr>\n",
       "    <tr>\n",
       "      <th>2</th>\n",
       "      <td>7711</td>\n",
       "      <td>55</td>\n",
       "      <td>63</td>\n",
       "      <td>5497</td>\n",
       "    </tr>\n",
       "    <tr>\n",
       "      <th>3</th>\n",
       "      <td>7137</td>\n",
       "      <td>80</td>\n",
       "      <td>04</td>\n",
       "      <td>2279</td>\n",
       "    </tr>\n",
       "  </tbody>\n",
       "</table>\n",
       "</div>"
      ],
      "text/plain": [
       "         count unique top   freq\n",
       "cluster                         \n",
       "0        45018    108  45  12299\n",
       "1        14474     82  05   7639\n",
       "2         7711     55  63   5497\n",
       "3         7137     80  04   2279"
      ]
     },
     "execution_count": 28,
     "metadata": {},
     "output_type": "execute_result"
    }
   ],
   "source": [
    "db.groupby(\"cluster\")[\"complaint_category\"].describe()"
   ]
  },
  {
   "cell_type": "markdown",
   "metadata": {},
   "source": [
    "When looking at the median income for each of the clusters, there again does not appear to be a large separation between them. Shifting to the complaint categories, we can clearly see why these points were chosen as the centroids, as each cluster's most common (mode) complaint entry is the same as that feature's centroid value"
   ]
  },
  {
   "cell_type": "markdown",
   "metadata": {},
   "source": [
    "## K-Prototypes Clustering"
   ]
  },
  {
   "cell_type": "code",
   "execution_count": 19,
   "metadata": {},
   "outputs": [
    {
     "data": {
      "text/html": [
       "<div>\n",
       "<style scoped>\n",
       "    .dataframe tbody tr th:only-of-type {\n",
       "        vertical-align: middle;\n",
       "    }\n",
       "\n",
       "    .dataframe tbody tr th {\n",
       "        vertical-align: top;\n",
       "    }\n",
       "\n",
       "    .dataframe thead th {\n",
       "        text-align: right;\n",
       "    }\n",
       "</style>\n",
       "<table border=\"1\" class=\"dataframe\">\n",
       "  <thead>\n",
       "    <tr style=\"text-align: right;\">\n",
       "      <th></th>\n",
       "      <th>date_entered</th>\n",
       "      <th>zip_code</th>\n",
       "      <th>special_district</th>\n",
       "      <th>complaint_category</th>\n",
       "      <th>unit</th>\n",
       "      <th>inspection_date</th>\n",
       "      <th>med_inc_zip</th>\n",
       "    </tr>\n",
       "  </thead>\n",
       "  <tbody>\n",
       "    <tr>\n",
       "      <th>0</th>\n",
       "      <td>2009-01-02</td>\n",
       "      <td>10025</td>\n",
       "      <td>NOT SPECIAL</td>\n",
       "      <td>58</td>\n",
       "      <td>BOILR</td>\n",
       "      <td>2009-06-02</td>\n",
       "      <td>82352</td>\n",
       "    </tr>\n",
       "    <tr>\n",
       "      <th>1</th>\n",
       "      <td>2009-01-02</td>\n",
       "      <td>10013</td>\n",
       "      <td>NOT SPECIAL</td>\n",
       "      <td>23</td>\n",
       "      <td>SCFLD</td>\n",
       "      <td>2009-10-09</td>\n",
       "      <td>106056</td>\n",
       "    </tr>\n",
       "    <tr>\n",
       "      <th>2</th>\n",
       "      <td>2009-01-02</td>\n",
       "      <td>10001</td>\n",
       "      <td>NOT SPECIAL</td>\n",
       "      <td>63</td>\n",
       "      <td>ELEVR</td>\n",
       "      <td>2009-01-22</td>\n",
       "      <td>85221</td>\n",
       "    </tr>\n",
       "    <tr>\n",
       "      <th>3</th>\n",
       "      <td>2009-01-03</td>\n",
       "      <td>10013</td>\n",
       "      <td>NOT SPECIAL</td>\n",
       "      <td>56</td>\n",
       "      <td>BOILR</td>\n",
       "      <td>2009-01-07</td>\n",
       "      <td>106056</td>\n",
       "    </tr>\n",
       "    <tr>\n",
       "      <th>4</th>\n",
       "      <td>2009-01-03</td>\n",
       "      <td>10016</td>\n",
       "      <td>NOT SPECIAL</td>\n",
       "      <td>59</td>\n",
       "      <td>ELCTR</td>\n",
       "      <td>2009-01-08</td>\n",
       "      <td>109250</td>\n",
       "    </tr>\n",
       "  </tbody>\n",
       "</table>\n",
       "</div>"
      ],
      "text/plain": [
       "  date_entered  zip_code special_district complaint_category   unit  \\\n",
       "0   2009-01-02     10025      NOT SPECIAL                 58  BOILR   \n",
       "1   2009-01-02     10013      NOT SPECIAL                 23  SCFLD   \n",
       "2   2009-01-02     10001      NOT SPECIAL                 63  ELEVR   \n",
       "3   2009-01-03     10013      NOT SPECIAL                 56  BOILR   \n",
       "4   2009-01-03     10016      NOT SPECIAL                 59  ELCTR   \n",
       "\n",
       "  inspection_date  med_inc_zip  \n",
       "0      2009-06-02        82352  \n",
       "1      2009-10-09       106056  \n",
       "2      2009-01-22        85221  \n",
       "3      2009-01-07       106056  \n",
       "4      2009-01-08       109250  "
      ]
     },
     "execution_count": 19,
     "metadata": {},
     "output_type": "execute_result"
    }
   ],
   "source": [
    "X.head()"
   ]
  },
  {
   "cell_type": "code",
   "execution_count": 20,
   "metadata": {},
   "outputs": [],
   "source": [
    "X_kprot = X.drop(columns=[\"date_entered\", \"inspection_date\"])"
   ]
  },
  {
   "cell_type": "code",
   "execution_count": 21,
   "metadata": {},
   "outputs": [
    {
     "data": {
      "text/html": [
       "<div>\n",
       "<style scoped>\n",
       "    .dataframe tbody tr th:only-of-type {\n",
       "        vertical-align: middle;\n",
       "    }\n",
       "\n",
       "    .dataframe tbody tr th {\n",
       "        vertical-align: top;\n",
       "    }\n",
       "\n",
       "    .dataframe thead th {\n",
       "        text-align: right;\n",
       "    }\n",
       "</style>\n",
       "<table border=\"1\" class=\"dataframe\">\n",
       "  <thead>\n",
       "    <tr style=\"text-align: right;\">\n",
       "      <th></th>\n",
       "      <th>zip_code</th>\n",
       "      <th>special_district</th>\n",
       "      <th>complaint_category</th>\n",
       "      <th>unit</th>\n",
       "      <th>med_inc_zip</th>\n",
       "    </tr>\n",
       "  </thead>\n",
       "  <tbody>\n",
       "    <tr>\n",
       "      <th>0</th>\n",
       "      <td>10025</td>\n",
       "      <td>NOT SPECIAL</td>\n",
       "      <td>58</td>\n",
       "      <td>BOILR</td>\n",
       "      <td>82352</td>\n",
       "    </tr>\n",
       "    <tr>\n",
       "      <th>1</th>\n",
       "      <td>10013</td>\n",
       "      <td>NOT SPECIAL</td>\n",
       "      <td>23</td>\n",
       "      <td>SCFLD</td>\n",
       "      <td>106056</td>\n",
       "    </tr>\n",
       "    <tr>\n",
       "      <th>2</th>\n",
       "      <td>10001</td>\n",
       "      <td>NOT SPECIAL</td>\n",
       "      <td>63</td>\n",
       "      <td>ELEVR</td>\n",
       "      <td>85221</td>\n",
       "    </tr>\n",
       "    <tr>\n",
       "      <th>3</th>\n",
       "      <td>10013</td>\n",
       "      <td>NOT SPECIAL</td>\n",
       "      <td>56</td>\n",
       "      <td>BOILR</td>\n",
       "      <td>106056</td>\n",
       "    </tr>\n",
       "    <tr>\n",
       "      <th>4</th>\n",
       "      <td>10016</td>\n",
       "      <td>NOT SPECIAL</td>\n",
       "      <td>59</td>\n",
       "      <td>ELCTR</td>\n",
       "      <td>109250</td>\n",
       "    </tr>\n",
       "  </tbody>\n",
       "</table>\n",
       "</div>"
      ],
      "text/plain": [
       "   zip_code special_district complaint_category   unit  med_inc_zip\n",
       "0     10025      NOT SPECIAL                 58  BOILR        82352\n",
       "1     10013      NOT SPECIAL                 23  SCFLD       106056\n",
       "2     10001      NOT SPECIAL                 63  ELEVR        85221\n",
       "3     10013      NOT SPECIAL                 56  BOILR       106056\n",
       "4     10016      NOT SPECIAL                 59  ELCTR       109250"
      ]
     },
     "execution_count": 21,
     "metadata": {},
     "output_type": "execute_result"
    }
   ],
   "source": [
    "X_kprot.head()"
   ]
  },
  {
   "cell_type": "code",
   "execution_count": 23,
   "metadata": {},
   "outputs": [
    {
     "name": "stdout",
     "output_type": "stream",
     "text": [
      "Best run was number 7\n"
     ]
    }
   ],
   "source": [
    "# kp = KPrototypes(n_clusters=4, n_jobs=-1, verbose=1, random_state=42)    \n",
    "# kp_model = kprot.fit(X_kp, categorical=[0, 1, 2, 3])"
   ]
  },
  {
   "cell_type": "code",
   "execution_count": null,
   "metadata": {},
   "outputs": [],
   "source": [
    "kp_models = {}\n",
    "n_clusters = []\n",
    "kp_model_costs = []\n",
    "\n",
    "for i in range(3, 21, 1):\n",
    "    n_clusters.append(i)\n",
    "    kp = KPrototypes(n_clusters=i, n_init=10, random_state=42, n_jobs=-1, verbose=2)\n",
    "    kp_model = kp.fit(X_kp, categorical=[0, 1, 2, 3])\n",
    "    kp_models[i] = (kp_model)\n",
    "    kp_model_costs.append(kp_model.cost_)"
   ]
  },
  {
   "cell_type": "code",
   "execution_count": 24,
   "metadata": {},
   "outputs": [
    {
     "data": {
      "text/plain": [
       "[array([[ 83750.00243427],\n",
       "        [ 60152.13747653],\n",
       "        [ 38428.95000603],\n",
       "        [120111.74915825]]), array([['10025', 'NOT SPECIAL', '45', 'QNS.'],\n",
       "        ['11419', 'NOT SPECIAL', '45', 'QNS.'],\n",
       "        ['11355', 'NOT SPECIAL', '45', 'BKLYN'],\n",
       "        ['11215', 'NOT SPECIAL', '05', 'MAN.']], dtype='<U21')]"
      ]
     },
     "execution_count": 24,
     "metadata": {},
     "output_type": "execute_result"
    }
   ],
   "source": [
    "kp_model.cluster_centroids_"
   ]
  },
  {
   "cell_type": "markdown",
   "metadata": {},
   "source": [
    "Running K-Modes and K-Prototypes with the same cluster number, but the additional feature of median income, does give different clusters/centroids. Given the significant increase in processing time between KModes and KPrototypes, it may be more efficient to only use KModes on the categorical features to cluster the datapoints, then integrate the income data as a feature in the final predictive model."
   ]
  },
  {
   "cell_type": "code",
   "execution_count": 29,
   "metadata": {},
   "outputs": [],
   "source": [
    "# making new file\n",
    "outfile = open(\"kprot_n4_pickle\", \"wb\")\n",
    "\n",
    "# dumping model to pickle\n",
    "pickle.dump(kp_model, outfile)\n",
    "\n",
    "# closing new file\n",
    "outfile.close()"
   ]
  },
  {
   "cell_type": "markdown",
   "metadata": {},
   "source": [
    "## Saving Dataset"
   ]
  },
  {
   "cell_type": "markdown",
   "metadata": {},
   "source": [
    "The cluster labels from the optimized K-Modes model were applied to the cleaned dataset, which will now be saved for use in the main modeling notebook."
   ]
  },
  {
   "cell_type": "code",
   "execution_count": 41,
   "metadata": {},
   "outputs": [],
   "source": [
    "db.to_csv(\"../datasets/cleaned_clustered.csv\", index=False)"
   ]
  }
 ],
 "metadata": {
  "kernelspec": {
   "display_name": "Python 3",
   "language": "python",
   "name": "python3"
  },
  "language_info": {
   "codemirror_mode": {
    "name": "ipython",
    "version": 3
   },
   "file_extension": ".py",
   "mimetype": "text/x-python",
   "name": "python",
   "nbconvert_exporter": "python",
   "pygments_lexer": "ipython3",
   "version": "3.7.4"
  }
 },
 "nbformat": 4,
 "nbformat_minor": 4
}
