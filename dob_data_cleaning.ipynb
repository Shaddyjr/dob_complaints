{
 "cells": [
  {
   "cell_type": "markdown",
   "metadata": {},
   "source": [
    "# Cleaning Department of Buildings Complaints dataset\n",
    "\n",
    "#### Authors:\n",
    "- __Jeremy Ondov:__ [GitHub](https://github.com/ondovj)\n",
    "- __Mahdi Shadkam-Farrokhi:__ [GitHub](https://github.com/Shaddyjr) "
   ]
  },
  {
   "cell_type": "markdown",
   "metadata": {},
   "source": [
    "This notebook is intended for cleaning the DOB dataset we'll be working with in a separate [notebook for EDA and modeling](./dob_complaints.ipynb)."
   ]
  },
  {
   "cell_type": "markdown",
   "metadata": {},
   "source": [
    "## Source Material\n",
    "- [Data Source](https://data.cityofnewyork.us/Housing-Development/DOB-Complaints-Received/eabe-havv)\n",
    "- [Complaint Codes](https://www1.nyc.gov/assets/buildings/pdf/complaint_category.pdf)\n",
    "- [Disposition Codes](https://www1.nyc.gov/assets/buildings/pdf/bis_complaint_disposition_codes.pdf)\n",
    "- [Data Explains](https://docs.google.com/spreadsheets/d/10p0HLqinKbUrSjKaZC2E0ZTHDXgULT0K/edit#gid=1015257717)\n",
    "- [American Community Survey](https://www.census.gov/programs-surveys/acs/data.html)"
   ]
  },
  {
   "cell_type": "markdown",
   "metadata": {},
   "source": [
    "## Loading libraries and data"
   ]
  },
  {
   "cell_type": "code",
   "execution_count": 189,
   "metadata": {},
   "outputs": [],
   "source": [
    "import pandas as pd\n",
    "import googlemaps\n",
    "import time\n",
    "import math"
   ]
  },
  {
   "cell_type": "markdown",
   "metadata": {},
   "source": [
    "Given the massive size of the dataset, we'll only pull a sample from the relevant observations.\n",
    "\n",
    "After some outside research, we discovered the DOB website went live in 2009, which drastically altered the shape of the data after that point. Therefore, we will only select observations from 2009 onward, as these are much more applicable to current events."
   ]
  },
  {
   "cell_type": "code",
   "execution_count": 191,
   "metadata": {},
   "outputs": [],
   "source": [
    "target_size = 100_000 # desired sample size"
   ]
  },
  {
   "cell_type": "code",
   "execution_count": 33,
   "metadata": {},
   "outputs": [
    {
     "name": "stdout",
     "output_type": "stream",
     "text": [
      "Working up to row # 100000 | Current sample length = 55256\n",
      "Working up to row # 200000 | Current sample length = 59144\n",
      "Working up to row # 300000 | Current sample length = 63052\n",
      "Working up to row # 400000 | Current sample length = 66961\n",
      "Working up to row # 500000 | Current sample length = 70857\n",
      "Working up to row # 600000 | Current sample length = 74768\n",
      "Working up to row # 700000 | Current sample length = 78658\n",
      "Working up to row # 800000 | Current sample length = 82596\n",
      "Working up to row # 900000 | Current sample length = 86505\n",
      "Working up to row # 1000000 | Current sample length = 90410\n",
      "Working up to row # 1100000 | Current sample length = 94332\n",
      "Working up to row # 1200000 | Current sample length = 98241\n",
      "Working up to row # 1300000 | Current sample length = 102161\n"
     ]
    }
   ],
   "source": [
    "data_file = \"./datasets/DOB_Complaints_Received.csv\"\n",
    "chunk_size = 100_000 # number of lines used for each iterated read through file\n",
    "skip = math.ceil(1_300_000 / target_size) # the sample rate. Every \"skip\"th observation is selected\n",
    "\n",
    "dtypes = {\n",
    "    'Complaint Number':\"int64\",\n",
    "    'ZIP Code':\"object\",\n",
    "    'Special District':\"object\",\n",
    "    'Complaint Category':\"object\",\n",
    "    'Unit':\"object\",\n",
    "    'Date Entered':\"object\",\n",
    "    'Status':\"object\",\n",
    "    'House Street':\"object\",\n",
    "    'House Number':\"object\"\n",
    "}\n",
    "\n",
    "keepers = [\n",
    "    'Complaint Number',\n",
    "    'ZIP Code',\n",
    "    'Special District',\n",
    "    'Complaint Category',\n",
    "    'Unit',\n",
    "    'Date Entered',\n",
    "    'Inspection Date',\n",
    "    'Status',\n",
    "    'House Street',\n",
    "    'House Number'\n",
    "]\n",
    "\n",
    "iteration_obj = pd.read_csv(\n",
    "                    data_file, \n",
    "                    usecols = keepers, \n",
    "                    parse_dates=['Date Entered'], \n",
    "                    iterator = True,\n",
    "                    chunksize = chunk_size,\n",
    "                    dtype = dtypes,\n",
    "                    index_col = 0\n",
    "                );\n",
    "\n",
    "df = None\n",
    "current_n = 0\n",
    "while df is None or (df.shape[0] < target_size and iteration_obj._currow <= 2_300_000):\n",
    "    raw_dataframe = iteration_obj.get_chunk()\n",
    "    # removing anything before 2009\n",
    "    filtered_dataframe = raw_dataframe[\"2009\" < raw_dataframe[\"Date Entered\"]]\n",
    "    if df is None:\n",
    "        df = filtered_dataframe\n",
    "    # adding to sample\n",
    "    df = pd.concat([df, filtered_dataframe.iloc[::skip,:]], axis = 0)\n",
    "    current_n += chunk_size\n",
    "    print(\"Working up to row # {} | Current sample length = {}\".format(current_n,df.shape[0]))\n",
    "\n",
    "iteration_obj.close() # not sure if needed, but good practice to close connections\n",
    "\n",
    "# clean up index\n",
    "df.reset_index(inplace = True)"
   ]
  },
  {
   "cell_type": "code",
   "execution_count": 34,
   "metadata": {},
   "outputs": [
    {
     "data": {
      "text/plain": [
       "(102161, 10)"
      ]
     },
     "execution_count": 34,
     "metadata": {},
     "output_type": "execute_result"
    }
   ],
   "source": [
    "df.shape"
   ]
  },
  {
   "cell_type": "code",
   "execution_count": 36,
   "metadata": {},
   "outputs": [
    {
     "data": {
      "text/html": [
       "<div>\n",
       "<style scoped>\n",
       "    .dataframe tbody tr th:only-of-type {\n",
       "        vertical-align: middle;\n",
       "    }\n",
       "\n",
       "    .dataframe tbody tr th {\n",
       "        vertical-align: top;\n",
       "    }\n",
       "\n",
       "    .dataframe thead th {\n",
       "        text-align: right;\n",
       "    }\n",
       "</style>\n",
       "<table border=\"1\" class=\"dataframe\">\n",
       "  <thead>\n",
       "    <tr style=\"text-align: right;\">\n",
       "      <th></th>\n",
       "      <th>Complaint Number</th>\n",
       "      <th>Status</th>\n",
       "      <th>Date Entered</th>\n",
       "      <th>House Number</th>\n",
       "      <th>ZIP Code</th>\n",
       "      <th>House Street</th>\n",
       "      <th>Special District</th>\n",
       "      <th>Complaint Category</th>\n",
       "      <th>Unit</th>\n",
       "      <th>Inspection Date</th>\n",
       "    </tr>\n",
       "  </thead>\n",
       "  <tbody>\n",
       "    <tr>\n",
       "      <th>0</th>\n",
       "      <td>2193181</td>\n",
       "      <td>CLOSED</td>\n",
       "      <td>2013-12-17</td>\n",
       "      <td>573</td>\n",
       "      <td>10458</td>\n",
       "      <td>EAST FORDHAM ROAD</td>\n",
       "      <td></td>\n",
       "      <td>4B</td>\n",
       "      <td>SEP</td>\n",
       "      <td>12/24/2013</td>\n",
       "    </tr>\n",
       "    <tr>\n",
       "      <th>1</th>\n",
       "      <td>1265849</td>\n",
       "      <td>CLOSED</td>\n",
       "      <td>2009-09-21</td>\n",
       "      <td>429</td>\n",
       "      <td>10075</td>\n",
       "      <td>EAST   77 STREET</td>\n",
       "      <td></td>\n",
       "      <td>73</td>\n",
       "      <td>MAN.</td>\n",
       "      <td>10/03/2009</td>\n",
       "    </tr>\n",
       "    <tr>\n",
       "      <th>2</th>\n",
       "      <td>1404696</td>\n",
       "      <td>CLOSED</td>\n",
       "      <td>2015-09-02</td>\n",
       "      <td>21</td>\n",
       "      <td>10011</td>\n",
       "      <td>WEST 8 STREET</td>\n",
       "      <td></td>\n",
       "      <td>37</td>\n",
       "      <td>ERT</td>\n",
       "      <td>09/03/2015</td>\n",
       "    </tr>\n",
       "    <tr>\n",
       "      <th>3</th>\n",
       "      <td>2149422</td>\n",
       "      <td>CLOSED</td>\n",
       "      <td>2010-08-25</td>\n",
       "      <td>2075</td>\n",
       "      <td>10462</td>\n",
       "      <td>WALLACE AVENUE</td>\n",
       "      <td></td>\n",
       "      <td>23</td>\n",
       "      <td>ERT</td>\n",
       "      <td>10/09/2010</td>\n",
       "    </tr>\n",
       "    <tr>\n",
       "      <th>4</th>\n",
       "      <td>3312533</td>\n",
       "      <td>CLOSED</td>\n",
       "      <td>2009-07-20</td>\n",
       "      <td>819</td>\n",
       "      <td>11220</td>\n",
       "      <td>59 STREET</td>\n",
       "      <td></td>\n",
       "      <td>90</td>\n",
       "      <td>CITY</td>\n",
       "      <td>09/15/2009</td>\n",
       "    </tr>\n",
       "  </tbody>\n",
       "</table>\n",
       "</div>"
      ],
      "text/plain": [
       "   Complaint Number  Status Date Entered  House Number   ZIP Code  \\\n",
       "0           2193181  CLOSED   2013-12-17  573           10458       \n",
       "1           1265849  CLOSED   2009-09-21  429           10075       \n",
       "2           1404696  CLOSED   2015-09-02  21            10011       \n",
       "3           2149422  CLOSED   2010-08-25  2075          10462       \n",
       "4           3312533  CLOSED   2009-07-20  819           11220       \n",
       "\n",
       "                       House Street Special District Complaint Category  \\\n",
       "0  EAST FORDHAM ROAD                                                 4B   \n",
       "1  EAST   77 STREET                                                  73   \n",
       "2  WEST 8 STREET                                                     37   \n",
       "3  WALLACE AVENUE                                                    23   \n",
       "4    59 STREET                                                       90   \n",
       "\n",
       "    Unit Inspection Date  \n",
       "0  SEP        12/24/2013  \n",
       "1   MAN.      10/03/2009  \n",
       "2  ERT        09/03/2015  \n",
       "3  ERT        10/09/2010  \n",
       "4  CITY       09/15/2009  "
      ]
     },
     "execution_count": 36,
     "metadata": {},
     "output_type": "execute_result"
    }
   ],
   "source": [
    "df.head()"
   ]
  },
  {
   "cell_type": "markdown",
   "metadata": {},
   "source": [
    "We'll be working with roughly 100,000 obsevations"
   ]
  },
  {
   "cell_type": "markdown",
   "metadata": {},
   "source": [
    "---\n",
    "We are also bringing in a dataset of median household income for each zip code in New York. This data was sourced from the American Community Survey, using their 5-year estimates from 2017, and adjusted to 2017 inflation levels.\n",
    "\n",
    "[source](https://www.census.gov/programs-surveys/acs/data.html)"
   ]
  },
  {
   "cell_type": "code",
   "execution_count": 65,
   "metadata": {},
   "outputs": [
    {
     "ename": "FileNotFoundError",
     "evalue": "[Errno 2] File ./datasets/ACS_17_5YR_S1901_with_ann.csv does not exist: './datasets/ACS_17_5YR_S1901_with_ann.csv'",
     "output_type": "error",
     "traceback": [
      "\u001b[1;31m---------------------------------------------------------------------------\u001b[0m",
      "\u001b[1;31mFileNotFoundError\u001b[0m                         Traceback (most recent call last)",
      "\u001b[1;32m<ipython-input-65-02a82ac076bc>\u001b[0m in \u001b[0;36m<module>\u001b[1;34m\u001b[0m\n\u001b[1;32m----> 1\u001b[1;33m \u001b[0mincome_db\u001b[0m \u001b[1;33m=\u001b[0m \u001b[0mpd\u001b[0m\u001b[1;33m.\u001b[0m\u001b[0mread_csv\u001b[0m\u001b[1;33m(\u001b[0m\u001b[1;34m\"./datasets/ACS_17_5YR_S1901_with_ann.csv\"\u001b[0m\u001b[1;33m,\u001b[0m \u001b[0mheader\u001b[0m\u001b[1;33m=\u001b[0m\u001b[1;36m1\u001b[0m\u001b[1;33m)\u001b[0m\u001b[1;33m\u001b[0m\u001b[1;33m\u001b[0m\u001b[0m\n\u001b[0m\u001b[0;32m      2\u001b[0m \u001b[0mincome_db\u001b[0m\u001b[1;33m.\u001b[0m\u001b[0mhead\u001b[0m\u001b[1;33m(\u001b[0m\u001b[1;33m)\u001b[0m\u001b[1;33m\u001b[0m\u001b[1;33m\u001b[0m\u001b[0m\n",
      "\u001b[1;32m~\\Anaconda3\\lib\\site-packages\\pandas\\io\\parsers.py\u001b[0m in \u001b[0;36mparser_f\u001b[1;34m(filepath_or_buffer, sep, delimiter, header, names, index_col, usecols, squeeze, prefix, mangle_dupe_cols, dtype, engine, converters, true_values, false_values, skipinitialspace, skiprows, skipfooter, nrows, na_values, keep_default_na, na_filter, verbose, skip_blank_lines, parse_dates, infer_datetime_format, keep_date_col, date_parser, dayfirst, cache_dates, iterator, chunksize, compression, thousands, decimal, lineterminator, quotechar, quoting, doublequote, escapechar, comment, encoding, dialect, error_bad_lines, warn_bad_lines, delim_whitespace, low_memory, memory_map, float_precision)\u001b[0m\n\u001b[0;32m    674\u001b[0m         )\n\u001b[0;32m    675\u001b[0m \u001b[1;33m\u001b[0m\u001b[0m\n\u001b[1;32m--> 676\u001b[1;33m         \u001b[1;32mreturn\u001b[0m \u001b[0m_read\u001b[0m\u001b[1;33m(\u001b[0m\u001b[0mfilepath_or_buffer\u001b[0m\u001b[1;33m,\u001b[0m \u001b[0mkwds\u001b[0m\u001b[1;33m)\u001b[0m\u001b[1;33m\u001b[0m\u001b[1;33m\u001b[0m\u001b[0m\n\u001b[0m\u001b[0;32m    677\u001b[0m \u001b[1;33m\u001b[0m\u001b[0m\n\u001b[0;32m    678\u001b[0m     \u001b[0mparser_f\u001b[0m\u001b[1;33m.\u001b[0m\u001b[0m__name__\u001b[0m \u001b[1;33m=\u001b[0m \u001b[0mname\u001b[0m\u001b[1;33m\u001b[0m\u001b[1;33m\u001b[0m\u001b[0m\n",
      "\u001b[1;32m~\\Anaconda3\\lib\\site-packages\\pandas\\io\\parsers.py\u001b[0m in \u001b[0;36m_read\u001b[1;34m(filepath_or_buffer, kwds)\u001b[0m\n\u001b[0;32m    446\u001b[0m \u001b[1;33m\u001b[0m\u001b[0m\n\u001b[0;32m    447\u001b[0m     \u001b[1;31m# Create the parser.\u001b[0m\u001b[1;33m\u001b[0m\u001b[1;33m\u001b[0m\u001b[1;33m\u001b[0m\u001b[0m\n\u001b[1;32m--> 448\u001b[1;33m     \u001b[0mparser\u001b[0m \u001b[1;33m=\u001b[0m \u001b[0mTextFileReader\u001b[0m\u001b[1;33m(\u001b[0m\u001b[0mfp_or_buf\u001b[0m\u001b[1;33m,\u001b[0m \u001b[1;33m**\u001b[0m\u001b[0mkwds\u001b[0m\u001b[1;33m)\u001b[0m\u001b[1;33m\u001b[0m\u001b[1;33m\u001b[0m\u001b[0m\n\u001b[0m\u001b[0;32m    449\u001b[0m \u001b[1;33m\u001b[0m\u001b[0m\n\u001b[0;32m    450\u001b[0m     \u001b[1;32mif\u001b[0m \u001b[0mchunksize\u001b[0m \u001b[1;32mor\u001b[0m \u001b[0miterator\u001b[0m\u001b[1;33m:\u001b[0m\u001b[1;33m\u001b[0m\u001b[1;33m\u001b[0m\u001b[0m\n",
      "\u001b[1;32m~\\Anaconda3\\lib\\site-packages\\pandas\\io\\parsers.py\u001b[0m in \u001b[0;36m__init__\u001b[1;34m(self, f, engine, **kwds)\u001b[0m\n\u001b[0;32m    878\u001b[0m             \u001b[0mself\u001b[0m\u001b[1;33m.\u001b[0m\u001b[0moptions\u001b[0m\u001b[1;33m[\u001b[0m\u001b[1;34m\"has_index_names\"\u001b[0m\u001b[1;33m]\u001b[0m \u001b[1;33m=\u001b[0m \u001b[0mkwds\u001b[0m\u001b[1;33m[\u001b[0m\u001b[1;34m\"has_index_names\"\u001b[0m\u001b[1;33m]\u001b[0m\u001b[1;33m\u001b[0m\u001b[1;33m\u001b[0m\u001b[0m\n\u001b[0;32m    879\u001b[0m \u001b[1;33m\u001b[0m\u001b[0m\n\u001b[1;32m--> 880\u001b[1;33m         \u001b[0mself\u001b[0m\u001b[1;33m.\u001b[0m\u001b[0m_make_engine\u001b[0m\u001b[1;33m(\u001b[0m\u001b[0mself\u001b[0m\u001b[1;33m.\u001b[0m\u001b[0mengine\u001b[0m\u001b[1;33m)\u001b[0m\u001b[1;33m\u001b[0m\u001b[1;33m\u001b[0m\u001b[0m\n\u001b[0m\u001b[0;32m    881\u001b[0m \u001b[1;33m\u001b[0m\u001b[0m\n\u001b[0;32m    882\u001b[0m     \u001b[1;32mdef\u001b[0m \u001b[0mclose\u001b[0m\u001b[1;33m(\u001b[0m\u001b[0mself\u001b[0m\u001b[1;33m)\u001b[0m\u001b[1;33m:\u001b[0m\u001b[1;33m\u001b[0m\u001b[1;33m\u001b[0m\u001b[0m\n",
      "\u001b[1;32m~\\Anaconda3\\lib\\site-packages\\pandas\\io\\parsers.py\u001b[0m in \u001b[0;36m_make_engine\u001b[1;34m(self, engine)\u001b[0m\n\u001b[0;32m   1112\u001b[0m     \u001b[1;32mdef\u001b[0m \u001b[0m_make_engine\u001b[0m\u001b[1;33m(\u001b[0m\u001b[0mself\u001b[0m\u001b[1;33m,\u001b[0m \u001b[0mengine\u001b[0m\u001b[1;33m=\u001b[0m\u001b[1;34m\"c\"\u001b[0m\u001b[1;33m)\u001b[0m\u001b[1;33m:\u001b[0m\u001b[1;33m\u001b[0m\u001b[1;33m\u001b[0m\u001b[0m\n\u001b[0;32m   1113\u001b[0m         \u001b[1;32mif\u001b[0m \u001b[0mengine\u001b[0m \u001b[1;33m==\u001b[0m \u001b[1;34m\"c\"\u001b[0m\u001b[1;33m:\u001b[0m\u001b[1;33m\u001b[0m\u001b[1;33m\u001b[0m\u001b[0m\n\u001b[1;32m-> 1114\u001b[1;33m             \u001b[0mself\u001b[0m\u001b[1;33m.\u001b[0m\u001b[0m_engine\u001b[0m \u001b[1;33m=\u001b[0m \u001b[0mCParserWrapper\u001b[0m\u001b[1;33m(\u001b[0m\u001b[0mself\u001b[0m\u001b[1;33m.\u001b[0m\u001b[0mf\u001b[0m\u001b[1;33m,\u001b[0m \u001b[1;33m**\u001b[0m\u001b[0mself\u001b[0m\u001b[1;33m.\u001b[0m\u001b[0moptions\u001b[0m\u001b[1;33m)\u001b[0m\u001b[1;33m\u001b[0m\u001b[1;33m\u001b[0m\u001b[0m\n\u001b[0m\u001b[0;32m   1115\u001b[0m         \u001b[1;32melse\u001b[0m\u001b[1;33m:\u001b[0m\u001b[1;33m\u001b[0m\u001b[1;33m\u001b[0m\u001b[0m\n\u001b[0;32m   1116\u001b[0m             \u001b[1;32mif\u001b[0m \u001b[0mengine\u001b[0m \u001b[1;33m==\u001b[0m \u001b[1;34m\"python\"\u001b[0m\u001b[1;33m:\u001b[0m\u001b[1;33m\u001b[0m\u001b[1;33m\u001b[0m\u001b[0m\n",
      "\u001b[1;32m~\\Anaconda3\\lib\\site-packages\\pandas\\io\\parsers.py\u001b[0m in \u001b[0;36m__init__\u001b[1;34m(self, src, **kwds)\u001b[0m\n\u001b[0;32m   1889\u001b[0m         \u001b[0mkwds\u001b[0m\u001b[1;33m[\u001b[0m\u001b[1;34m\"usecols\"\u001b[0m\u001b[1;33m]\u001b[0m \u001b[1;33m=\u001b[0m \u001b[0mself\u001b[0m\u001b[1;33m.\u001b[0m\u001b[0musecols\u001b[0m\u001b[1;33m\u001b[0m\u001b[1;33m\u001b[0m\u001b[0m\n\u001b[0;32m   1890\u001b[0m \u001b[1;33m\u001b[0m\u001b[0m\n\u001b[1;32m-> 1891\u001b[1;33m         \u001b[0mself\u001b[0m\u001b[1;33m.\u001b[0m\u001b[0m_reader\u001b[0m \u001b[1;33m=\u001b[0m \u001b[0mparsers\u001b[0m\u001b[1;33m.\u001b[0m\u001b[0mTextReader\u001b[0m\u001b[1;33m(\u001b[0m\u001b[0msrc\u001b[0m\u001b[1;33m,\u001b[0m \u001b[1;33m**\u001b[0m\u001b[0mkwds\u001b[0m\u001b[1;33m)\u001b[0m\u001b[1;33m\u001b[0m\u001b[1;33m\u001b[0m\u001b[0m\n\u001b[0m\u001b[0;32m   1892\u001b[0m         \u001b[0mself\u001b[0m\u001b[1;33m.\u001b[0m\u001b[0munnamed_cols\u001b[0m \u001b[1;33m=\u001b[0m \u001b[0mself\u001b[0m\u001b[1;33m.\u001b[0m\u001b[0m_reader\u001b[0m\u001b[1;33m.\u001b[0m\u001b[0munnamed_cols\u001b[0m\u001b[1;33m\u001b[0m\u001b[1;33m\u001b[0m\u001b[0m\n\u001b[0;32m   1893\u001b[0m \u001b[1;33m\u001b[0m\u001b[0m\n",
      "\u001b[1;32mpandas\\_libs\\parsers.pyx\u001b[0m in \u001b[0;36mpandas._libs.parsers.TextReader.__cinit__\u001b[1;34m()\u001b[0m\n",
      "\u001b[1;32mpandas\\_libs\\parsers.pyx\u001b[0m in \u001b[0;36mpandas._libs.parsers.TextReader._setup_parser_source\u001b[1;34m()\u001b[0m\n",
      "\u001b[1;31mFileNotFoundError\u001b[0m: [Errno 2] File ./datasets/ACS_17_5YR_S1901_with_ann.csv does not exist: './datasets/ACS_17_5YR_S1901_with_ann.csv'"
     ]
    }
   ],
   "source": [
    "income_db = pd.read_csv(\"./datasets/ACS_17_5YR_S1901_with_ann.csv\", header=1)\n",
    "income_db.head()"
   ]
  },
  {
   "cell_type": "markdown",
   "metadata": {},
   "source": [
    "## Cleaning DOB dataset"
   ]
  },
  {
   "cell_type": "markdown",
   "metadata": {},
   "source": [
    "### Filter only closed complaints\n",
    "\n",
    "The only relevant observations are cases that are currently closed."
   ]
  },
  {
   "cell_type": "code",
   "execution_count": 37,
   "metadata": {},
   "outputs": [],
   "source": [
    "df = df[df[\"Status\"] == \"CLOSED\"]"
   ]
  },
  {
   "cell_type": "markdown",
   "metadata": {},
   "source": [
    "### Converting Inspection date to datetime"
   ]
  },
  {
   "cell_type": "code",
   "execution_count": 38,
   "metadata": {},
   "outputs": [
    {
     "data": {
      "text/plain": [
       "0    12/24/2013\n",
       "1    10/03/2009\n",
       "2    09/03/2015\n",
       "3    10/09/2010\n",
       "4    09/15/2009\n",
       "Name: Inspection Date, dtype: object"
      ]
     },
     "execution_count": 38,
     "metadata": {},
     "output_type": "execute_result"
    }
   ],
   "source": [
    "df[\"Inspection Date\"].head()"
   ]
  },
  {
   "cell_type": "markdown",
   "metadata": {},
   "source": [
    "Some dates are erroneous and out of bounds for conversion to date time. Although a few observations can me inferentially imputed manually, it is impractical to include such a tactic in the main workflow for many hundreds of thousands of observations. \n",
    "\n",
    "According to the [documentation](http://pandas.pydata.org/pandas-docs/stable/timeseries.html#timeseries-timestamp-limits), the earliest valid time stamp for proper formating is `pd.Timestamp.min`. Also, we'll remove any dates prior to 2009, which serves as our hard cutoff for consideration, since the DOB website came online January of 2009 and shows a significant deviation from prior years."
   ]
  },
  {
   "cell_type": "code",
   "execution_count": 39,
   "metadata": {},
   "outputs": [
    {
     "data": {
      "text/html": [
       "<div>\n",
       "<style scoped>\n",
       "    .dataframe tbody tr th:only-of-type {\n",
       "        vertical-align: middle;\n",
       "    }\n",
       "\n",
       "    .dataframe tbody tr th {\n",
       "        vertical-align: top;\n",
       "    }\n",
       "\n",
       "    .dataframe thead th {\n",
       "        text-align: right;\n",
       "    }\n",
       "</style>\n",
       "<table border=\"1\" class=\"dataframe\">\n",
       "  <thead>\n",
       "    <tr style=\"text-align: right;\">\n",
       "      <th></th>\n",
       "      <th>Complaint Number</th>\n",
       "      <th>Status</th>\n",
       "      <th>Date Entered</th>\n",
       "      <th>House Number</th>\n",
       "      <th>ZIP Code</th>\n",
       "      <th>House Street</th>\n",
       "      <th>Special District</th>\n",
       "      <th>Complaint Category</th>\n",
       "      <th>Unit</th>\n",
       "      <th>Inspection Date</th>\n",
       "    </tr>\n",
       "  </thead>\n",
       "  <tbody>\n",
       "    <tr>\n",
       "      <th>2915</th>\n",
       "      <td>4389173</td>\n",
       "      <td>CLOSED</td>\n",
       "      <td>2009-02-09</td>\n",
       "      <td>10-93</td>\n",
       "      <td>11101</td>\n",
       "      <td>JACKSON AVENUE</td>\n",
       "      <td></td>\n",
       "      <td>31</td>\n",
       "      <td>QNS.</td>\n",
       "      <td>12/30/2008</td>\n",
       "    </tr>\n",
       "    <tr>\n",
       "      <th>5953</th>\n",
       "      <td>3291457</td>\n",
       "      <td>CLOSED</td>\n",
       "      <td>2009-01-06</td>\n",
       "      <td>315</td>\n",
       "      <td>11207</td>\n",
       "      <td>PENNSYLVANIA AVENUE</td>\n",
       "      <td></td>\n",
       "      <td>05</td>\n",
       "      <td>BKLYN</td>\n",
       "      <td>11/26/2008</td>\n",
       "    </tr>\n",
       "    <tr>\n",
       "      <th>9488</th>\n",
       "      <td>3291632</td>\n",
       "      <td>CLOSED</td>\n",
       "      <td>2009-01-07</td>\n",
       "      <td>491</td>\n",
       "      <td>11208</td>\n",
       "      <td>EMERALD STREET</td>\n",
       "      <td></td>\n",
       "      <td>55</td>\n",
       "      <td>BKLYN</td>\n",
       "      <td>11/20/2008</td>\n",
       "    </tr>\n",
       "    <tr>\n",
       "      <th>9975</th>\n",
       "      <td>1310016</td>\n",
       "      <td>CLOSED</td>\n",
       "      <td>2011-09-22</td>\n",
       "      <td>170</td>\n",
       "      <td>10012</td>\n",
       "      <td>MERCER STREET</td>\n",
       "      <td></td>\n",
       "      <td>23</td>\n",
       "      <td>SCFLD</td>\n",
       "      <td>09/30/2000</td>\n",
       "    </tr>\n",
       "    <tr>\n",
       "      <th>11655</th>\n",
       "      <td>3399780</td>\n",
       "      <td>CLOSED</td>\n",
       "      <td>2012-01-01</td>\n",
       "      <td>2223</td>\n",
       "      <td>11226</td>\n",
       "      <td>CORTELYOU ROAD</td>\n",
       "      <td></td>\n",
       "      <td>37</td>\n",
       "      <td>ERT</td>\n",
       "      <td>01/02/0212</td>\n",
       "    </tr>\n",
       "  </tbody>\n",
       "</table>\n",
       "</div>"
      ],
      "text/plain": [
       "       Complaint Number  Status Date Entered  House Number   ZIP Code  \\\n",
       "2915            4389173  CLOSED   2009-02-09  10-93         11101       \n",
       "5953            3291457  CLOSED   2009-01-06  315           11207       \n",
       "9488            3291632  CLOSED   2009-01-07  491           11208       \n",
       "9975            1310016  CLOSED   2011-09-22  170           10012       \n",
       "11655           3399780  CLOSED   2012-01-01  2223          11226       \n",
       "\n",
       "                           House Street Special District Complaint Category  \\\n",
       "2915   JACKSON AVENUE                                                    31   \n",
       "5953   PENNSYLVANIA AVENUE                                               05   \n",
       "9488   EMERALD STREET                                                    55   \n",
       "9975   MERCER STREET                                                     23   \n",
       "11655  CORTELYOU ROAD                                                    37   \n",
       "\n",
       "        Unit Inspection Date  \n",
       "2915    QNS.      12/30/2008  \n",
       "5953   BKLYN      11/26/2008  \n",
       "9488   BKLYN      11/20/2008  \n",
       "9975   SCFLD      09/30/2000  \n",
       "11655  ERT        01/02/0212  "
      ]
     },
     "execution_count": 39,
     "metadata": {},
     "output_type": "execute_result"
    }
   ],
   "source": [
    "# filtering invalid years\n",
    "years = df[\"Inspection Date\"].apply(lambda a:a.split(\"/\")[2])\n",
    "invalid_year_indeces = years[years.astype(int) < 2009].index\n",
    "df.loc[invalid_year_indeces,:].head()"
   ]
  },
  {
   "cell_type": "code",
   "execution_count": 40,
   "metadata": {},
   "outputs": [
    {
     "data": {
      "text/html": [
       "<div>\n",
       "<style scoped>\n",
       "    .dataframe tbody tr th:only-of-type {\n",
       "        vertical-align: middle;\n",
       "    }\n",
       "\n",
       "    .dataframe tbody tr th {\n",
       "        vertical-align: top;\n",
       "    }\n",
       "\n",
       "    .dataframe thead th {\n",
       "        text-align: right;\n",
       "    }\n",
       "</style>\n",
       "<table border=\"1\" class=\"dataframe\">\n",
       "  <thead>\n",
       "    <tr style=\"text-align: right;\">\n",
       "      <th></th>\n",
       "      <th>Complaint Number</th>\n",
       "      <th>Status</th>\n",
       "      <th>Date Entered</th>\n",
       "      <th>House Number</th>\n",
       "      <th>ZIP Code</th>\n",
       "      <th>House Street</th>\n",
       "      <th>Special District</th>\n",
       "      <th>Complaint Category</th>\n",
       "      <th>Unit</th>\n",
       "      <th>Inspection Date</th>\n",
       "    </tr>\n",
       "  </thead>\n",
       "  <tbody>\n",
       "    <tr>\n",
       "      <th>count</th>\n",
       "      <td>1.002170e+05</td>\n",
       "      <td>100217</td>\n",
       "      <td>100217</td>\n",
       "      <td>100217</td>\n",
       "      <td>100217</td>\n",
       "      <td>100217</td>\n",
       "      <td>100217</td>\n",
       "      <td>100217</td>\n",
       "      <td>100217</td>\n",
       "      <td>100217</td>\n",
       "    </tr>\n",
       "    <tr>\n",
       "      <th>unique</th>\n",
       "      <td>NaN</td>\n",
       "      <td>1</td>\n",
       "      <td>3593</td>\n",
       "      <td>15221</td>\n",
       "      <td>204</td>\n",
       "      <td>7179</td>\n",
       "      <td>2</td>\n",
       "      <td>106</td>\n",
       "      <td>28</td>\n",
       "      <td>3570</td>\n",
       "    </tr>\n",
       "    <tr>\n",
       "      <th>top</th>\n",
       "      <td>NaN</td>\n",
       "      <td>CLOSED</td>\n",
       "      <td>2009-02-12 00:00:00</td>\n",
       "      <td>15</td>\n",
       "      <td>11419</td>\n",
       "      <td>BROADWAY</td>\n",
       "      <td></td>\n",
       "      <td>45</td>\n",
       "      <td>QNS.</td>\n",
       "      <td>2017-12-05 00:00:00</td>\n",
       "    </tr>\n",
       "    <tr>\n",
       "      <th>freq</th>\n",
       "      <td>NaN</td>\n",
       "      <td>100217</td>\n",
       "      <td>77</td>\n",
       "      <td>256</td>\n",
       "      <td>1775</td>\n",
       "      <td>1106</td>\n",
       "      <td>99504</td>\n",
       "      <td>14694</td>\n",
       "      <td>19081</td>\n",
       "      <td>92</td>\n",
       "    </tr>\n",
       "    <tr>\n",
       "      <th>first</th>\n",
       "      <td>NaN</td>\n",
       "      <td>NaN</td>\n",
       "      <td>2009-01-02 00:00:00</td>\n",
       "      <td>NaN</td>\n",
       "      <td>NaN</td>\n",
       "      <td>NaN</td>\n",
       "      <td>NaN</td>\n",
       "      <td>NaN</td>\n",
       "      <td>NaN</td>\n",
       "      <td>2009-01-02 00:00:00</td>\n",
       "    </tr>\n",
       "    <tr>\n",
       "      <th>last</th>\n",
       "      <td>NaN</td>\n",
       "      <td>NaN</td>\n",
       "      <td>2018-11-06 00:00:00</td>\n",
       "      <td>NaN</td>\n",
       "      <td>NaN</td>\n",
       "      <td>NaN</td>\n",
       "      <td>NaN</td>\n",
       "      <td>NaN</td>\n",
       "      <td>NaN</td>\n",
       "      <td>2018-11-06 00:00:00</td>\n",
       "    </tr>\n",
       "    <tr>\n",
       "      <th>mean</th>\n",
       "      <td>3.276906e+06</td>\n",
       "      <td>NaN</td>\n",
       "      <td>NaN</td>\n",
       "      <td>NaN</td>\n",
       "      <td>NaN</td>\n",
       "      <td>NaN</td>\n",
       "      <td>NaN</td>\n",
       "      <td>NaN</td>\n",
       "      <td>NaN</td>\n",
       "      <td>NaN</td>\n",
       "    </tr>\n",
       "    <tr>\n",
       "      <th>std</th>\n",
       "      <td>1.266253e+06</td>\n",
       "      <td>NaN</td>\n",
       "      <td>NaN</td>\n",
       "      <td>NaN</td>\n",
       "      <td>NaN</td>\n",
       "      <td>NaN</td>\n",
       "      <td>NaN</td>\n",
       "      <td>NaN</td>\n",
       "      <td>NaN</td>\n",
       "      <td>NaN</td>\n",
       "    </tr>\n",
       "    <tr>\n",
       "      <th>min</th>\n",
       "      <td>1.245559e+06</td>\n",
       "      <td>NaN</td>\n",
       "      <td>NaN</td>\n",
       "      <td>NaN</td>\n",
       "      <td>NaN</td>\n",
       "      <td>NaN</td>\n",
       "      <td>NaN</td>\n",
       "      <td>NaN</td>\n",
       "      <td>NaN</td>\n",
       "      <td>NaN</td>\n",
       "    </tr>\n",
       "    <tr>\n",
       "      <th>25%</th>\n",
       "      <td>2.166787e+06</td>\n",
       "      <td>NaN</td>\n",
       "      <td>NaN</td>\n",
       "      <td>NaN</td>\n",
       "      <td>NaN</td>\n",
       "      <td>NaN</td>\n",
       "      <td>NaN</td>\n",
       "      <td>NaN</td>\n",
       "      <td>NaN</td>\n",
       "      <td>NaN</td>\n",
       "    </tr>\n",
       "    <tr>\n",
       "      <th>50%</th>\n",
       "      <td>3.479654e+06</td>\n",
       "      <td>NaN</td>\n",
       "      <td>NaN</td>\n",
       "      <td>NaN</td>\n",
       "      <td>NaN</td>\n",
       "      <td>NaN</td>\n",
       "      <td>NaN</td>\n",
       "      <td>NaN</td>\n",
       "      <td>NaN</td>\n",
       "      <td>NaN</td>\n",
       "    </tr>\n",
       "    <tr>\n",
       "      <th>75%</th>\n",
       "      <td>4.496623e+06</td>\n",
       "      <td>NaN</td>\n",
       "      <td>NaN</td>\n",
       "      <td>NaN</td>\n",
       "      <td>NaN</td>\n",
       "      <td>NaN</td>\n",
       "      <td>NaN</td>\n",
       "      <td>NaN</td>\n",
       "      <td>NaN</td>\n",
       "      <td>NaN</td>\n",
       "    </tr>\n",
       "    <tr>\n",
       "      <th>max</th>\n",
       "      <td>5.138147e+06</td>\n",
       "      <td>NaN</td>\n",
       "      <td>NaN</td>\n",
       "      <td>NaN</td>\n",
       "      <td>NaN</td>\n",
       "      <td>NaN</td>\n",
       "      <td>NaN</td>\n",
       "      <td>NaN</td>\n",
       "      <td>NaN</td>\n",
       "      <td>NaN</td>\n",
       "    </tr>\n",
       "  </tbody>\n",
       "</table>\n",
       "</div>"
      ],
      "text/plain": [
       "        Complaint Number  Status         Date Entered  House Number  \\\n",
       "count       1.002170e+05  100217               100217        100217   \n",
       "unique               NaN       1                 3593         15221   \n",
       "top                  NaN  CLOSED  2009-02-12 00:00:00  15             \n",
       "freq                 NaN  100217                   77           256   \n",
       "first                NaN     NaN  2009-01-02 00:00:00           NaN   \n",
       "last                 NaN     NaN  2018-11-06 00:00:00           NaN   \n",
       "mean        3.276906e+06     NaN                  NaN           NaN   \n",
       "std         1.266253e+06     NaN                  NaN           NaN   \n",
       "min         1.245559e+06     NaN                  NaN           NaN   \n",
       "25%         2.166787e+06     NaN                  NaN           NaN   \n",
       "50%         3.479654e+06     NaN                  NaN           NaN   \n",
       "75%         4.496623e+06     NaN                  NaN           NaN   \n",
       "max         5.138147e+06     NaN                  NaN           NaN   \n",
       "\n",
       "         ZIP Code                      House Street Special District  \\\n",
       "count      100217                            100217           100217   \n",
       "unique        204                              7179                2   \n",
       "top     11419      BROADWAY                                            \n",
       "freq         1775                              1106            99504   \n",
       "first         NaN                               NaN              NaN   \n",
       "last          NaN                               NaN              NaN   \n",
       "mean          NaN                               NaN              NaN   \n",
       "std           NaN                               NaN              NaN   \n",
       "min           NaN                               NaN              NaN   \n",
       "25%           NaN                               NaN              NaN   \n",
       "50%           NaN                               NaN              NaN   \n",
       "75%           NaN                               NaN              NaN   \n",
       "max           NaN                               NaN              NaN   \n",
       "\n",
       "       Complaint Category    Unit      Inspection Date  \n",
       "count              100217  100217               100217  \n",
       "unique                106      28                 3570  \n",
       "top                    45    QNS.  2017-12-05 00:00:00  \n",
       "freq                14694   19081                   92  \n",
       "first                 NaN     NaN  2009-01-02 00:00:00  \n",
       "last                  NaN     NaN  2018-11-06 00:00:00  \n",
       "mean                  NaN     NaN                  NaN  \n",
       "std                   NaN     NaN                  NaN  \n",
       "min                   NaN     NaN                  NaN  \n",
       "25%                   NaN     NaN                  NaN  \n",
       "50%                   NaN     NaN                  NaN  \n",
       "75%                   NaN     NaN                  NaN  \n",
       "max                   NaN     NaN                  NaN  "
      ]
     },
     "execution_count": 40,
     "metadata": {},
     "output_type": "execute_result"
    }
   ],
   "source": [
    "# dropping invalid years\n",
    "df.drop(index = invalid_year_indeces, inplace = True)\n",
    "df[\"Inspection Date\"] = df[\"Inspection Date\"].astype('datetime64[ns]')\n",
    "df.describe(include = \"all\")"
   ]
  },
  {
   "cell_type": "code",
   "execution_count": 41,
   "metadata": {},
   "outputs": [
    {
     "data": {
      "text/plain": [
       "(100217, 10)"
      ]
     },
     "execution_count": 41,
     "metadata": {},
     "output_type": "execute_result"
    }
   ],
   "source": [
    "df.shape"
   ]
  },
  {
   "cell_type": "markdown",
   "metadata": {},
   "source": [
    "We now have over 100,000 cleaned observations."
   ]
  },
  {
   "cell_type": "markdown",
   "metadata": {},
   "source": [
    "### Cleaning Income Dataset\n",
    "\n",
    "For the income dataset, we are only going to use two of the columns, the 'Id2' column which describes the zip code, and the first income column, labeled 'Households; Estimate; Median income (dollars)'. These will be formatted so they can easily be added to the main dataframe. Further examinations into the other available data may be used in further iterations of this project."
   ]
  },
  {
   "cell_type": "code",
   "execution_count": null,
   "metadata": {},
   "outputs": [],
   "source": [
    "income_db.info()"
   ]
  },
  {
   "cell_type": "markdown",
   "metadata": {},
   "source": [
    "Looking at the datatypes, the zip code is currently an integer, though we would prefer it be a string, so that will be converted. For the income column, it is currently being interpreted as an object, so we need to determine what possible non-numeric characters are present and deal with them."
   ]
  },
  {
   "cell_type": "code",
   "execution_count": null,
   "metadata": {},
   "outputs": [],
   "source": [
    "inc_cols = {\"Households; Estimate; Median income (dollars)\": \"med_inc_zip\",\n",
    "           \"Id2\": \"zip_code\"}\n",
    "income_db = income_db.rename(mapper=inc_cols, axis=1)\n",
    "income_db.head()"
   ]
  },
  {
   "cell_type": "code",
   "execution_count": null,
   "metadata": {},
   "outputs": [],
   "source": [
    "# converting zip from int to str for proper manipulation\n",
    "income_db[\"zip_code\"] = income_db[\"zip_code\"].astype(\"str\")\n",
    "\n",
    "# eliminating any extraneous symbols for income\n",
    "income_db[\"med_inc_zip\"] = income_db[\"med_inc_zip\"].str.replace(\"\\D+\", \"\")\n",
    "\n",
    "income_db.head()"
   ]
  },
  {
   "cell_type": "markdown",
   "metadata": {},
   "source": [
    "# Feature Engineering"
   ]
  },
  {
   "cell_type": "markdown",
   "metadata": {},
   "source": [
    "### Creating target variable\n",
    "Our target is the number of days until a complaint's inspection date: \n",
    "\n",
    "$$\\text{Inspection Date} - \\text{Data Entered} = \\text{Days until Inspection}$$"
   ]
  },
  {
   "cell_type": "code",
   "execution_count": 42,
   "metadata": {},
   "outputs": [],
   "source": [
    "df[\"days_until_inspection\"] = df[\"Inspection Date\"] - df[\"Date Entered\"]"
   ]
  },
  {
   "cell_type": "code",
   "execution_count": 43,
   "metadata": {},
   "outputs": [
    {
     "data": {
      "text/html": [
       "<div>\n",
       "<style scoped>\n",
       "    .dataframe tbody tr th:only-of-type {\n",
       "        vertical-align: middle;\n",
       "    }\n",
       "\n",
       "    .dataframe tbody tr th {\n",
       "        vertical-align: top;\n",
       "    }\n",
       "\n",
       "    .dataframe thead th {\n",
       "        text-align: right;\n",
       "    }\n",
       "</style>\n",
       "<table border=\"1\" class=\"dataframe\">\n",
       "  <thead>\n",
       "    <tr style=\"text-align: right;\">\n",
       "      <th></th>\n",
       "      <th>Complaint Number</th>\n",
       "      <th>days_until_inspection</th>\n",
       "    </tr>\n",
       "  </thead>\n",
       "  <tbody>\n",
       "    <tr>\n",
       "      <th>count</th>\n",
       "      <td>1.002170e+05</td>\n",
       "      <td>100217</td>\n",
       "    </tr>\n",
       "    <tr>\n",
       "      <th>mean</th>\n",
       "      <td>3.276906e+06</td>\n",
       "      <td>69 days 15:30:23.726513</td>\n",
       "    </tr>\n",
       "    <tr>\n",
       "      <th>std</th>\n",
       "      <td>1.266253e+06</td>\n",
       "      <td>189 days 17:28:03.537128</td>\n",
       "    </tr>\n",
       "    <tr>\n",
       "      <th>min</th>\n",
       "      <td>1.245559e+06</td>\n",
       "      <td>-1460 days +00:00:00</td>\n",
       "    </tr>\n",
       "    <tr>\n",
       "      <th>25%</th>\n",
       "      <td>2.166787e+06</td>\n",
       "      <td>1 days 00:00:00</td>\n",
       "    </tr>\n",
       "    <tr>\n",
       "      <th>50%</th>\n",
       "      <td>3.479654e+06</td>\n",
       "      <td>12 days 00:00:00</td>\n",
       "    </tr>\n",
       "    <tr>\n",
       "      <th>75%</th>\n",
       "      <td>4.496623e+06</td>\n",
       "      <td>66 days 00:00:00</td>\n",
       "    </tr>\n",
       "    <tr>\n",
       "      <th>max</th>\n",
       "      <td>5.138147e+06</td>\n",
       "      <td>3402 days 00:00:00</td>\n",
       "    </tr>\n",
       "  </tbody>\n",
       "</table>\n",
       "</div>"
      ],
      "text/plain": [
       "       Complaint Number     days_until_inspection\n",
       "count      1.002170e+05                    100217\n",
       "mean       3.276906e+06   69 days 15:30:23.726513\n",
       "std        1.266253e+06  189 days 17:28:03.537128\n",
       "min        1.245559e+06      -1460 days +00:00:00\n",
       "25%        2.166787e+06           1 days 00:00:00\n",
       "50%        3.479654e+06          12 days 00:00:00\n",
       "75%        4.496623e+06          66 days 00:00:00\n",
       "max        5.138147e+06        3402 days 00:00:00"
      ]
     },
     "execution_count": 43,
     "metadata": {},
     "output_type": "execute_result"
    }
   ],
   "source": [
    "df.describe()"
   ]
  },
  {
   "cell_type": "markdown",
   "metadata": {},
   "source": [
    "Some complaints took a negative number of days, which we investigated. Sources at NYC Open Data claimed some complaints were found by inspectors and inspected immediately, and were only filed official at a later date. Since these \"complaints\" are impossible to predict for, we'll remove them from consideration. "
   ]
  },
  {
   "cell_type": "code",
   "execution_count": 44,
   "metadata": {},
   "outputs": [],
   "source": [
    "# extracting raw number of days\n",
    "df[\"days_until_inspection\"] = df[\"days_until_inspection\"].map(lambda x:x.days)"
   ]
  },
  {
   "cell_type": "code",
   "execution_count": 45,
   "metadata": {},
   "outputs": [
    {
     "data": {
      "text/plain": [
       "(18081, 11)"
      ]
     },
     "execution_count": 45,
     "metadata": {},
     "output_type": "execute_result"
    }
   ],
   "source": [
    "df[df[\"days_until_inspection\"] <= 0].shape"
   ]
  },
  {
   "cell_type": "markdown",
   "metadata": {},
   "source": [
    "We'll be dropping about 18,000 observations."
   ]
  },
  {
   "cell_type": "code",
   "execution_count": 46,
   "metadata": {},
   "outputs": [],
   "source": [
    "df = df[df[\"days_until_inspection\"] > 0]"
   ]
  },
  {
   "cell_type": "markdown",
   "metadata": {},
   "source": [
    "### Fixing Special District\n",
    "\n",
    "The \"Special District\" column has an emptry string category, which we'll change to \"NOT SPECIAL\"."
   ]
  },
  {
   "cell_type": "code",
   "execution_count": 47,
   "metadata": {},
   "outputs": [
    {
     "data": {
      "text/plain": [
       "array(['   ', 'IBZ'], dtype=object)"
      ]
     },
     "execution_count": 47,
     "metadata": {},
     "output_type": "execute_result"
    }
   ],
   "source": [
    "df[\"Special District\"].unique()"
   ]
  },
  {
   "cell_type": "code",
   "execution_count": 48,
   "metadata": {},
   "outputs": [],
   "source": [
    "df[\"Special District\"] = df[\"Special District\"].map(lambda x: x if x != '   ' else \"NOT SPECIAL\")"
   ]
  },
  {
   "cell_type": "code",
   "execution_count": 49,
   "metadata": {},
   "outputs": [
    {
     "data": {
      "text/plain": [
       "array(['NOT SPECIAL', 'IBZ'], dtype=object)"
      ]
     },
     "execution_count": 49,
     "metadata": {},
     "output_type": "execute_result"
    }
   ],
   "source": [
    "df[\"Special District\"].unique()"
   ]
  },
  {
   "cell_type": "markdown",
   "metadata": {},
   "source": [
    "### Renaming columns\n",
    "For simplicity and consistency, we'll be using snakecase for column naming."
   ]
  },
  {
   "cell_type": "code",
   "execution_count": 50,
   "metadata": {},
   "outputs": [],
   "source": [
    "# removing spaces & forcing all to lowercase\n",
    "df.columns = [col.lower().replace(\" \", \"_\") for col in df.columns]"
   ]
  },
  {
   "cell_type": "markdown",
   "metadata": {},
   "source": [
    "### Handling Zip Codes\n",
    "\n",
    "Since there are some entries with missing or corrupted zip codes, we are going to use the contextual address information to impute the correct zip codes. First, we will concatenate the house number and street names. Then, we will add in the correct borough of the address, utilizing the isolated first number from the \"bin\" column. Then, the partial address can be sent to Google's Geocode API, which will return the full address including the zip code."
   ]
  },
  {
   "cell_type": "code",
   "execution_count": 51,
   "metadata": {},
   "outputs": [],
   "source": [
    "# removing whitespace around address info\n",
    "strip_cols = [\"zip_code\", \"house_street\", \"house_number\"]\n",
    "df[strip_cols] = df[strip_cols].apply(lambda col: col.str.strip())"
   ]
  },
  {
   "cell_type": "code",
   "execution_count": 52,
   "metadata": {},
   "outputs": [],
   "source": [
    "# isolating entries with missing zips\n",
    "zip_df = df[df[\"zip_code\"].str.len() < 5].copy()"
   ]
  },
  {
   "cell_type": "code",
   "execution_count": 53,
   "metadata": {},
   "outputs": [],
   "source": [
    "# creating borough mapper\n",
    "borough_codes = {\n",
    "    \"1\": \"Manhattan\",\n",
    "    \"2\": \"Bronx\",\n",
    "    \"3\": \"Brooklyn\",\n",
    "    \"4\": \"Queens\",\n",
    "    \"5\": \"Staten Island\"\n",
    "}"
   ]
  },
  {
   "cell_type": "code",
   "execution_count": 54,
   "metadata": {},
   "outputs": [
    {
     "data": {
      "text/html": [
       "<div>\n",
       "<style scoped>\n",
       "    .dataframe tbody tr th:only-of-type {\n",
       "        vertical-align: middle;\n",
       "    }\n",
       "\n",
       "    .dataframe tbody tr th {\n",
       "        vertical-align: top;\n",
       "    }\n",
       "\n",
       "    .dataframe thead th {\n",
       "        text-align: right;\n",
       "    }\n",
       "</style>\n",
       "<table border=\"1\" class=\"dataframe\">\n",
       "  <thead>\n",
       "    <tr style=\"text-align: right;\">\n",
       "      <th></th>\n",
       "      <th>complaint_number</th>\n",
       "      <th>status</th>\n",
       "      <th>date_entered</th>\n",
       "      <th>house_number</th>\n",
       "      <th>zip_code</th>\n",
       "      <th>house_street</th>\n",
       "      <th>special_district</th>\n",
       "      <th>complaint_category</th>\n",
       "      <th>unit</th>\n",
       "      <th>inspection_date</th>\n",
       "      <th>days_until_inspection</th>\n",
       "      <th>address</th>\n",
       "    </tr>\n",
       "  </thead>\n",
       "  <tbody>\n",
       "    <tr>\n",
       "      <th>3964</th>\n",
       "      <td>2181043</td>\n",
       "      <td>CLOSED</td>\n",
       "      <td>2013-01-14</td>\n",
       "      <td>1</td>\n",
       "      <td></td>\n",
       "      <td>ANGELAS PLACE</td>\n",
       "      <td>NOT SPECIAL</td>\n",
       "      <td>30</td>\n",
       "      <td>BRONX</td>\n",
       "      <td>2013-01-24</td>\n",
       "      <td>10</td>\n",
       "      <td>1 ANGELAS PLACE, Bronx, NY</td>\n",
       "    </tr>\n",
       "    <tr>\n",
       "      <th>24756</th>\n",
       "      <td>3402510</td>\n",
       "      <td>CLOSED</td>\n",
       "      <td>2012-02-03</td>\n",
       "      <td>104</td>\n",
       "      <td></td>\n",
       "      <td>GLENWOOD ROAD</td>\n",
       "      <td>NOT SPECIAL</td>\n",
       "      <td>05</td>\n",
       "      <td>BKLYN</td>\n",
       "      <td>2012-04-19</td>\n",
       "      <td>76</td>\n",
       "      <td>104 GLENWOOD ROAD, Brooklyn, NY</td>\n",
       "    </tr>\n",
       "  </tbody>\n",
       "</table>\n",
       "</div>"
      ],
      "text/plain": [
       "       complaint_number  status date_entered house_number zip_code  \\\n",
       "3964            2181043  CLOSED   2013-01-14            1            \n",
       "24756           3402510  CLOSED   2012-02-03          104            \n",
       "\n",
       "        house_street special_district complaint_category   unit  \\\n",
       "3964   ANGELAS PLACE      NOT SPECIAL                 30  BRONX   \n",
       "24756  GLENWOOD ROAD      NOT SPECIAL                 05  BKLYN   \n",
       "\n",
       "      inspection_date  days_until_inspection                          address  \n",
       "3964       2013-01-24                     10       1 ANGELAS PLACE, Bronx, NY  \n",
       "24756      2012-04-19                     76  104 GLENWOOD ROAD, Brooklyn, NY  "
      ]
     },
     "execution_count": 54,
     "metadata": {},
     "output_type": "execute_result"
    }
   ],
   "source": [
    "# adding boroughs (first digit of complaint) to addresses with missing zips\n",
    "zip_df[\"address\"] = (zip_df[\"house_number\"] + \" \" +\n",
    "                     zip_df[\"house_street\"] + \", \" + \n",
    "                     zip_df[\"complaint_number\"].apply(lambda x: str(x)[0]).map(borough_codes) + \n",
    "                     \", NY\")\n",
    "zip_df.head(2)"
   ]
  },
  {
   "cell_type": "markdown",
   "metadata": {},
   "source": [
    "#### Scraping Zip Codes - Google Geocoding\n",
    "\n",
    "For the purposes of automation and future scaling, the `zip_finder` function will take in a dataframe containing addresses and request the zip codes from the Google Maps API ([get API key here](https://developers.google.com/maps/documentation/javascript/get-api-key)). We will begin by securely importing our API key.\n",
    "\n",
    "_NOTE: In order to replicate our process, a file named `env.json` will need to be created at the top-level of the directory using the following JSON format:_\n",
    "\n",
    "```json\n",
    "{\n",
    "    \"API KEY\": \"YOUR_API_KEY_HERE\"\n",
    "}\n",
    "```"
   ]
  },
  {
   "cell_type": "code",
   "execution_count": 55,
   "metadata": {},
   "outputs": [],
   "source": [
    "# making var for api key\n",
    "ENV = pd.read_json(\"./env.json\", typ=\"series\")\n",
    "API_KEY = ENV[\"API KEY\"]\n",
    "\n",
    "# setting client with api key\n",
    "gmap_client = googlemaps.client.Client(key=API_KEY)"
   ]
  },
  {
   "cell_type": "markdown",
   "metadata": {},
   "source": [
    "#### Creating `zip_finder` function\n",
    "The function we are going to build will simply take in a dataframe with the correct address column. The Google Maps service will take the partial address from the dataframe, and the response will be a JSON object that is converted to a dictionary with each part of the full address as a key:pair entry. This zip code will then be mapped back onto the dataframe's zip code column."
   ]
  },
  {
   "cell_type": "code",
   "execution_count": 56,
   "metadata": {},
   "outputs": [],
   "source": [
    "def zip_finder(df, address_col, zip_code_col):\n",
    "    '''Fetches missing zip codes from dataframe'''\n",
    "    # easy part - loop thru addresses\n",
    "    # run geocode request for each\n",
    "    for address in df[address_col]:\n",
    "        print(\"fetching address: \", address)\n",
    "        \n",
    "        # gets full address\n",
    "        full_addr = googlemaps.geocoding.geocode(client = gmap_client, address = address)\n",
    "\n",
    "        # isolates just the zip from the full address\n",
    "        for addr_dict in full_addr[0][\"address_components\"]:\n",
    "            if addr_dict[\"types\"] == [\"postal_code\"]:\n",
    "                zip_code = addr_dict[\"short_name\"]\n",
    "        print(\"found zip: \", zip_code)\n",
    "        \n",
    "        # connecting found zip back to entry with this address\n",
    "        df.loc[df.index[df[address_col] == address], zip_code_col] = zip_code\n",
    "        \n",
    "        # spacing requests to not exceed rate limit\n",
    "        time.sleep(0.5)"
   ]
  },
  {
   "cell_type": "code",
   "execution_count": 57,
   "metadata": {},
   "outputs": [
    {
     "name": "stdout",
     "output_type": "stream",
     "text": [
      "fetching address:  1 ANGELAS PLACE, Bronx, NY\n",
      "found zip:  10465\n",
      "fetching address:  104 GLENWOOD ROAD, Brooklyn, NY\n",
      "found zip:  11236\n",
      "fetching address:  3031 VETERANS ROAD WEST, Staten Island, NY\n",
      "found zip:  10309\n",
      "fetching address:  38-84 RAILROAD AVENUE, Queens, NY\n",
      "found zip:  11101\n",
      "fetching address:  3031 VETERANS ROAD WEST, Staten Island, NY\n",
      "found zip:  10309\n",
      "fetching address:  60 COLLISTER STREET, Manhattan, NY\n",
      "found zip:  10013\n"
     ]
    }
   ],
   "source": [
    "# adding missing zip codes using google maps API\n",
    "zip_finder(zip_df, \"address\", \"zip_code\")"
   ]
  },
  {
   "cell_type": "markdown",
   "metadata": {},
   "source": [
    "Now that our isolated zip code dataframe has been filled, we can assign those zip codes back onto the original entries in the main dataframe."
   ]
  },
  {
   "cell_type": "code",
   "execution_count": 63,
   "metadata": {},
   "outputs": [],
   "source": [
    "# assigning the located zips back to the original entries\n",
    "df.loc[zip_df.index, \"zip_code\"] = zip_df[\"zip_code\"]"
   ]
  },
  {
   "cell_type": "markdown",
   "metadata": {},
   "source": [
    "### Joining Income Information\n",
    "\n",
    "While we could use zip codes to predict the target, however we suspect an area's demographics, such as median income, will have a truer connection to predicting the target.\n",
    "\n",
    "Now that all of our entries have zip codes, we can merge the income database using the zip codes as the common column."
   ]
  },
  {
   "cell_type": "code",
   "execution_count": null,
   "metadata": {},
   "outputs": [],
   "source": [
    "df = pd.merge(df,\n",
    "         income_db[[\"zip_code\", \"med_inc_zip\"]],\n",
    "         how=\"left\",\n",
    "         on=\"zip_code\")\n",
    "db.head()"
   ]
  },
  {
   "cell_type": "markdown",
   "metadata": {},
   "source": [
    "## Handling Nulls"
   ]
  },
  {
   "cell_type": "code",
   "execution_count": 26,
   "metadata": {},
   "outputs": [
    {
     "data": {
      "text/plain": [
       "complaint_number         0\n",
       "status                   0\n",
       "date_entered             0\n",
       "house_number             0\n",
       "zip_code                 0\n",
       "house_street             0\n",
       "special_district         0\n",
       "complaint_category       0\n",
       "unit                     0\n",
       "inspection_date          0\n",
       "days_until_inspection    0\n",
       "dtype: int64"
      ]
     },
     "execution_count": 26,
     "metadata": {},
     "output_type": "execute_result"
    }
   ],
   "source": [
    "db.isnull().sum()"
   ]
  },
  {
   "cell_type": "markdown",
   "metadata": {},
   "source": [
    "We're not finding nulls in our dataset, however, as part of our meta cleaning process, we will drop any null observations.\n",
    "\n",
    "We must account for this in our process as we're assuming these values are missing completely at random, or MCAR."
   ]
  },
  {
   "cell_type": "code",
   "execution_count": 27,
   "metadata": {},
   "outputs": [],
   "source": [
    "db = db.dropna()"
   ]
  },
  {
   "cell_type": "code",
   "execution_count": 28,
   "metadata": {},
   "outputs": [
    {
     "data": {
      "text/plain": [
       "(82136, 11)"
      ]
     },
     "execution_count": 28,
     "metadata": {},
     "output_type": "execute_result"
    }
   ],
   "source": [
    "db.shape"
   ]
  },
  {
   "cell_type": "code",
   "execution_count": 29,
   "metadata": {},
   "outputs": [
    {
     "data": {
      "text/html": [
       "<div>\n",
       "<style scoped>\n",
       "    .dataframe tbody tr th:only-of-type {\n",
       "        vertical-align: middle;\n",
       "    }\n",
       "\n",
       "    .dataframe tbody tr th {\n",
       "        vertical-align: top;\n",
       "    }\n",
       "\n",
       "    .dataframe thead th {\n",
       "        text-align: right;\n",
       "    }\n",
       "</style>\n",
       "<table border=\"1\" class=\"dataframe\">\n",
       "  <thead>\n",
       "    <tr style=\"text-align: right;\">\n",
       "      <th></th>\n",
       "      <th>complaint_number</th>\n",
       "      <th>status</th>\n",
       "      <th>date_entered</th>\n",
       "      <th>house_number</th>\n",
       "      <th>zip_code</th>\n",
       "      <th>house_street</th>\n",
       "      <th>special_district</th>\n",
       "      <th>complaint_category</th>\n",
       "      <th>unit</th>\n",
       "      <th>inspection_date</th>\n",
       "      <th>days_until_inspection</th>\n",
       "    </tr>\n",
       "  </thead>\n",
       "  <tbody>\n",
       "    <tr>\n",
       "      <th>1</th>\n",
       "      <td>2193181</td>\n",
       "      <td>CLOSED</td>\n",
       "      <td>2013-12-17</td>\n",
       "      <td>573</td>\n",
       "      <td>10458</td>\n",
       "      <td>EAST FORDHAM ROAD</td>\n",
       "      <td>NOT SPECIAL</td>\n",
       "      <td>4B</td>\n",
       "      <td>SEP</td>\n",
       "      <td>2013-12-24</td>\n",
       "      <td>7</td>\n",
       "    </tr>\n",
       "    <tr>\n",
       "      <th>6</th>\n",
       "      <td>1265849</td>\n",
       "      <td>CLOSED</td>\n",
       "      <td>2009-09-21</td>\n",
       "      <td>429</td>\n",
       "      <td>10075</td>\n",
       "      <td>EAST   77 STREET</td>\n",
       "      <td>NOT SPECIAL</td>\n",
       "      <td>73</td>\n",
       "      <td>MAN.</td>\n",
       "      <td>2009-10-03</td>\n",
       "      <td>12</td>\n",
       "    </tr>\n",
       "    <tr>\n",
       "      <th>12</th>\n",
       "      <td>1404696</td>\n",
       "      <td>CLOSED</td>\n",
       "      <td>2015-09-02</td>\n",
       "      <td>21</td>\n",
       "      <td>10011</td>\n",
       "      <td>WEST 8 STREET</td>\n",
       "      <td>NOT SPECIAL</td>\n",
       "      <td>37</td>\n",
       "      <td>ERT</td>\n",
       "      <td>2015-09-03</td>\n",
       "      <td>1</td>\n",
       "    </tr>\n",
       "    <tr>\n",
       "      <th>13</th>\n",
       "      <td>2149422</td>\n",
       "      <td>CLOSED</td>\n",
       "      <td>2010-08-25</td>\n",
       "      <td>2075</td>\n",
       "      <td>10462</td>\n",
       "      <td>WALLACE AVENUE</td>\n",
       "      <td>NOT SPECIAL</td>\n",
       "      <td>23</td>\n",
       "      <td>ERT</td>\n",
       "      <td>2010-10-09</td>\n",
       "      <td>45</td>\n",
       "    </tr>\n",
       "    <tr>\n",
       "      <th>14</th>\n",
       "      <td>3312533</td>\n",
       "      <td>CLOSED</td>\n",
       "      <td>2009-07-20</td>\n",
       "      <td>819</td>\n",
       "      <td>11220</td>\n",
       "      <td>59 STREET</td>\n",
       "      <td>NOT SPECIAL</td>\n",
       "      <td>90</td>\n",
       "      <td>CITY</td>\n",
       "      <td>2009-09-15</td>\n",
       "      <td>57</td>\n",
       "    </tr>\n",
       "  </tbody>\n",
       "</table>\n",
       "</div>"
      ],
      "text/plain": [
       "    complaint_number  status date_entered  house_number   zip_code  \\\n",
       "1            2193181  CLOSED   2013-12-17  573           10458       \n",
       "6            1265849  CLOSED   2009-09-21  429           10075       \n",
       "12           1404696  CLOSED   2015-09-02  21            10011       \n",
       "13           2149422  CLOSED   2010-08-25  2075          10462       \n",
       "14           3312533  CLOSED   2009-07-20  819           11220       \n",
       "\n",
       "                        house_street special_district complaint_category  \\\n",
       "1   EAST FORDHAM ROAD                     NOT SPECIAL                 4B   \n",
       "6   EAST   77 STREET                      NOT SPECIAL                 73   \n",
       "12  WEST 8 STREET                         NOT SPECIAL                 37   \n",
       "13  WALLACE AVENUE                        NOT SPECIAL                 23   \n",
       "14    59 STREET                           NOT SPECIAL                 90   \n",
       "\n",
       "     unit inspection_date  days_until_inspection  \n",
       "1   SEP        2013-12-24                      7  \n",
       "6    MAN.      2009-10-03                     12  \n",
       "12  ERT        2015-09-03                      1  \n",
       "13  ERT        2010-10-09                     45  \n",
       "14  CITY       2009-09-15                     57  "
      ]
     },
     "execution_count": 29,
     "metadata": {},
     "output_type": "execute_result"
    }
   ],
   "source": [
    "db.head()"
   ]
  },
  {
   "cell_type": "markdown",
   "metadata": {},
   "source": [
    "# Save cleaned data"
   ]
  },
  {
   "cell_type": "markdown",
   "metadata": {},
   "source": [
    "We now have a complete dataset, which will be used in a [separate notebook for EDA and modeling](./dob_complaints.ipynb)."
   ]
  },
  {
   "cell_type": "code",
   "execution_count": 30,
   "metadata": {},
   "outputs": [],
   "source": [
    "# saving db\n",
    "db.to_csv(\"./datasets/cleaned.csv\")"
   ]
  }
 ],
 "metadata": {
  "kernelspec": {
   "display_name": "Python 3",
   "language": "python",
   "name": "python3"
  },
  "language_info": {
   "codemirror_mode": {
    "name": "ipython",
    "version": 3
   },
   "file_extension": ".py",
   "mimetype": "text/x-python",
   "name": "python",
   "nbconvert_exporter": "python",
   "pygments_lexer": "ipython3",
   "version": "3.7.3"
  },
  "toc": {
   "base_numbering": 1,
   "nav_menu": {},
   "number_sections": true,
   "sideBar": true,
   "skip_h1_title": false,
   "title_cell": "Table of Contents",
   "title_sidebar": "Contents",
   "toc_cell": false,
   "toc_position": {},
   "toc_section_display": true,
   "toc_window_display": false
  },
  "varInspector": {
   "cols": {
    "lenName": 16,
    "lenType": 16,
    "lenVar": 40
   },
   "kernels_config": {
    "python": {
     "delete_cmd_postfix": "",
     "delete_cmd_prefix": "del ",
     "library": "var_list.py",
     "varRefreshCmd": "print(var_dic_list())"
    },
    "r": {
     "delete_cmd_postfix": ") ",
     "delete_cmd_prefix": "rm(",
     "library": "var_list.r",
     "varRefreshCmd": "cat(var_dic_list()) "
    }
   },
   "types_to_exclude": [
    "module",
    "function",
    "builtin_function_or_method",
    "instance",
    "_Feature"
   ],
   "window_display": true
  }
 },
 "nbformat": 4,
 "nbformat_minor": 2
}
