{
 "cells": [
  {
   "cell_type": "markdown",
   "metadata": {},
   "source": [
    "# Predicting number of days until a Department of Buildings Complaint is inspected\n",
    "\n",
    "#### By: Mahdi Shadkam-Farrokhi & Jeremy Ondov"
   ]
  },
  {
   "cell_type": "markdown",
   "metadata": {},
   "source": [
    "## Boom's Suggestions:\n",
    "\n",
    "- <input type=\"checkbox\" checked>Cut at 2009</input>\n",
    "- <input type=\"checkbox\" checked>Proof seasonality</input>\n",
    "- <input type=\"checkbox\" checked>SARIMAX w/exog</input>\n",
    "- <input type=\"checkbox\">Daily is preferable</input>\n",
    "- <input type=\"checkbox\">Do pull outside daily data best</input>\n",
    "- <input type=\"checkbox\">Cap at 0 when predicting</input>"
   ]
  },
  {
   "cell_type": "markdown",
   "metadata": {},
   "source": [
    "## Problem Statement\n",
    "In New York City, building violations are frequently reported to the Department of Buildings(DOB), which is often initiated by a citizen. However, the length of time between the report and a response by the DOB may vary greatly depending on the location, violation type, and other factors.\n",
    "\n",
    "We'll be using $R^2$ for model selection."
   ]
  },
  {
   "cell_type": "markdown",
   "metadata": {},
   "source": [
    "## Executive Summary\n",
    "..."
   ]
  },
  {
   "cell_type": "markdown",
   "metadata": {},
   "source": [
    "## Table of Contents\n",
    "1. \n",
    "2. [Resources](#Resources)\n"
   ]
  },
  {
   "cell_type": "markdown",
   "metadata": {},
   "source": [
    "## Loading libraries and data\n",
    "These data were cleaned from the original source. Please see the accompanying notebook for details on the cleaning process."
   ]
  },
  {
   "cell_type": "code",
   "execution_count": 109,
   "metadata": {},
   "outputs": [],
   "source": [
    "import warnings\n",
    "warnings.filterwarnings(\"ignore\")\n",
    "\n",
    "import pandas as pd\n",
    "import matplotlib.pyplot as plt\n",
    "import seaborn as sns\n",
    "import numpy as np\n",
    "import statsmodels.api as sm\n",
    "import pmdarima as pm\n",
    "import statsmodels.formula.api as smf\n",
    "\n",
    "from statsmodels.tsa.stattools import adfuller\n",
    "from statsmodels.tsa.statespace.sarimax import SARIMAX\n",
    "from sklearn.metrics import r2_score\n",
    "from statsmodels.tsa.seasonal import seasonal_decompose\n",
    "from statsmodels.tsa.stattools import acf, pacf\n",
    "from statsmodels.graphics.tsaplots import plot_acf, plot_pacf\n",
    "from pmdarima import auto_arima\n",
    "\n",
    "from sklearn.tree import DecisionTreeClassifier\n",
    "from sklearn.ensemble import AdaBoostClassifier\n",
    "from sklearn.model_selection import train_test_split, cross_val_score\n",
    "from sklearn.metrics import confusion_matrix\n",
    "from xgboost import XGBRegressor, XGBClassifier, XGBRFClassifier\n",
    "\n",
    "RANDOM_STATE = 90210"
   ]
  },
  {
   "cell_type": "code",
   "execution_count": 110,
   "metadata": {},
   "outputs": [],
   "source": [
    "db = pd.read_csv('../datasets/cleaned.csv', index_col = 0, parse_dates = [\"date_entered\"])"
   ]
  },
  {
   "cell_type": "code",
   "execution_count": 111,
   "metadata": {},
   "outputs": [
    {
     "data": {
      "text/html": [
       "<div>\n",
       "<style scoped>\n",
       "    .dataframe tbody tr th:only-of-type {\n",
       "        vertical-align: middle;\n",
       "    }\n",
       "\n",
       "    .dataframe tbody tr th {\n",
       "        vertical-align: top;\n",
       "    }\n",
       "\n",
       "    .dataframe thead th {\n",
       "        text-align: right;\n",
       "    }\n",
       "</style>\n",
       "<table border=\"1\" class=\"dataframe\">\n",
       "  <thead>\n",
       "    <tr style=\"text-align: right;\">\n",
       "      <th></th>\n",
       "      <th>status</th>\n",
       "      <th>date_entered</th>\n",
       "      <th>house_number</th>\n",
       "      <th>zip_code</th>\n",
       "      <th>house_street</th>\n",
       "      <th>special_district</th>\n",
       "      <th>complaint_category</th>\n",
       "      <th>unit</th>\n",
       "      <th>inspection_date</th>\n",
       "      <th>days_until_inspection</th>\n",
       "      <th>med_inc_zip</th>\n",
       "    </tr>\n",
       "    <tr>\n",
       "      <th>complaint_number</th>\n",
       "      <th></th>\n",
       "      <th></th>\n",
       "      <th></th>\n",
       "      <th></th>\n",
       "      <th></th>\n",
       "      <th></th>\n",
       "      <th></th>\n",
       "      <th></th>\n",
       "      <th></th>\n",
       "      <th></th>\n",
       "      <th></th>\n",
       "    </tr>\n",
       "  </thead>\n",
       "  <tbody>\n",
       "    <tr>\n",
       "      <th>1245555</th>\n",
       "      <td>CLOSED</td>\n",
       "      <td>2009-01-02</td>\n",
       "      <td>930</td>\n",
       "      <td>10025</td>\n",
       "      <td>WEST END AVENUE</td>\n",
       "      <td>NOT SPECIAL</td>\n",
       "      <td>58</td>\n",
       "      <td>BOILR</td>\n",
       "      <td>2009-06-02</td>\n",
       "      <td>151</td>\n",
       "      <td>82352</td>\n",
       "    </tr>\n",
       "    <tr>\n",
       "      <th>1245608</th>\n",
       "      <td>CLOSED</td>\n",
       "      <td>2009-01-02</td>\n",
       "      <td>428</td>\n",
       "      <td>10013</td>\n",
       "      <td>BROADWAY</td>\n",
       "      <td>NOT SPECIAL</td>\n",
       "      <td>23</td>\n",
       "      <td>SCFLD</td>\n",
       "      <td>2009-10-09</td>\n",
       "      <td>280</td>\n",
       "      <td>106056</td>\n",
       "    </tr>\n",
       "    <tr>\n",
       "      <th>1245621</th>\n",
       "      <td>CLOSED</td>\n",
       "      <td>2009-01-02</td>\n",
       "      <td>146</td>\n",
       "      <td>10001</td>\n",
       "      <td>WEST   28 STREET</td>\n",
       "      <td>NOT SPECIAL</td>\n",
       "      <td>63</td>\n",
       "      <td>ELEVR</td>\n",
       "      <td>2009-01-22</td>\n",
       "      <td>20</td>\n",
       "      <td>85221</td>\n",
       "    </tr>\n",
       "    <tr>\n",
       "      <th>1245634</th>\n",
       "      <td>CLOSED</td>\n",
       "      <td>2009-01-03</td>\n",
       "      <td>388</td>\n",
       "      <td>10013</td>\n",
       "      <td>BROADWAY</td>\n",
       "      <td>NOT SPECIAL</td>\n",
       "      <td>56</td>\n",
       "      <td>BOILR</td>\n",
       "      <td>2009-01-07</td>\n",
       "      <td>4</td>\n",
       "      <td>106056</td>\n",
       "    </tr>\n",
       "    <tr>\n",
       "      <th>1245648</th>\n",
       "      <td>CLOSED</td>\n",
       "      <td>2009-01-03</td>\n",
       "      <td>375</td>\n",
       "      <td>10016</td>\n",
       "      <td>3 AVENUE</td>\n",
       "      <td>NOT SPECIAL</td>\n",
       "      <td>59</td>\n",
       "      <td>ELCTR</td>\n",
       "      <td>2009-01-08</td>\n",
       "      <td>5</td>\n",
       "      <td>109250</td>\n",
       "    </tr>\n",
       "  </tbody>\n",
       "</table>\n",
       "</div>"
      ],
      "text/plain": [
       "                  status date_entered house_number  zip_code  \\\n",
       "complaint_number                                               \n",
       "1245555           CLOSED   2009-01-02          930     10025   \n",
       "1245608           CLOSED   2009-01-02          428     10013   \n",
       "1245621           CLOSED   2009-01-02          146     10001   \n",
       "1245634           CLOSED   2009-01-03          388     10013   \n",
       "1245648           CLOSED   2009-01-03          375     10016   \n",
       "\n",
       "                      house_street special_district complaint_category   unit  \\\n",
       "complaint_number                                                                \n",
       "1245555            WEST END AVENUE      NOT SPECIAL                 58  BOILR   \n",
       "1245608                   BROADWAY      NOT SPECIAL                 23  SCFLD   \n",
       "1245621           WEST   28 STREET      NOT SPECIAL                 63  ELEVR   \n",
       "1245634                   BROADWAY      NOT SPECIAL                 56  BOILR   \n",
       "1245648                   3 AVENUE      NOT SPECIAL                 59  ELCTR   \n",
       "\n",
       "                 inspection_date  days_until_inspection  med_inc_zip  \n",
       "complaint_number                                                      \n",
       "1245555               2009-06-02                    151        82352  \n",
       "1245608               2009-10-09                    280       106056  \n",
       "1245621               2009-01-22                     20        85221  \n",
       "1245634               2009-01-07                      4       106056  \n",
       "1245648               2009-01-08                      5       109250  "
      ]
     },
     "execution_count": 111,
     "metadata": {},
     "output_type": "execute_result"
    }
   ],
   "source": [
    "db.head()"
   ]
  },
  {
   "cell_type": "markdown",
   "metadata": {},
   "source": [
    "## Data Cleaning\n",
    "\n",
    "(Please see accompanying notebook)\n",
    "\n",
    "SUMMARY OF WHAT WAS CLEANED AND WHY\n",
    "- Filtered \"CLOSED\"\n",
    "- Removed nulls\n",
    "- Removed invalid dates\n",
    "- Infered `days_until_inspection`\n",
    "- Removed negative `days_until_inspection`"
   ]
  },
  {
   "cell_type": "markdown",
   "metadata": {},
   "source": [
    "### Found oddity in zip codes, which no longer exist\n",
    "\n",
    "Agreed to drop (not included here)"
   ]
  },
  {
   "cell_type": "code",
   "execution_count": 112,
   "metadata": {},
   "outputs": [
    {
     "data": {
      "text/plain": [
       "(1026, 11)"
      ]
     },
     "execution_count": 112,
     "metadata": {},
     "output_type": "execute_result"
    }
   ],
   "source": [
    "db[db[\"zip_code\"] == 11211].shape"
   ]
  },
  {
   "cell_type": "code",
   "execution_count": 113,
   "metadata": {},
   "outputs": [
    {
     "data": {
      "text/plain": [
       "(0, 11)"
      ]
     },
     "execution_count": 113,
     "metadata": {},
     "output_type": "execute_result"
    }
   ],
   "source": [
    "db[db[\"zip_code\"] == 11249].shape"
   ]
  },
  {
   "cell_type": "markdown",
   "metadata": {},
   "source": [
    "### Must ensure sorted time order"
   ]
  },
  {
   "cell_type": "code",
   "execution_count": 114,
   "metadata": {},
   "outputs": [],
   "source": [
    "## "
   ]
  },
  {
   "cell_type": "markdown",
   "metadata": {},
   "source": [
    "### Expoloring `med_inc_zip`"
   ]
  },
  {
   "cell_type": "code",
   "execution_count": 115,
   "metadata": {},
   "outputs": [
    {
     "data": {
      "text/plain": [
       "<matplotlib.axes._subplots.AxesSubplot at 0x1efc76d7c50>"
      ]
     },
     "execution_count": 115,
     "metadata": {},
     "output_type": "execute_result"
    },
    {
     "data": {
      "image/png": "[encoded data removed]",
      "text/plain": [
       "<Figure size 432x288 with 1 Axes>"
      ]
     },
     "metadata": {
      "needs_background": "light"
     },
     "output_type": "display_data"
    }
   ],
   "source": [
    "db[\"med_inc_zip\"].plot(kind = \"hist\")"
   ]
  },
  {
   "cell_type": "markdown",
   "metadata": {},
   "source": [
    "### Feature engineering log of `med_inc_zip`"
   ]
  },
  {
   "cell_type": "code",
   "execution_count": 116,
   "metadata": {},
   "outputs": [],
   "source": [
    "db[\"log_med_inc_zip\"] = np.log(db[\"med_inc_zip\"])"
   ]
  },
  {
   "cell_type": "markdown",
   "metadata": {},
   "source": [
    "### Removing Outliers\n",
    "\n",
    "(done later - any days_until_insp > 4000)\n",
    "During model evaluation, we found some significant outliers, which bear consideration.\n",
    "\n",
    "We've decided to remove these extreme observations from our training set."
   ]
  },
  {
   "cell_type": "code",
   "execution_count": 117,
   "metadata": {},
   "outputs": [
    {
     "data": {
      "text/plain": [
       "count    74340.000000\n",
       "mean        87.143045\n",
       "std        209.399509\n",
       "min          1.000000\n",
       "25%          5.000000\n",
       "50%         24.000000\n",
       "75%         81.000000\n",
       "max       3767.000000\n",
       "Name: days_until_inspection, dtype: float64"
      ]
     },
     "execution_count": 117,
     "metadata": {},
     "output_type": "execute_result"
    }
   ],
   "source": [
    "db[\"days_until_inspection\"].describe()"
   ]
  },
  {
   "cell_type": "code",
   "execution_count": 118,
   "metadata": {},
   "outputs": [
    {
     "data": {
      "text/html": [
       "<div>\n",
       "<style scoped>\n",
       "    .dataframe tbody tr th:only-of-type {\n",
       "        vertical-align: middle;\n",
       "    }\n",
       "\n",
       "    .dataframe tbody tr th {\n",
       "        vertical-align: top;\n",
       "    }\n",
       "\n",
       "    .dataframe thead th {\n",
       "        text-align: right;\n",
       "    }\n",
       "</style>\n",
       "<table border=\"1\" class=\"dataframe\">\n",
       "  <thead>\n",
       "    <tr style=\"text-align: right;\">\n",
       "      <th></th>\n",
       "      <th>status</th>\n",
       "      <th>date_entered</th>\n",
       "      <th>house_number</th>\n",
       "      <th>zip_code</th>\n",
       "      <th>house_street</th>\n",
       "      <th>special_district</th>\n",
       "      <th>complaint_category</th>\n",
       "      <th>unit</th>\n",
       "      <th>inspection_date</th>\n",
       "      <th>days_until_inspection</th>\n",
       "      <th>med_inc_zip</th>\n",
       "      <th>log_med_inc_zip</th>\n",
       "    </tr>\n",
       "    <tr>\n",
       "      <th>complaint_number</th>\n",
       "      <th></th>\n",
       "      <th></th>\n",
       "      <th></th>\n",
       "      <th></th>\n",
       "      <th></th>\n",
       "      <th></th>\n",
       "      <th></th>\n",
       "      <th></th>\n",
       "      <th></th>\n",
       "      <th></th>\n",
       "      <th></th>\n",
       "      <th></th>\n",
       "    </tr>\n",
       "  </thead>\n",
       "  <tbody>\n",
       "    <tr>\n",
       "      <th>3305557</th>\n",
       "      <td>CLOSED</td>\n",
       "      <td>2009-05-21</td>\n",
       "      <td>31</td>\n",
       "      <td>11211</td>\n",
       "      <td>DIVISION AVENUE</td>\n",
       "      <td>NOT SPECIAL</td>\n",
       "      <td>31</td>\n",
       "      <td>BKLYN</td>\n",
       "      <td>2019-09-13</td>\n",
       "      <td>3767</td>\n",
       "      <td>66113</td>\n",
       "      <td>11.099121</td>\n",
       "    </tr>\n",
       "    <tr>\n",
       "      <th>4392125</th>\n",
       "      <td>CLOSED</td>\n",
       "      <td>2009-03-06</td>\n",
       "      <td>60-09</td>\n",
       "      <td>11365</td>\n",
       "      <td>172 STREET</td>\n",
       "      <td>NOT SPECIAL</td>\n",
       "      <td>45</td>\n",
       "      <td>QNS.</td>\n",
       "      <td>2019-06-18</td>\n",
       "      <td>3756</td>\n",
       "      <td>63455</td>\n",
       "      <td>11.058086</td>\n",
       "    </tr>\n",
       "    <tr>\n",
       "      <th>3309361</th>\n",
       "      <td>CLOSED</td>\n",
       "      <td>2009-06-22</td>\n",
       "      <td>263</td>\n",
       "      <td>11222</td>\n",
       "      <td>MC GUINNESS BOULEVARD</td>\n",
       "      <td>NOT SPECIAL</td>\n",
       "      <td>49</td>\n",
       "      <td>SPOPS</td>\n",
       "      <td>2019-07-31</td>\n",
       "      <td>3691</td>\n",
       "      <td>78287</td>\n",
       "      <td>11.268137</td>\n",
       "    </tr>\n",
       "    <tr>\n",
       "      <th>4406298</th>\n",
       "      <td>CLOSED</td>\n",
       "      <td>2009-07-01</td>\n",
       "      <td>150-17</td>\n",
       "      <td>11434</td>\n",
       "      <td>LINDEN BOULEVARD</td>\n",
       "      <td>NOT SPECIAL</td>\n",
       "      <td>45</td>\n",
       "      <td>QNS.</td>\n",
       "      <td>2019-07-22</td>\n",
       "      <td>3673</td>\n",
       "      <td>60702</td>\n",
       "      <td>11.013732</td>\n",
       "    </tr>\n",
       "    <tr>\n",
       "      <th>3303034</th>\n",
       "      <td>CLOSED</td>\n",
       "      <td>2009-04-28</td>\n",
       "      <td>385</td>\n",
       "      <td>11238</td>\n",
       "      <td>CLASSON AVENUE</td>\n",
       "      <td>NOT SPECIAL</td>\n",
       "      <td>05</td>\n",
       "      <td>BKLYN</td>\n",
       "      <td>2019-04-30</td>\n",
       "      <td>3654</td>\n",
       "      <td>79013</td>\n",
       "      <td>11.277368</td>\n",
       "    </tr>\n",
       "  </tbody>\n",
       "</table>\n",
       "</div>"
      ],
      "text/plain": [
       "                  status date_entered house_number  zip_code  \\\n",
       "complaint_number                                               \n",
       "3305557           CLOSED   2009-05-21           31     11211   \n",
       "4392125           CLOSED   2009-03-06        60-09     11365   \n",
       "3309361           CLOSED   2009-06-22          263     11222   \n",
       "4406298           CLOSED   2009-07-01       150-17     11434   \n",
       "3303034           CLOSED   2009-04-28          385     11238   \n",
       "\n",
       "                           house_street special_district complaint_category  \\\n",
       "complaint_number                                                              \n",
       "3305557                 DIVISION AVENUE      NOT SPECIAL                 31   \n",
       "4392125                      172 STREET      NOT SPECIAL                 45   \n",
       "3309361           MC GUINNESS BOULEVARD      NOT SPECIAL                 49   \n",
       "4406298                LINDEN BOULEVARD      NOT SPECIAL                 45   \n",
       "3303034                  CLASSON AVENUE      NOT SPECIAL                 05   \n",
       "\n",
       "                   unit inspection_date  days_until_inspection  med_inc_zip  \\\n",
       "complaint_number                                                              \n",
       "3305557           BKLYN      2019-09-13                   3767        66113   \n",
       "4392125            QNS.      2019-06-18                   3756        63455   \n",
       "3309361           SPOPS      2019-07-31                   3691        78287   \n",
       "4406298            QNS.      2019-07-22                   3673        60702   \n",
       "3303034           BKLYN      2019-04-30                   3654        79013   \n",
       "\n",
       "                  log_med_inc_zip  \n",
       "complaint_number                   \n",
       "3305557                 11.099121  \n",
       "4392125                 11.058086  \n",
       "3309361                 11.268137  \n",
       "4406298                 11.013732  \n",
       "3303034                 11.277368  "
      ]
     },
     "execution_count": 118,
     "metadata": {},
     "output_type": "execute_result"
    }
   ],
   "source": [
    "db.sort_values(by=\"days_until_inspection\", ascending = False).head()"
   ]
  },
  {
   "cell_type": "code",
   "execution_count": 119,
   "metadata": {},
   "outputs": [
    {
     "data": {
      "text/plain": [
       "10.32054794520548"
      ]
     },
     "execution_count": 119,
     "metadata": {},
     "output_type": "execute_result"
    }
   ],
   "source": [
    "db[\"days_until_inspection\"].max() / 365 # converting days to years"
   ]
  },
  {
   "cell_type": "markdown",
   "metadata": {},
   "source": [
    "We can see some extreme DOB complaints took over 10 years to be inspected!\n",
    "\n",
    "It's hard to tell if these are erroneous or valid, since there are many cases like this."
   ]
  },
  {
   "cell_type": "markdown",
   "metadata": {},
   "source": [
    "---\n",
    "During model evaluation, we found the dat associated with 2009-04-02 to have usual observations with large `days_until_inspection`"
   ]
  },
  {
   "cell_type": "code",
   "execution_count": 120,
   "metadata": {},
   "outputs": [
    {
     "data": {
      "text/html": [
       "<div>\n",
       "<style scoped>\n",
       "    .dataframe tbody tr th:only-of-type {\n",
       "        vertical-align: middle;\n",
       "    }\n",
       "\n",
       "    .dataframe tbody tr th {\n",
       "        vertical-align: top;\n",
       "    }\n",
       "\n",
       "    .dataframe thead th {\n",
       "        text-align: right;\n",
       "    }\n",
       "</style>\n",
       "<table border=\"1\" class=\"dataframe\">\n",
       "  <thead>\n",
       "    <tr style=\"text-align: right;\">\n",
       "      <th></th>\n",
       "      <th>status</th>\n",
       "      <th>date_entered</th>\n",
       "      <th>house_number</th>\n",
       "      <th>zip_code</th>\n",
       "      <th>house_street</th>\n",
       "      <th>special_district</th>\n",
       "      <th>complaint_category</th>\n",
       "      <th>unit</th>\n",
       "      <th>inspection_date</th>\n",
       "      <th>days_until_inspection</th>\n",
       "      <th>med_inc_zip</th>\n",
       "      <th>log_med_inc_zip</th>\n",
       "    </tr>\n",
       "    <tr>\n",
       "      <th>complaint_number</th>\n",
       "      <th></th>\n",
       "      <th></th>\n",
       "      <th></th>\n",
       "      <th></th>\n",
       "      <th></th>\n",
       "      <th></th>\n",
       "      <th></th>\n",
       "      <th></th>\n",
       "      <th></th>\n",
       "      <th></th>\n",
       "      <th></th>\n",
       "      <th></th>\n",
       "    </tr>\n",
       "  </thead>\n",
       "  <tbody>\n",
       "    <tr>\n",
       "      <th>2128469</th>\n",
       "      <td>CLOSED</td>\n",
       "      <td>2009-04-02</td>\n",
       "      <td>3031</td>\n",
       "      <td>10463</td>\n",
       "      <td>ARLINGTON AVENUE</td>\n",
       "      <td>NOT SPECIAL</td>\n",
       "      <td>1G</td>\n",
       "      <td>EXCAV</td>\n",
       "      <td>2018-05-19</td>\n",
       "      <td>3334</td>\n",
       "      <td>58881</td>\n",
       "      <td>10.983274</td>\n",
       "    </tr>\n",
       "    <tr>\n",
       "      <th>1252772</th>\n",
       "      <td>CLOSED</td>\n",
       "      <td>2009-04-02</td>\n",
       "      <td>315</td>\n",
       "      <td>10017</td>\n",
       "      <td>EAST   46 STREET</td>\n",
       "      <td>NOT SPECIAL</td>\n",
       "      <td>1G</td>\n",
       "      <td>EXCAV</td>\n",
       "      <td>2018-02-16</td>\n",
       "      <td>3242</td>\n",
       "      <td>118469</td>\n",
       "      <td>11.682407</td>\n",
       "    </tr>\n",
       "    <tr>\n",
       "      <th>3300206</th>\n",
       "      <td>CLOSED</td>\n",
       "      <td>2009-04-02</td>\n",
       "      <td>150</td>\n",
       "      <td>11211</td>\n",
       "      <td>NORTH   12 STREET</td>\n",
       "      <td>NOT SPECIAL</td>\n",
       "      <td>1G</td>\n",
       "      <td>STALL</td>\n",
       "      <td>2015-10-21</td>\n",
       "      <td>2393</td>\n",
       "      <td>66113</td>\n",
       "      <td>11.099121</td>\n",
       "    </tr>\n",
       "    <tr>\n",
       "      <th>3300193</th>\n",
       "      <td>CLOSED</td>\n",
       "      <td>2009-04-02</td>\n",
       "      <td>85</td>\n",
       "      <td>11201</td>\n",
       "      <td>FLATBUSH AVENUE EXTENSION</td>\n",
       "      <td>NOT SPECIAL</td>\n",
       "      <td>1G</td>\n",
       "      <td>EXCAV</td>\n",
       "      <td>2013-03-11</td>\n",
       "      <td>1439</td>\n",
       "      <td>116446</td>\n",
       "      <td>11.665183</td>\n",
       "    </tr>\n",
       "    <tr>\n",
       "      <th>3300219</th>\n",
       "      <td>CLOSED</td>\n",
       "      <td>2009-04-02</td>\n",
       "      <td>544</td>\n",
       "      <td>11211</td>\n",
       "      <td>UNION AVENUE</td>\n",
       "      <td>NOT SPECIAL</td>\n",
       "      <td>1G</td>\n",
       "      <td>EXCAV</td>\n",
       "      <td>2012-11-14</td>\n",
       "      <td>1322</td>\n",
       "      <td>66113</td>\n",
       "      <td>11.099121</td>\n",
       "    </tr>\n",
       "  </tbody>\n",
       "</table>\n",
       "</div>"
      ],
      "text/plain": [
       "                  status date_entered house_number  zip_code  \\\n",
       "complaint_number                                               \n",
       "2128469           CLOSED   2009-04-02         3031     10463   \n",
       "1252772           CLOSED   2009-04-02          315     10017   \n",
       "3300206           CLOSED   2009-04-02          150     11211   \n",
       "3300193           CLOSED   2009-04-02           85     11201   \n",
       "3300219           CLOSED   2009-04-02          544     11211   \n",
       "\n",
       "                               house_street special_district  \\\n",
       "complaint_number                                               \n",
       "2128469                    ARLINGTON AVENUE      NOT SPECIAL   \n",
       "1252772                    EAST   46 STREET      NOT SPECIAL   \n",
       "3300206                   NORTH   12 STREET      NOT SPECIAL   \n",
       "3300193           FLATBUSH AVENUE EXTENSION      NOT SPECIAL   \n",
       "3300219                        UNION AVENUE      NOT SPECIAL   \n",
       "\n",
       "                 complaint_category   unit inspection_date  \\\n",
       "complaint_number                                             \n",
       "2128469                          1G  EXCAV      2018-05-19   \n",
       "1252772                          1G  EXCAV      2018-02-16   \n",
       "3300206                          1G  STALL      2015-10-21   \n",
       "3300193                          1G  EXCAV      2013-03-11   \n",
       "3300219                          1G  EXCAV      2012-11-14   \n",
       "\n",
       "                  days_until_inspection  med_inc_zip  log_med_inc_zip  \n",
       "complaint_number                                                       \n",
       "2128469                            3334        58881        10.983274  \n",
       "1252772                            3242       118469        11.682407  \n",
       "3300206                            2393        66113        11.099121  \n",
       "3300193                            1439       116446        11.665183  \n",
       "3300219                            1322        66113        11.099121  "
      ]
     },
     "execution_count": 120,
     "metadata": {},
     "output_type": "execute_result"
    }
   ],
   "source": [
    "outlier_dates = [\"2009-04-02\"]\n",
    "db[db[\"date_entered\"].isin(outlier_dates)].sort_values(\"inspection_date\", ascending = False).head()"
   ]
  },
  {
   "cell_type": "markdown",
   "metadata": {},
   "source": [
    "There may be some association with these exceptionally long inspection times and the `unit` \"EXCAV\".\n",
    "\n",
    "As a threshold, we'll remove all observations above 3200 `days_until_inspection`."
   ]
  },
  {
   "cell_type": "code",
   "execution_count": 121,
   "metadata": {},
   "outputs": [
    {
     "data": {
      "text/plain": [
       "(23, 12)"
      ]
     },
     "execution_count": 121,
     "metadata": {},
     "output_type": "execute_result"
    }
   ],
   "source": [
    "outlier_threshold = 3200\n",
    "db[db[\"days_until_inspection\"] > outlier_threshold].shape"
   ]
  },
  {
   "cell_type": "markdown",
   "metadata": {},
   "source": [
    "We find 24 outlier observations, which account for about .03% of the data."
   ]
  },
  {
   "cell_type": "code",
   "execution_count": 122,
   "metadata": {},
   "outputs": [],
   "source": [
    "db = db[db[\"days_until_inspection\"] <= outlier_threshold]"
   ]
  },
  {
   "cell_type": "markdown",
   "metadata": {},
   "source": [
    "## Exploratory Data Analysis"
   ]
  },
  {
   "cell_type": "markdown",
   "metadata": {},
   "source": [
    "#### Trying log transformation\n",
    "Skewed distributions can sometimes be coerced to normal using the log transformation. If this is the case with our target, then we may be able to work with a linear regression or other simple model."
   ]
  },
  {
   "cell_type": "code",
   "execution_count": 123,
   "metadata": {},
   "outputs": [
    {
     "data": {
      "image/png": "[encoded data removed]",
      "text/plain": [
       "<Figure size 432x288 with 1 Axes>"
      ]
     },
     "metadata": {
      "needs_background": "light"
     },
     "output_type": "display_data"
    }
   ],
   "source": [
    "sns.distplot(db[\"days_until_inspection\"], kde = False, bins = 50);"
   ]
  },
  {
   "cell_type": "markdown",
   "metadata": {},
   "source": [
    "We find a heavily skewed distribution for our target variable, `days_until_inspection`, which is remniscent of an exponential or gamma distribution."
   ]
  },
  {
   "cell_type": "code",
   "execution_count": 124,
   "metadata": {},
   "outputs": [
    {
     "data": {
      "image/png": "[encoded data removed]",
      "text/plain": [
       "<Figure size 432x288 with 1 Axes>"
      ]
     },
     "metadata": {
      "needs_background": "light"
     },
     "output_type": "display_data"
    }
   ],
   "source": [
    "sns.distplot(np.log(db[\"days_until_inspection\"]), axlabel=\"log(days_until_inspection)\", kde = False);"
   ]
  },
  {
   "cell_type": "markdown",
   "metadata": {},
   "source": [
    "Log transforming our target variable does __not__ result in a normal-looking distribution, so we will keep the target feature as is."
   ]
  },
  {
   "cell_type": "markdown",
   "metadata": {},
   "source": [
    "#### Aggregating data by various time intervals"
   ]
  },
  {
   "cell_type": "code",
   "execution_count": 125,
   "metadata": {},
   "outputs": [],
   "source": [
    "db_with_time_index = db.set_index(\"date_entered\")[[\"days_until_inspection\"]]"
   ]
  },
  {
   "cell_type": "code",
   "execution_count": 126,
   "metadata": {},
   "outputs": [
    {
     "data": {
      "image/png": "[encoded data removed]",
      "text/plain": [
       "<Figure size 432x288 with 1 Axes>"
      ]
     },
     "metadata": {
      "needs_background": "light"
     },
     "output_type": "display_data"
    }
   ],
   "source": [
    "# by day\n",
    "db_time_by_day = db_with_time_index.resample(\"D\").mean()\n",
    "sns.lineplot(y = db_time_by_day[\"days_until_inspection\"], x = db_time_by_day.index);"
   ]
  },
  {
   "cell_type": "markdown",
   "metadata": {},
   "source": [
    "We find after 2016, there appears to be a downward trend in the number of days until a complaint is inspected.\n",
    "\n",
    "We must consider the recency of the tail end, however, since these complaints are less likely to be \"CLOSED\" and therefore not seen in the data."
   ]
  },
  {
   "cell_type": "markdown",
   "metadata": {},
   "source": [
    "It's difficult to tell if there's any seasonality in these data when aggregating by day."
   ]
  },
  {
   "cell_type": "code",
   "execution_count": 127,
   "metadata": {},
   "outputs": [
    {
     "data": {
      "image/png": "[encoded data removed]",
      "text/plain": [
       "<Figure size 432x288 with 1 Axes>"
      ]
     },
     "metadata": {
      "needs_background": "light"
     },
     "output_type": "display_data"
    }
   ],
   "source": [
    "# by week\n",
    "db_time_by_week = db_with_time_index.resample(\"W\").mean()\n",
    "sns.lineplot(y = db_time_by_week[\"days_until_inspection\"], x = db_time_by_week.index);"
   ]
  },
  {
   "cell_type": "markdown",
   "metadata": {},
   "source": [
    "It's difficult to tell if there's any seasonality in these data when aggregating by week."
   ]
  },
  {
   "cell_type": "code",
   "execution_count": 128,
   "metadata": {},
   "outputs": [
    {
     "data": {
      "image/png": "[encoded data removed]",
      "text/plain": [
       "<Figure size 432x288 with 1 Axes>"
      ]
     },
     "metadata": {
      "needs_background": "light"
     },
     "output_type": "display_data"
    }
   ],
   "source": [
    "# by month\n",
    "db_time_by_month = db_with_time_index.resample(\"M\").mean()\n",
    "sns.lineplot(y = db_time_by_month[\"days_until_inspection\"], x = db_time_by_month.index);"
   ]
  },
  {
   "cell_type": "markdown",
   "metadata": {},
   "source": [
    "There may be some seasonality by month, though it appears somewhat irregular."
   ]
  },
  {
   "cell_type": "code",
   "execution_count": 129,
   "metadata": {},
   "outputs": [
    {
     "data": {
      "image/png": "[encoded data removed]",
      "text/plain": [
       "<Figure size 432x288 with 1 Axes>"
      ]
     },
     "metadata": {
      "needs_background": "light"
     },
     "output_type": "display_data"
    }
   ],
   "source": [
    "# by quarter\n",
    "db_time_by_Q = db_with_time_index.resample(\"Q\").mean()\n",
    "sns.lineplot(y = db_time_by_Q[\"days_until_inspection\"], x = db_time_by_Q.index);"
   ]
  },
  {
   "cell_type": "markdown",
   "metadata": {},
   "source": [
    "Looking at quarterly aggregations, it's difficult to see a clear regular pattern.\n",
    "\n",
    "---\n",
    "We may want to consider testing for seasonality and using an ARIMA or SARIMAX model."
   ]
  },
  {
   "cell_type": "markdown",
   "metadata": {},
   "source": [
    "#### Testing for seasonality"
   ]
  },
  {
   "cell_type": "code",
   "execution_count": 130,
   "metadata": {},
   "outputs": [
    {
     "data": {
      "image/png": "[encoded data removed]",
      "text/plain": [
       "<Figure size 432x288 with 4 Axes>"
      ]
     },
     "metadata": {
      "needs_background": "light"
     },
     "output_type": "display_data"
    }
   ],
   "source": [
    "seasonal_decompose(db_time_by_week[\"days_until_inspection\"]).plot()\n",
    "plt.show()"
   ]
  },
  {
   "cell_type": "markdown",
   "metadata": {},
   "source": [
    "After decomposing the data we find a seasonal component, which suggests a SARIMAX model may be worth exploring."
   ]
  },
  {
   "cell_type": "markdown",
   "metadata": {},
   "source": [
    "### Exploring `Special District`, `Complaint Category` , and `Unit` vs. `days_until_inspection`"
   ]
  },
  {
   "cell_type": "code",
   "execution_count": 131,
   "metadata": {},
   "outputs": [],
   "source": [
    "def capitalize_words(string):\n",
    "    '''Returns string with each work capitalized'''\n",
    "    return \" \".join([word.capitalize() for word in string.split()])"
   ]
  },
  {
   "cell_type": "code",
   "execution_count": 132,
   "metadata": {},
   "outputs": [],
   "source": [
    "def aggregation_plots(db, x, y):\n",
    "    '''Plots a barplot and boxplot of the given features, limited to top 10 and sorted in descending order'''\n",
    "    height_per_label = .3\n",
    "    total_height = len(db[y].unique()[:10]) * height_per_label\n",
    "    fig, axes = plt.subplots(ncols = 2, figsize = (10, total_height + (2 if total_height< 4 else 0)))\n",
    "    ax1, ax2 = axes\n",
    "    \n",
    "    xlabel = capitalize_words(x.replace(\"_\",\" \"))\n",
    "    ylabel = capitalize_words(y.replace(\"_\",\" \"))\n",
    "    fig.suptitle(\"Average {} by {}\".format(xlabel,ylabel), y = 1.075)\n",
    "    \n",
    "    sorted_label_values = db.groupby(y)[x].agg(\"mean\").sort_values(ascending = False)[:10]\n",
    "\n",
    "    sns.barplot(ax = ax1, x = db[x], y = db[y], order = sorted_label_values.index)\n",
    "\n",
    "    ax1.set_ylabel(ylabel)\n",
    "    ax1.set_xlabel(xlabel)\n",
    "    \n",
    "    sns.boxplot(ax = ax2, x = db[x], y = db[y], order = sorted_label_values.index)    \n",
    "    ax2.set_ylabel(ylabel)\n",
    "    ax2.set_xlabel(xlabel)\n",
    "    \n",
    "    plt.tight_layout()"
   ]
  },
  {
   "cell_type": "code",
   "execution_count": 133,
   "metadata": {},
   "outputs": [
    {
     "data": {
      "image/png": "[encoded data removed]",
      "text/plain": [
       "<Figure size 720x187.2 with 2 Axes>"
      ]
     },
     "metadata": {
      "needs_background": "light"
     },
     "output_type": "display_data"
    }
   ],
   "source": [
    "# Special District\n",
    "aggregation_plots(db, \"days_until_inspection\", \"special_district\")"
   ]
  },
  {
   "cell_type": "markdown",
   "metadata": {},
   "source": [
    "Not seeing much difference in average between Special Districts, however we do see a wide range in individual observations for \"NOT SPECIAL\" districts."
   ]
  },
  {
   "cell_type": "code",
   "execution_count": 134,
   "metadata": {},
   "outputs": [
    {
     "data": {
      "image/png": "[encoded data removed]",
      "text/plain": [
       "<Figure size 720x360 with 2 Axes>"
      ]
     },
     "metadata": {
      "needs_background": "light"
     },
     "output_type": "display_data"
    }
   ],
   "source": [
    "# Unit\n",
    "aggregation_plots(db, \"days_until_inspection\", \"unit\")"
   ]
  },
  {
   "cell_type": "markdown",
   "metadata": {},
   "source": [
    "The STALL and PADLK units appear to have the longest average days of inspection with little different between the other units. Thos other units, however, have much more extreme ranges."
   ]
  },
  {
   "cell_type": "code",
   "execution_count": 135,
   "metadata": {},
   "outputs": [
    {
     "data": {
      "image/png": "[encoded data removed]",
      "text/plain": [
       "<Figure size 720x360 with 2 Axes>"
      ]
     },
     "metadata": {
      "needs_background": "light"
     },
     "output_type": "display_data"
    }
   ],
   "source": [
    "# Complaint Category\n",
    "aggregation_plots(db, \"days_until_inspection\", \"complaint_category\")"
   ]
  },
  {
   "cell_type": "markdown",
   "metadata": {},
   "source": [
    "The \"1G\" complaint category appears to take significantly longer to inspect than all other categories, even when taking into account the extreme ranges seen in those categories."
   ]
  },
  {
   "cell_type": "markdown",
   "metadata": {},
   "source": [
    "## General Linearized Model (GLM)"
   ]
  },
  {
   "cell_type": "markdown",
   "metadata": {},
   "source": [
    "### Model Preparation for GLM\n",
    "\n",
    "Before attempting a SARIMAX model, we'll first explore a general linearized model using the gamma distribution. The target variable, `days_until_inspecti,on`, is bound from $0$ to $\\infty$ with an exponentially decreasing frequency.\n",
    "\n",
    "https://www.statsmodels.org/dev/examples/notebooks/generated/glm.html#GLM:-Gamma-for-proportional-count-response\n",
    "\n",
    "__Because only using categorical data, this GLM turns into an [ANOVA](https://www.statsmodels.org/dev/anova.html) model__\n",
    "\n",
    "Therefore, will need to use formula version of GLM because the ANOVA implementation needs to know how categories were formed using the \"formula notation\" - [source](https://s3.amazonaws.com/assets.datacamp.com/production/course_15356/slides/chapter1.pdf)\n",
    "- How to use formula notation - [link](https://www.statsmodels.org/dev/examples/notebooks/generated/glm_formula.html)\n",
    "\n"
   ]
  },
  {
   "cell_type": "code",
   "execution_count": null,
   "metadata": {},
   "outputs": [],
   "source": [
    "db.head()"
   ]
  },
  {
   "cell_type": "code",
   "execution_count": null,
   "metadata": {},
   "outputs": [],
   "source": [
    "target = \"days_until_inspection\"\n",
    "glm_features = [\"special_district\", \"complaint_category\", \"unit\", target]\n",
    "glm_db = db[glm_features]"
   ]
  },
  {
   "cell_type": "markdown",
   "metadata": {},
   "source": [
    "#### Creating `vizResids` function\n",
    "\n",
    "`vizResids` is a convenience function to abstract the relevant regression-like model evaluation graphs:\n",
    "1. True Values ($y$) vs. Predictions ($\\hat{y}$)\n",
    "2. Residuals Plot\n",
    "3. Residuals Histogram"
   ]
  },
  {
   "cell_type": "code",
   "execution_count": 157,
   "metadata": {},
   "outputs": [],
   "source": [
    "def vizResids(model_title, target_name,y_true, y_preds):\n",
    "    resids = y_true - y_preds\n",
    "    score = r2_score(y_true, y_preds)\n",
    "    # HANDLING SUBPLOTS\n",
    "    fig, axes = plt.subplots(2, 2, figsize=(12,10)) # 2 row x 2 columns\n",
    "    fig.suptitle(f\"{model_title}: $R^2$ ={score:2.2%}\", fontsize = 24, y = 1.05)\n",
    "\n",
    "    ax_1 = axes[0][0]\n",
    "    ax_2 = axes[0][1]\n",
    "    ax_3 = axes[1][0]\n",
    "\n",
    "    subplot_title_size = 18\n",
    "    subplot_label_size = 14\n",
    "    \n",
    "    # 1ST PLOT - y_true vs. y_pred\n",
    "    ax_1.set_title(\"True Values ($y$) vs. Predictions ($\\hat{y}$)\", fontsize = subplot_title_size, pad = 10)\n",
    "    maxDist = max(max(y_preds),max(y_true)) # maxiumum value used to determin x_lim and y_lim\n",
    "    minDist = min(min(y_preds),min(y_true)) # maxiumum value used to determin x_lim and y_lim\n",
    "    # 45deg line, signifying prediction == true value\n",
    "    ax_1.plot((minDist,maxDist),(minDist,maxDist), c = \"r\", alpha = .7);\n",
    "    \n",
    "    sns.scatterplot(ax = ax_1, x = y_true, y = y_preds, alpha = .25)\n",
    "    ax_1.set_xlabel(\"True Values ($y$)\", fontsize = subplot_label_size, labelpad = 10)\n",
    "    ax_1.set_ylabel(\"Predictions ($\\hat{y}$)\", fontsize = subplot_label_size, labelpad = 10)\n",
    "\n",
    "    # 2ND PLOT - residuals\n",
    "    ax_2.set_title(\"Residuals\", fontsize = subplot_title_size)\n",
    "    sns.scatterplot(ax = ax_2, x = range(len(resids)),y = resids, alpha = .25)\n",
    "    ax_2.set_ylabel(target_name, fontsize = subplot_label_size)\n",
    "    ax_2.axhline(0, c = \"r\", alpha = .7);\n",
    "\n",
    "    # 3RD PLOT - residuals histogram\n",
    "    ax_3.set_title(\"Histogram of residuals\", fontsize = subplot_title_size)\n",
    "    sns.distplot(resids, ax = ax_3, kde = False);\n",
    "    ax_3.set_xlabel(target_name, fontsize = subplot_label_size)\n",
    "    ax_3.set_ylabel(\"Frequency\", fontsize = subplot_label_size)\n",
    "\n",
    "    plt.tight_layout() # handles most overlaping and spacing issues"
   ]
  },
  {
   "cell_type": "markdown",
   "metadata": {},
   "source": [
    "### Modeling GLM"
   ]
  },
  {
   "cell_type": "code",
   "execution_count": null,
   "metadata": {},
   "outputs": [],
   "source": [
    "glm_gamma = smf.glm(\n",
    "    formula = \"days_until_inspection ~ C(special_district) + C(complaint_category) + C(unit)\",\n",
    "    data = glm_db,\n",
    "    family = sm.families.Gamma(link = sm.families.links.identity)\n",
    ").fit()"
   ]
  },
  {
   "cell_type": "code",
   "execution_count": null,
   "metadata": {},
   "outputs": [],
   "source": [
    "glm_gamma.summary()"
   ]
  },
  {
   "cell_type": "code",
   "execution_count": null,
   "metadata": {},
   "outputs": [],
   "source": [
    "vizResids(\"GLM Results\", \"Days Until Inspection\", glm_db[target], glm_gamma.predict(glm_db))"
   ]
  },
  {
   "cell_type": "markdown",
   "metadata": {},
   "source": [
    "The GLM model does a poor job of capturing the variance in the model. Much of the failings of this model is likely due to the fact that all of the features are categorical, turning this linear model into something akin to an ANOVA.\n",
    "\n",
    "According to the summary, almost all of the categorical dummy features are likely insignificant and may suggest our data severely lacks correlation with our target variable. "
   ]
  },
  {
   "cell_type": "markdown",
   "metadata": {},
   "source": [
    "## SARIMAX\n",
    "We've alread seen some seasonality components in our data, which is a motivating reason for exploring a SARIMAX model."
   ]
  },
  {
   "cell_type": "markdown",
   "metadata": {},
   "source": [
    "### Model Preparation for SARIMAX"
   ]
  },
  {
   "cell_type": "code",
   "execution_count": 136,
   "metadata": {},
   "outputs": [
    {
     "data": {
      "text/html": [
       "<div>\n",
       "<style scoped>\n",
       "    .dataframe tbody tr th:only-of-type {\n",
       "        vertical-align: middle;\n",
       "    }\n",
       "\n",
       "    .dataframe tbody tr th {\n",
       "        vertical-align: top;\n",
       "    }\n",
       "\n",
       "    .dataframe thead th {\n",
       "        text-align: right;\n",
       "    }\n",
       "</style>\n",
       "<table border=\"1\" class=\"dataframe\">\n",
       "  <thead>\n",
       "    <tr style=\"text-align: right;\">\n",
       "      <th></th>\n",
       "      <th>status</th>\n",
       "      <th>date_entered</th>\n",
       "      <th>house_number</th>\n",
       "      <th>zip_code</th>\n",
       "      <th>house_street</th>\n",
       "      <th>special_district</th>\n",
       "      <th>complaint_category</th>\n",
       "      <th>unit</th>\n",
       "      <th>inspection_date</th>\n",
       "      <th>days_until_inspection</th>\n",
       "      <th>med_inc_zip</th>\n",
       "      <th>log_med_inc_zip</th>\n",
       "    </tr>\n",
       "    <tr>\n",
       "      <th>complaint_number</th>\n",
       "      <th></th>\n",
       "      <th></th>\n",
       "      <th></th>\n",
       "      <th></th>\n",
       "      <th></th>\n",
       "      <th></th>\n",
       "      <th></th>\n",
       "      <th></th>\n",
       "      <th></th>\n",
       "      <th></th>\n",
       "      <th></th>\n",
       "      <th></th>\n",
       "    </tr>\n",
       "  </thead>\n",
       "  <tbody>\n",
       "    <tr>\n",
       "      <th>1245555</th>\n",
       "      <td>CLOSED</td>\n",
       "      <td>2009-01-02</td>\n",
       "      <td>930</td>\n",
       "      <td>10025</td>\n",
       "      <td>WEST END AVENUE</td>\n",
       "      <td>NOT SPECIAL</td>\n",
       "      <td>58</td>\n",
       "      <td>BOILR</td>\n",
       "      <td>2009-06-02</td>\n",
       "      <td>151</td>\n",
       "      <td>82352</td>\n",
       "      <td>11.318758</td>\n",
       "    </tr>\n",
       "    <tr>\n",
       "      <th>1245608</th>\n",
       "      <td>CLOSED</td>\n",
       "      <td>2009-01-02</td>\n",
       "      <td>428</td>\n",
       "      <td>10013</td>\n",
       "      <td>BROADWAY</td>\n",
       "      <td>NOT SPECIAL</td>\n",
       "      <td>23</td>\n",
       "      <td>SCFLD</td>\n",
       "      <td>2009-10-09</td>\n",
       "      <td>280</td>\n",
       "      <td>106056</td>\n",
       "      <td>11.571723</td>\n",
       "    </tr>\n",
       "    <tr>\n",
       "      <th>1245621</th>\n",
       "      <td>CLOSED</td>\n",
       "      <td>2009-01-02</td>\n",
       "      <td>146</td>\n",
       "      <td>10001</td>\n",
       "      <td>WEST   28 STREET</td>\n",
       "      <td>NOT SPECIAL</td>\n",
       "      <td>63</td>\n",
       "      <td>ELEVR</td>\n",
       "      <td>2009-01-22</td>\n",
       "      <td>20</td>\n",
       "      <td>85221</td>\n",
       "      <td>11.353003</td>\n",
       "    </tr>\n",
       "    <tr>\n",
       "      <th>1245634</th>\n",
       "      <td>CLOSED</td>\n",
       "      <td>2009-01-03</td>\n",
       "      <td>388</td>\n",
       "      <td>10013</td>\n",
       "      <td>BROADWAY</td>\n",
       "      <td>NOT SPECIAL</td>\n",
       "      <td>56</td>\n",
       "      <td>BOILR</td>\n",
       "      <td>2009-01-07</td>\n",
       "      <td>4</td>\n",
       "      <td>106056</td>\n",
       "      <td>11.571723</td>\n",
       "    </tr>\n",
       "    <tr>\n",
       "      <th>1245648</th>\n",
       "      <td>CLOSED</td>\n",
       "      <td>2009-01-03</td>\n",
       "      <td>375</td>\n",
       "      <td>10016</td>\n",
       "      <td>3 AVENUE</td>\n",
       "      <td>NOT SPECIAL</td>\n",
       "      <td>59</td>\n",
       "      <td>ELCTR</td>\n",
       "      <td>2009-01-08</td>\n",
       "      <td>5</td>\n",
       "      <td>109250</td>\n",
       "      <td>11.601394</td>\n",
       "    </tr>\n",
       "  </tbody>\n",
       "</table>\n",
       "</div>"
      ],
      "text/plain": [
       "                  status date_entered house_number  zip_code  \\\n",
       "complaint_number                                               \n",
       "1245555           CLOSED   2009-01-02          930     10025   \n",
       "1245608           CLOSED   2009-01-02          428     10013   \n",
       "1245621           CLOSED   2009-01-02          146     10001   \n",
       "1245634           CLOSED   2009-01-03          388     10013   \n",
       "1245648           CLOSED   2009-01-03          375     10016   \n",
       "\n",
       "                      house_street special_district complaint_category   unit  \\\n",
       "complaint_number                                                                \n",
       "1245555            WEST END AVENUE      NOT SPECIAL                 58  BOILR   \n",
       "1245608                   BROADWAY      NOT SPECIAL                 23  SCFLD   \n",
       "1245621           WEST   28 STREET      NOT SPECIAL                 63  ELEVR   \n",
       "1245634                   BROADWAY      NOT SPECIAL                 56  BOILR   \n",
       "1245648                   3 AVENUE      NOT SPECIAL                 59  ELCTR   \n",
       "\n",
       "                 inspection_date  days_until_inspection  med_inc_zip  \\\n",
       "complaint_number                                                       \n",
       "1245555               2009-06-02                    151        82352   \n",
       "1245608               2009-10-09                    280       106056   \n",
       "1245621               2009-01-22                     20        85221   \n",
       "1245634               2009-01-07                      4       106056   \n",
       "1245648               2009-01-08                      5       109250   \n",
       "\n",
       "                  log_med_inc_zip  \n",
       "complaint_number                   \n",
       "1245555                 11.318758  \n",
       "1245608                 11.571723  \n",
       "1245621                 11.353003  \n",
       "1245634                 11.571723  \n",
       "1245648                 11.601394  "
      ]
     },
     "execution_count": 136,
     "metadata": {},
     "output_type": "execute_result"
    }
   ],
   "source": [
    "db.head()"
   ]
  },
  {
   "cell_type": "markdown",
   "metadata": {},
   "source": [
    "### Removing outliers\n",
    "- Anything over 4000 days\n",
    "- Anything from unit \"STALL\" or \"PADLK\"\n",
    "- Anything from complaint category \"1G\""
   ]
  },
  {
   "cell_type": "code",
   "execution_count": 137,
   "metadata": {},
   "outputs": [
    {
     "data": {
      "text/plain": [
       "(74317, 12)"
      ]
     },
     "execution_count": 137,
     "metadata": {},
     "output_type": "execute_result"
    }
   ],
   "source": [
    "db.shape"
   ]
  },
  {
   "cell_type": "code",
   "execution_count": 138,
   "metadata": {},
   "outputs": [],
   "source": [
    "outlier_mask   = db_with_time_index['days_until_inspection'] < 4000\n",
    "unit_mask      = db[\"unit\"].isin([\"STALL\", \"PADLK\"]) # ignoring these units (take too long) (~62 obs.)\n",
    "complaint_mask = db[\"complaint_category\"] == \"1G\" # ignoring this complaint category (takes too long) (~104 obs w/overlap)"
   ]
  },
  {
   "cell_type": "code",
   "execution_count": 139,
   "metadata": {},
   "outputs": [],
   "source": [
    "target = \"days_until_inspection\"\n",
    "\n",
    "## create function to create daily resample of given X and y\n",
    "\n",
    "# ARIMA SETUP\n",
    "no_outlier_arima_db = db_with_time_index[outlier_mask.values | unit_mask.values | complaint_mask.values]\n",
    "weekly_arima_db = no_outlier_arima_db.resample(\"W\").mean().dropna().sort_index()\n",
    "\n",
    "# EXOGENOUS VARIABLE\n",
    "sarimax_features = [\"special_district\",\"complaint_category\",\"unit\",\"log_med_inc_zip\"]\n",
    "exog = pd.get_dummies(db[outlier_mask.values | unit_mask.values | complaint_mask.values].set_index(\"date_entered\")[sarimax_features]).resample(\"W\").mean().dropna().sort_index()"
   ]
  },
  {
   "cell_type": "markdown",
   "metadata": {},
   "source": [
    "#### Determining `d` using ADF (Augmented Dickey Fuller) Test"
   ]
  },
  {
   "cell_type": "code",
   "execution_count": 140,
   "metadata": {},
   "outputs": [
    {
     "name": "stdout",
     "output_type": "stream",
     "text": [
      "ADF Statistic: -1.053603\n",
      "p-value: 0.733216\n",
      "Critical Values:\n",
      "\t1%: -3.442\n",
      "\t5%: -2.867\n",
      "\t10%: -2.570\n"
     ]
    }
   ],
   "source": [
    "result = adfuller(weekly_arima_db[target])\n",
    "print('ADF Statistic: %f' % result[0])\n",
    "print('p-value: %f' % result[1])\n",
    "print('Critical Values:')\n",
    "for key, value in result[4].items():\n",
    "    print('\\t%s: %.3f' % (key, value))"
   ]
  },
  {
   "cell_type": "code",
   "execution_count": 141,
   "metadata": {},
   "outputs": [
    {
     "name": "stdout",
     "output_type": "stream",
     "text": [
      "ADF Statistic: -11.130676\n",
      "p-value: 0.000000\n",
      "Critical Values:\n",
      "\t1%: -3.442\n",
      "\t5%: -2.867\n",
      "\t10%: -2.570\n"
     ]
    }
   ],
   "source": [
    "result = adfuller(weekly_arima_db[target].diff(1).dropna())\n",
    "print('ADF Statistic: %f' % result[0])\n",
    "print('p-value: %f' % result[1])\n",
    "print('Critical Values:')\n",
    "for key, value in result[4].items():\n",
    "    print('\\t%s: %.3f' % (key, value))"
   ]
  },
  {
   "cell_type": "markdown",
   "metadata": {},
   "source": [
    "With a confidence of 95%, we reject the hypothesis the data has no stationarity, therefore we must conclude the data already has stationarity. \n",
    "\n",
    "We will not need to difference (`d = 1`)."
   ]
  },
  {
   "cell_type": "markdown",
   "metadata": {},
   "source": [
    "#### Determining `p` using autocorrelation function"
   ]
  },
  {
   "cell_type": "code",
   "execution_count": 147,
   "metadata": {},
   "outputs": [
    {
     "data": {
      "image/png": "[encoded data removed]",
      "text/plain": [
       "<Figure size 432x288 with 1 Axes>"
      ]
     },
     "metadata": {
      "needs_background": "light"
     },
     "output_type": "display_data"
    }
   ],
   "source": [
    "plot_acf(weekly_arima_db[target].diff(1).dropna(), lags=52)\n",
    "plt.show()"
   ]
  },
  {
   "cell_type": "markdown",
   "metadata": {},
   "source": [
    "Quick drop at ACF1. p = 0"
   ]
  },
  {
   "cell_type": "markdown",
   "metadata": {},
   "source": [
    "#### Determining `q` using partial-autocorrelation function"
   ]
  },
  {
   "cell_type": "code",
   "execution_count": 148,
   "metadata": {},
   "outputs": [
    {
     "data": {
      "image/png": "[encoded data removed]",
      "text/plain": [
       "<Figure size 432x288 with 1 Axes>"
      ]
     },
     "metadata": {
      "needs_background": "light"
     },
     "output_type": "display_data"
    }
   ],
   "source": [
    "plot_pacf(weekly_arima_db[target].diff(1).dropna(), lags=52)\n",
    "plt.show()"
   ]
  },
  {
   "cell_type": "markdown",
   "metadata": {},
   "source": [
    "Again, there is clearly seasonality, therefore difficult to assess the proper value for $q$"
   ]
  },
  {
   "cell_type": "markdown",
   "metadata": {},
   "source": [
    "#### Verifying `S`, seasonal component"
   ]
  },
  {
   "cell_type": "code",
   "execution_count": 144,
   "metadata": {},
   "outputs": [
    {
     "data": {
      "image/png": "[encoded data removed]",
      "text/plain": [
       "<Figure size 432x288 with 4 Axes>"
      ]
     },
     "metadata": {
      "needs_background": "light"
     },
     "output_type": "display_data"
    }
   ],
   "source": [
    "seasonal_decompose(weekly_arima_db, period = 52).plot()\n",
    "plt.show()"
   ]
  },
  {
   "cell_type": "markdown",
   "metadata": {},
   "source": [
    "### Using `auto_arima` to determine ARIMA and SARIMAX orders\n"
   ]
  },
  {
   "cell_type": "code",
   "execution_count": 150,
   "metadata": {},
   "outputs": [
    {
     "name": "stdout",
     "output_type": "stream",
     "text": [
      "Fit ARIMA: order=(1, 1, 0) seasonal_order=(0, 1, 0, 52); AIC=4995.817, BIC=5630.094, Fit time=273.054 seconds\n",
      "Fit ARIMA: order=(0, 1, 0) seasonal_order=(0, 1, 0, 52); AIC=5034.234, BIC=5664.282, Fit time=20.121 seconds\n",
      "Fit ARIMA: order=(1, 1, 0) seasonal_order=(1, 1, 0, 52); AIC=4955.036, BIC=5593.541, Fit time=997.819 seconds\n",
      "Fit ARIMA: order=(0, 1, 0) seasonal_order=(0, 1, 1, 52); AIC=4968.498, BIC=5602.775, Fit time=1413.755 seconds\n",
      "Fit ARIMA: order=(1, 1, 0) seasonal_order=(1, 1, 1, 52); AIC=4910.888, BIC=5553.621, Fit time=1041.963 seconds\n",
      "Fit ARIMA: order=(0, 1, 0) seasonal_order=(1, 1, 1, 52); AIC=4955.420, BIC=5593.925, Fit time=1031.665 seconds\n",
      "Fit ARIMA: order=(1, 1, 0) seasonal_order=(0, 1, 1, 52); AIC=4923.780, BIC=5562.285, Fit time=892.473 seconds\n",
      "Fit ARIMA: order=(1, 1, 0) seasonal_order=(1, 1, 2, 52); AIC=4918.425, BIC=5565.387, Fit time=3120.099 seconds\n",
      "Total fit time: 8790.959 seconds\n"
     ]
    }
   ],
   "source": [
    "fitted_sarimax = auto_arima(\n",
    "    y         = weekly_arima_db,\n",
    "    exogenous = exog,\n",
    "    d = 1,\n",
    "    D = 1,\n",
    "    start_p = 1, max_p = 1,\n",
    "    start_q = 0, max_q = 0,\n",
    "    start_P = 0, max_P = 1,\n",
    "    start_Q = 0, max_Q = 7,\n",
    "    m = 52, # daily data\n",
    "    trace = True,\n",
    "    error_action = 'ignore',  # don't want to know if an order does not work\n",
    "    suppress_warnings = True,  # don't want convergence warnings\n",
    "    random_state = RANDOM_STATE\n",
    ")"
   ]
  },
  {
   "cell_type": "code",
   "execution_count": 151,
   "metadata": {},
   "outputs": [
    {
     "data": {
      "text/plain": [
       "(1, 1, 0)"
      ]
     },
     "execution_count": 151,
     "metadata": {},
     "output_type": "execute_result"
    }
   ],
   "source": [
    "fitted_sarimax.order"
   ]
  },
  {
   "cell_type": "code",
   "execution_count": 152,
   "metadata": {},
   "outputs": [
    {
     "data": {
      "text/plain": [
       "(1, 1, 1, 52)"
      ]
     },
     "execution_count": 152,
     "metadata": {},
     "output_type": "execute_result"
    }
   ],
   "source": [
    "fitted_sarimax.seasonal_order"
   ]
  },
  {
   "cell_type": "markdown",
   "metadata": {},
   "source": [
    "### Modeling SARIMAX"
   ]
  },
  {
   "cell_type": "code",
   "execution_count": 153,
   "metadata": {},
   "outputs": [],
   "source": [
    "sarima = SARIMAX(endog = weekly_arima_db.values,\n",
    "                 order = fitted_sarimax.order,\n",
    "                 seasonal_order = fitted_sarimax.seasonal_order,\n",
    "                 exog = exog.values\n",
    "                )\n",
    "\n",
    "fitted_sarima = sarima.fit()"
   ]
  },
  {
   "cell_type": "code",
   "execution_count": 154,
   "metadata": {},
   "outputs": [],
   "source": [
    "import pickle"
   ]
  },
  {
   "cell_type": "code",
   "execution_count": 178,
   "metadata": {},
   "outputs": [],
   "source": [
    "# # making new file\n",
    "# outfile = open(\"sarimax_pickle\", \"wb\")\n",
    "\n",
    "# # dumping model to pickle \n",
    "# pickle.dump(fitted_sarima, outfile)\n",
    "\n",
    "# # closing new file\n",
    "# outfile.close()"
   ]
  },
  {
   "cell_type": "code",
   "execution_count": null,
   "metadata": {},
   "outputs": [],
   "source": [
    "# opening pickle file\n",
    "infile = open(\"sarimax_pickle\", \"rb\")\n",
    "\n",
    "# unpickling back into model object\n",
    "fitted_sarima = pickle.load(infile)\n",
    "\n",
    "infile.close()"
   ]
  },
  {
   "cell_type": "code",
   "execution_count": 155,
   "metadata": {},
   "outputs": [
    {
     "data": {
      "text/html": [
       "<table class=\"simpletable\">\n",
       "<caption>SARIMAX Results</caption>\n",
       "<tr>\n",
       "  <th>Dep. Variable:</th>                   <td>y</td>                <th>  No. Observations:  </th>    <td>560</td>   \n",
       "</tr>\n",
       "<tr>\n",
       "  <th>Model:</th>           <td>SARIMAX(1, 1, 0)x(1, 1, [1], 52)</td> <th>  Log Likelihood     </th> <td>-2303.444</td>\n",
       "</tr>\n",
       "<tr>\n",
       "  <th>Date:</th>                    <td>Mon, 09 Mar 2020</td>         <th>  AIC                </th> <td>4910.888</td> \n",
       "</tr>\n",
       "<tr>\n",
       "  <th>Time:</th>                        <td>02:56:03</td>             <th>  BIC                </th> <td>5553.621</td> \n",
       "</tr>\n",
       "<tr>\n",
       "  <th>Sample:</th>                          <td>0</td>                <th>  HQIC               </th> <td>5162.945</td> \n",
       "</tr>\n",
       "<tr>\n",
       "  <th></th>                              <td> - 560</td>              <th>                     </th>     <td> </td>    \n",
       "</tr>\n",
       "<tr>\n",
       "  <th>Covariance Type:</th>                <td>opg</td>               <th>                     </th>     <td> </td>    \n",
       "</tr>\n",
       "</table>\n",
       "<table class=\"simpletable\">\n",
       "<tr>\n",
       "      <td></td>         <th>coef</th>     <th>std err</th>      <th>z</th>      <th>P>|z|</th>  <th>[0.025</th>    <th>0.975]</th>  \n",
       "</tr>\n",
       "<tr>\n",
       "  <th>intercept</th> <td>   -0.0663</td> <td>    0.374</td> <td>   -0.177</td> <td> 0.859</td> <td>   -0.800</td> <td>    0.667</td>\n",
       "</tr>\n",
       "<tr>\n",
       "  <th>x1</th>        <td>    0.9296</td> <td>   35.178</td> <td>    0.026</td> <td> 0.979</td> <td>  -68.018</td> <td>   69.877</td>\n",
       "</tr>\n",
       "<tr>\n",
       "  <th>x2</th>        <td>  203.3199</td> <td> 9.48e+04</td> <td>    0.002</td> <td> 0.998</td> <td>-1.86e+05</td> <td> 1.86e+05</td>\n",
       "</tr>\n",
       "<tr>\n",
       "  <th>x3</th>        <td> -203.2987</td> <td> 9.48e+04</td> <td>   -0.002</td> <td> 0.998</td> <td>-1.86e+05</td> <td> 1.86e+05</td>\n",
       "</tr>\n",
       "<tr>\n",
       "  <th>x4</th>        <td>-1485.3496</td> <td> 1842.738</td> <td>   -0.806</td> <td> 0.420</td> <td>-5097.050</td> <td> 2126.351</td>\n",
       "</tr>\n",
       "<tr>\n",
       "  <th>x5</th>        <td> -215.6698</td> <td> 1691.289</td> <td>   -0.128</td> <td> 0.899</td> <td>-3530.535</td> <td> 3099.195</td>\n",
       "</tr>\n",
       "<tr>\n",
       "  <th>x6</th>        <td> -220.2181</td> <td> 1695.466</td> <td>   -0.130</td> <td> 0.897</td> <td>-3543.271</td> <td> 3102.835</td>\n",
       "</tr>\n",
       "<tr>\n",
       "  <th>x7</th>        <td>  -65.4356</td> <td> 1688.446</td> <td>   -0.039</td> <td> 0.969</td> <td>-3374.728</td> <td> 3243.857</td>\n",
       "</tr>\n",
       "<tr>\n",
       "  <th>x8</th>        <td> -129.2070</td> <td> 1700.799</td> <td>   -0.076</td> <td> 0.939</td> <td>-3462.711</td> <td> 3204.297</td>\n",
       "</tr>\n",
       "<tr>\n",
       "  <th>x9</th>        <td> -261.9792</td> <td> 1704.882</td> <td>   -0.154</td> <td> 0.878</td> <td>-3603.486</td> <td> 3079.527</td>\n",
       "</tr>\n",
       "<tr>\n",
       "  <th>x10</th>       <td> -444.0614</td> <td> 1706.145</td> <td>   -0.260</td> <td> 0.795</td> <td>-3788.045</td> <td> 2899.922</td>\n",
       "</tr>\n",
       "<tr>\n",
       "  <th>x11</th>       <td> -426.7756</td> <td> 1720.885</td> <td>   -0.248</td> <td> 0.804</td> <td>-3799.648</td> <td> 2946.097</td>\n",
       "</tr>\n",
       "<tr>\n",
       "  <th>x12</th>       <td> 3743.4000</td> <td> 3030.379</td> <td>    1.235</td> <td> 0.217</td> <td>-2196.035</td> <td> 9682.835</td>\n",
       "</tr>\n",
       "<tr>\n",
       "  <th>x13</th>       <td>  -42.1432</td> <td> 1773.720</td> <td>   -0.024</td> <td> 0.981</td> <td>-3518.571</td> <td> 3434.284</td>\n",
       "</tr>\n",
       "<tr>\n",
       "  <th>x14</th>       <td> -334.5379</td> <td> 1708.296</td> <td>   -0.196</td> <td> 0.845</td> <td>-3682.736</td> <td> 3013.660</td>\n",
       "</tr>\n",
       "<tr>\n",
       "  <th>x15</th>       <td>  629.3995</td> <td> 1923.421</td> <td>    0.327</td> <td> 0.743</td> <td>-3140.436</td> <td> 4399.235</td>\n",
       "</tr>\n",
       "<tr>\n",
       "  <th>x16</th>       <td> 2232.2595</td> <td> 1820.789</td> <td>    1.226</td> <td> 0.220</td> <td>-1336.422</td> <td> 5800.941</td>\n",
       "</tr>\n",
       "<tr>\n",
       "  <th>x17</th>       <td> -145.2804</td> <td> 1723.461</td> <td>   -0.084</td> <td> 0.933</td> <td>-3523.203</td> <td> 3232.642</td>\n",
       "</tr>\n",
       "<tr>\n",
       "  <th>x18</th>       <td>  404.8959</td> <td> 1731.554</td> <td>    0.234</td> <td> 0.815</td> <td>-2988.887</td> <td> 3798.679</td>\n",
       "</tr>\n",
       "<tr>\n",
       "  <th>x19</th>       <td> 1003.4150</td> <td> 1795.233</td> <td>    0.559</td> <td> 0.576</td> <td>-2515.177</td> <td> 4522.007</td>\n",
       "</tr>\n",
       "<tr>\n",
       "  <th>x20</th>       <td>  656.2087</td> <td> 1686.944</td> <td>    0.389</td> <td> 0.697</td> <td>-2650.142</td> <td> 3962.559</td>\n",
       "</tr>\n",
       "<tr>\n",
       "  <th>x21</th>       <td> -317.4545</td> <td> 1715.402</td> <td>   -0.185</td> <td> 0.853</td> <td>-3679.580</td> <td> 3044.671</td>\n",
       "</tr>\n",
       "<tr>\n",
       "  <th>x22</th>       <td>  175.2169</td> <td> 1704.345</td> <td>    0.103</td> <td> 0.918</td> <td>-3165.237</td> <td> 3515.671</td>\n",
       "</tr>\n",
       "<tr>\n",
       "  <th>x23</th>       <td>  362.8831</td> <td> 3190.500</td> <td>    0.114</td> <td> 0.909</td> <td>-5890.382</td> <td> 6616.148</td>\n",
       "</tr>\n",
       "<tr>\n",
       "  <th>x24</th>       <td>  204.9628</td> <td> 1860.383</td> <td>    0.110</td> <td> 0.912</td> <td>-3441.320</td> <td> 3851.246</td>\n",
       "</tr>\n",
       "<tr>\n",
       "  <th>x25</th>       <td>   46.8804</td> <td> 1690.265</td> <td>    0.028</td> <td> 0.978</td> <td>-3265.979</td> <td> 3359.740</td>\n",
       "</tr>\n",
       "<tr>\n",
       "  <th>x26</th>       <td> 2664.4148</td> <td> 6658.229</td> <td>    0.400</td> <td> 0.689</td> <td>-1.04e+04</td> <td> 1.57e+04</td>\n",
       "</tr>\n",
       "<tr>\n",
       "  <th>x27</th>       <td> 2747.6073</td> <td> 5024.025</td> <td>    0.547</td> <td> 0.584</td> <td>-7099.301</td> <td> 1.26e+04</td>\n",
       "</tr>\n",
       "<tr>\n",
       "  <th>x28</th>       <td> -448.0394</td> <td> 9060.916</td> <td>   -0.049</td> <td> 0.961</td> <td>-1.82e+04</td> <td> 1.73e+04</td>\n",
       "</tr>\n",
       "<tr>\n",
       "  <th>x29</th>       <td>   44.5565</td> <td> 1709.023</td> <td>    0.026</td> <td> 0.979</td> <td>-3305.067</td> <td> 3394.180</td>\n",
       "</tr>\n",
       "<tr>\n",
       "  <th>x30</th>       <td>   66.4565</td> <td> 1865.776</td> <td>    0.036</td> <td> 0.972</td> <td>-3590.397</td> <td> 3723.310</td>\n",
       "</tr>\n",
       "<tr>\n",
       "  <th>x31</th>       <td> -290.1661</td> <td> 1772.941</td> <td>   -0.164</td> <td> 0.870</td> <td>-3765.067</td> <td> 3184.735</td>\n",
       "</tr>\n",
       "<tr>\n",
       "  <th>x32</th>       <td> -476.3165</td> <td> 1726.595</td> <td>   -0.276</td> <td> 0.783</td> <td>-3860.381</td> <td> 2907.748</td>\n",
       "</tr>\n",
       "<tr>\n",
       "  <th>x33</th>       <td> -470.0404</td> <td> 1705.839</td> <td>   -0.276</td> <td> 0.783</td> <td>-3813.423</td> <td> 2873.342</td>\n",
       "</tr>\n",
       "<tr>\n",
       "  <th>x34</th>       <td> -232.5398</td> <td> 1681.972</td> <td>   -0.138</td> <td> 0.890</td> <td>-3529.144</td> <td> 3064.064</td>\n",
       "</tr>\n",
       "<tr>\n",
       "  <th>x35</th>       <td> -148.5689</td> <td> 1693.275</td> <td>   -0.088</td> <td> 0.930</td> <td>-3467.327</td> <td> 3170.189</td>\n",
       "</tr>\n",
       "<tr>\n",
       "  <th>x36</th>       <td> -303.9203</td> <td> 1800.942</td> <td>   -0.169</td> <td> 0.866</td> <td>-3833.702</td> <td> 3225.861</td>\n",
       "</tr>\n",
       "<tr>\n",
       "  <th>x37</th>       <td> -133.1553</td> <td> 1689.792</td> <td>   -0.079</td> <td> 0.937</td> <td>-3445.087</td> <td> 3178.777</td>\n",
       "</tr>\n",
       "<tr>\n",
       "  <th>x38</th>       <td>-1529.4194</td> <td> 1718.165</td> <td>   -0.890</td> <td> 0.373</td> <td>-4896.961</td> <td> 1838.122</td>\n",
       "</tr>\n",
       "<tr>\n",
       "  <th>x39</th>       <td>   45.4756</td> <td> 2027.631</td> <td>    0.022</td> <td> 0.982</td> <td>-3928.608</td> <td> 4019.559</td>\n",
       "</tr>\n",
       "<tr>\n",
       "  <th>x40</th>       <td>-1580.5799</td> <td> 2445.096</td> <td>   -0.646</td> <td> 0.518</td> <td>-6372.880</td> <td> 3211.720</td>\n",
       "</tr>\n",
       "<tr>\n",
       "  <th>x41</th>       <td>  451.9435</td> <td> 1792.972</td> <td>    0.252</td> <td> 0.801</td> <td>-3062.218</td> <td> 3966.105</td>\n",
       "</tr>\n",
       "<tr>\n",
       "  <th>x42</th>       <td>  267.9445</td> <td> 1685.059</td> <td>    0.159</td> <td> 0.874</td> <td>-3034.710</td> <td> 3570.599</td>\n",
       "</tr>\n",
       "<tr>\n",
       "  <th>x43</th>       <td>-8882.5890</td> <td> 2901.154</td> <td>   -3.062</td> <td> 0.002</td> <td>-1.46e+04</td> <td>-3196.432</td>\n",
       "</tr>\n",
       "<tr>\n",
       "  <th>x44</th>       <td>  -57.4276</td> <td> 1787.067</td> <td>   -0.032</td> <td> 0.974</td> <td>-3560.014</td> <td> 3445.159</td>\n",
       "</tr>\n",
       "<tr>\n",
       "  <th>x45</th>       <td> -236.8992</td> <td> 1707.951</td> <td>   -0.139</td> <td> 0.890</td> <td>-3584.422</td> <td> 3110.623</td>\n",
       "</tr>\n",
       "<tr>\n",
       "  <th>x46</th>       <td>  124.4998</td> <td> 1702.078</td> <td>    0.073</td> <td> 0.942</td> <td>-3211.512</td> <td> 3460.512</td>\n",
       "</tr>\n",
       "<tr>\n",
       "  <th>x47</th>       <td>   59.5948</td> <td> 1697.188</td> <td>    0.035</td> <td> 0.972</td> <td>-3266.833</td> <td> 3386.023</td>\n",
       "</tr>\n",
       "<tr>\n",
       "  <th>x48</th>       <td> -194.5074</td> <td> 1705.533</td> <td>   -0.114</td> <td> 0.909</td> <td>-3537.290</td> <td> 3148.276</td>\n",
       "</tr>\n",
       "<tr>\n",
       "  <th>x49</th>       <td> -575.6921</td> <td> 1734.823</td> <td>   -0.332</td> <td> 0.740</td> <td>-3975.882</td> <td> 2824.498</td>\n",
       "</tr>\n",
       "<tr>\n",
       "  <th>x50</th>       <td>-2759.8583</td> <td> 2813.218</td> <td>   -0.981</td> <td> 0.327</td> <td>-8273.663</td> <td> 2753.947</td>\n",
       "</tr>\n",
       "<tr>\n",
       "  <th>x51</th>       <td>-1470.6166</td> <td> 2733.458</td> <td>   -0.538</td> <td> 0.591</td> <td>-6828.096</td> <td> 3886.863</td>\n",
       "</tr>\n",
       "<tr>\n",
       "  <th>x52</th>       <td>  -72.9678</td> <td> 1699.883</td> <td>   -0.043</td> <td> 0.966</td> <td>-3404.678</td> <td> 3258.742</td>\n",
       "</tr>\n",
       "<tr>\n",
       "  <th>x53</th>       <td>  175.1998</td> <td> 1714.004</td> <td>    0.102</td> <td> 0.919</td> <td>-3184.187</td> <td> 3534.587</td>\n",
       "</tr>\n",
       "<tr>\n",
       "  <th>x54</th>       <td>  118.4400</td> <td> 1706.266</td> <td>    0.069</td> <td> 0.945</td> <td>-3225.780</td> <td> 3462.660</td>\n",
       "</tr>\n",
       "<tr>\n",
       "  <th>x55</th>       <td>  334.0423</td> <td> 3890.393</td> <td>    0.086</td> <td> 0.932</td> <td>-7290.987</td> <td> 7959.072</td>\n",
       "</tr>\n",
       "<tr>\n",
       "  <th>x56</th>       <td> -204.4297</td> <td> 1751.047</td> <td>   -0.117</td> <td> 0.907</td> <td>-3636.419</td> <td> 3227.560</td>\n",
       "</tr>\n",
       "<tr>\n",
       "  <th>x57</th>       <td>  755.2543</td> <td> 2361.712</td> <td>    0.320</td> <td> 0.749</td> <td>-3873.616</td> <td> 5384.124</td>\n",
       "</tr>\n",
       "<tr>\n",
       "  <th>x58</th>       <td> -418.3711</td> <td> 1708.512</td> <td>   -0.245</td> <td> 0.807</td> <td>-3766.993</td> <td> 2930.251</td>\n",
       "</tr>\n",
       "<tr>\n",
       "  <th>x59</th>       <td> -695.7708</td> <td> 1756.520</td> <td>   -0.396</td> <td> 0.692</td> <td>-4138.487</td> <td> 2746.945</td>\n",
       "</tr>\n",
       "<tr>\n",
       "  <th>x60</th>       <td>-1088.4816</td> <td> 2194.739</td> <td>   -0.496</td> <td> 0.620</td> <td>-5390.090</td> <td> 3213.127</td>\n",
       "</tr>\n",
       "<tr>\n",
       "  <th>x61</th>       <td> -500.8873</td> <td> 1767.132</td> <td>   -0.283</td> <td> 0.777</td> <td>-3964.402</td> <td> 2962.628</td>\n",
       "</tr>\n",
       "<tr>\n",
       "  <th>x62</th>       <td> -275.9374</td> <td> 1703.983</td> <td>   -0.162</td> <td> 0.871</td> <td>-3615.683</td> <td> 3063.808</td>\n",
       "</tr>\n",
       "<tr>\n",
       "  <th>x63</th>       <td> -164.0333</td> <td> 1709.453</td> <td>   -0.096</td> <td> 0.924</td> <td>-3514.499</td> <td> 3186.432</td>\n",
       "</tr>\n",
       "<tr>\n",
       "  <th>x64</th>       <td>  302.3106</td> <td> 3889.728</td> <td>    0.078</td> <td> 0.938</td> <td>-7321.417</td> <td> 7926.038</td>\n",
       "</tr>\n",
       "<tr>\n",
       "  <th>x65</th>       <td>-1799.1207</td> <td> 1750.990</td> <td>   -1.027</td> <td> 0.304</td> <td>-5230.998</td> <td> 1632.757</td>\n",
       "</tr>\n",
       "<tr>\n",
       "  <th>x66</th>       <td>  215.7093</td> <td> 1710.421</td> <td>    0.126</td> <td> 0.900</td> <td>-3136.654</td> <td> 3568.073</td>\n",
       "</tr>\n",
       "<tr>\n",
       "  <th>x67</th>       <td>  -74.5347</td> <td> 1704.073</td> <td>   -0.044</td> <td> 0.965</td> <td>-3414.456</td> <td> 3265.387</td>\n",
       "</tr>\n",
       "<tr>\n",
       "  <th>x68</th>       <td>  940.3497</td> <td> 1723.965</td> <td>    0.545</td> <td> 0.585</td> <td>-2438.560</td> <td> 4319.260</td>\n",
       "</tr>\n",
       "<tr>\n",
       "  <th>x69</th>       <td>   60.1972</td> <td> 1676.943</td> <td>    0.036</td> <td> 0.971</td> <td>-3226.550</td> <td> 3346.945</td>\n",
       "</tr>\n",
       "<tr>\n",
       "  <th>x70</th>       <td> -895.3877</td> <td> 1734.043</td> <td>   -0.516</td> <td> 0.606</td> <td>-4294.050</td> <td> 2503.275</td>\n",
       "</tr>\n",
       "<tr>\n",
       "  <th>x71</th>       <td> -238.6408</td> <td> 1744.876</td> <td>   -0.137</td> <td> 0.891</td> <td>-3658.536</td> <td> 3181.254</td>\n",
       "</tr>\n",
       "<tr>\n",
       "  <th>x72</th>       <td>  757.0365</td> <td> 1711.570</td> <td>    0.442</td> <td> 0.658</td> <td>-2597.579</td> <td> 4111.652</td>\n",
       "</tr>\n",
       "<tr>\n",
       "  <th>x73</th>       <td>  163.6221</td> <td> 1724.754</td> <td>    0.095</td> <td> 0.924</td> <td>-3216.833</td> <td> 3544.078</td>\n",
       "</tr>\n",
       "<tr>\n",
       "  <th>x74</th>       <td> 4364.4127</td> <td> 2495.635</td> <td>    1.749</td> <td> 0.080</td> <td> -526.941</td> <td> 9255.766</td>\n",
       "</tr>\n",
       "<tr>\n",
       "  <th>x75</th>       <td>-1229.1055</td> <td> 1937.186</td> <td>   -0.634</td> <td> 0.526</td> <td>-5025.921</td> <td> 2567.710</td>\n",
       "</tr>\n",
       "<tr>\n",
       "  <th>x76</th>       <td> -165.2714</td> <td> 8818.481</td> <td>   -0.019</td> <td> 0.985</td> <td>-1.74e+04</td> <td> 1.71e+04</td>\n",
       "</tr>\n",
       "<tr>\n",
       "  <th>x77</th>       <td>  162.9509</td> <td> 1846.572</td> <td>    0.088</td> <td> 0.930</td> <td>-3456.264</td> <td> 3782.166</td>\n",
       "</tr>\n",
       "<tr>\n",
       "  <th>x78</th>       <td>-1132.5535</td> <td> 1830.155</td> <td>   -0.619</td> <td> 0.536</td> <td>-4719.591</td> <td> 2454.484</td>\n",
       "</tr>\n",
       "<tr>\n",
       "  <th>x79</th>       <td> -224.8572</td> <td> 1802.304</td> <td>   -0.125</td> <td> 0.901</td> <td>-3757.307</td> <td> 3307.593</td>\n",
       "</tr>\n",
       "<tr>\n",
       "  <th>x80</th>       <td> 1377.6789</td> <td> 1840.206</td> <td>    0.749</td> <td> 0.454</td> <td>-2229.059</td> <td> 4984.417</td>\n",
       "</tr>\n",
       "<tr>\n",
       "  <th>x81</th>       <td>  969.7315</td> <td> 1785.350</td> <td>    0.543</td> <td> 0.587</td> <td>-2529.491</td> <td> 4468.954</td>\n",
       "</tr>\n",
       "<tr>\n",
       "  <th>x82</th>       <td>  411.0272</td> <td> 1680.611</td> <td>    0.245</td> <td> 0.807</td> <td>-2882.909</td> <td> 3704.963</td>\n",
       "</tr>\n",
       "<tr>\n",
       "  <th>x83</th>       <td> -139.4089</td> <td> 1669.497</td> <td>   -0.084</td> <td> 0.933</td> <td>-3411.563</td> <td> 3132.746</td>\n",
       "</tr>\n",
       "<tr>\n",
       "  <th>x84</th>       <td> 1058.5377</td> <td> 1744.688</td> <td>    0.607</td> <td> 0.544</td> <td>-2360.988</td> <td> 4478.063</td>\n",
       "</tr>\n",
       "<tr>\n",
       "  <th>x85</th>       <td> -330.3775</td> <td> 1767.178</td> <td>   -0.187</td> <td> 0.852</td> <td>-3793.983</td> <td> 3133.228</td>\n",
       "</tr>\n",
       "<tr>\n",
       "  <th>x86</th>       <td> 5979.5621</td> <td> 5137.749</td> <td>    1.164</td> <td> 0.244</td> <td>-4090.241</td> <td>  1.6e+04</td>\n",
       "</tr>\n",
       "<tr>\n",
       "  <th>x87</th>       <td> 2150.5943</td> <td> 5689.305</td> <td>    0.378</td> <td> 0.705</td> <td>-9000.238</td> <td> 1.33e+04</td>\n",
       "</tr>\n",
       "<tr>\n",
       "  <th>x88</th>       <td>-2195.7164</td> <td> 8465.416</td> <td>   -0.259</td> <td> 0.795</td> <td>-1.88e+04</td> <td> 1.44e+04</td>\n",
       "</tr>\n",
       "<tr>\n",
       "  <th>x89</th>       <td>  929.2062</td> <td> 1795.440</td> <td>    0.518</td> <td> 0.605</td> <td>-2589.792</td> <td> 4448.205</td>\n",
       "</tr>\n",
       "<tr>\n",
       "  <th>x90</th>       <td>  955.2932</td> <td> 1787.161</td> <td>    0.535</td> <td> 0.593</td> <td>-2547.478</td> <td> 4458.065</td>\n",
       "</tr>\n",
       "<tr>\n",
       "  <th>x91</th>       <td> -186.3982</td> <td> 1689.439</td> <td>   -0.110</td> <td> 0.912</td> <td>-3497.637</td> <td> 3124.841</td>\n",
       "</tr>\n",
       "<tr>\n",
       "  <th>x92</th>       <td>  -22.8455</td> <td> 1686.960</td> <td>   -0.014</td> <td> 0.989</td> <td>-3329.226</td> <td> 3283.535</td>\n",
       "</tr>\n",
       "<tr>\n",
       "  <th>x93</th>       <td>   80.0731</td> <td> 1691.663</td> <td>    0.047</td> <td> 0.962</td> <td>-3235.525</td> <td> 3395.671</td>\n",
       "</tr>\n",
       "<tr>\n",
       "  <th>x94</th>       <td>  -18.7121</td> <td> 1761.339</td> <td>   -0.011</td> <td> 0.992</td> <td>-3470.872</td> <td> 3433.448</td>\n",
       "</tr>\n",
       "<tr>\n",
       "  <th>x95</th>       <td> -410.9928</td> <td> 1713.973</td> <td>   -0.240</td> <td> 0.810</td> <td>-3770.318</td> <td> 2948.332</td>\n",
       "</tr>\n",
       "<tr>\n",
       "  <th>x96</th>       <td> -146.4601</td> <td> 1671.741</td> <td>   -0.088</td> <td> 0.930</td> <td>-3423.012</td> <td> 3130.092</td>\n",
       "</tr>\n",
       "<tr>\n",
       "  <th>x97</th>       <td>  -86.3164</td> <td> 1792.642</td> <td>   -0.048</td> <td> 0.962</td> <td>-3599.831</td> <td> 3427.198</td>\n",
       "</tr>\n",
       "<tr>\n",
       "  <th>x98</th>       <td> -668.4334</td> <td> 1731.513</td> <td>   -0.386</td> <td> 0.699</td> <td>-4062.136</td> <td> 2725.269</td>\n",
       "</tr>\n",
       "<tr>\n",
       "  <th>x99</th>       <td>  523.8237</td> <td> 2521.254</td> <td>    0.208</td> <td> 0.835</td> <td>-4417.744</td> <td> 5465.392</td>\n",
       "</tr>\n",
       "<tr>\n",
       "  <th>x100</th>      <td>   95.3503</td> <td> 2706.644</td> <td>    0.035</td> <td> 0.972</td> <td>-5209.575</td> <td> 5400.276</td>\n",
       "</tr>\n",
       "<tr>\n",
       "  <th>x101</th>      <td>  811.1083</td> <td> 1768.417</td> <td>    0.459</td> <td> 0.646</td> <td>-2654.925</td> <td> 4277.141</td>\n",
       "</tr>\n",
       "<tr>\n",
       "  <th>x102</th>      <td>-1367.5988</td> <td> 2274.153</td> <td>   -0.601</td> <td> 0.548</td> <td>-5824.856</td> <td> 3089.659</td>\n",
       "</tr>\n",
       "<tr>\n",
       "  <th>x103</th>      <td> -146.6805</td> <td> 1682.035</td> <td>   -0.087</td> <td> 0.931</td> <td>-3443.409</td> <td> 3150.048</td>\n",
       "</tr>\n",
       "<tr>\n",
       "  <th>x104</th>      <td> -399.1248</td> <td> 1675.184</td> <td>   -0.238</td> <td> 0.812</td> <td>-3682.426</td> <td> 2884.176</td>\n",
       "</tr>\n",
       "<tr>\n",
       "  <th>x105</th>      <td>  221.3470</td> <td> 1719.152</td> <td>    0.129</td> <td> 0.898</td> <td>-3148.130</td> <td> 3590.824</td>\n",
       "</tr>\n",
       "<tr>\n",
       "  <th>x106</th>      <td> -429.2613</td> <td> 1712.039</td> <td>   -0.251</td> <td> 0.802</td> <td>-3784.795</td> <td> 2926.273</td>\n",
       "</tr>\n",
       "<tr>\n",
       "  <th>x107</th>      <td>  396.9857</td> <td> 2576.163</td> <td>    0.154</td> <td> 0.878</td> <td>-4652.200</td> <td> 5446.171</td>\n",
       "</tr>\n",
       "<tr>\n",
       "  <th>x108</th>      <td>  -62.9687</td> <td> 1689.945</td> <td>   -0.037</td> <td> 0.970</td> <td>-3375.200</td> <td> 3249.263</td>\n",
       "</tr>\n",
       "<tr>\n",
       "  <th>x109</th>      <td> -641.3982</td> <td> 2439.453</td> <td>   -0.263</td> <td> 0.793</td> <td>-5422.638</td> <td> 4139.842</td>\n",
       "</tr>\n",
       "<tr>\n",
       "  <th>x110</th>      <td>  557.7351</td> <td> 2284.598</td> <td>    0.244</td> <td> 0.807</td> <td>-3919.995</td> <td> 5035.465</td>\n",
       "</tr>\n",
       "<tr>\n",
       "  <th>x111</th>      <td> -394.5010</td> <td> 1744.237</td> <td>   -0.226</td> <td> 0.821</td> <td>-3813.143</td> <td> 3024.141</td>\n",
       "</tr>\n",
       "<tr>\n",
       "  <th>x112</th>      <td>  -86.5834</td> <td> 1705.857</td> <td>   -0.051</td> <td> 0.960</td> <td>-3430.002</td> <td> 3256.835</td>\n",
       "</tr>\n",
       "<tr>\n",
       "  <th>x113</th>      <td> -446.4755</td> <td> 1798.133</td> <td>   -0.248</td> <td> 0.804</td> <td>-3970.752</td> <td> 3077.801</td>\n",
       "</tr>\n",
       "<tr>\n",
       "  <th>x114</th>      <td>  369.8928</td> <td> 1875.265</td> <td>    0.197</td> <td> 0.844</td> <td>-3305.559</td> <td> 4045.345</td>\n",
       "</tr>\n",
       "<tr>\n",
       "  <th>x115</th>      <td>   69.5862</td> <td> 1684.769</td> <td>    0.041</td> <td> 0.967</td> <td>-3232.500</td> <td> 3371.673</td>\n",
       "</tr>\n",
       "<tr>\n",
       "  <th>x116</th>      <td>  942.4918</td> <td> 6096.066</td> <td>    0.155</td> <td> 0.877</td> <td> -1.1e+04</td> <td> 1.29e+04</td>\n",
       "</tr>\n",
       "<tr>\n",
       "  <th>x117</th>      <td>  628.6427</td> <td> 6102.573</td> <td>    0.103</td> <td> 0.918</td> <td>-1.13e+04</td> <td> 1.26e+04</td>\n",
       "</tr>\n",
       "<tr>\n",
       "  <th>x118</th>      <td>  890.7547</td> <td> 6080.365</td> <td>    0.146</td> <td> 0.884</td> <td> -1.1e+04</td> <td> 1.28e+04</td>\n",
       "</tr>\n",
       "<tr>\n",
       "  <th>x119</th>      <td>  692.6086</td> <td> 6093.282</td> <td>    0.114</td> <td> 0.910</td> <td>-1.13e+04</td> <td> 1.26e+04</td>\n",
       "</tr>\n",
       "<tr>\n",
       "  <th>x120</th>      <td> -603.8951</td> <td> 6169.253</td> <td>   -0.098</td> <td> 0.922</td> <td>-1.27e+04</td> <td> 1.15e+04</td>\n",
       "</tr>\n",
       "<tr>\n",
       "  <th>x121</th>      <td>-5243.9824</td> <td> 6934.776</td> <td>   -0.756</td> <td> 0.450</td> <td>-1.88e+04</td> <td> 8347.928</td>\n",
       "</tr>\n",
       "<tr>\n",
       "  <th>x122</th>      <td>-3733.2008</td> <td> 1.36e+04</td> <td>   -0.274</td> <td> 0.784</td> <td>-3.04e+04</td> <td> 2.29e+04</td>\n",
       "</tr>\n",
       "<tr>\n",
       "  <th>x123</th>      <td> 1072.4797</td> <td> 6129.371</td> <td>    0.175</td> <td> 0.861</td> <td>-1.09e+04</td> <td> 1.31e+04</td>\n",
       "</tr>\n",
       "<tr>\n",
       "  <th>x124</th>      <td>   82.3741</td> <td> 6356.890</td> <td>    0.013</td> <td> 0.990</td> <td>-1.24e+04</td> <td> 1.25e+04</td>\n",
       "</tr>\n",
       "<tr>\n",
       "  <th>x125</th>      <td> -273.3866</td> <td> 6128.808</td> <td>   -0.045</td> <td> 0.964</td> <td>-1.23e+04</td> <td> 1.17e+04</td>\n",
       "</tr>\n",
       "<tr>\n",
       "  <th>x126</th>      <td> -427.8827</td> <td> 6099.328</td> <td>   -0.070</td> <td> 0.944</td> <td>-1.24e+04</td> <td> 1.15e+04</td>\n",
       "</tr>\n",
       "<tr>\n",
       "  <th>x127</th>      <td>  774.4032</td> <td> 6095.445</td> <td>    0.127</td> <td> 0.899</td> <td>-1.12e+04</td> <td> 1.27e+04</td>\n",
       "</tr>\n",
       "<tr>\n",
       "  <th>x128</th>      <td>  810.6217</td> <td> 6097.140</td> <td>    0.133</td> <td> 0.894</td> <td>-1.11e+04</td> <td> 1.28e+04</td>\n",
       "</tr>\n",
       "<tr>\n",
       "  <th>x129</th>      <td>  753.1097</td> <td> 6087.035</td> <td>    0.124</td> <td> 0.902</td> <td>-1.12e+04</td> <td> 1.27e+04</td>\n",
       "</tr>\n",
       "<tr>\n",
       "  <th>x130</th>      <td> 1380.4170</td> <td> 6158.741</td> <td>    0.224</td> <td> 0.823</td> <td>-1.07e+04</td> <td> 1.35e+04</td>\n",
       "</tr>\n",
       "<tr>\n",
       "  <th>x131</th>      <td>  860.4477</td> <td> 6130.255</td> <td>    0.140</td> <td> 0.888</td> <td>-1.12e+04</td> <td> 1.29e+04</td>\n",
       "</tr>\n",
       "<tr>\n",
       "  <th>x132</th>      <td> 1344.3447</td> <td> 6118.303</td> <td>    0.220</td> <td> 0.826</td> <td>-1.06e+04</td> <td> 1.33e+04</td>\n",
       "</tr>\n",
       "<tr>\n",
       "  <th>x133</th>      <td>  647.7980</td> <td> 6096.846</td> <td>    0.106</td> <td> 0.915</td> <td>-1.13e+04</td> <td> 1.26e+04</td>\n",
       "</tr>\n",
       "<tr>\n",
       "  <th>x134</th>      <td>-8115.5401</td> <td> 1.04e+04</td> <td>   -0.782</td> <td> 0.434</td> <td>-2.85e+04</td> <td> 1.22e+04</td>\n",
       "</tr>\n",
       "<tr>\n",
       "  <th>x135</th>      <td>  926.1860</td> <td> 6115.270</td> <td>    0.151</td> <td> 0.880</td> <td>-1.11e+04</td> <td> 1.29e+04</td>\n",
       "</tr>\n",
       "<tr>\n",
       "  <th>x136</th>      <td>  120.6016</td> <td> 6699.861</td> <td>    0.018</td> <td> 0.986</td> <td> -1.3e+04</td> <td> 1.33e+04</td>\n",
       "</tr>\n",
       "<tr>\n",
       "  <th>x137</th>      <td>  561.9182</td> <td> 6122.529</td> <td>    0.092</td> <td> 0.927</td> <td>-1.14e+04</td> <td> 1.26e+04</td>\n",
       "</tr>\n",
       "<tr>\n",
       "  <th>x138</th>      <td>  852.8423</td> <td> 6125.829</td> <td>    0.139</td> <td> 0.889</td> <td>-1.12e+04</td> <td> 1.29e+04</td>\n",
       "</tr>\n",
       "<tr>\n",
       "  <th>x139</th>      <td>  650.8672</td> <td> 6099.339</td> <td>    0.107</td> <td> 0.915</td> <td>-1.13e+04</td> <td> 1.26e+04</td>\n",
       "</tr>\n",
       "<tr>\n",
       "  <th>x140</th>      <td>  641.5275</td> <td> 1.23e+04</td> <td>    0.052</td> <td> 0.958</td> <td>-2.34e+04</td> <td> 2.47e+04</td>\n",
       "</tr>\n",
       "<tr>\n",
       "  <th>x141</th>      <td> 1312.3739</td> <td> 6258.962</td> <td>    0.210</td> <td> 0.834</td> <td> -1.1e+04</td> <td> 1.36e+04</td>\n",
       "</tr>\n",
       "<tr>\n",
       "  <th>x142</th>      <td>  708.3546</td> <td> 6128.225</td> <td>    0.116</td> <td> 0.908</td> <td>-1.13e+04</td> <td> 1.27e+04</td>\n",
       "</tr>\n",
       "<tr>\n",
       "  <th>x143</th>      <td>  334.0423</td> <td> 3890.413</td> <td>    0.086</td> <td> 0.932</td> <td>-7291.028</td> <td> 7959.112</td>\n",
       "</tr>\n",
       "<tr>\n",
       "  <th>x144</th>      <td>  554.1911</td> <td> 6103.166</td> <td>    0.091</td> <td> 0.928</td> <td>-1.14e+04</td> <td> 1.25e+04</td>\n",
       "</tr>\n",
       "<tr>\n",
       "  <th>x145</th>      <td>  249.3034</td> <td> 6090.397</td> <td>    0.041</td> <td> 0.967</td> <td>-1.17e+04</td> <td> 1.22e+04</td>\n",
       "</tr>\n",
       "<tr>\n",
       "  <th>x146</th>      <td>  302.8962</td> <td> 6081.462</td> <td>    0.050</td> <td> 0.960</td> <td>-1.16e+04</td> <td> 1.22e+04</td>\n",
       "</tr>\n",
       "<tr>\n",
       "  <th>x147</th>      <td>  302.3106</td> <td> 3889.728</td> <td>    0.078</td> <td> 0.938</td> <td>-7321.416</td> <td> 7926.037</td>\n",
       "</tr>\n",
       "<tr>\n",
       "  <th>ar.L1</th>     <td>   -0.3227</td> <td>    0.066</td> <td>   -4.891</td> <td> 0.000</td> <td>   -0.452</td> <td>   -0.193</td>\n",
       "</tr>\n",
       "<tr>\n",
       "  <th>ar.S.L52</th>  <td>    0.3792</td> <td>    0.113</td> <td>    3.370</td> <td> 0.001</td> <td>    0.159</td> <td>    0.600</td>\n",
       "</tr>\n",
       "<tr>\n",
       "  <th>ma.S.L52</th>  <td>   -0.9987</td> <td>   14.673</td> <td>   -0.068</td> <td> 0.946</td> <td>  -29.758</td> <td>   27.761</td>\n",
       "</tr>\n",
       "<tr>\n",
       "  <th>sigma2</th>    <td>  435.0088</td> <td> 6355.601</td> <td>    0.068</td> <td> 0.945</td> <td> -1.2e+04</td> <td> 1.29e+04</td>\n",
       "</tr>\n",
       "</table>\n",
       "<table class=\"simpletable\">\n",
       "<tr>\n",
       "  <th>Ljung-Box (Q):</th>          <td>102.70</td> <th>  Jarque-Bera (JB):  </th> <td>1.68</td> \n",
       "</tr>\n",
       "<tr>\n",
       "  <th>Prob(Q):</th>                 <td>0.00</td>  <th>  Prob(JB):          </th> <td>0.43</td> \n",
       "</tr>\n",
       "<tr>\n",
       "  <th>Heteroskedasticity (H):</th>  <td>0.36</td>  <th>  Skew:              </th> <td>-0.04</td>\n",
       "</tr>\n",
       "<tr>\n",
       "  <th>Prob(H) (two-sided):</th>     <td>0.00</td>  <th>  Kurtosis:          </th> <td>3.27</td> \n",
       "</tr>\n",
       "</table><br/><br/>Warnings:<br/>[1] Covariance matrix calculated using the outer product of gradients (complex-step).<br/>[2] Covariance matrix is singular or near-singular, with condition number 1.68e+19. Standard errors may be unstable."
      ],
      "text/plain": [
       "<class 'statsmodels.iolib.summary.Summary'>\n",
       "\"\"\"\n",
       "                                      SARIMAX Results                                       \n",
       "============================================================================================\n",
       "Dep. Variable:                                    y   No. Observations:                  560\n",
       "Model:             SARIMAX(1, 1, 0)x(1, 1, [1], 52)   Log Likelihood               -2303.444\n",
       "Date:                              Mon, 09 Mar 2020   AIC                           4910.888\n",
       "Time:                                      02:56:03   BIC                           5553.621\n",
       "Sample:                                           0   HQIC                          5162.945\n",
       "                                              - 560                                         \n",
       "Covariance Type:                                opg                                         \n",
       "==============================================================================\n",
       "                 coef    std err          z      P>|z|      [0.025      0.975]\n",
       "------------------------------------------------------------------------------\n",
       "intercept     -0.0663      0.374     -0.177      0.859      -0.800       0.667\n",
       "x1             0.9296     35.178      0.026      0.979     -68.018      69.877\n",
       "x2           203.3199   9.48e+04      0.002      0.998   -1.86e+05    1.86e+05\n",
       "x3          -203.2987   9.48e+04     -0.002      0.998   -1.86e+05    1.86e+05\n",
       "x4         -1485.3496   1842.738     -0.806      0.420   -5097.050    2126.351\n",
       "x5          -215.6698   1691.289     -0.128      0.899   -3530.535    3099.195\n",
       "x6          -220.2181   1695.466     -0.130      0.897   -3543.271    3102.835\n",
       "x7           -65.4356   1688.446     -0.039      0.969   -3374.728    3243.857\n",
       "x8          -129.2070   1700.799     -0.076      0.939   -3462.711    3204.297\n",
       "x9          -261.9792   1704.882     -0.154      0.878   -3603.486    3079.527\n",
       "x10         -444.0614   1706.145     -0.260      0.795   -3788.045    2899.922\n",
       "x11         -426.7756   1720.885     -0.248      0.804   -3799.648    2946.097\n",
       "x12         3743.4000   3030.379      1.235      0.217   -2196.035    9682.835\n",
       "x13          -42.1432   1773.720     -0.024      0.981   -3518.571    3434.284\n",
       "x14         -334.5379   1708.296     -0.196      0.845   -3682.736    3013.660\n",
       "x15          629.3995   1923.421      0.327      0.743   -3140.436    4399.235\n",
       "x16         2232.2595   1820.789      1.226      0.220   -1336.422    5800.941\n",
       "x17         -145.2804   1723.461     -0.084      0.933   -3523.203    3232.642\n",
       "x18          404.8959   1731.554      0.234      0.815   -2988.887    3798.679\n",
       "x19         1003.4150   1795.233      0.559      0.576   -2515.177    4522.007\n",
       "x20          656.2087   1686.944      0.389      0.697   -2650.142    3962.559\n",
       "x21         -317.4545   1715.402     -0.185      0.853   -3679.580    3044.671\n",
       "x22          175.2169   1704.345      0.103      0.918   -3165.237    3515.671\n",
       "x23          362.8831   3190.500      0.114      0.909   -5890.382    6616.148\n",
       "x24          204.9628   1860.383      0.110      0.912   -3441.320    3851.246\n",
       "x25           46.8804   1690.265      0.028      0.978   -3265.979    3359.740\n",
       "x26         2664.4148   6658.229      0.400      0.689   -1.04e+04    1.57e+04\n",
       "x27         2747.6073   5024.025      0.547      0.584   -7099.301    1.26e+04\n",
       "x28         -448.0394   9060.916     -0.049      0.961   -1.82e+04    1.73e+04\n",
       "x29           44.5565   1709.023      0.026      0.979   -3305.067    3394.180\n",
       "x30           66.4565   1865.776      0.036      0.972   -3590.397    3723.310\n",
       "x31         -290.1661   1772.941     -0.164      0.870   -3765.067    3184.735\n",
       "x32         -476.3165   1726.595     -0.276      0.783   -3860.381    2907.748\n",
       "x33         -470.0404   1705.839     -0.276      0.783   -3813.423    2873.342\n",
       "x34         -232.5398   1681.972     -0.138      0.890   -3529.144    3064.064\n",
       "x35         -148.5689   1693.275     -0.088      0.930   -3467.327    3170.189\n",
       "x36         -303.9203   1800.942     -0.169      0.866   -3833.702    3225.861\n",
       "x37         -133.1553   1689.792     -0.079      0.937   -3445.087    3178.777\n",
       "x38        -1529.4194   1718.165     -0.890      0.373   -4896.961    1838.122\n",
       "x39           45.4756   2027.631      0.022      0.982   -3928.608    4019.559\n",
       "x40        -1580.5799   2445.096     -0.646      0.518   -6372.880    3211.720\n",
       "x41          451.9435   1792.972      0.252      0.801   -3062.218    3966.105\n",
       "x42          267.9445   1685.059      0.159      0.874   -3034.710    3570.599\n",
       "x43        -8882.5890   2901.154     -3.062      0.002   -1.46e+04   -3196.432\n",
       "x44          -57.4276   1787.067     -0.032      0.974   -3560.014    3445.159\n",
       "x45         -236.8992   1707.951     -0.139      0.890   -3584.422    3110.623\n",
       "x46          124.4998   1702.078      0.073      0.942   -3211.512    3460.512\n",
       "x47           59.5948   1697.188      0.035      0.972   -3266.833    3386.023\n",
       "x48         -194.5074   1705.533     -0.114      0.909   -3537.290    3148.276\n",
       "x49         -575.6921   1734.823     -0.332      0.740   -3975.882    2824.498\n",
       "x50        -2759.8583   2813.218     -0.981      0.327   -8273.663    2753.947\n",
       "x51        -1470.6166   2733.458     -0.538      0.591   -6828.096    3886.863\n",
       "x52          -72.9678   1699.883     -0.043      0.966   -3404.678    3258.742\n",
       "x53          175.1998   1714.004      0.102      0.919   -3184.187    3534.587\n",
       "x54          118.4400   1706.266      0.069      0.945   -3225.780    3462.660\n",
       "x55          334.0423   3890.393      0.086      0.932   -7290.987    7959.072\n",
       "x56         -204.4297   1751.047     -0.117      0.907   -3636.419    3227.560\n",
       "x57          755.2543   2361.712      0.320      0.749   -3873.616    5384.124\n",
       "x58         -418.3711   1708.512     -0.245      0.807   -3766.993    2930.251\n",
       "x59         -695.7708   1756.520     -0.396      0.692   -4138.487    2746.945\n",
       "x60        -1088.4816   2194.739     -0.496      0.620   -5390.090    3213.127\n",
       "x61         -500.8873   1767.132     -0.283      0.777   -3964.402    2962.628\n",
       "x62         -275.9374   1703.983     -0.162      0.871   -3615.683    3063.808\n",
       "x63         -164.0333   1709.453     -0.096      0.924   -3514.499    3186.432\n",
       "x64          302.3106   3889.728      0.078      0.938   -7321.417    7926.038\n",
       "x65        -1799.1207   1750.990     -1.027      0.304   -5230.998    1632.757\n",
       "x66          215.7093   1710.421      0.126      0.900   -3136.654    3568.073\n",
       "x67          -74.5347   1704.073     -0.044      0.965   -3414.456    3265.387\n",
       "x68          940.3497   1723.965      0.545      0.585   -2438.560    4319.260\n",
       "x69           60.1972   1676.943      0.036      0.971   -3226.550    3346.945\n",
       "x70         -895.3877   1734.043     -0.516      0.606   -4294.050    2503.275\n",
       "x71         -238.6408   1744.876     -0.137      0.891   -3658.536    3181.254\n",
       "x72          757.0365   1711.570      0.442      0.658   -2597.579    4111.652\n",
       "x73          163.6221   1724.754      0.095      0.924   -3216.833    3544.078\n",
       "x74         4364.4127   2495.635      1.749      0.080    -526.941    9255.766\n",
       "x75        -1229.1055   1937.186     -0.634      0.526   -5025.921    2567.710\n",
       "x76         -165.2714   8818.481     -0.019      0.985   -1.74e+04    1.71e+04\n",
       "x77          162.9509   1846.572      0.088      0.930   -3456.264    3782.166\n",
       "x78        -1132.5535   1830.155     -0.619      0.536   -4719.591    2454.484\n",
       "x79         -224.8572   1802.304     -0.125      0.901   -3757.307    3307.593\n",
       "x80         1377.6789   1840.206      0.749      0.454   -2229.059    4984.417\n",
       "x81          969.7315   1785.350      0.543      0.587   -2529.491    4468.954\n",
       "x82          411.0272   1680.611      0.245      0.807   -2882.909    3704.963\n",
       "x83         -139.4089   1669.497     -0.084      0.933   -3411.563    3132.746\n",
       "x84         1058.5377   1744.688      0.607      0.544   -2360.988    4478.063\n",
       "x85         -330.3775   1767.178     -0.187      0.852   -3793.983    3133.228\n",
       "x86         5979.5621   5137.749      1.164      0.244   -4090.241     1.6e+04\n",
       "x87         2150.5943   5689.305      0.378      0.705   -9000.238    1.33e+04\n",
       "x88        -2195.7164   8465.416     -0.259      0.795   -1.88e+04    1.44e+04\n",
       "x89          929.2062   1795.440      0.518      0.605   -2589.792    4448.205\n",
       "x90          955.2932   1787.161      0.535      0.593   -2547.478    4458.065\n",
       "x91         -186.3982   1689.439     -0.110      0.912   -3497.637    3124.841\n",
       "x92          -22.8455   1686.960     -0.014      0.989   -3329.226    3283.535\n",
       "x93           80.0731   1691.663      0.047      0.962   -3235.525    3395.671\n",
       "x94          -18.7121   1761.339     -0.011      0.992   -3470.872    3433.448\n",
       "x95         -410.9928   1713.973     -0.240      0.810   -3770.318    2948.332\n",
       "x96         -146.4601   1671.741     -0.088      0.930   -3423.012    3130.092\n",
       "x97          -86.3164   1792.642     -0.048      0.962   -3599.831    3427.198\n",
       "x98         -668.4334   1731.513     -0.386      0.699   -4062.136    2725.269\n",
       "x99          523.8237   2521.254      0.208      0.835   -4417.744    5465.392\n",
       "x100          95.3503   2706.644      0.035      0.972   -5209.575    5400.276\n",
       "x101         811.1083   1768.417      0.459      0.646   -2654.925    4277.141\n",
       "x102       -1367.5988   2274.153     -0.601      0.548   -5824.856    3089.659\n",
       "x103        -146.6805   1682.035     -0.087      0.931   -3443.409    3150.048\n",
       "x104        -399.1248   1675.184     -0.238      0.812   -3682.426    2884.176\n",
       "x105         221.3470   1719.152      0.129      0.898   -3148.130    3590.824\n",
       "x106        -429.2613   1712.039     -0.251      0.802   -3784.795    2926.273\n",
       "x107         396.9857   2576.163      0.154      0.878   -4652.200    5446.171\n",
       "x108         -62.9687   1689.945     -0.037      0.970   -3375.200    3249.263\n",
       "x109        -641.3982   2439.453     -0.263      0.793   -5422.638    4139.842\n",
       "x110         557.7351   2284.598      0.244      0.807   -3919.995    5035.465\n",
       "x111        -394.5010   1744.237     -0.226      0.821   -3813.143    3024.141\n",
       "x112         -86.5834   1705.857     -0.051      0.960   -3430.002    3256.835\n",
       "x113        -446.4755   1798.133     -0.248      0.804   -3970.752    3077.801\n",
       "x114         369.8928   1875.265      0.197      0.844   -3305.559    4045.345\n",
       "x115          69.5862   1684.769      0.041      0.967   -3232.500    3371.673\n",
       "x116         942.4918   6096.066      0.155      0.877    -1.1e+04    1.29e+04\n",
       "x117         628.6427   6102.573      0.103      0.918   -1.13e+04    1.26e+04\n",
       "x118         890.7547   6080.365      0.146      0.884    -1.1e+04    1.28e+04\n",
       "x119         692.6086   6093.282      0.114      0.910   -1.13e+04    1.26e+04\n",
       "x120        -603.8951   6169.253     -0.098      0.922   -1.27e+04    1.15e+04\n",
       "x121       -5243.9824   6934.776     -0.756      0.450   -1.88e+04    8347.928\n",
       "x122       -3733.2008   1.36e+04     -0.274      0.784   -3.04e+04    2.29e+04\n",
       "x123        1072.4797   6129.371      0.175      0.861   -1.09e+04    1.31e+04\n",
       "x124          82.3741   6356.890      0.013      0.990   -1.24e+04    1.25e+04\n",
       "x125        -273.3866   6128.808     -0.045      0.964   -1.23e+04    1.17e+04\n",
       "x126        -427.8827   6099.328     -0.070      0.944   -1.24e+04    1.15e+04\n",
       "x127         774.4032   6095.445      0.127      0.899   -1.12e+04    1.27e+04\n",
       "x128         810.6217   6097.140      0.133      0.894   -1.11e+04    1.28e+04\n",
       "x129         753.1097   6087.035      0.124      0.902   -1.12e+04    1.27e+04\n",
       "x130        1380.4170   6158.741      0.224      0.823   -1.07e+04    1.35e+04\n",
       "x131         860.4477   6130.255      0.140      0.888   -1.12e+04    1.29e+04\n",
       "x132        1344.3447   6118.303      0.220      0.826   -1.06e+04    1.33e+04\n",
       "x133         647.7980   6096.846      0.106      0.915   -1.13e+04    1.26e+04\n",
       "x134       -8115.5401   1.04e+04     -0.782      0.434   -2.85e+04    1.22e+04\n",
       "x135         926.1860   6115.270      0.151      0.880   -1.11e+04    1.29e+04\n",
       "x136         120.6016   6699.861      0.018      0.986    -1.3e+04    1.33e+04\n",
       "x137         561.9182   6122.529      0.092      0.927   -1.14e+04    1.26e+04\n",
       "x138         852.8423   6125.829      0.139      0.889   -1.12e+04    1.29e+04\n",
       "x139         650.8672   6099.339      0.107      0.915   -1.13e+04    1.26e+04\n",
       "x140         641.5275   1.23e+04      0.052      0.958   -2.34e+04    2.47e+04\n",
       "x141        1312.3739   6258.962      0.210      0.834    -1.1e+04    1.36e+04\n",
       "x142         708.3546   6128.225      0.116      0.908   -1.13e+04    1.27e+04\n",
       "x143         334.0423   3890.413      0.086      0.932   -7291.028    7959.112\n",
       "x144         554.1911   6103.166      0.091      0.928   -1.14e+04    1.25e+04\n",
       "x145         249.3034   6090.397      0.041      0.967   -1.17e+04    1.22e+04\n",
       "x146         302.8962   6081.462      0.050      0.960   -1.16e+04    1.22e+04\n",
       "x147         302.3106   3889.728      0.078      0.938   -7321.416    7926.037\n",
       "ar.L1         -0.3227      0.066     -4.891      0.000      -0.452      -0.193\n",
       "ar.S.L52       0.3792      0.113      3.370      0.001       0.159       0.600\n",
       "ma.S.L52      -0.9987     14.673     -0.068      0.946     -29.758      27.761\n",
       "sigma2       435.0088   6355.601      0.068      0.945    -1.2e+04    1.29e+04\n",
       "===================================================================================\n",
       "Ljung-Box (Q):                      102.70   Jarque-Bera (JB):                 1.68\n",
       "Prob(Q):                              0.00   Prob(JB):                         0.43\n",
       "Heteroskedasticity (H):               0.36   Skew:                            -0.04\n",
       "Prob(H) (two-sided):                  0.00   Kurtosis:                         3.27\n",
       "===================================================================================\n",
       "\n",
       "Warnings:\n",
       "[1] Covariance matrix calculated using the outer product of gradients (complex-step).\n",
       "[2] Covariance matrix is singular or near-singular, with condition number 1.68e+19. Standard errors may be unstable.\n",
       "\"\"\""
      ]
     },
     "execution_count": 155,
     "metadata": {},
     "output_type": "execute_result"
    }
   ],
   "source": [
    "fitted_sarimax.summary()"
   ]
  },
  {
   "cell_type": "code",
   "execution_count": 169,
   "metadata": {},
   "outputs": [],
   "source": [
    "preds = pd.Series(fitted_sarima.predict())\n",
    "preds = preds.map(lambda x: x if x > 0 else 0)"
   ]
  },
  {
   "cell_type": "code",
   "execution_count": 172,
   "metadata": {},
   "outputs": [
    {
     "data": {
      "image/png": "[encoded data removed]",
      "text/plain": [
       "<Figure size 864x720 with 4 Axes>"
      ]
     },
     "metadata": {
      "needs_background": "light"
     },
     "output_type": "display_data"
    }
   ],
   "source": [
    "vizResids(\"SARIMAX Results\", \"Days Until Inspection\", weekly_arima_db[target], preds.values)"
   ]
  },
  {
   "cell_type": "code",
   "execution_count": 173,
   "metadata": {},
   "outputs": [],
   "source": [
    "from sklearn.metrics import mean_squared_error"
   ]
  },
  {
   "cell_type": "code",
   "execution_count": 174,
   "metadata": {},
   "outputs": [],
   "source": [
    "rmse = mean_squared_error(weekly_arima_db[target], preds) ** .5"
   ]
  },
  {
   "cell_type": "code",
   "execution_count": 177,
   "metadata": {},
   "outputs": [
    {
     "data": {
      "text/plain": [
       "0.861964140325934"
      ]
     },
     "execution_count": 177,
     "metadata": {},
     "output_type": "execute_result"
    }
   ],
   "source": [
    "rmse / 30"
   ]
  },
  {
   "cell_type": "markdown",
   "metadata": {},
   "source": [
    "Using RMSE, we can see the model is off, on average, by about 1.74 YEARS!"
   ]
  },
  {
   "cell_type": "markdown",
   "metadata": {},
   "source": [
    "## Classification Model\n",
    "By converting target into classes, can simplify model and increase performance"
   ]
  },
  {
   "cell_type": "markdown",
   "metadata": {},
   "source": [
    "### Model Preparation"
   ]
  },
  {
   "cell_type": "code",
   "execution_count": 98,
   "metadata": {},
   "outputs": [],
   "source": [
    "def bin_days_until_inspection(days):\n",
    "    if days <= 7:\n",
    "        return \"within 1 week\"\n",
    "    elif days <= 30:\n",
    "        return \"within 30 days\"\n",
    "    elif days <= 30 * 3:\n",
    "        return \"within 1 quarter\"\n",
    "    elif days <= 30 * 6:\n",
    "        return \"within 6 months\"\n",
    "    elif days <= 365:\n",
    "        return \"within 1 year\"\n",
    "    else:\n",
    "        return \"over 1 year\""
   ]
  },
  {
   "cell_type": "code",
   "execution_count": 99,
   "metadata": {},
   "outputs": [],
   "source": [
    "db[\"binned_days_until_inspection\"] = db[\"days_until_inspection\"].map(bin_days_until_inspection)"
   ]
  },
  {
   "cell_type": "code",
   "execution_count": 100,
   "metadata": {},
   "outputs": [
    {
     "data": {
      "text/html": [
       "<div>\n",
       "<style scoped>\n",
       "    .dataframe tbody tr th:only-of-type {\n",
       "        vertical-align: middle;\n",
       "    }\n",
       "\n",
       "    .dataframe tbody tr th {\n",
       "        vertical-align: top;\n",
       "    }\n",
       "\n",
       "    .dataframe thead th {\n",
       "        text-align: right;\n",
       "    }\n",
       "</style>\n",
       "<table border=\"1\" class=\"dataframe\">\n",
       "  <thead>\n",
       "    <tr style=\"text-align: right;\">\n",
       "      <th></th>\n",
       "      <th>complaint_number</th>\n",
       "      <th>status</th>\n",
       "      <th>date_entered</th>\n",
       "      <th>house_number</th>\n",
       "      <th>zip_code</th>\n",
       "      <th>house_street</th>\n",
       "      <th>special_district</th>\n",
       "      <th>complaint_category</th>\n",
       "      <th>unit</th>\n",
       "      <th>inspection_date</th>\n",
       "      <th>days_until_inspection</th>\n",
       "      <th>binned_days_until_inspection</th>\n",
       "    </tr>\n",
       "  </thead>\n",
       "  <tbody>\n",
       "    <tr>\n",
       "      <th>1</th>\n",
       "      <td>2193181</td>\n",
       "      <td>CLOSED</td>\n",
       "      <td>2013-12-17</td>\n",
       "      <td>573</td>\n",
       "      <td>10458</td>\n",
       "      <td>EAST FORDHAM ROAD</td>\n",
       "      <td>NOT SPECIAL</td>\n",
       "      <td>4B</td>\n",
       "      <td>SEP</td>\n",
       "      <td>2013-12-24</td>\n",
       "      <td>7</td>\n",
       "      <td>within 1 week</td>\n",
       "    </tr>\n",
       "    <tr>\n",
       "      <th>6</th>\n",
       "      <td>1265849</td>\n",
       "      <td>CLOSED</td>\n",
       "      <td>2009-09-21</td>\n",
       "      <td>429</td>\n",
       "      <td>10075</td>\n",
       "      <td>EAST   77 STREET</td>\n",
       "      <td>NOT SPECIAL</td>\n",
       "      <td>73</td>\n",
       "      <td>MAN.</td>\n",
       "      <td>2009-10-03</td>\n",
       "      <td>12</td>\n",
       "      <td>within 30 days</td>\n",
       "    </tr>\n",
       "    <tr>\n",
       "      <th>12</th>\n",
       "      <td>1404696</td>\n",
       "      <td>CLOSED</td>\n",
       "      <td>2015-09-02</td>\n",
       "      <td>21</td>\n",
       "      <td>10011</td>\n",
       "      <td>WEST 8 STREET</td>\n",
       "      <td>NOT SPECIAL</td>\n",
       "      <td>37</td>\n",
       "      <td>ERT</td>\n",
       "      <td>2015-09-03</td>\n",
       "      <td>1</td>\n",
       "      <td>within 1 week</td>\n",
       "    </tr>\n",
       "    <tr>\n",
       "      <th>13</th>\n",
       "      <td>2149422</td>\n",
       "      <td>CLOSED</td>\n",
       "      <td>2010-08-25</td>\n",
       "      <td>2075</td>\n",
       "      <td>10462</td>\n",
       "      <td>WALLACE AVENUE</td>\n",
       "      <td>NOT SPECIAL</td>\n",
       "      <td>23</td>\n",
       "      <td>ERT</td>\n",
       "      <td>2010-10-09</td>\n",
       "      <td>45</td>\n",
       "      <td>within 1 quarter</td>\n",
       "    </tr>\n",
       "    <tr>\n",
       "      <th>14</th>\n",
       "      <td>3312533</td>\n",
       "      <td>CLOSED</td>\n",
       "      <td>2009-07-20</td>\n",
       "      <td>819</td>\n",
       "      <td>11220</td>\n",
       "      <td>59 STREET</td>\n",
       "      <td>NOT SPECIAL</td>\n",
       "      <td>90</td>\n",
       "      <td>CITY</td>\n",
       "      <td>2009-09-15</td>\n",
       "      <td>57</td>\n",
       "      <td>within 1 quarter</td>\n",
       "    </tr>\n",
       "  </tbody>\n",
       "</table>\n",
       "</div>"
      ],
      "text/plain": [
       "    complaint_number  status date_entered  house_number zip_code  \\\n",
       "1            2193181  CLOSED   2013-12-17  573             10458   \n",
       "6            1265849  CLOSED   2009-09-21  429             10075   \n",
       "12           1404696  CLOSED   2015-09-02  21              10011   \n",
       "13           2149422  CLOSED   2010-08-25  2075            10462   \n",
       "14           3312533  CLOSED   2009-07-20  819             11220   \n",
       "\n",
       "                        house_street special_district complaint_category  \\\n",
       "1   EAST FORDHAM ROAD                     NOT SPECIAL                 4B   \n",
       "6   EAST   77 STREET                      NOT SPECIAL                 73   \n",
       "12  WEST 8 STREET                         NOT SPECIAL                 37   \n",
       "13  WALLACE AVENUE                        NOT SPECIAL                 23   \n",
       "14    59 STREET                           NOT SPECIAL                 90   \n",
       "\n",
       "     unit inspection_date  days_until_inspection binned_days_until_inspection  \n",
       "1   SEP        2013-12-24                      7                within 1 week  \n",
       "6    MAN.      2009-10-03                     12               within 30 days  \n",
       "12  ERT        2015-09-03                      1                within 1 week  \n",
       "13  ERT        2010-10-09                     45             within 1 quarter  \n",
       "14  CITY       2009-09-15                     57             within 1 quarter  "
      ]
     },
     "execution_count": 100,
     "metadata": {},
     "output_type": "execute_result"
    }
   ],
   "source": [
    "db.head()"
   ]
  },
  {
   "cell_type": "code",
   "execution_count": 101,
   "metadata": {},
   "outputs": [],
   "source": [
    "keep_cols = ['zip_code', 'special_district', 'complaint_category',\n",
    "       'unit']"
   ]
  },
  {
   "cell_type": "code",
   "execution_count": 102,
   "metadata": {},
   "outputs": [],
   "source": [
    "X = pd.get_dummies(db[keep_cols])\n",
    "y = db['binned_days_until_inspection']"
   ]
  },
  {
   "cell_type": "code",
   "execution_count": 103,
   "metadata": {},
   "outputs": [],
   "source": [
    "X_train, X_test, y_train, y_test = train_test_split(X, y, stratify = y)"
   ]
  },
  {
   "cell_type": "markdown",
   "metadata": {},
   "source": [
    "### Decision Tree"
   ]
  },
  {
   "cell_type": "code",
   "execution_count": 104,
   "metadata": {},
   "outputs": [],
   "source": [
    "dt = DecisionTreeClassifier()"
   ]
  },
  {
   "cell_type": "code",
   "execution_count": 105,
   "metadata": {},
   "outputs": [
    {
     "data": {
      "text/plain": [
       "DecisionTreeClassifier(ccp_alpha=0.0, class_weight=None, criterion='gini',\n",
       "                       max_depth=None, max_features=None, max_leaf_nodes=None,\n",
       "                       min_impurity_decrease=0.0, min_impurity_split=None,\n",
       "                       min_samples_leaf=1, min_samples_split=2,\n",
       "                       min_weight_fraction_leaf=0.0, presort='deprecated',\n",
       "                       random_state=None, splitter='best')"
      ]
     },
     "execution_count": 105,
     "metadata": {},
     "output_type": "execute_result"
    }
   ],
   "source": [
    "dt.fit(X_train, y_train)"
   ]
  },
  {
   "cell_type": "code",
   "execution_count": 106,
   "metadata": {},
   "outputs": [
    {
     "data": {
      "text/plain": [
       "0.5291758669957137"
      ]
     },
     "execution_count": 106,
     "metadata": {},
     "output_type": "execute_result"
    }
   ],
   "source": [
    "dt.score(X_train, y_train)"
   ]
  },
  {
   "cell_type": "code",
   "execution_count": 107,
   "metadata": {},
   "outputs": [
    {
     "data": {
      "text/plain": [
       "0.40728654230188494"
      ]
     },
     "execution_count": 107,
     "metadata": {},
     "output_type": "execute_result"
    }
   ],
   "source": [
    "dt.score(X_test, y_test)"
   ]
  },
  {
   "cell_type": "code",
   "execution_count": 108,
   "metadata": {},
   "outputs": [],
   "source": [
    "def pretty_confusion_matrix(y_true, y_pred):\n",
    "    # handling data\n",
    "    cm = confusion_matrix(y_true, y_pred)\n",
    "    labels = y_true.unique()\n",
    "    labels.sort()\n",
    "    \n",
    "    # plotting\n",
    "    sns.set(font_scale=1.2)\n",
    "    plt.figure(figsize=(10,4))\n",
    "    \n",
    "    sns.heatmap(cm, annot=True, fmt='g', cmap=\"YlGnBu\",xticklabels=labels, yticklabels=labels, annot_kws={\"size\": 20})\n",
    "    plt.title(\"Confusion Matrix\")\n",
    "    plt.xlabel('Predicted Class')\n",
    "    plt.ylabel('True Class')"
   ]
  },
  {
   "cell_type": "code",
   "execution_count": 110,
   "metadata": {},
   "outputs": [
    {
     "data": {
      "image/png": "[encoded data removed]",
      "text/plain": [
       "<Figure size 720x288 with 2 Axes>"
      ]
     },
     "metadata": {},
     "output_type": "display_data"
    }
   ],
   "source": [
    "pretty_confusion_matrix(y_test, dt.predict(X_test))"
   ]
  },
  {
   "cell_type": "markdown",
   "metadata": {},
   "source": [
    "## Adaboost"
   ]
  },
  {
   "cell_type": "code",
   "execution_count": 27,
   "metadata": {},
   "outputs": [],
   "source": [
    "ada = AdaBoostClassifier()"
   ]
  },
  {
   "cell_type": "code",
   "execution_count": 28,
   "metadata": {},
   "outputs": [
    {
     "data": {
      "text/plain": [
       "AdaBoostClassifier(algorithm='SAMME.R', base_estimator=None, learning_rate=1.0,\n",
       "                   n_estimators=50, random_state=None)"
      ]
     },
     "execution_count": 28,
     "metadata": {},
     "output_type": "execute_result"
    }
   ],
   "source": [
    "ada.fit(X_train, y_train)"
   ]
  },
  {
   "cell_type": "code",
   "execution_count": 31,
   "metadata": {},
   "outputs": [
    {
     "data": {
      "text/plain": [
       "0.41370410051621703"
      ]
     },
     "execution_count": 31,
     "metadata": {},
     "output_type": "execute_result"
    }
   ],
   "source": [
    "ada.score(X_train, y_train)"
   ]
  },
  {
   "cell_type": "code",
   "execution_count": 32,
   "metadata": {},
   "outputs": [
    {
     "data": {
      "text/plain": [
       "0.41453199571442484"
      ]
     },
     "execution_count": 32,
     "metadata": {},
     "output_type": "execute_result"
    }
   ],
   "source": [
    "ada.score(X_test, y_test)"
   ]
  },
  {
   "cell_type": "markdown",
   "metadata": {},
   "source": [
    "## XGBoostClassifier"
   ]
  },
  {
   "cell_type": "code",
   "execution_count": 112,
   "metadata": {},
   "outputs": [],
   "source": [
    "xgbc = XGBClassifier()"
   ]
  },
  {
   "cell_type": "code",
   "execution_count": 113,
   "metadata": {},
   "outputs": [
    {
     "data": {
      "text/plain": [
       "XGBClassifier(base_score=0.5, booster='gbtree', colsample_bylevel=1,\n",
       "              colsample_bynode=1, colsample_bytree=1, gamma=0,\n",
       "              learning_rate=0.1, max_delta_step=0, max_depth=3,\n",
       "              min_child_weight=1, missing=None, n_estimators=100, n_jobs=1,\n",
       "              nthread=None, objective='multi:softprob', random_state=0,\n",
       "              reg_alpha=0, reg_lambda=1, scale_pos_weight=1, seed=None,\n",
       "              silent=None, subsample=1, verbosity=1)"
      ]
     },
     "execution_count": 113,
     "metadata": {},
     "output_type": "execute_result"
    }
   ],
   "source": [
    "xgbc.fit(X_train, y_train)"
   ]
  },
  {
   "cell_type": "code",
   "execution_count": 114,
   "metadata": {},
   "outputs": [
    {
     "data": {
      "text/plain": [
       "0.4160280555916353"
      ]
     },
     "execution_count": 114,
     "metadata": {},
     "output_type": "execute_result"
    }
   ],
   "source": [
    "xgbc.score(X_train, y_train)"
   ]
  },
  {
   "cell_type": "code",
   "execution_count": 115,
   "metadata": {},
   "outputs": [
    {
     "data": {
      "text/plain": [
       "0.41551799717500365"
      ]
     },
     "execution_count": 115,
     "metadata": {},
     "output_type": "execute_result"
    }
   ],
   "source": [
    "xgbc.score(X_test, y_test)"
   ]
  },
  {
   "cell_type": "markdown",
   "metadata": {},
   "source": [
    "## XGBoostRegressor"
   ]
  },
  {
   "cell_type": "code",
   "execution_count": 40,
   "metadata": {},
   "outputs": [],
   "source": [
    "X = pd.get_dummies(db[keep_cols])\n",
    "y = db['days_until_inspection']"
   ]
  },
  {
   "cell_type": "code",
   "execution_count": 45,
   "metadata": {},
   "outputs": [],
   "source": [
    "X_train, X_test, y_train, y_test = train_test_split(X, y)"
   ]
  },
  {
   "cell_type": "code",
   "execution_count": 46,
   "metadata": {},
   "outputs": [],
   "source": [
    "xgbr = XGBRegressor(objective=\"reg:gamma\")"
   ]
  },
  {
   "cell_type": "code",
   "execution_count": 47,
   "metadata": {},
   "outputs": [
    {
     "data": {
      "text/plain": [
       "XGBRegressor(base_score=0.5, booster='gbtree', colsample_bylevel=1,\n",
       "             colsample_bynode=1, colsample_bytree=1, gamma=0,\n",
       "             importance_type='gain', learning_rate=0.1, max_delta_step=0,\n",
       "             max_depth=3, min_child_weight=1, missing=None, n_estimators=100,\n",
       "             n_jobs=1, nthread=None, objective='reg:gamma', random_state=0,\n",
       "             reg_alpha=0, reg_lambda=1, scale_pos_weight=1, seed=None,\n",
       "             silent=None, subsample=1, verbosity=1)"
      ]
     },
     "execution_count": 47,
     "metadata": {},
     "output_type": "execute_result"
    }
   ],
   "source": [
    "xgbr.fit(X_train, y_train)"
   ]
  },
  {
   "cell_type": "code",
   "execution_count": 48,
   "metadata": {},
   "outputs": [
    {
     "data": {
      "text/plain": [
       "0.056975260062927406"
      ]
     },
     "execution_count": 48,
     "metadata": {},
     "output_type": "execute_result"
    }
   ],
   "source": [
    "xgbr.score(X_train, y_train)"
   ]
  },
  {
   "cell_type": "code",
   "execution_count": 49,
   "metadata": {},
   "outputs": [
    {
     "data": {
      "text/plain": [
       "0.06124612728820079"
      ]
     },
     "execution_count": 49,
     "metadata": {},
     "output_type": "execute_result"
    }
   ],
   "source": [
    "xgbr.score(X_test, y_test)"
   ]
  },
  {
   "cell_type": "markdown",
   "metadata": {},
   "source": [
    "## Model Selection"
   ]
  },
  {
   "cell_type": "code",
   "execution_count": null,
   "metadata": {},
   "outputs": [],
   "source": []
  },
  {
   "cell_type": "markdown",
   "metadata": {},
   "source": [
    "## Model Evaluation"
   ]
  },
  {
   "cell_type": "code",
   "execution_count": null,
   "metadata": {},
   "outputs": [],
   "source": []
  },
  {
   "cell_type": "markdown",
   "metadata": {},
   "source": [
    "## Conclusion"
   ]
  },
  {
   "cell_type": "code",
   "execution_count": null,
   "metadata": {},
   "outputs": [],
   "source": []
  },
  {
   "cell_type": "markdown",
   "metadata": {},
   "source": [
    "## Recommendations"
   ]
  },
  {
   "cell_type": "code",
   "execution_count": null,
   "metadata": {},
   "outputs": [],
   "source": []
  },
  {
   "cell_type": "markdown",
   "metadata": {},
   "source": [
    "## Resources\n",
    "- [Data Source](https://data.cityofnewyork.us/Housing-Development/DOB-Complaints-Received/eabe-havv)\n",
    "- [Complaint Codes](https://www1.nyc.gov/assets/buildings/pdf/complaint_category.pdf)\n",
    "- [Disposition Codes](https://www1.nyc.gov/assets/buildings/pdf/bis_complaint_disposition_codes.pdf)\n",
    "- [Data Explains](https://docs.google.com/spreadsheets/d/10p0HLqinKbUrSjKaZC2E0ZTHDXgULT0K/edit#gid=1015257717)"
   ]
  }
 ],
 "metadata": {
  "kernelspec": {
   "display_name": "Python 3",
   "language": "python",
   "name": "python3"
  },
  "language_info": {
   "codemirror_mode": {
    "name": "ipython",
    "version": 3
   },
   "file_extension": ".py",
   "mimetype": "text/x-python",
   "name": "python",
   "nbconvert_exporter": "python",
   "pygments_lexer": "ipython3",
   "version": "3.7.3"
  }
 },
 "nbformat": 4,
 "nbformat_minor": 2
}
