{
 "cells": [
  {
   "cell_type": "markdown",
   "metadata": {},
   "source": [
    "# Cleaning Department of Buildings Complaints dataset\n",
    "\n",
    "#### By: Mahdi Shadkam-Farrokhi & Jeremy Ondov"
   ]
  },
  {
   "cell_type": "markdown",
   "metadata": {},
   "source": [
    "This notebook is intended for cleaning the DOB dataset we'll be working with in a separate notebook for EDA and modeling."
   ]
  },
  {
   "cell_type": "markdown",
   "metadata": {},
   "source": [
    "### Source Material\n",
    "- [Data Source](https://data.cityofnewyork.us/Housing-Development/DOB-Complaints-Received/eabe-havv)\n",
    "- [Complaint Codes](https://www1.nyc.gov/assets/buildings/pdf/complaint_category.pdf)\n",
    "- [Disposition Codes](https://www1.nyc.gov/assets/buildings/pdf/bis_complaint_disposition_codes.pdf)\n",
    "- [Data Explains](https://docs.google.com/spreadsheets/d/10p0HLqinKbUrSjKaZC2E0ZTHDXgULT0K/edit#gid=1015257717)"
   ]
  },
  {
   "cell_type": "markdown",
   "metadata": {},
   "source": [
    "## Loading libraries and data"
   ]
  },
  {
   "cell_type": "code",
   "execution_count": 1,
   "metadata": {},
   "outputs": [],
   "source": [
    "import pandas as pd\n",
    "import math"
   ]
  },
  {
   "cell_type": "markdown",
   "metadata": {},
   "source": [
    "Given the massive size of the dataset, we'll only pull a sample from the relevant observations.\n",
    "\n",
    "After some outside research, we discovered the DOB website went live in 2009, which drastically altered the shape of the data after that point. Therefore, we will only select observations from 2009 onward, as these are much more applicable to current events."
   ]
  },
  {
   "cell_type": "code",
   "execution_count": 2,
   "metadata": {},
   "outputs": [],
   "source": [
    "target_size = 100_000 # desired sample size"
   ]
  },
  {
   "cell_type": "code",
   "execution_count": 3,
   "metadata": {},
   "outputs": [
    {
     "name": "stdout",
     "output_type": "stream",
     "text": [
      "Working up to row # 100000 | Current sample length = 55256\n",
      "Working up to row # 200000 | Current sample length = 59144\n",
      "Working up to row # 300000 | Current sample length = 63052\n",
      "Working up to row # 400000 | Current sample length = 66961\n",
      "Working up to row # 500000 | Current sample length = 70857\n",
      "Working up to row # 600000 | Current sample length = 74768\n",
      "Working up to row # 700000 | Current sample length = 78658\n",
      "Working up to row # 800000 | Current sample length = 82596\n",
      "Working up to row # 900000 | Current sample length = 86505\n",
      "Working up to row # 1000000 | Current sample length = 90410\n",
      "Working up to row # 1100000 | Current sample length = 94332\n",
      "Working up to row # 1200000 | Current sample length = 98241\n",
      "Working up to row # 1300000 | Current sample length = 102161\n"
     ]
    }
   ],
   "source": [
    "data_file = \"./datasets/DOB_Complaints_Received.csv\"\n",
    "chunk_size = 100_000 # number of lines used for each iterated read through file\n",
    "skip = math.ceil(1_300_000 / target_size) # the sample rate. Every \"skip\"th observation is selected\n",
    "\n",
    "dtypes = {\n",
    "    'Complaint Number':\"int64\",\n",
    "    'ZIP Code':\"object\",\n",
    "    'Special District':\"object\",\n",
    "    'Complaint Category':\"object\",\n",
    "    'Unit':\"object\",\n",
    "    'Date Entered':\"object\",\n",
    "    'Status':\"object\",\n",
    "    'House Street':\"object\",\n",
    "    'House Number':\"object\"\n",
    "}\n",
    "\n",
    "keepers = [\n",
    "    'Complaint Number',\n",
    "    'ZIP Code',\n",
    "    'Special District',\n",
    "    'Complaint Category',\n",
    "    'Unit',\n",
    "    'Date Entered',\n",
    "    'Inspection Date',\n",
    "    'Status',\n",
    "    'House Street',\n",
    "    'House Number'\n",
    "]\n",
    "\n",
    "iteration_obj = pd.read_csv(\n",
    "                    data_file, \n",
    "                    usecols = keepers, \n",
    "                    parse_dates=['Date Entered'], \n",
    "                    iterator = True,\n",
    "                    chunksize = chunk_size,\n",
    "                    dtype = dtypes\n",
    "                );\n",
    "\n",
    "db = None\n",
    "current_n = 0\n",
    "while db is None or (db.shape[0] < target_size and iteration_obj._currow <= 2_300_000):\n",
    "    raw_dataframe = iteration_obj.get_chunk()\n",
    "    # removing anything before 2009\n",
    "    filtered_dataframe = raw_dataframe[\"2009\" < raw_dataframe[\"Date Entered\"]]\n",
    "    if db is None:\n",
    "        db = filtered_dataframe\n",
    "    # adding to sample\n",
    "    db = pd.concat([db, filtered_dataframe.iloc[::skip,:]], axis = 0)\n",
    "    current_n += chunk_size\n",
    "    print(\"Working up to row # {} | Current sample length = {}\".format(current_n,db.shape[0]))\n",
    "\n",
    "iteration_obj.close() # not sure if needed, but good practice to close connections"
   ]
  },
  {
   "cell_type": "code",
   "execution_count": 4,
   "metadata": {},
   "outputs": [
    {
     "data": {
      "text/plain": [
       "(102161, 10)"
      ]
     },
     "execution_count": 4,
     "metadata": {},
     "output_type": "execute_result"
    }
   ],
   "source": [
    "db.shape"
   ]
  },
  {
   "cell_type": "code",
   "execution_count": 5,
   "metadata": {},
   "outputs": [
    {
     "data": {
      "text/html": [
       "<div>\n",
       "<style scoped>\n",
       "    .dataframe tbody tr th:only-of-type {\n",
       "        vertical-align: middle;\n",
       "    }\n",
       "\n",
       "    .dataframe tbody tr th {\n",
       "        vertical-align: top;\n",
       "    }\n",
       "\n",
       "    .dataframe thead th {\n",
       "        text-align: right;\n",
       "    }\n",
       "</style>\n",
       "<table border=\"1\" class=\"dataframe\">\n",
       "  <thead>\n",
       "    <tr style=\"text-align: right;\">\n",
       "      <th></th>\n",
       "      <th>Complaint Number</th>\n",
       "      <th>Status</th>\n",
       "      <th>Date Entered</th>\n",
       "      <th>House Number</th>\n",
       "      <th>ZIP Code</th>\n",
       "      <th>House Street</th>\n",
       "      <th>Special District</th>\n",
       "      <th>Complaint Category</th>\n",
       "      <th>Unit</th>\n",
       "      <th>Inspection Date</th>\n",
       "    </tr>\n",
       "  </thead>\n",
       "  <tbody>\n",
       "    <tr>\n",
       "      <th>1</th>\n",
       "      <td>2193181</td>\n",
       "      <td>CLOSED</td>\n",
       "      <td>2013-12-17</td>\n",
       "      <td>573</td>\n",
       "      <td>10458</td>\n",
       "      <td>EAST FORDHAM ROAD</td>\n",
       "      <td></td>\n",
       "      <td>4B</td>\n",
       "      <td>SEP</td>\n",
       "      <td>12/24/2013</td>\n",
       "    </tr>\n",
       "    <tr>\n",
       "      <th>6</th>\n",
       "      <td>1265849</td>\n",
       "      <td>CLOSED</td>\n",
       "      <td>2009-09-21</td>\n",
       "      <td>429</td>\n",
       "      <td>10075</td>\n",
       "      <td>EAST   77 STREET</td>\n",
       "      <td></td>\n",
       "      <td>73</td>\n",
       "      <td>MAN.</td>\n",
       "      <td>10/03/2009</td>\n",
       "    </tr>\n",
       "    <tr>\n",
       "      <th>12</th>\n",
       "      <td>1404696</td>\n",
       "      <td>CLOSED</td>\n",
       "      <td>2015-09-02</td>\n",
       "      <td>21</td>\n",
       "      <td>10011</td>\n",
       "      <td>WEST 8 STREET</td>\n",
       "      <td></td>\n",
       "      <td>37</td>\n",
       "      <td>ERT</td>\n",
       "      <td>09/03/2015</td>\n",
       "    </tr>\n",
       "    <tr>\n",
       "      <th>13</th>\n",
       "      <td>2149422</td>\n",
       "      <td>CLOSED</td>\n",
       "      <td>2010-08-25</td>\n",
       "      <td>2075</td>\n",
       "      <td>10462</td>\n",
       "      <td>WALLACE AVENUE</td>\n",
       "      <td></td>\n",
       "      <td>23</td>\n",
       "      <td>ERT</td>\n",
       "      <td>10/09/2010</td>\n",
       "    </tr>\n",
       "    <tr>\n",
       "      <th>14</th>\n",
       "      <td>3312533</td>\n",
       "      <td>CLOSED</td>\n",
       "      <td>2009-07-20</td>\n",
       "      <td>819</td>\n",
       "      <td>11220</td>\n",
       "      <td>59 STREET</td>\n",
       "      <td></td>\n",
       "      <td>90</td>\n",
       "      <td>CITY</td>\n",
       "      <td>09/15/2009</td>\n",
       "    </tr>\n",
       "  </tbody>\n",
       "</table>\n",
       "</div>"
      ],
      "text/plain": [
       "    Complaint Number  Status Date Entered  House Number   ZIP Code  \\\n",
       "1            2193181  CLOSED   2013-12-17  573           10458       \n",
       "6            1265849  CLOSED   2009-09-21  429           10075       \n",
       "12           1404696  CLOSED   2015-09-02  21            10011       \n",
       "13           2149422  CLOSED   2010-08-25  2075          10462       \n",
       "14           3312533  CLOSED   2009-07-20  819           11220       \n",
       "\n",
       "                        House Street Special District Complaint Category  \\\n",
       "1   EAST FORDHAM ROAD                                                 4B   \n",
       "6   EAST   77 STREET                                                  73   \n",
       "12  WEST 8 STREET                                                     37   \n",
       "13  WALLACE AVENUE                                                    23   \n",
       "14    59 STREET                                                       90   \n",
       "\n",
       "     Unit Inspection Date  \n",
       "1   SEP        12/24/2013  \n",
       "6    MAN.      10/03/2009  \n",
       "12  ERT        09/03/2015  \n",
       "13  ERT        10/09/2010  \n",
       "14  CITY       09/15/2009  "
      ]
     },
     "execution_count": 5,
     "metadata": {},
     "output_type": "execute_result"
    }
   ],
   "source": [
    "db.head()"
   ]
  },
  {
   "cell_type": "markdown",
   "metadata": {},
   "source": [
    "We'll be working with roughly 100,000 obsevations"
   ]
  },
  {
   "cell_type": "markdown",
   "metadata": {},
   "source": [
    "## Data Cleaning"
   ]
  },
  {
   "cell_type": "markdown",
   "metadata": {},
   "source": [
    "### Filter only closed complaints\n",
    "\n",
    "The only relevant observations are cases that are currently closed."
   ]
  },
  {
   "cell_type": "code",
   "execution_count": 6,
   "metadata": {},
   "outputs": [],
   "source": [
    "db = db[db[\"Status\"] == \"CLOSED\"]"
   ]
  },
  {
   "cell_type": "markdown",
   "metadata": {},
   "source": [
    "### Converting Inspection date to datetime"
   ]
  },
  {
   "cell_type": "code",
   "execution_count": 7,
   "metadata": {},
   "outputs": [
    {
     "data": {
      "text/plain": [
       "1     12/24/2013\n",
       "6     10/03/2009\n",
       "12    09/03/2015\n",
       "13    10/09/2010\n",
       "14    09/15/2009\n",
       "Name: Inspection Date, dtype: object"
      ]
     },
     "execution_count": 7,
     "metadata": {},
     "output_type": "execute_result"
    }
   ],
   "source": [
    "db[\"Inspection Date\"].head()"
   ]
  },
  {
   "cell_type": "markdown",
   "metadata": {},
   "source": [
    "Some dates are erroneous and out of bounds for conversion to date time. Although a few observations can me inferentially imputed manually, it is impractical to include such a tactic in the main workflow for many hundreds of thousands of observations. \n",
    "\n",
    "According to the [documentation](http://pandas.pydata.org/pandas-docs/stable/timeseries.html#timeseries-timestamp-limits), the earliest valid time stamp for proper formating is `pd.Timestamp.min`. Also, we'll remove any dates prior to 2009, which serves as our hard cutoff for consideration, since the DOB website came online January of 2009 and shows a significant deviation from prior years."
   ]
  },
  {
   "cell_type": "code",
   "execution_count": 8,
   "metadata": {},
   "outputs": [],
   "source": [
    "years = db[\"Inspection Date\"].apply(lambda a:a.split(\"/\")[2])"
   ]
  },
  {
   "cell_type": "code",
   "execution_count": 9,
   "metadata": {},
   "outputs": [],
   "source": [
    "invalid_year_indeces = years[years.astype(int) < 2009].index"
   ]
  },
  {
   "cell_type": "code",
   "execution_count": 10,
   "metadata": {},
   "outputs": [
    {
     "data": {
      "text/plain": [
       "(62,)"
      ]
     },
     "execution_count": 10,
     "metadata": {},
     "output_type": "execute_result"
    }
   ],
   "source": [
    "invalid_year_indeces.shape"
   ]
  },
  {
   "cell_type": "code",
   "execution_count": 11,
   "metadata": {},
   "outputs": [
    {
     "data": {
      "text/html": [
       "<div>\n",
       "<style scoped>\n",
       "    .dataframe tbody tr th:only-of-type {\n",
       "        vertical-align: middle;\n",
       "    }\n",
       "\n",
       "    .dataframe tbody tr th {\n",
       "        vertical-align: top;\n",
       "    }\n",
       "\n",
       "    .dataframe thead th {\n",
       "        text-align: right;\n",
       "    }\n",
       "</style>\n",
       "<table border=\"1\" class=\"dataframe\">\n",
       "  <thead>\n",
       "    <tr style=\"text-align: right;\">\n",
       "      <th></th>\n",
       "      <th>Complaint Number</th>\n",
       "      <th>Status</th>\n",
       "      <th>Date Entered</th>\n",
       "      <th>House Number</th>\n",
       "      <th>ZIP Code</th>\n",
       "      <th>House Street</th>\n",
       "      <th>Special District</th>\n",
       "      <th>Complaint Category</th>\n",
       "      <th>Unit</th>\n",
       "      <th>Inspection Date</th>\n",
       "    </tr>\n",
       "  </thead>\n",
       "  <tbody>\n",
       "    <tr>\n",
       "      <th>5658</th>\n",
       "      <td>4389173</td>\n",
       "      <td>CLOSED</td>\n",
       "      <td>2009-02-09</td>\n",
       "      <td>10-93</td>\n",
       "      <td>11101</td>\n",
       "      <td>JACKSON AVENUE</td>\n",
       "      <td></td>\n",
       "      <td>31</td>\n",
       "      <td>QNS.</td>\n",
       "      <td>12/30/2008</td>\n",
       "    </tr>\n",
       "    <tr>\n",
       "      <th>11560</th>\n",
       "      <td>3291457</td>\n",
       "      <td>CLOSED</td>\n",
       "      <td>2009-01-06</td>\n",
       "      <td>315</td>\n",
       "      <td>11207</td>\n",
       "      <td>PENNSYLVANIA AVENUE</td>\n",
       "      <td></td>\n",
       "      <td>05</td>\n",
       "      <td>BKLYN</td>\n",
       "      <td>11/26/2008</td>\n",
       "    </tr>\n",
       "    <tr>\n",
       "      <th>18369</th>\n",
       "      <td>3291632</td>\n",
       "      <td>CLOSED</td>\n",
       "      <td>2009-01-07</td>\n",
       "      <td>491</td>\n",
       "      <td>11208</td>\n",
       "      <td>EMERALD STREET</td>\n",
       "      <td></td>\n",
       "      <td>55</td>\n",
       "      <td>BKLYN</td>\n",
       "      <td>11/20/2008</td>\n",
       "    </tr>\n",
       "    <tr>\n",
       "      <th>19303</th>\n",
       "      <td>1310016</td>\n",
       "      <td>CLOSED</td>\n",
       "      <td>2011-09-22</td>\n",
       "      <td>170</td>\n",
       "      <td>10012</td>\n",
       "      <td>MERCER STREET</td>\n",
       "      <td></td>\n",
       "      <td>23</td>\n",
       "      <td>SCFLD</td>\n",
       "      <td>09/30/2000</td>\n",
       "    </tr>\n",
       "    <tr>\n",
       "      <th>22506</th>\n",
       "      <td>3399780</td>\n",
       "      <td>CLOSED</td>\n",
       "      <td>2012-01-01</td>\n",
       "      <td>2223</td>\n",
       "      <td>11226</td>\n",
       "      <td>CORTELYOU ROAD</td>\n",
       "      <td></td>\n",
       "      <td>37</td>\n",
       "      <td>ERT</td>\n",
       "      <td>01/02/0212</td>\n",
       "    </tr>\n",
       "  </tbody>\n",
       "</table>\n",
       "</div>"
      ],
      "text/plain": [
       "       Complaint Number  Status Date Entered  House Number   ZIP Code  \\\n",
       "5658            4389173  CLOSED   2009-02-09  10-93         11101       \n",
       "11560           3291457  CLOSED   2009-01-06  315           11207       \n",
       "18369           3291632  CLOSED   2009-01-07  491           11208       \n",
       "19303           1310016  CLOSED   2011-09-22  170           10012       \n",
       "22506           3399780  CLOSED   2012-01-01  2223          11226       \n",
       "\n",
       "                           House Street Special District Complaint Category  \\\n",
       "5658   JACKSON AVENUE                                                    31   \n",
       "11560  PENNSYLVANIA AVENUE                                               05   \n",
       "18369  EMERALD STREET                                                    55   \n",
       "19303  MERCER STREET                                                     23   \n",
       "22506  CORTELYOU ROAD                                                    37   \n",
       "\n",
       "        Unit Inspection Date  \n",
       "5658    QNS.      12/30/2008  \n",
       "11560  BKLYN      11/26/2008  \n",
       "18369  BKLYN      11/20/2008  \n",
       "19303  SCFLD      09/30/2000  \n",
       "22506  ERT        01/02/0212  "
      ]
     },
     "execution_count": 11,
     "metadata": {},
     "output_type": "execute_result"
    }
   ],
   "source": [
    "db.loc[invalid_year_indeces,:].head()"
   ]
  },
  {
   "cell_type": "code",
   "execution_count": 12,
   "metadata": {},
   "outputs": [],
   "source": [
    "db.drop(index = invalid_year_indeces, inplace = True)"
   ]
  },
  {
   "cell_type": "code",
   "execution_count": 13,
   "metadata": {},
   "outputs": [],
   "source": [
    "db[\"Inspection Date\"] = db[\"Inspection Date\"].astype('datetime64[ns]')"
   ]
  },
  {
   "cell_type": "code",
   "execution_count": 14,
   "metadata": {},
   "outputs": [
    {
     "data": {
      "text/plain": [
       "Complaint Number               int64\n",
       "Status                        object\n",
       "Date Entered          datetime64[ns]\n",
       "House Number                  object\n",
       "ZIP Code                      object\n",
       "House Street                  object\n",
       "Special District              object\n",
       "Complaint Category            object\n",
       "Unit                          object\n",
       "Inspection Date       datetime64[ns]\n",
       "dtype: object"
      ]
     },
     "execution_count": 14,
     "metadata": {},
     "output_type": "execute_result"
    }
   ],
   "source": [
    "db.dtypes"
   ]
  },
  {
   "cell_type": "code",
   "execution_count": 15,
   "metadata": {},
   "outputs": [
    {
     "data": {
      "text/html": [
       "<div>\n",
       "<style scoped>\n",
       "    .dataframe tbody tr th:only-of-type {\n",
       "        vertical-align: middle;\n",
       "    }\n",
       "\n",
       "    .dataframe tbody tr th {\n",
       "        vertical-align: top;\n",
       "    }\n",
       "\n",
       "    .dataframe thead th {\n",
       "        text-align: right;\n",
       "    }\n",
       "</style>\n",
       "<table border=\"1\" class=\"dataframe\">\n",
       "  <thead>\n",
       "    <tr style=\"text-align: right;\">\n",
       "      <th></th>\n",
       "      <th>Complaint Number</th>\n",
       "      <th>Status</th>\n",
       "      <th>Date Entered</th>\n",
       "      <th>House Number</th>\n",
       "      <th>ZIP Code</th>\n",
       "      <th>House Street</th>\n",
       "      <th>Special District</th>\n",
       "      <th>Complaint Category</th>\n",
       "      <th>Unit</th>\n",
       "      <th>Inspection Date</th>\n",
       "    </tr>\n",
       "  </thead>\n",
       "  <tbody>\n",
       "    <tr>\n",
       "      <th>count</th>\n",
       "      <td>1.002170e+05</td>\n",
       "      <td>100217</td>\n",
       "      <td>100217</td>\n",
       "      <td>100217</td>\n",
       "      <td>100217</td>\n",
       "      <td>100217</td>\n",
       "      <td>100217</td>\n",
       "      <td>100217</td>\n",
       "      <td>100217</td>\n",
       "      <td>100217</td>\n",
       "    </tr>\n",
       "    <tr>\n",
       "      <th>unique</th>\n",
       "      <td>NaN</td>\n",
       "      <td>1</td>\n",
       "      <td>3593</td>\n",
       "      <td>15221</td>\n",
       "      <td>204</td>\n",
       "      <td>7179</td>\n",
       "      <td>2</td>\n",
       "      <td>106</td>\n",
       "      <td>28</td>\n",
       "      <td>3570</td>\n",
       "    </tr>\n",
       "    <tr>\n",
       "      <th>top</th>\n",
       "      <td>NaN</td>\n",
       "      <td>CLOSED</td>\n",
       "      <td>2009-02-12 00:00:00</td>\n",
       "      <td>15</td>\n",
       "      <td>11419</td>\n",
       "      <td>BROADWAY</td>\n",
       "      <td></td>\n",
       "      <td>45</td>\n",
       "      <td>QNS.</td>\n",
       "      <td>2017-12-05 00:00:00</td>\n",
       "    </tr>\n",
       "    <tr>\n",
       "      <th>freq</th>\n",
       "      <td>NaN</td>\n",
       "      <td>100217</td>\n",
       "      <td>77</td>\n",
       "      <td>256</td>\n",
       "      <td>1775</td>\n",
       "      <td>1106</td>\n",
       "      <td>99504</td>\n",
       "      <td>14694</td>\n",
       "      <td>19081</td>\n",
       "      <td>92</td>\n",
       "    </tr>\n",
       "    <tr>\n",
       "      <th>first</th>\n",
       "      <td>NaN</td>\n",
       "      <td>NaN</td>\n",
       "      <td>2009-01-02 00:00:00</td>\n",
       "      <td>NaN</td>\n",
       "      <td>NaN</td>\n",
       "      <td>NaN</td>\n",
       "      <td>NaN</td>\n",
       "      <td>NaN</td>\n",
       "      <td>NaN</td>\n",
       "      <td>2009-01-02 00:00:00</td>\n",
       "    </tr>\n",
       "    <tr>\n",
       "      <th>last</th>\n",
       "      <td>NaN</td>\n",
       "      <td>NaN</td>\n",
       "      <td>2018-11-06 00:00:00</td>\n",
       "      <td>NaN</td>\n",
       "      <td>NaN</td>\n",
       "      <td>NaN</td>\n",
       "      <td>NaN</td>\n",
       "      <td>NaN</td>\n",
       "      <td>NaN</td>\n",
       "      <td>2018-11-06 00:00:00</td>\n",
       "    </tr>\n",
       "    <tr>\n",
       "      <th>mean</th>\n",
       "      <td>3.276906e+06</td>\n",
       "      <td>NaN</td>\n",
       "      <td>NaN</td>\n",
       "      <td>NaN</td>\n",
       "      <td>NaN</td>\n",
       "      <td>NaN</td>\n",
       "      <td>NaN</td>\n",
       "      <td>NaN</td>\n",
       "      <td>NaN</td>\n",
       "      <td>NaN</td>\n",
       "    </tr>\n",
       "    <tr>\n",
       "      <th>std</th>\n",
       "      <td>1.266253e+06</td>\n",
       "      <td>NaN</td>\n",
       "      <td>NaN</td>\n",
       "      <td>NaN</td>\n",
       "      <td>NaN</td>\n",
       "      <td>NaN</td>\n",
       "      <td>NaN</td>\n",
       "      <td>NaN</td>\n",
       "      <td>NaN</td>\n",
       "      <td>NaN</td>\n",
       "    </tr>\n",
       "    <tr>\n",
       "      <th>min</th>\n",
       "      <td>1.245559e+06</td>\n",
       "      <td>NaN</td>\n",
       "      <td>NaN</td>\n",
       "      <td>NaN</td>\n",
       "      <td>NaN</td>\n",
       "      <td>NaN</td>\n",
       "      <td>NaN</td>\n",
       "      <td>NaN</td>\n",
       "      <td>NaN</td>\n",
       "      <td>NaN</td>\n",
       "    </tr>\n",
       "    <tr>\n",
       "      <th>25%</th>\n",
       "      <td>2.166787e+06</td>\n",
       "      <td>NaN</td>\n",
       "      <td>NaN</td>\n",
       "      <td>NaN</td>\n",
       "      <td>NaN</td>\n",
       "      <td>NaN</td>\n",
       "      <td>NaN</td>\n",
       "      <td>NaN</td>\n",
       "      <td>NaN</td>\n",
       "      <td>NaN</td>\n",
       "    </tr>\n",
       "    <tr>\n",
       "      <th>50%</th>\n",
       "      <td>3.479654e+06</td>\n",
       "      <td>NaN</td>\n",
       "      <td>NaN</td>\n",
       "      <td>NaN</td>\n",
       "      <td>NaN</td>\n",
       "      <td>NaN</td>\n",
       "      <td>NaN</td>\n",
       "      <td>NaN</td>\n",
       "      <td>NaN</td>\n",
       "      <td>NaN</td>\n",
       "    </tr>\n",
       "    <tr>\n",
       "      <th>75%</th>\n",
       "      <td>4.496623e+06</td>\n",
       "      <td>NaN</td>\n",
       "      <td>NaN</td>\n",
       "      <td>NaN</td>\n",
       "      <td>NaN</td>\n",
       "      <td>NaN</td>\n",
       "      <td>NaN</td>\n",
       "      <td>NaN</td>\n",
       "      <td>NaN</td>\n",
       "      <td>NaN</td>\n",
       "    </tr>\n",
       "    <tr>\n",
       "      <th>max</th>\n",
       "      <td>5.138147e+06</td>\n",
       "      <td>NaN</td>\n",
       "      <td>NaN</td>\n",
       "      <td>NaN</td>\n",
       "      <td>NaN</td>\n",
       "      <td>NaN</td>\n",
       "      <td>NaN</td>\n",
       "      <td>NaN</td>\n",
       "      <td>NaN</td>\n",
       "      <td>NaN</td>\n",
       "    </tr>\n",
       "  </tbody>\n",
       "</table>\n",
       "</div>"
      ],
      "text/plain": [
       "        Complaint Number  Status         Date Entered  House Number  \\\n",
       "count       1.002170e+05  100217               100217        100217   \n",
       "unique               NaN       1                 3593         15221   \n",
       "top                  NaN  CLOSED  2009-02-12 00:00:00  15             \n",
       "freq                 NaN  100217                   77           256   \n",
       "first                NaN     NaN  2009-01-02 00:00:00           NaN   \n",
       "last                 NaN     NaN  2018-11-06 00:00:00           NaN   \n",
       "mean        3.276906e+06     NaN                  NaN           NaN   \n",
       "std         1.266253e+06     NaN                  NaN           NaN   \n",
       "min         1.245559e+06     NaN                  NaN           NaN   \n",
       "25%         2.166787e+06     NaN                  NaN           NaN   \n",
       "50%         3.479654e+06     NaN                  NaN           NaN   \n",
       "75%         4.496623e+06     NaN                  NaN           NaN   \n",
       "max         5.138147e+06     NaN                  NaN           NaN   \n",
       "\n",
       "         ZIP Code                      House Street Special District  \\\n",
       "count      100217                            100217           100217   \n",
       "unique        204                              7179                2   \n",
       "top     11419      BROADWAY                                            \n",
       "freq         1775                              1106            99504   \n",
       "first         NaN                               NaN              NaN   \n",
       "last          NaN                               NaN              NaN   \n",
       "mean          NaN                               NaN              NaN   \n",
       "std           NaN                               NaN              NaN   \n",
       "min           NaN                               NaN              NaN   \n",
       "25%           NaN                               NaN              NaN   \n",
       "50%           NaN                               NaN              NaN   \n",
       "75%           NaN                               NaN              NaN   \n",
       "max           NaN                               NaN              NaN   \n",
       "\n",
       "       Complaint Category    Unit      Inspection Date  \n",
       "count              100217  100217               100217  \n",
       "unique                106      28                 3570  \n",
       "top                    45    QNS.  2017-12-05 00:00:00  \n",
       "freq                14694   19081                   92  \n",
       "first                 NaN     NaN  2009-01-02 00:00:00  \n",
       "last                  NaN     NaN  2018-11-06 00:00:00  \n",
       "mean                  NaN     NaN                  NaN  \n",
       "std                   NaN     NaN                  NaN  \n",
       "min                   NaN     NaN                  NaN  \n",
       "25%                   NaN     NaN                  NaN  \n",
       "50%                   NaN     NaN                  NaN  \n",
       "75%                   NaN     NaN                  NaN  \n",
       "max                   NaN     NaN                  NaN  "
      ]
     },
     "execution_count": 15,
     "metadata": {},
     "output_type": "execute_result"
    }
   ],
   "source": [
    "db.describe(include = \"all\")"
   ]
  },
  {
   "cell_type": "code",
   "execution_count": 16,
   "metadata": {},
   "outputs": [
    {
     "data": {
      "text/plain": [
       "(100217, 10)"
      ]
     },
     "execution_count": 16,
     "metadata": {},
     "output_type": "execute_result"
    }
   ],
   "source": [
    "db.shape"
   ]
  },
  {
   "cell_type": "markdown",
   "metadata": {},
   "source": [
    "We now have over 100,000 cleaned observations."
   ]
  },
  {
   "cell_type": "markdown",
   "metadata": {},
   "source": [
    "# Feature Engineering"
   ]
  },
  {
   "cell_type": "markdown",
   "metadata": {},
   "source": [
    "### Creating target variable\n",
    "Our target is the number of days until a complaint's inspection date: \n",
    "\n",
    "$$\\text{Inspection Date} - \\text{Data Entered} = \\text{Days until Inspection}$$"
   ]
  },
  {
   "cell_type": "code",
   "execution_count": 17,
   "metadata": {},
   "outputs": [],
   "source": [
    "db[\"days_until_inspection\"] = db[\"Inspection Date\"] - db[\"Date Entered\"]"
   ]
  },
  {
   "cell_type": "code",
   "execution_count": 18,
   "metadata": {},
   "outputs": [
    {
     "data": {
      "text/html": [
       "<div>\n",
       "<style scoped>\n",
       "    .dataframe tbody tr th:only-of-type {\n",
       "        vertical-align: middle;\n",
       "    }\n",
       "\n",
       "    .dataframe tbody tr th {\n",
       "        vertical-align: top;\n",
       "    }\n",
       "\n",
       "    .dataframe thead th {\n",
       "        text-align: right;\n",
       "    }\n",
       "</style>\n",
       "<table border=\"1\" class=\"dataframe\">\n",
       "  <thead>\n",
       "    <tr style=\"text-align: right;\">\n",
       "      <th></th>\n",
       "      <th>Complaint Number</th>\n",
       "      <th>days_until_inspection</th>\n",
       "    </tr>\n",
       "  </thead>\n",
       "  <tbody>\n",
       "    <tr>\n",
       "      <th>count</th>\n",
       "      <td>1.002170e+05</td>\n",
       "      <td>100217</td>\n",
       "    </tr>\n",
       "    <tr>\n",
       "      <th>mean</th>\n",
       "      <td>3.276906e+06</td>\n",
       "      <td>69 days 15:30:23.726513</td>\n",
       "    </tr>\n",
       "    <tr>\n",
       "      <th>std</th>\n",
       "      <td>1.266253e+06</td>\n",
       "      <td>189 days 17:28:03.537128</td>\n",
       "    </tr>\n",
       "    <tr>\n",
       "      <th>min</th>\n",
       "      <td>1.245559e+06</td>\n",
       "      <td>-1460 days +00:00:00</td>\n",
       "    </tr>\n",
       "    <tr>\n",
       "      <th>25%</th>\n",
       "      <td>2.166787e+06</td>\n",
       "      <td>1 days 00:00:00</td>\n",
       "    </tr>\n",
       "    <tr>\n",
       "      <th>50%</th>\n",
       "      <td>3.479654e+06</td>\n",
       "      <td>12 days 00:00:00</td>\n",
       "    </tr>\n",
       "    <tr>\n",
       "      <th>75%</th>\n",
       "      <td>4.496623e+06</td>\n",
       "      <td>66 days 00:00:00</td>\n",
       "    </tr>\n",
       "    <tr>\n",
       "      <th>max</th>\n",
       "      <td>5.138147e+06</td>\n",
       "      <td>3402 days 00:00:00</td>\n",
       "    </tr>\n",
       "  </tbody>\n",
       "</table>\n",
       "</div>"
      ],
      "text/plain": [
       "       Complaint Number     days_until_inspection\n",
       "count      1.002170e+05                    100217\n",
       "mean       3.276906e+06   69 days 15:30:23.726513\n",
       "std        1.266253e+06  189 days 17:28:03.537128\n",
       "min        1.245559e+06      -1460 days +00:00:00\n",
       "25%        2.166787e+06           1 days 00:00:00\n",
       "50%        3.479654e+06          12 days 00:00:00\n",
       "75%        4.496623e+06          66 days 00:00:00\n",
       "max        5.138147e+06        3402 days 00:00:00"
      ]
     },
     "execution_count": 18,
     "metadata": {},
     "output_type": "execute_result"
    }
   ],
   "source": [
    "db.describe()"
   ]
  },
  {
   "cell_type": "markdown",
   "metadata": {},
   "source": [
    "Some complaints took a negative number of days, which we investigated. Sources at NYC Open Data claimed some complaints were found by inspectors and inspected immediately, and were only filed official at a later date. Since these \"complaints\" are impossible to predict for, we'll remove them from consideration. "
   ]
  },
  {
   "cell_type": "code",
   "execution_count": 19,
   "metadata": {},
   "outputs": [],
   "source": [
    "# extracting raw number of days\n",
    "db[\"days_until_inspection\"] = db[\"days_until_inspection\"].map(lambda x:x.days)"
   ]
  },
  {
   "cell_type": "code",
   "execution_count": 20,
   "metadata": {},
   "outputs": [
    {
     "data": {
      "text/plain": [
       "(18081, 11)"
      ]
     },
     "execution_count": 20,
     "metadata": {},
     "output_type": "execute_result"
    }
   ],
   "source": [
    "db[db[\"days_until_inspection\"] <= 0].shape"
   ]
  },
  {
   "cell_type": "markdown",
   "metadata": {},
   "source": [
    "We'll be dropping about 18,000 observations."
   ]
  },
  {
   "cell_type": "code",
   "execution_count": 21,
   "metadata": {},
   "outputs": [],
   "source": [
    "db = db[db[\"days_until_inspection\"] > 0]"
   ]
  },
  {
   "cell_type": "markdown",
   "metadata": {},
   "source": [
    "### Fixing Special District\n",
    "\n",
    "The \"Special District\" column has an emptry string category, which we'll change to \"NOT SPECIAL\"."
   ]
  },
  {
   "cell_type": "code",
   "execution_count": 22,
   "metadata": {},
   "outputs": [
    {
     "data": {
      "text/plain": [
       "array(['   ', 'IBZ'], dtype=object)"
      ]
     },
     "execution_count": 22,
     "metadata": {},
     "output_type": "execute_result"
    }
   ],
   "source": [
    "db[\"Special District\"].unique()"
   ]
  },
  {
   "cell_type": "code",
   "execution_count": 23,
   "metadata": {},
   "outputs": [],
   "source": [
    "db[\"Special District\"] = db[\"Special District\"].map(lambda x: x if x != '   ' else \"NOT SPECIAL\")"
   ]
  },
  {
   "cell_type": "code",
   "execution_count": 24,
   "metadata": {},
   "outputs": [
    {
     "data": {
      "text/plain": [
       "array(['NOT SPECIAL', 'IBZ'], dtype=object)"
      ]
     },
     "execution_count": 24,
     "metadata": {},
     "output_type": "execute_result"
    }
   ],
   "source": [
    "db[\"Special District\"].unique()"
   ]
  },
  {
   "cell_type": "markdown",
   "metadata": {},
   "source": [
    "## Renaming columns"
   ]
  },
  {
   "cell_type": "code",
   "execution_count": 25,
   "metadata": {},
   "outputs": [],
   "source": [
    "# removing spaces & forcing all to lowercase\n",
    "db.columns = [col.lower().replace(\" \", \"_\") for col in db.columns]"
   ]
  },
  {
   "cell_type": "markdown",
   "metadata": {},
   "source": [
    "## Handling Nulls"
   ]
  },
  {
   "cell_type": "code",
   "execution_count": 26,
   "metadata": {},
   "outputs": [
    {
     "data": {
      "text/plain": [
       "complaint_number         0\n",
       "status                   0\n",
       "date_entered             0\n",
       "house_number             0\n",
       "zip_code                 0\n",
       "house_street             0\n",
       "special_district         0\n",
       "complaint_category       0\n",
       "unit                     0\n",
       "inspection_date          0\n",
       "days_until_inspection    0\n",
       "dtype: int64"
      ]
     },
     "execution_count": 26,
     "metadata": {},
     "output_type": "execute_result"
    }
   ],
   "source": [
    "db.isnull().sum()"
   ]
  },
  {
   "cell_type": "markdown",
   "metadata": {},
   "source": [
    "We're not finding nulls in our dataset, however, as part of our meta cleaning process, we will drop any null observations.\n",
    "\n",
    "We must account for this in our process as we're assuming these values are missing completely at random, or MCAR."
   ]
  },
  {
   "cell_type": "code",
   "execution_count": 27,
   "metadata": {},
   "outputs": [],
   "source": [
    "db = db.dropna()"
   ]
  },
  {
   "cell_type": "code",
   "execution_count": 28,
   "metadata": {},
   "outputs": [
    {
     "data": {
      "text/plain": [
       "(82136, 11)"
      ]
     },
     "execution_count": 28,
     "metadata": {},
     "output_type": "execute_result"
    }
   ],
   "source": [
    "db.shape"
   ]
  },
  {
   "cell_type": "code",
   "execution_count": 29,
   "metadata": {},
   "outputs": [
    {
     "data": {
      "text/html": [
       "<div>\n",
       "<style scoped>\n",
       "    .dataframe tbody tr th:only-of-type {\n",
       "        vertical-align: middle;\n",
       "    }\n",
       "\n",
       "    .dataframe tbody tr th {\n",
       "        vertical-align: top;\n",
       "    }\n",
       "\n",
       "    .dataframe thead th {\n",
       "        text-align: right;\n",
       "    }\n",
       "</style>\n",
       "<table border=\"1\" class=\"dataframe\">\n",
       "  <thead>\n",
       "    <tr style=\"text-align: right;\">\n",
       "      <th></th>\n",
       "      <th>complaint_number</th>\n",
       "      <th>status</th>\n",
       "      <th>date_entered</th>\n",
       "      <th>house_number</th>\n",
       "      <th>zip_code</th>\n",
       "      <th>house_street</th>\n",
       "      <th>special_district</th>\n",
       "      <th>complaint_category</th>\n",
       "      <th>unit</th>\n",
       "      <th>inspection_date</th>\n",
       "      <th>days_until_inspection</th>\n",
       "    </tr>\n",
       "  </thead>\n",
       "  <tbody>\n",
       "    <tr>\n",
       "      <th>1</th>\n",
       "      <td>2193181</td>\n",
       "      <td>CLOSED</td>\n",
       "      <td>2013-12-17</td>\n",
       "      <td>573</td>\n",
       "      <td>10458</td>\n",
       "      <td>EAST FORDHAM ROAD</td>\n",
       "      <td>NOT SPECIAL</td>\n",
       "      <td>4B</td>\n",
       "      <td>SEP</td>\n",
       "      <td>2013-12-24</td>\n",
       "      <td>7</td>\n",
       "    </tr>\n",
       "    <tr>\n",
       "      <th>6</th>\n",
       "      <td>1265849</td>\n",
       "      <td>CLOSED</td>\n",
       "      <td>2009-09-21</td>\n",
       "      <td>429</td>\n",
       "      <td>10075</td>\n",
       "      <td>EAST   77 STREET</td>\n",
       "      <td>NOT SPECIAL</td>\n",
       "      <td>73</td>\n",
       "      <td>MAN.</td>\n",
       "      <td>2009-10-03</td>\n",
       "      <td>12</td>\n",
       "    </tr>\n",
       "    <tr>\n",
       "      <th>12</th>\n",
       "      <td>1404696</td>\n",
       "      <td>CLOSED</td>\n",
       "      <td>2015-09-02</td>\n",
       "      <td>21</td>\n",
       "      <td>10011</td>\n",
       "      <td>WEST 8 STREET</td>\n",
       "      <td>NOT SPECIAL</td>\n",
       "      <td>37</td>\n",
       "      <td>ERT</td>\n",
       "      <td>2015-09-03</td>\n",
       "      <td>1</td>\n",
       "    </tr>\n",
       "    <tr>\n",
       "      <th>13</th>\n",
       "      <td>2149422</td>\n",
       "      <td>CLOSED</td>\n",
       "      <td>2010-08-25</td>\n",
       "      <td>2075</td>\n",
       "      <td>10462</td>\n",
       "      <td>WALLACE AVENUE</td>\n",
       "      <td>NOT SPECIAL</td>\n",
       "      <td>23</td>\n",
       "      <td>ERT</td>\n",
       "      <td>2010-10-09</td>\n",
       "      <td>45</td>\n",
       "    </tr>\n",
       "    <tr>\n",
       "      <th>14</th>\n",
       "      <td>3312533</td>\n",
       "      <td>CLOSED</td>\n",
       "      <td>2009-07-20</td>\n",
       "      <td>819</td>\n",
       "      <td>11220</td>\n",
       "      <td>59 STREET</td>\n",
       "      <td>NOT SPECIAL</td>\n",
       "      <td>90</td>\n",
       "      <td>CITY</td>\n",
       "      <td>2009-09-15</td>\n",
       "      <td>57</td>\n",
       "    </tr>\n",
       "  </tbody>\n",
       "</table>\n",
       "</div>"
      ],
      "text/plain": [
       "    complaint_number  status date_entered  house_number   zip_code  \\\n",
       "1            2193181  CLOSED   2013-12-17  573           10458       \n",
       "6            1265849  CLOSED   2009-09-21  429           10075       \n",
       "12           1404696  CLOSED   2015-09-02  21            10011       \n",
       "13           2149422  CLOSED   2010-08-25  2075          10462       \n",
       "14           3312533  CLOSED   2009-07-20  819           11220       \n",
       "\n",
       "                        house_street special_district complaint_category  \\\n",
       "1   EAST FORDHAM ROAD                     NOT SPECIAL                 4B   \n",
       "6   EAST   77 STREET                      NOT SPECIAL                 73   \n",
       "12  WEST 8 STREET                         NOT SPECIAL                 37   \n",
       "13  WALLACE AVENUE                        NOT SPECIAL                 23   \n",
       "14    59 STREET                           NOT SPECIAL                 90   \n",
       "\n",
       "     unit inspection_date  days_until_inspection  \n",
       "1   SEP        2013-12-24                      7  \n",
       "6    MAN.      2009-10-03                     12  \n",
       "12  ERT        2015-09-03                      1  \n",
       "13  ERT        2010-10-09                     45  \n",
       "14  CITY       2009-09-15                     57  "
      ]
     },
     "execution_count": 29,
     "metadata": {},
     "output_type": "execute_result"
    }
   ],
   "source": [
    "db.head()"
   ]
  },
  {
   "cell_type": "markdown",
   "metadata": {},
   "source": [
    "We now have a complete dataset, which will be used in a separate notebook for EDA and modeling."
   ]
  },
  {
   "cell_type": "markdown",
   "metadata": {},
   "source": [
    "# Save cleaned data"
   ]
  },
  {
   "cell_type": "code",
   "execution_count": 30,
   "metadata": {},
   "outputs": [],
   "source": [
    "# saving db\n",
    "db.to_csv(\"./datasets/cleaned.csv\")"
   ]
  }
 ],
 "metadata": {
  "kernelspec": {
   "display_name": "Python 3",
   "language": "python",
   "name": "python3"
  },
  "language_info": {
   "codemirror_mode": {
    "name": "ipython",
    "version": 3
   },
   "file_extension": ".py",
   "mimetype": "text/x-python",
   "name": "python",
   "nbconvert_exporter": "python",
   "pygments_lexer": "ipython3",
   "version": "3.7.3"
  },
  "toc": {
   "base_numbering": 1,
   "nav_menu": {},
   "number_sections": true,
   "sideBar": true,
   "skip_h1_title": false,
   "title_cell": "Table of Contents",
   "title_sidebar": "Contents",
   "toc_cell": false,
   "toc_position": {},
   "toc_section_display": true,
   "toc_window_display": false
  },
  "varInspector": {
   "cols": {
    "lenName": 16,
    "lenType": 16,
    "lenVar": 40
   },
   "kernels_config": {
    "python": {
     "delete_cmd_postfix": "",
     "delete_cmd_prefix": "del ",
     "library": "var_list.py",
     "varRefreshCmd": "print(var_dic_list())"
    },
    "r": {
     "delete_cmd_postfix": ") ",
     "delete_cmd_prefix": "rm(",
     "library": "var_list.r",
     "varRefreshCmd": "cat(var_dic_list()) "
    }
   },
   "types_to_exclude": [
    "module",
    "function",
    "builtin_function_or_method",
    "instance",
    "_Feature"
   ],
   "window_display": true
  }
 },
 "nbformat": 4,
 "nbformat_minor": 2
}
